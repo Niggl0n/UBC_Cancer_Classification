{
 "cells": [
  {
   "cell_type": "code",
   "execution_count": 1,
   "id": "351ed822",
   "metadata": {
    "execution": {
     "iopub.execute_input": "2023-12-12T15:32:54.358705Z",
     "iopub.status.busy": "2023-12-12T15:32:54.357204Z",
     "iopub.status.idle": "2023-12-12T15:33:26.417935Z",
     "shell.execute_reply": "2023-12-12T15:33:26.416377Z"
    },
    "papermill": {
     "duration": 32.069778,
     "end_time": "2023-12-12T15:33:26.421349",
     "exception": false,
     "start_time": "2023-12-12T15:32:54.351571",
     "status": "completed"
    },
    "tags": []
   },
   "outputs": [
    {
     "name": "stdout",
     "output_type": "stream",
     "text": [
      "\u001b[31mERROR: pip's dependency resolver does not currently take into account all the packages that are installed. This behaviour is the source of the following dependency conflicts.\r\n",
      "ydata-profiling 4.3.1 requires dacite>=1.8, but you have dacite 1.6.0 which is incompatible.\r\n",
      "ydata-profiling 4.3.1 requires scipy<1.11,>=1.4.1, but you have scipy 1.11.2 which is incompatible.\u001b[0m\u001b[31m\r\n",
      "\u001b[0m"
     ]
    }
   ],
   "source": [
    "!pip install --quiet mlflow dagshub\n",
    "\n",
    "import mlflow\n",
    "from mlflow import MlflowClient\n",
    "import mlflow.pytorch \n",
    "import dagshub"
   ]
  },
  {
   "cell_type": "code",
   "execution_count": 2,
   "id": "512235fe",
   "metadata": {
    "_cell_guid": "b1076dfc-b9ad-4769-8c92-a6c4dae69d19",
    "_uuid": "8f2839f25d086af736a60e9eeb907d3b93b6e0e5",
    "execution": {
     "iopub.execute_input": "2023-12-12T15:33:26.430519Z",
     "iopub.status.busy": "2023-12-12T15:33:26.429761Z",
     "iopub.status.idle": "2023-12-12T15:33:26.829645Z",
     "shell.execute_reply": "2023-12-12T15:33:26.828217Z"
    },
    "papermill": {
     "duration": 0.408025,
     "end_time": "2023-12-12T15:33:26.832946",
     "exception": false,
     "start_time": "2023-12-12T15:33:26.424921",
     "status": "completed"
    },
    "tags": []
   },
   "outputs": [],
   "source": [
    "\n",
    "\n",
    "import datetime\n",
    "import os\n",
    "import gc\n",
    "import cv2\n",
    "import math\n",
    "import copy\n",
    "import time\n",
    "import random\n",
    "import glob\n",
    "from matplotlib import pyplot as plt\n",
    "\n",
    "\n",
    "# For data manipulation\n",
    "import numpy as np\n",
    "import pandas as pd\n",
    "\n",
    "\n",
    "from itertools import chain\n",
    "import heapq\n",
    "\n",
    "# Utils\n",
    "import joblib\n",
    "from tqdm import tqdm\n",
    "from collections import defaultdict\n",
    "\n",
    "\n",
    "\n",
    "from joblib.externals.loky.backend.context import get_context\n",
    "\n",
    "import os\n",
    "import numpy as np\n",
    "import random\n",
    "from PIL import Image\n",
    "from joblib import Parallel, delayed\n",
    "\n",
    "import warnings\n"
   ]
  },
  {
   "cell_type": "code",
   "execution_count": 3,
   "id": "345aa916",
   "metadata": {
    "execution": {
     "iopub.execute_input": "2023-12-12T15:33:26.841563Z",
     "iopub.status.busy": "2023-12-12T15:33:26.841051Z",
     "iopub.status.idle": "2023-12-12T15:33:26.851263Z",
     "shell.execute_reply": "2023-12-12T15:33:26.849558Z"
    },
    "papermill": {
     "duration": 0.017917,
     "end_time": "2023-12-12T15:33:26.854199",
     "exception": false,
     "start_time": "2023-12-12T15:33:26.836282",
     "status": "completed"
    },
    "tags": []
   },
   "outputs": [],
   "source": [
    "def get_or_create_experiment_id(name):\n",
    "    exp = mlflow.get_experiment_by_name(name)\n",
    "    if exp is None:\n",
    "        exp_id = mlflow.create_experiment(name)\n",
    "        return exp_id\n",
    "    return exp.experiment_id\n",
    "\n",
    "\n",
    "def print_logged_info(r):\n",
    "    tags = {k: v for k, v in r.data.tags.items() if not k.startswith(\"mlflow.\")}\n",
    "    artifacts = [f.path for f in MlflowClient().list_artifacts(r.info.run_id, \"model\")]\n",
    "    print(f\"run_id: {r.info.run_id}\")\n",
    "    print(f\"artifacts: {artifacts}\")\n",
    "    print(f\"params: {r.data.params}\")\n",
    "    print(f\"metrics: {r.data.metrics}\")\n",
    "    print(f\"tags: {tags}\")"
   ]
  },
  {
   "cell_type": "code",
   "execution_count": 4,
   "id": "ad68e3df",
   "metadata": {
    "execution": {
     "iopub.execute_input": "2023-12-12T15:33:26.862873Z",
     "iopub.status.busy": "2023-12-12T15:33:26.862352Z",
     "iopub.status.idle": "2023-12-12T15:33:26.870086Z",
     "shell.execute_reply": "2023-12-12T15:33:26.868705Z"
    },
    "papermill": {
     "duration": 0.015108,
     "end_time": "2023-12-12T15:33:26.872683",
     "exception": false,
     "start_time": "2023-12-12T15:33:26.857575",
     "status": "completed"
    },
    "tags": []
   },
   "outputs": [],
   "source": [
    "def get_train_file_path(df_train_row, TRAIN_DIR, thumbnail=False):\n",
    "    if thumbnail:\n",
    "        return f\"{TRAIN_DIR}/{df_train_row.image_id}_thumbnail.png\"\n",
    "    else:\n",
    "        return f\"{TRAIN_DIR}/{df_train_row.image_id}.png\"\n",
    "\n",
    "\n",
    "def get_test_file_path(image_id,TEST_DIR):\n",
    "    if os.path.exists(f\"{TEST_DIR}/{image_id}.png\"):\n",
    "        return f\"{TEST_DIR}/{image_id}.png\"\n",
    "    else:\n",
    "        return f\"{ALT_TEST_DIR}/{image_id}.png\""
   ]
  }
 ],
 "metadata": {
  "kaggle": {
   "accelerator": "none",
   "dataSources": [
    {
     "databundleVersionId": 6924515,
     "sourceId": 45867,
     "sourceType": "competition"
    }
   ],
   "dockerImageVersionId": 30558,
   "isGpuEnabled": false,
   "isInternetEnabled": true,
   "language": "python",
   "sourceType": "notebook"
  },
  "kernelspec": {
   "display_name": "Python 3",
   "language": "python",
   "name": "python3"
  },
  "language_info": {
   "codemirror_mode": {
    "name": "ipython",
    "version": 3
   },
   "file_extension": ".py",
   "mimetype": "text/x-python",
   "name": "python",
   "nbconvert_exporter": "python",
   "pygments_lexer": "ipython3",
   "version": "3.10.12"
  },
  "papermill": {
   "default_parameters": {},
   "duration": 37.958573,
   "end_time": "2023-12-12T15:33:27.902177",
   "environment_variables": {},
   "exception": null,
   "input_path": "__notebook__.ipynb",
   "output_path": "__notebook__.ipynb",
   "parameters": {},
   "start_time": "2023-12-12T15:32:49.943604",
   "version": "2.4.0"
  }
 },
 "nbformat": 4,
 "nbformat_minor": 5
}
