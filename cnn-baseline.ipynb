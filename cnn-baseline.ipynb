{
 "cells": [
  {
   "cell_type": "markdown",
   "id": "d2f22ada",
   "metadata": {
    "papermill": {
     "duration": 0.009575,
     "end_time": "2023-10-21T10:42:52.111727",
     "exception": false,
     "start_time": "2023-10-21T10:42:52.102152",
     "status": "completed"
    },
    "tags": []
   },
   "source": [
    "# Introduction \n",
    "\n",
    "**This is a basic CNN Model training notebook**\n",
    "\n",
    "It is based on: \n",
    "- Thumbnail images\n",
    "- Basic data transformation (using Albumentation):\n",
    "    - resizing images to 512x512\n",
    "    - normalizing pixel values\n",
    "- CNN Architecture\n",
    "\n",
    "\n",
    "**Todos:**\n",
    "\n",
    "- Learn about Dataset & DataLoader\n",
    "- add augmentations (albumentation)\n",
    "- gem pooling"
   ]
  },
  {
   "cell_type": "code",
   "execution_count": 1,
   "id": "f2b0578b",
   "metadata": {
    "_cell_guid": "b1076dfc-b9ad-4769-8c92-a6c4dae69d19",
    "_uuid": "8f2839f25d086af736a60e9eeb907d3b93b6e0e5",
    "execution": {
     "iopub.execute_input": "2023-10-21T10:42:52.132375Z",
     "iopub.status.busy": "2023-10-21T10:42:52.131724Z",
     "iopub.status.idle": "2023-10-21T10:42:52.637174Z",
     "shell.execute_reply": "2023-10-21T10:42:52.635731Z"
    },
    "papermill": {
     "duration": 0.52011,
     "end_time": "2023-10-21T10:42:52.640867",
     "exception": false,
     "start_time": "2023-10-21T10:42:52.120757",
     "status": "completed"
    },
    "tags": []
   },
   "outputs": [],
   "source": [
    "# This Python 3 environment comes with many helpful analytics libraries installed\n",
    "# It is defined by the kaggle/python Docker image: https://github.com/kaggle/docker-python\n",
    "# For example, here's several helpful packages to load\n",
    "\n",
    "import numpy as np # linear algebra\n",
    "import pandas as pd # data processing, CSV file I/O (e.g. pd.read_csv)\n",
    "\n",
    "# Input data files are available in the read-only \"../input/\" directory\n",
    "# For example, running this (by clicking run or pressing Shift+Enter) will list all files under the input directory\n",
    "\n",
    "import os\n",
    "for dirname, _, filenames in os.walk('/kaggle/input'):\n",
    "    for filename in filenames:\n",
    "        # print(os.path.join(dirname, filename))\n",
    "        continue\n",
    "\n",
    "# You can write up to 20GB to the current directory (/kaggle/working/) that gets preserved as output when you create a version using \"Save & Run All\" \n",
    "# You can also write temporary files to /kaggle/temp/, but they won't be saved outside of the current session"
   ]
  },
  {
   "cell_type": "code",
   "execution_count": 2,
   "id": "6b247770",
   "metadata": {
    "execution": {
     "iopub.execute_input": "2023-10-21T10:42:52.661229Z",
     "iopub.status.busy": "2023-10-21T10:42:52.660571Z",
     "iopub.status.idle": "2023-10-21T10:43:00.221153Z",
     "shell.execute_reply": "2023-10-21T10:43:00.219788Z"
    },
    "papermill": {
     "duration": 7.574878,
     "end_time": "2023-10-21T10:43:00.224609",
     "exception": false,
     "start_time": "2023-10-21T10:42:52.649731",
     "status": "completed"
    },
    "tags": []
   },
   "outputs": [],
   "source": [
    "\n",
    "\n",
    "import os\n",
    "import gc\n",
    "import cv2\n",
    "import math\n",
    "import copy\n",
    "import time\n",
    "import random\n",
    "import glob\n",
    "from matplotlib import pyplot as plt\n",
    "\n",
    "# For data manipulation\n",
    "import numpy as np\n",
    "import pandas as pd\n",
    "\n",
    "# Pytorch Imports\n",
    "import torch\n",
    "import torch.nn as nn\n",
    "import torch.optim as optim\n",
    "import torch.nn.functional as F\n",
    "from torch.optim import lr_scheduler\n",
    "from torch.utils.data import Dataset, DataLoader\n",
    "from torch.cuda import amp\n",
    "import torchvision\n",
    "\n",
    "# Utils\n",
    "import joblib\n",
    "from tqdm import tqdm\n",
    "from collections import defaultdict\n",
    "\n",
    "# Sklearn Imports\n",
    "from sklearn.preprocessing import LabelEncoder\n",
    "from sklearn.model_selection import StratifiedKFold\n",
    "\n",
    "# For Image Models\n",
    "import timm\n",
    "\n",
    "# Albumentations for augmentations\n",
    "# import albumentations as A\n",
    "# from albumentations.pytorch import ToTensorV2\n",
    "\n",
    "# For colored terminal text\n",
    "from colorama import Fore, Back, Style\n",
    "b_ = Fore.BLUE\n",
    "sr_ = Style.RESET_ALL\n",
    "\n",
    "import warnings\n",
    "# warnings.filterwarnings(\"ignore\")\n",
    "\n",
    "# For descriptive error messages\n",
    "os.environ['CUDA_LAUNCH_BLOCKING'] = \"1\""
   ]
  },
  {
   "cell_type": "code",
   "execution_count": 3,
   "id": "3c504a8e",
   "metadata": {
    "execution": {
     "iopub.execute_input": "2023-10-21T10:43:00.243806Z",
     "iopub.status.busy": "2023-10-21T10:43:00.243401Z",
     "iopub.status.idle": "2023-10-21T10:43:00.249288Z",
     "shell.execute_reply": "2023-10-21T10:43:00.248211Z"
    },
    "papermill": {
     "duration": 0.019165,
     "end_time": "2023-10-21T10:43:00.252183",
     "exception": false,
     "start_time": "2023-10-21T10:43:00.233018",
     "status": "completed"
    },
    "tags": []
   },
   "outputs": [],
   "source": [
    "CONFIG = {\n",
    "    \"n_fold\": 5,\n",
    "    \"seed\": 42,\n",
    "    \"img_size\": 512,\n",
    "    \"model_name\": \"tf_efficientnet_b0_ns\",\n",
    "    \"num_classes\": 5,\n",
    "    \"valid_batch_size\": 8,\n",
    "    \"device\": torch.device(\"cuda:0\" if torch.cuda.is_available() else \"cpu\"),\n",
    "}"
   ]
  },
  {
   "cell_type": "markdown",
   "id": "0ba7a9b7",
   "metadata": {
    "papermill": {
     "duration": 0.008351,
     "end_time": "2023-10-21T10:43:00.269615",
     "exception": false,
     "start_time": "2023-10-21T10:43:00.261264",
     "status": "completed"
    },
    "tags": []
   },
   "source": [
    "## 1. Data Preparation"
   ]
  },
  {
   "cell_type": "code",
   "execution_count": 4,
   "id": "fe11ea1c",
   "metadata": {
    "execution": {
     "iopub.execute_input": "2023-10-21T10:43:00.292143Z",
     "iopub.status.busy": "2023-10-21T10:43:00.290323Z",
     "iopub.status.idle": "2023-10-21T10:43:00.299657Z",
     "shell.execute_reply": "2023-10-21T10:43:00.298460Z"
    },
    "papermill": {
     "duration": 0.023574,
     "end_time": "2023-10-21T10:43:00.302609",
     "exception": false,
     "start_time": "2023-10-21T10:43:00.279035",
     "status": "completed"
    },
    "tags": []
   },
   "outputs": [],
   "source": [
    "ROOT_DIR = '/kaggle/input/UBC-OCEAN'\n",
    "TRAIN_DIR = '/kaggle/input/UBC-OCEAN/train_thumbnails'\n",
    "TEST_DIR = '/kaggle/input/UBC-OCEAN/test_thumbnails'\n",
    "ALT_TEST_DIR = '/kaggle/input/UBC-OCEAN/test_images'\n",
    "\n",
    "\n",
    "def get_train_file_path(image_id):\n",
    "    return f\"{TRAIN_DIR}/{image_id}_thumbnail.png\"\n",
    "\n",
    "\n",
    "def get_test_file_path(image_id):\n",
    "    if os.path.exists(f\"{TEST_DIR}/{image_id}_thumbnail.png\"):\n",
    "        return f\"{TEST_DIR}/{image_id}_thumbnail.png\"\n",
    "    else:\n",
    "        return f\"{ALT_TEST_DIR}/{image_id}.png\"\n",
    "\n"
   ]
  },
  {
   "cell_type": "code",
   "execution_count": 5,
   "id": "be420d32",
   "metadata": {
    "execution": {
     "iopub.execute_input": "2023-10-21T10:43:00.323579Z",
     "iopub.status.busy": "2023-10-21T10:43:00.322219Z",
     "iopub.status.idle": "2023-10-21T10:43:00.326838Z",
     "shell.execute_reply": "2023-10-21T10:43:00.326068Z"
    },
    "papermill": {
     "duration": 0.019006,
     "end_time": "2023-10-21T10:43:00.330502",
     "exception": false,
     "start_time": "2023-10-21T10:43:00.311496",
     "status": "completed"
    },
    "tags": []
   },
   "outputs": [],
   "source": [
    "# train_images = sorted(glob.glob(f\"{TRAIN_DIR}/*.png\"))\n",
    "# train_images"
   ]
  },
  {
   "cell_type": "code",
   "execution_count": 6,
   "id": "689e4062",
   "metadata": {
    "execution": {
     "iopub.execute_input": "2023-10-21T10:43:00.351281Z",
     "iopub.status.busy": "2023-10-21T10:43:00.350426Z",
     "iopub.status.idle": "2023-10-21T10:43:00.355666Z",
     "shell.execute_reply": "2023-10-21T10:43:00.354446Z"
    },
    "papermill": {
     "duration": 0.019369,
     "end_time": "2023-10-21T10:43:00.359146",
     "exception": false,
     "start_time": "2023-10-21T10:43:00.339777",
     "status": "completed"
    },
    "tags": []
   },
   "outputs": [],
   "source": [
    "#df_train = pd.read_csv(\"/kaggle/input/UBC-OCEAN/train.csv\")\n",
    "#print(df_train.shape)\n",
    "#df_train.head()"
   ]
  },
  {
   "cell_type": "code",
   "execution_count": 7,
   "id": "00f3c432",
   "metadata": {
    "execution": {
     "iopub.execute_input": "2023-10-21T10:43:00.381033Z",
     "iopub.status.busy": "2023-10-21T10:43:00.379949Z",
     "iopub.status.idle": "2023-10-21T10:43:00.386239Z",
     "shell.execute_reply": "2023-10-21T10:43:00.384923Z"
    },
    "papermill": {
     "duration": 0.020952,
     "end_time": "2023-10-21T10:43:00.390038",
     "exception": false,
     "start_time": "2023-10-21T10:43:00.369086",
     "status": "completed"
    },
    "tags": []
   },
   "outputs": [],
   "source": [
    "#df_train['file_path'] = df_train['image_id'].apply(get_train_file_path)\n",
    "# only consider WSI / Thumbnail images\n",
    "#df_train = df_train[ df_train[\"file_path\"].isin(train_images) ].reset_index(drop=True)\n",
    "#df_train.shape"
   ]
  },
  {
   "cell_type": "code",
   "execution_count": 8,
   "id": "7e3929d6",
   "metadata": {
    "execution": {
     "iopub.execute_input": "2023-10-21T10:43:00.409966Z",
     "iopub.status.busy": "2023-10-21T10:43:00.409448Z",
     "iopub.status.idle": "2023-10-21T10:43:00.447808Z",
     "shell.execute_reply": "2023-10-21T10:43:00.446980Z"
    },
    "papermill": {
     "duration": 0.051943,
     "end_time": "2023-10-21T10:43:00.451005",
     "exception": false,
     "start_time": "2023-10-21T10:43:00.399062",
     "status": "completed"
    },
    "tags": []
   },
   "outputs": [
    {
     "data": {
      "text/html": [
       "<div>\n",
       "<style scoped>\n",
       "    .dataframe tbody tr th:only-of-type {\n",
       "        vertical-align: middle;\n",
       "    }\n",
       "\n",
       "    .dataframe tbody tr th {\n",
       "        vertical-align: top;\n",
       "    }\n",
       "\n",
       "    .dataframe thead th {\n",
       "        text-align: right;\n",
       "    }\n",
       "</style>\n",
       "<table border=\"1\" class=\"dataframe\">\n",
       "  <thead>\n",
       "    <tr style=\"text-align: right;\">\n",
       "      <th></th>\n",
       "      <th>image_id</th>\n",
       "      <th>image_width</th>\n",
       "      <th>image_height</th>\n",
       "      <th>file_path</th>\n",
       "      <th>target_label</th>\n",
       "    </tr>\n",
       "  </thead>\n",
       "  <tbody>\n",
       "    <tr>\n",
       "      <th>0</th>\n",
       "      <td>41</td>\n",
       "      <td>28469</td>\n",
       "      <td>16987</td>\n",
       "      <td>/kaggle/input/UBC-OCEAN/test_thumbnails/41_thu...</td>\n",
       "      <td>0</td>\n",
       "    </tr>\n",
       "  </tbody>\n",
       "</table>\n",
       "</div>"
      ],
      "text/plain": [
       "   image_id  image_width  image_height  \\\n",
       "0        41        28469         16987   \n",
       "\n",
       "                                           file_path  target_label  \n",
       "0  /kaggle/input/UBC-OCEAN/test_thumbnails/41_thu...             0  "
      ]
     },
     "execution_count": 8,
     "metadata": {},
     "output_type": "execute_result"
    }
   ],
   "source": [
    "df_test = pd.read_csv(\"/kaggle/input/UBC-OCEAN/test.csv\")\n",
    "df_test['file_path'] = df_test['image_id'].apply(get_test_file_path)\n",
    "df_test[\"target_label\"] = 0 \n",
    "df_test"
   ]
  },
  {
   "cell_type": "code",
   "execution_count": 9,
   "id": "21917ffe",
   "metadata": {
    "execution": {
     "iopub.execute_input": "2023-10-21T10:43:00.470181Z",
     "iopub.status.busy": "2023-10-21T10:43:00.469484Z",
     "iopub.status.idle": "2023-10-21T10:43:00.479593Z",
     "shell.execute_reply": "2023-10-21T10:43:00.478813Z"
    },
    "papermill": {
     "duration": 0.023057,
     "end_time": "2023-10-21T10:43:00.482418",
     "exception": false,
     "start_time": "2023-10-21T10:43:00.459361",
     "status": "completed"
    },
    "tags": []
   },
   "outputs": [],
   "source": [
    "# training\n",
    "'''# encode to numericalt target\n",
    "encoder = LabelEncoder()\n",
    "df_train['target_label'] = encoder.fit_transform(df_train['label'])\n",
    "\n",
    "# save encoder\n",
    "with open(\"label_encoder.pkl\", \"wb\") as fp:\n",
    "    joblib.dump(encoder, fp)\n",
    "    \n",
    "df_train.head()'''\n",
    "\n",
    "# inference \n",
    "encoder = joblib.load(\"/kaggle/input/ubc-cancer-lassification-encoder/label_encoder.pkl\")"
   ]
  },
  {
   "cell_type": "code",
   "execution_count": 10,
   "id": "b87076da",
   "metadata": {
    "execution": {
     "iopub.execute_input": "2023-10-21T10:43:00.501962Z",
     "iopub.status.busy": "2023-10-21T10:43:00.501516Z",
     "iopub.status.idle": "2023-10-21T10:43:00.509112Z",
     "shell.execute_reply": "2023-10-21T10:43:00.507975Z"
    },
    "papermill": {
     "duration": 0.021124,
     "end_time": "2023-10-21T10:43:00.512283",
     "exception": false,
     "start_time": "2023-10-21T10:43:00.491159",
     "status": "completed"
    },
    "tags": []
   },
   "outputs": [
    {
     "data": {
      "text/plain": [
       "'# use stratified K Fold for crossvalidation \\nskf = StratifiedKFold(n_splits=CONFIG[\\'n_fold\\'], shuffle=True, random_state=CONFIG[\"seed\"])\\n\\nfor fold, ( _, val_) in enumerate(skf.split(X=df_train, y=df_train.target_label)):\\n    df_train.loc[val_ , \"kfold\"] = int(fold)\\ndf_train.head()\\n'"
      ]
     },
     "execution_count": 10,
     "metadata": {},
     "output_type": "execute_result"
    }
   ],
   "source": [
    "\"\"\"# use stratified K Fold for crossvalidation \n",
    "skf = StratifiedKFold(n_splits=CONFIG['n_fold'], shuffle=True, random_state=CONFIG[\"seed\"])\n",
    "\n",
    "for fold, ( _, val_) in enumerate(skf.split(X=df_train, y=df_train.target_label)):\n",
    "    df_train.loc[val_ , \"kfold\"] = int(fold)\n",
    "df_train.head()\n",
    "\"\"\""
   ]
  },
  {
   "cell_type": "code",
   "execution_count": 11,
   "id": "ac693023",
   "metadata": {
    "execution": {
     "iopub.execute_input": "2023-10-21T10:43:00.534093Z",
     "iopub.status.busy": "2023-10-21T10:43:00.533421Z",
     "iopub.status.idle": "2023-10-21T10:43:00.542551Z",
     "shell.execute_reply": "2023-10-21T10:43:00.541423Z"
    },
    "papermill": {
     "duration": 0.021912,
     "end_time": "2023-10-21T10:43:00.544955",
     "exception": false,
     "start_time": "2023-10-21T10:43:00.523043",
     "status": "completed"
    },
    "tags": []
   },
   "outputs": [],
   "source": [
    "from torch.utils.data import Dataset, DataLoader\n",
    "\n",
    "class UBCDataset(Dataset):\n",
    "    def __init__(self, df, transforms=None):\n",
    "        self.df = df\n",
    "        self.filenames = df.file_path.values\n",
    "        self.labels =  df.target_label.values\n",
    "        self.transforms = transforms\n",
    "\n",
    "    def __len__(self):\n",
    "        return len(self.df)\n",
    "\n",
    "    def __getitem__(self, idx):\n",
    "        img_path = self.filenames[idx]\n",
    "        img = cv2.imread(img_path)\n",
    "        img = cv2.cvtColor(img, cv2.COLOR_BGR2RGB)\n",
    "        \n",
    "        if self.transforms:\n",
    "            img = self.transforms(image=img)[\"image\"]\n",
    "            \n",
    "        return {\n",
    "            \"image\": img,\n",
    "            \"label\": torch.tensor(self.labels[idx], dtype=torch.long)\n",
    "               }\n",
    "        "
   ]
  },
  {
   "cell_type": "code",
   "execution_count": 12,
   "id": "708628a8",
   "metadata": {
    "execution": {
     "iopub.execute_input": "2023-10-21T10:43:00.563728Z",
     "iopub.status.busy": "2023-10-21T10:43:00.562992Z",
     "iopub.status.idle": "2023-10-21T10:43:01.709555Z",
     "shell.execute_reply": "2023-10-21T10:43:01.708334Z"
    },
    "papermill": {
     "duration": 1.159769,
     "end_time": "2023-10-21T10:43:01.713003",
     "exception": false,
     "start_time": "2023-10-21T10:43:00.553234",
     "status": "completed"
    },
    "tags": []
   },
   "outputs": [],
   "source": [
    "# Albumentations for augmentations\n",
    "import albumentations as A\n",
    "from albumentations.pytorch import ToTensorV2\n",
    "\n",
    "data_transforms = {\n",
    "    \"valid\": A.Compose([\n",
    "        A.Resize(CONFIG['img_size'], CONFIG['img_size']),\n",
    "        A.Normalize(\n",
    "                mean=[0.485, 0.456, 0.406], \n",
    "                std=[0.229, 0.224, 0.225], \n",
    "                max_pixel_value=255.0, \n",
    "                p=1.0\n",
    "            ),\n",
    "        ToTensorV2()], p=1.)\n",
    "}\n",
    "\n"
   ]
  },
  {
   "cell_type": "markdown",
   "id": "fbb9a84f",
   "metadata": {
    "papermill": {
     "duration": 0.007652,
     "end_time": "2023-10-21T10:43:01.728803",
     "exception": false,
     "start_time": "2023-10-21T10:43:01.721151",
     "status": "completed"
    },
    "tags": []
   },
   "source": [
    "## 2. Model Creation"
   ]
  },
  {
   "cell_type": "code",
   "execution_count": 13,
   "id": "211d7899",
   "metadata": {
    "execution": {
     "iopub.execute_input": "2023-10-21T10:43:01.746995Z",
     "iopub.status.busy": "2023-10-21T10:43:01.746415Z",
     "iopub.status.idle": "2023-10-21T10:43:02.394435Z",
     "shell.execute_reply": "2023-10-21T10:43:02.393086Z"
    },
    "papermill": {
     "duration": 0.660607,
     "end_time": "2023-10-21T10:43:02.397299",
     "exception": false,
     "start_time": "2023-10-21T10:43:01.736692",
     "status": "completed"
    },
    "tags": []
   },
   "outputs": [
    {
     "name": "stderr",
     "output_type": "stream",
     "text": [
      "/opt/conda/lib/python3.10/site-packages/timm/models/_factory.py:114: UserWarning: Mapping deprecated model name tf_efficientnet_b0_ns to current tf_efficientnet_b0.ns_jft_in1k.\n",
      "  model = create_fn(\n"
     ]
    }
   ],
   "source": [
    "class GeM(nn.Module):\n",
    "    def __init__(self, p=3, eps=1e-6):\n",
    "        super(GeM, self).__init__()\n",
    "        self.p = nn.Parameter(torch.ones(1)*p)\n",
    "        self.eps = eps\n",
    "\n",
    "    def forward(self, x):\n",
    "        return self.gem(x, p=self.p, eps=self.eps)\n",
    "        \n",
    "    def gem(self, x, p=3, eps=1e-6):\n",
    "        return F.avg_pool2d(x.clamp(min=eps).pow(p), (x.size(-2), x.size(-1))).pow(1./p)\n",
    "        \n",
    "    def __repr__(self):\n",
    "        return self.__class__.__name__ + \\\n",
    "                '(' + 'p=' + '{:.4f}'.format(self.p.data.tolist()[0]) + \\\n",
    "                ', ' + 'eps=' + str(self.eps) + ')'\n",
    "\n",
    "\n",
    "class EfficientNetB0(nn.Module):\n",
    "    '''\n",
    "    EfficientNet B0 fine-tune.\n",
    "    '''\n",
    "    def __init__(self, model_name, num_classes, pretrained=False, checkpoint_path=None):\n",
    "        '''\n",
    "        Fine tune for EfficientNetB0\n",
    "        Args\n",
    "            n_classes : int - Number of classification categories.\n",
    "            learnable_modules : tuple - Names of the modules to fine-tune.\n",
    "        Return\n",
    "            \n",
    "        '''\n",
    "        super(EfficientNetB0, self).__init__()\n",
    "        self.model = timm.create_model(model_name, pretrained=pretrained, checkpoint_path=checkpoint_path)\n",
    "\n",
    "        in_features = self.model.classifier.in_features\n",
    "        self.model.classifier = nn.Identity()\n",
    "        self.model.global_pool = nn.Identity()\n",
    "        self.pooling = GeM()\n",
    "        self.linear = nn.Linear(in_features, num_classes)\n",
    "        self.softmax = nn.Softmax(dim=1)\n",
    "\n",
    "    def forward(self, images):\n",
    "        \"\"\"\n",
    "        Forward function for the fine-tuned model\n",
    "        Args\n",
    "            x: \n",
    "        Return\n",
    "            result\n",
    "        \"\"\"\n",
    "        features = self.model(images)\n",
    "        pooled_features = self.pooling(features).flatten(1)\n",
    "        output = self.linear(pooled_features)\n",
    "        return output\n",
    "\n",
    "BEST_WEIGHT = checkpoint_path='//kaggle/input/tf-efficientnet-b0-aa-827b6e33-pth/tf_efficientnet_b0_aa-827b6e33.pth'\n",
    "model = EfficientNetB0(CONFIG['model_name'], CONFIG['num_classes'], pretrained=False , checkpoint_path=checkpoint_path)\n",
    "weights = torch.load( BEST_WEIGHT )\n",
    "# model.load_state_dict(weights)\n",
    "model.to(CONFIG['device']);\n",
    "\n",
    "\n",
    "# model = timm.create_model('tf_efficientnet_b0', checkpoint_path='//kaggle/input/tf-efficientnet-b0-aa-827b6e33-pth/tf_efficientnet_b0_aa-827b6e33.pth')\n",
    "# model.eval()\n",
    "# model.state_dict()"
   ]
  },
  {
   "cell_type": "code",
   "execution_count": 14,
   "id": "5f746953",
   "metadata": {
    "execution": {
     "iopub.execute_input": "2023-10-21T10:43:02.417020Z",
     "iopub.status.busy": "2023-10-21T10:43:02.415561Z",
     "iopub.status.idle": "2023-10-21T10:43:02.420891Z",
     "shell.execute_reply": "2023-10-21T10:43:02.419944Z"
    },
    "papermill": {
     "duration": 0.017228,
     "end_time": "2023-10-21T10:43:02.422946",
     "exception": false,
     "start_time": "2023-10-21T10:43:02.405718",
     "status": "completed"
    },
    "tags": []
   },
   "outputs": [],
   "source": [
    "# Inspect the weights of the model\n",
    "# for name, parameter in model.named_parameters():\n",
    "#     print(f'{name}: {parameter.shape}')\n",
    "# model.state_dict()\n"
   ]
  },
  {
   "cell_type": "code",
   "execution_count": 15,
   "id": "4f90f82f",
   "metadata": {
    "execution": {
     "iopub.execute_input": "2023-10-21T10:43:02.443393Z",
     "iopub.status.busy": "2023-10-21T10:43:02.440920Z",
     "iopub.status.idle": "2023-10-21T10:43:02.448638Z",
     "shell.execute_reply": "2023-10-21T10:43:02.447851Z"
    },
    "papermill": {
     "duration": 0.020447,
     "end_time": "2023-10-21T10:43:02.451384",
     "exception": false,
     "start_time": "2023-10-21T10:43:02.430937",
     "status": "completed"
    },
    "tags": []
   },
   "outputs": [],
   "source": [
    "\n",
    "\n",
    "\"\"\"train_dataset = UBCDataset(df_train, transforms=data_transforms[\"valid\"])\n",
    "train_loader = DataLoader(train_dataset, batch_size=CONFIG['valid_batch_size'], \n",
    "                          num_workers=2, shuffle=False, pin_memory=True)\n",
    "\"\"\"\n",
    "test_dataset = UBCDataset(df_test, transforms=data_transforms[\"valid\"])\n",
    "test_loader = DataLoader(test_dataset, batch_size=CONFIG['valid_batch_size'], \n",
    "                          num_workers=2, shuffle=False, pin_memory=True)\n"
   ]
  },
  {
   "cell_type": "code",
   "execution_count": 16,
   "id": "fd176dc2",
   "metadata": {
    "execution": {
     "iopub.execute_input": "2023-10-21T10:43:02.473046Z",
     "iopub.status.busy": "2023-10-21T10:43:02.471482Z",
     "iopub.status.idle": "2023-10-21T10:43:03.347197Z",
     "shell.execute_reply": "2023-10-21T10:43:03.345608Z"
    },
    "papermill": {
     "duration": 0.890716,
     "end_time": "2023-10-21T10:43:03.351738",
     "exception": false,
     "start_time": "2023-10-21T10:43:02.461022",
     "status": "completed"
    },
    "tags": []
   },
   "outputs": [
    {
     "name": "stderr",
     "output_type": "stream",
     "text": [
      "100%|██████████| 1/1 [00:00<00:00,  1.23it/s]\n"
     ]
    }
   ],
   "source": [
    "preds = []\n",
    "with torch.no_grad():\n",
    "    bar = tqdm(enumerate(test_loader), total=len(test_loader))\n",
    "    for step, data in bar: \n",
    "        # print(step)\n",
    "        images = data['image'].to(CONFIG[\"device\"], dtype=torch.float)        \n",
    "        batch_size = images.size(0)\n",
    "        outputs = model(images)\n",
    "        _, predicted = torch.max(model.softmax(outputs), 1)\n",
    "        preds.append( predicted.detach().cpu().numpy() )\n",
    "preds = np.concatenate(preds).flatten()\n",
    "pred_labels = encoder.inverse_transform( preds )"
   ]
  },
  {
   "cell_type": "code",
   "execution_count": 17,
   "id": "89f1b436",
   "metadata": {
    "execution": {
     "iopub.execute_input": "2023-10-21T10:43:03.373452Z",
     "iopub.status.busy": "2023-10-21T10:43:03.372999Z",
     "iopub.status.idle": "2023-10-21T10:43:03.390014Z",
     "shell.execute_reply": "2023-10-21T10:43:03.388395Z"
    },
    "papermill": {
     "duration": 0.031498,
     "end_time": "2023-10-21T10:43:03.392941",
     "exception": false,
     "start_time": "2023-10-21T10:43:03.361443",
     "status": "completed"
    },
    "tags": []
   },
   "outputs": [],
   "source": [
    "df_sub = pd.read_csv(f\"{ROOT_DIR}/sample_submission.csv\")\n",
    "df_sub[\"label\"] = pred_labels\n",
    "df_sub.to_csv(\"submission.csv\", index=False)"
   ]
  },
  {
   "cell_type": "code",
   "execution_count": 18,
   "id": "3834230d",
   "metadata": {
    "execution": {
     "iopub.execute_input": "2023-10-21T10:43:03.412910Z",
     "iopub.status.busy": "2023-10-21T10:43:03.412458Z",
     "iopub.status.idle": "2023-10-21T10:43:03.423120Z",
     "shell.execute_reply": "2023-10-21T10:43:03.422052Z"
    },
    "papermill": {
     "duration": 0.023856,
     "end_time": "2023-10-21T10:43:03.425930",
     "exception": false,
     "start_time": "2023-10-21T10:43:03.402074",
     "status": "completed"
    },
    "tags": []
   },
   "outputs": [
    {
     "data": {
      "text/html": [
       "<div>\n",
       "<style scoped>\n",
       "    .dataframe tbody tr th:only-of-type {\n",
       "        vertical-align: middle;\n",
       "    }\n",
       "\n",
       "    .dataframe tbody tr th {\n",
       "        vertical-align: top;\n",
       "    }\n",
       "\n",
       "    .dataframe thead th {\n",
       "        text-align: right;\n",
       "    }\n",
       "</style>\n",
       "<table border=\"1\" class=\"dataframe\">\n",
       "  <thead>\n",
       "    <tr style=\"text-align: right;\">\n",
       "      <th></th>\n",
       "      <th>image_id</th>\n",
       "      <th>label</th>\n",
       "    </tr>\n",
       "  </thead>\n",
       "  <tbody>\n",
       "    <tr>\n",
       "      <th>0</th>\n",
       "      <td>41</td>\n",
       "      <td>CC</td>\n",
       "    </tr>\n",
       "  </tbody>\n",
       "</table>\n",
       "</div>"
      ],
      "text/plain": [
       "   image_id label\n",
       "0        41    CC"
      ]
     },
     "execution_count": 18,
     "metadata": {},
     "output_type": "execute_result"
    }
   ],
   "source": [
    "df_sub"
   ]
  },
  {
   "cell_type": "code",
   "execution_count": null,
   "id": "9546cc88",
   "metadata": {
    "papermill": {
     "duration": 0.00891,
     "end_time": "2023-10-21T10:43:03.444512",
     "exception": false,
     "start_time": "2023-10-21T10:43:03.435602",
     "status": "completed"
    },
    "tags": []
   },
   "outputs": [],
   "source": []
  },
  {
   "cell_type": "code",
   "execution_count": null,
   "id": "053aa56b",
   "metadata": {
    "papermill": {
     "duration": 0.010048,
     "end_time": "2023-10-21T10:43:03.463790",
     "exception": false,
     "start_time": "2023-10-21T10:43:03.453742",
     "status": "completed"
    },
    "tags": []
   },
   "outputs": [],
   "source": []
  }
 ],
 "metadata": {
  "kernelspec": {
   "display_name": "Python 3",
   "language": "python",
   "name": "python3"
  },
  "language_info": {
   "codemirror_mode": {
    "name": "ipython",
    "version": 3
   },
   "file_extension": ".py",
   "mimetype": "text/x-python",
   "name": "python",
   "nbconvert_exporter": "python",
   "pygments_lexer": "ipython3",
   "version": "3.10.12"
  },
  "papermill": {
   "default_parameters": {},
   "duration": 17.500354,
   "end_time": "2023-10-21T10:43:05.902625",
   "environment_variables": {},
   "exception": null,
   "input_path": "__notebook__.ipynb",
   "output_path": "__notebook__.ipynb",
   "parameters": {},
   "start_time": "2023-10-21T10:42:48.402271",
   "version": "2.4.0"
  }
 },
 "nbformat": 4,
 "nbformat_minor": 5
}
