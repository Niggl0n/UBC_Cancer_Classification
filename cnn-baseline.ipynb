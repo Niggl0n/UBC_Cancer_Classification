{
 "cells": [
  {
   "cell_type": "markdown",
   "id": "88ca4850",
   "metadata": {
    "papermill": {
     "duration": 0.008781,
     "end_time": "2023-10-21T10:14:00.625131",
     "exception": false,
     "start_time": "2023-10-21T10:14:00.616350",
     "status": "completed"
    },
    "tags": []
   },
   "source": [
    "# Introduction \n",
    "\n",
    "**This is a basic CNN Model training notebook**\n",
    "\n",
    "It is based on: \n",
    "- Thumbnail images\n",
    "- Basic data transformation (using Albumentation):\n",
    "    - resizing images to 512x512\n",
    "    - normalizing pixel values\n",
    "- CNN Architecture\n",
    "\n",
    "\n",
    "**Todos:**\n",
    "\n",
    "- Learn about Dataset & DataLoader\n",
    "- add augmentations (albumentation)\n",
    "- gem pooling"
   ]
  },
  {
   "cell_type": "code",
   "execution_count": 1,
   "id": "ff087cf4",
   "metadata": {
    "_cell_guid": "b1076dfc-b9ad-4769-8c92-a6c4dae69d19",
    "_uuid": "8f2839f25d086af736a60e9eeb907d3b93b6e0e5",
    "execution": {
     "iopub.execute_input": "2023-10-21T10:14:00.643931Z",
     "iopub.status.busy": "2023-10-21T10:14:00.643372Z",
     "iopub.status.idle": "2023-10-21T10:14:01.164976Z",
     "shell.execute_reply": "2023-10-21T10:14:01.163851Z"
    },
    "papermill": {
     "duration": 0.534337,
     "end_time": "2023-10-21T10:14:01.167571",
     "exception": false,
     "start_time": "2023-10-21T10:14:00.633234",
     "status": "completed"
    },
    "tags": []
   },
   "outputs": [],
   "source": [
    "# This Python 3 environment comes with many helpful analytics libraries installed\n",
    "# It is defined by the kaggle/python Docker image: https://github.com/kaggle/docker-python\n",
    "# For example, here's several helpful packages to load\n",
    "\n",
    "import numpy as np # linear algebra\n",
    "import pandas as pd # data processing, CSV file I/O (e.g. pd.read_csv)\n",
    "\n",
    "# Input data files are available in the read-only \"../input/\" directory\n",
    "# For example, running this (by clicking run or pressing Shift+Enter) will list all files under the input directory\n",
    "\n",
    "import os\n",
    "for dirname, _, filenames in os.walk('/kaggle/input'):\n",
    "    for filename in filenames:\n",
    "        # print(os.path.join(dirname, filename))\n",
    "        continue\n",
    "\n",
    "# You can write up to 20GB to the current directory (/kaggle/working/) that gets preserved as output when you create a version using \"Save & Run All\" \n",
    "# You can also write temporary files to /kaggle/temp/, but they won't be saved outside of the current session"
   ]
  },
  {
   "cell_type": "code",
   "execution_count": 2,
   "id": "ef7c0966",
   "metadata": {
    "execution": {
     "iopub.execute_input": "2023-10-21T10:14:01.185615Z",
     "iopub.status.busy": "2023-10-21T10:14:01.185102Z",
     "iopub.status.idle": "2023-10-21T10:14:08.964371Z",
     "shell.execute_reply": "2023-10-21T10:14:08.963438Z"
    },
    "papermill": {
     "duration": 7.791303,
     "end_time": "2023-10-21T10:14:08.966971",
     "exception": false,
     "start_time": "2023-10-21T10:14:01.175668",
     "status": "completed"
    },
    "tags": []
   },
   "outputs": [],
   "source": [
    "\n",
    "\n",
    "import os\n",
    "import gc\n",
    "import cv2\n",
    "import math\n",
    "import copy\n",
    "import time\n",
    "import random\n",
    "import glob\n",
    "from matplotlib import pyplot as plt\n",
    "\n",
    "# For data manipulation\n",
    "import numpy as np\n",
    "import pandas as pd\n",
    "\n",
    "# Pytorch Imports\n",
    "import torch\n",
    "import torch.nn as nn\n",
    "import torch.optim as optim\n",
    "import torch.nn.functional as F\n",
    "from torch.optim import lr_scheduler\n",
    "from torch.utils.data import Dataset, DataLoader\n",
    "from torch.cuda import amp\n",
    "import torchvision\n",
    "\n",
    "# Utils\n",
    "import joblib\n",
    "from tqdm import tqdm\n",
    "from collections import defaultdict\n",
    "\n",
    "# Sklearn Imports\n",
    "from sklearn.preprocessing import LabelEncoder\n",
    "from sklearn.model_selection import StratifiedKFold\n",
    "\n",
    "# For Image Models\n",
    "import timm\n",
    "\n",
    "# Albumentations for augmentations\n",
    "# import albumentations as A\n",
    "# from albumentations.pytorch import ToTensorV2\n",
    "\n",
    "# For colored terminal text\n",
    "from colorama import Fore, Back, Style\n",
    "b_ = Fore.BLUE\n",
    "sr_ = Style.RESET_ALL\n",
    "\n",
    "import warnings\n",
    "# warnings.filterwarnings(\"ignore\")\n",
    "\n",
    "# For descriptive error messages\n",
    "os.environ['CUDA_LAUNCH_BLOCKING'] = \"1\""
   ]
  },
  {
   "cell_type": "code",
   "execution_count": 3,
   "id": "de75ca1b",
   "metadata": {
    "execution": {
     "iopub.execute_input": "2023-10-21T10:14:08.985099Z",
     "iopub.status.busy": "2023-10-21T10:14:08.984491Z",
     "iopub.status.idle": "2023-10-21T10:14:08.989747Z",
     "shell.execute_reply": "2023-10-21T10:14:08.988824Z"
    },
    "papermill": {
     "duration": 0.017131,
     "end_time": "2023-10-21T10:14:08.992094",
     "exception": false,
     "start_time": "2023-10-21T10:14:08.974963",
     "status": "completed"
    },
    "tags": []
   },
   "outputs": [],
   "source": [
    "CONFIG = {\n",
    "    \"n_fold\": 5,\n",
    "    \"seed\": 42,\n",
    "    \"img_size\": 512,\n",
    "    \"model_name\": \"tf_efficientnet_b0_ns\",\n",
    "    \"num_classes\": 5,\n",
    "    \"valid_batch_size\": 64,\n",
    "    \"device\": torch.device(\"cuda:0\" if torch.cuda.is_available() else \"cpu\"),\n",
    "}"
   ]
  },
  {
   "cell_type": "markdown",
   "id": "a22e3e1f",
   "metadata": {
    "papermill": {
     "duration": 0.007399,
     "end_time": "2023-10-21T10:14:09.007178",
     "exception": false,
     "start_time": "2023-10-21T10:14:08.999779",
     "status": "completed"
    },
    "tags": []
   },
   "source": [
    "## 1. Data Preparation"
   ]
  },
  {
   "cell_type": "code",
   "execution_count": 4,
   "id": "f775a500",
   "metadata": {
    "execution": {
     "iopub.execute_input": "2023-10-21T10:14:09.024308Z",
     "iopub.status.busy": "2023-10-21T10:14:09.023795Z",
     "iopub.status.idle": "2023-10-21T10:14:09.030758Z",
     "shell.execute_reply": "2023-10-21T10:14:09.029445Z"
    },
    "papermill": {
     "duration": 0.018223,
     "end_time": "2023-10-21T10:14:09.033192",
     "exception": false,
     "start_time": "2023-10-21T10:14:09.014969",
     "status": "completed"
    },
    "tags": []
   },
   "outputs": [],
   "source": [
    "ROOT_DIR = '/kaggle/input/UBC-OCEAN'\n",
    "TRAIN_DIR = '/kaggle/input/UBC-OCEAN/train_thumbnails'\n",
    "TEST_DIR = '/kaggle/input/UBC-OCEAN/test_thumbnails'\n",
    "ALT_TEST_DIR = '/kaggle/input/UBC-OCEAN/test_images'\n",
    "\n",
    "\n",
    "def get_train_file_path(image_id):\n",
    "    return f\"{TRAIN_DIR}/{image_id}_thumbnail.png\"\n",
    "\n",
    "\n",
    "def get_test_file_path(image_id):\n",
    "    if os.path.exists(f\"{TEST_DIR}/{image_id}_thumbnail.png\"):\n",
    "        return f\"{TEST_DIR}/{image_id}_thumbnail.png\"\n",
    "    else:\n",
    "        return f\"{ALT_TEST_DIR}/{image_id}.png\"\n",
    "\n"
   ]
  },
  {
   "cell_type": "code",
   "execution_count": 5,
   "id": "76a83364",
   "metadata": {
    "execution": {
     "iopub.execute_input": "2023-10-21T10:14:09.050646Z",
     "iopub.status.busy": "2023-10-21T10:14:09.050242Z",
     "iopub.status.idle": "2023-10-21T10:14:09.058783Z",
     "shell.execute_reply": "2023-10-21T10:14:09.057767Z"
    },
    "papermill": {
     "duration": 0.020261,
     "end_time": "2023-10-21T10:14:09.061342",
     "exception": false,
     "start_time": "2023-10-21T10:14:09.041081",
     "status": "completed"
    },
    "tags": []
   },
   "outputs": [],
   "source": [
    "train_images = sorted(glob.glob(f\"{TRAIN_DIR}/*.png\"))\n",
    "# train_images"
   ]
  },
  {
   "cell_type": "code",
   "execution_count": 6,
   "id": "f9f2527b",
   "metadata": {
    "execution": {
     "iopub.execute_input": "2023-10-21T10:14:09.079064Z",
     "iopub.status.busy": "2023-10-21T10:14:09.078612Z",
     "iopub.status.idle": "2023-10-21T10:14:09.127778Z",
     "shell.execute_reply": "2023-10-21T10:14:09.126273Z"
    },
    "papermill": {
     "duration": 0.061089,
     "end_time": "2023-10-21T10:14:09.130387",
     "exception": false,
     "start_time": "2023-10-21T10:14:09.069298",
     "status": "completed"
    },
    "tags": []
   },
   "outputs": [
    {
     "name": "stdout",
     "output_type": "stream",
     "text": [
      "(538, 5)\n"
     ]
    },
    {
     "data": {
      "text/html": [
       "<div>\n",
       "<style scoped>\n",
       "    .dataframe tbody tr th:only-of-type {\n",
       "        vertical-align: middle;\n",
       "    }\n",
       "\n",
       "    .dataframe tbody tr th {\n",
       "        vertical-align: top;\n",
       "    }\n",
       "\n",
       "    .dataframe thead th {\n",
       "        text-align: right;\n",
       "    }\n",
       "</style>\n",
       "<table border=\"1\" class=\"dataframe\">\n",
       "  <thead>\n",
       "    <tr style=\"text-align: right;\">\n",
       "      <th></th>\n",
       "      <th>image_id</th>\n",
       "      <th>label</th>\n",
       "      <th>image_width</th>\n",
       "      <th>image_height</th>\n",
       "      <th>is_tma</th>\n",
       "    </tr>\n",
       "  </thead>\n",
       "  <tbody>\n",
       "    <tr>\n",
       "      <th>0</th>\n",
       "      <td>4</td>\n",
       "      <td>HGSC</td>\n",
       "      <td>23785</td>\n",
       "      <td>20008</td>\n",
       "      <td>False</td>\n",
       "    </tr>\n",
       "    <tr>\n",
       "      <th>1</th>\n",
       "      <td>66</td>\n",
       "      <td>LGSC</td>\n",
       "      <td>48871</td>\n",
       "      <td>48195</td>\n",
       "      <td>False</td>\n",
       "    </tr>\n",
       "    <tr>\n",
       "      <th>2</th>\n",
       "      <td>91</td>\n",
       "      <td>HGSC</td>\n",
       "      <td>3388</td>\n",
       "      <td>3388</td>\n",
       "      <td>True</td>\n",
       "    </tr>\n",
       "    <tr>\n",
       "      <th>3</th>\n",
       "      <td>281</td>\n",
       "      <td>LGSC</td>\n",
       "      <td>42309</td>\n",
       "      <td>15545</td>\n",
       "      <td>False</td>\n",
       "    </tr>\n",
       "    <tr>\n",
       "      <th>4</th>\n",
       "      <td>286</td>\n",
       "      <td>EC</td>\n",
       "      <td>37204</td>\n",
       "      <td>30020</td>\n",
       "      <td>False</td>\n",
       "    </tr>\n",
       "  </tbody>\n",
       "</table>\n",
       "</div>"
      ],
      "text/plain": [
       "   image_id label  image_width  image_height  is_tma\n",
       "0         4  HGSC        23785         20008   False\n",
       "1        66  LGSC        48871         48195   False\n",
       "2        91  HGSC         3388          3388    True\n",
       "3       281  LGSC        42309         15545   False\n",
       "4       286    EC        37204         30020   False"
      ]
     },
     "execution_count": 6,
     "metadata": {},
     "output_type": "execute_result"
    }
   ],
   "source": [
    "df_train = pd.read_csv(\"/kaggle/input/UBC-OCEAN/train.csv\")\n",
    "print(df_train.shape)\n",
    "df_train.head()"
   ]
  },
  {
   "cell_type": "code",
   "execution_count": 7,
   "id": "79296597",
   "metadata": {
    "execution": {
     "iopub.execute_input": "2023-10-21T10:14:09.148489Z",
     "iopub.status.busy": "2023-10-21T10:14:09.148047Z",
     "iopub.status.idle": "2023-10-21T10:14:09.168101Z",
     "shell.execute_reply": "2023-10-21T10:14:09.167097Z"
    },
    "papermill": {
     "duration": 0.03214,
     "end_time": "2023-10-21T10:14:09.170710",
     "exception": false,
     "start_time": "2023-10-21T10:14:09.138570",
     "status": "completed"
    },
    "tags": []
   },
   "outputs": [
    {
     "data": {
      "text/plain": [
       "(513, 6)"
      ]
     },
     "execution_count": 7,
     "metadata": {},
     "output_type": "execute_result"
    }
   ],
   "source": [
    "df_train['file_path'] = df_train['image_id'].apply(get_train_file_path)\n",
    "# only consider WSI / Thumbnail images\n",
    "df_train = df_train[ df_train[\"file_path\"].isin(train_images) ].reset_index(drop=True)\n",
    "df_train.shape"
   ]
  },
  {
   "cell_type": "code",
   "execution_count": 8,
   "id": "128bbec0",
   "metadata": {
    "execution": {
     "iopub.execute_input": "2023-10-21T10:14:09.189516Z",
     "iopub.status.busy": "2023-10-21T10:14:09.189139Z",
     "iopub.status.idle": "2023-10-21T10:14:09.208257Z",
     "shell.execute_reply": "2023-10-21T10:14:09.207178Z"
    },
    "papermill": {
     "duration": 0.031435,
     "end_time": "2023-10-21T10:14:09.210645",
     "exception": false,
     "start_time": "2023-10-21T10:14:09.179210",
     "status": "completed"
    },
    "tags": []
   },
   "outputs": [
    {
     "data": {
      "text/html": [
       "<div>\n",
       "<style scoped>\n",
       "    .dataframe tbody tr th:only-of-type {\n",
       "        vertical-align: middle;\n",
       "    }\n",
       "\n",
       "    .dataframe tbody tr th {\n",
       "        vertical-align: top;\n",
       "    }\n",
       "\n",
       "    .dataframe thead th {\n",
       "        text-align: right;\n",
       "    }\n",
       "</style>\n",
       "<table border=\"1\" class=\"dataframe\">\n",
       "  <thead>\n",
       "    <tr style=\"text-align: right;\">\n",
       "      <th></th>\n",
       "      <th>image_id</th>\n",
       "      <th>image_width</th>\n",
       "      <th>image_height</th>\n",
       "      <th>file_path</th>\n",
       "      <th>target_label</th>\n",
       "    </tr>\n",
       "  </thead>\n",
       "  <tbody>\n",
       "    <tr>\n",
       "      <th>0</th>\n",
       "      <td>41</td>\n",
       "      <td>28469</td>\n",
       "      <td>16987</td>\n",
       "      <td>/kaggle/input/UBC-OCEAN/test_thumbnails/41_thu...</td>\n",
       "      <td>0</td>\n",
       "    </tr>\n",
       "  </tbody>\n",
       "</table>\n",
       "</div>"
      ],
      "text/plain": [
       "   image_id  image_width  image_height  \\\n",
       "0        41        28469         16987   \n",
       "\n",
       "                                           file_path  target_label  \n",
       "0  /kaggle/input/UBC-OCEAN/test_thumbnails/41_thu...             0  "
      ]
     },
     "execution_count": 8,
     "metadata": {},
     "output_type": "execute_result"
    }
   ],
   "source": [
    "df_test = pd.read_csv(\"/kaggle/input/UBC-OCEAN/test.csv\")\n",
    "df_test['file_path'] = df_test['image_id'].apply(get_test_file_path)\n",
    "df_test[\"target_label\"] = 0 \n",
    "df_test"
   ]
  },
  {
   "cell_type": "code",
   "execution_count": 9,
   "id": "3ca27fe5",
   "metadata": {
    "execution": {
     "iopub.execute_input": "2023-10-21T10:14:09.229443Z",
     "iopub.status.busy": "2023-10-21T10:14:09.229054Z",
     "iopub.status.idle": "2023-10-21T10:14:09.246830Z",
     "shell.execute_reply": "2023-10-21T10:14:09.245666Z"
    },
    "papermill": {
     "duration": 0.030177,
     "end_time": "2023-10-21T10:14:09.249338",
     "exception": false,
     "start_time": "2023-10-21T10:14:09.219161",
     "status": "completed"
    },
    "tags": []
   },
   "outputs": [
    {
     "data": {
      "text/html": [
       "<div>\n",
       "<style scoped>\n",
       "    .dataframe tbody tr th:only-of-type {\n",
       "        vertical-align: middle;\n",
       "    }\n",
       "\n",
       "    .dataframe tbody tr th {\n",
       "        vertical-align: top;\n",
       "    }\n",
       "\n",
       "    .dataframe thead th {\n",
       "        text-align: right;\n",
       "    }\n",
       "</style>\n",
       "<table border=\"1\" class=\"dataframe\">\n",
       "  <thead>\n",
       "    <tr style=\"text-align: right;\">\n",
       "      <th></th>\n",
       "      <th>image_id</th>\n",
       "      <th>label</th>\n",
       "      <th>image_width</th>\n",
       "      <th>image_height</th>\n",
       "      <th>is_tma</th>\n",
       "      <th>file_path</th>\n",
       "      <th>target_label</th>\n",
       "    </tr>\n",
       "  </thead>\n",
       "  <tbody>\n",
       "    <tr>\n",
       "      <th>0</th>\n",
       "      <td>4</td>\n",
       "      <td>HGSC</td>\n",
       "      <td>23785</td>\n",
       "      <td>20008</td>\n",
       "      <td>False</td>\n",
       "      <td>/kaggle/input/UBC-OCEAN/train_thumbnails/4_thu...</td>\n",
       "      <td>2</td>\n",
       "    </tr>\n",
       "    <tr>\n",
       "      <th>1</th>\n",
       "      <td>66</td>\n",
       "      <td>LGSC</td>\n",
       "      <td>48871</td>\n",
       "      <td>48195</td>\n",
       "      <td>False</td>\n",
       "      <td>/kaggle/input/UBC-OCEAN/train_thumbnails/66_th...</td>\n",
       "      <td>3</td>\n",
       "    </tr>\n",
       "    <tr>\n",
       "      <th>2</th>\n",
       "      <td>281</td>\n",
       "      <td>LGSC</td>\n",
       "      <td>42309</td>\n",
       "      <td>15545</td>\n",
       "      <td>False</td>\n",
       "      <td>/kaggle/input/UBC-OCEAN/train_thumbnails/281_t...</td>\n",
       "      <td>3</td>\n",
       "    </tr>\n",
       "    <tr>\n",
       "      <th>3</th>\n",
       "      <td>286</td>\n",
       "      <td>EC</td>\n",
       "      <td>37204</td>\n",
       "      <td>30020</td>\n",
       "      <td>False</td>\n",
       "      <td>/kaggle/input/UBC-OCEAN/train_thumbnails/286_t...</td>\n",
       "      <td>1</td>\n",
       "    </tr>\n",
       "    <tr>\n",
       "      <th>4</th>\n",
       "      <td>431</td>\n",
       "      <td>HGSC</td>\n",
       "      <td>39991</td>\n",
       "      <td>40943</td>\n",
       "      <td>False</td>\n",
       "      <td>/kaggle/input/UBC-OCEAN/train_thumbnails/431_t...</td>\n",
       "      <td>2</td>\n",
       "    </tr>\n",
       "  </tbody>\n",
       "</table>\n",
       "</div>"
      ],
      "text/plain": [
       "   image_id label  image_width  image_height  is_tma  \\\n",
       "0         4  HGSC        23785         20008   False   \n",
       "1        66  LGSC        48871         48195   False   \n",
       "2       281  LGSC        42309         15545   False   \n",
       "3       286    EC        37204         30020   False   \n",
       "4       431  HGSC        39991         40943   False   \n",
       "\n",
       "                                           file_path  target_label  \n",
       "0  /kaggle/input/UBC-OCEAN/train_thumbnails/4_thu...             2  \n",
       "1  /kaggle/input/UBC-OCEAN/train_thumbnails/66_th...             3  \n",
       "2  /kaggle/input/UBC-OCEAN/train_thumbnails/281_t...             3  \n",
       "3  /kaggle/input/UBC-OCEAN/train_thumbnails/286_t...             1  \n",
       "4  /kaggle/input/UBC-OCEAN/train_thumbnails/431_t...             2  "
      ]
     },
     "execution_count": 9,
     "metadata": {},
     "output_type": "execute_result"
    }
   ],
   "source": [
    "# encode to numericalt target\n",
    "encoder = LabelEncoder()\n",
    "df_train['target_label'] = encoder.fit_transform(df_train['label'])\n",
    "\n",
    "# save encoder\n",
    "with open(\"label_encoder.pkl\", \"wb\") as fp:\n",
    "    joblib.dump(encoder, fp)\n",
    "    \n",
    "df_train.head()"
   ]
  },
  {
   "cell_type": "code",
   "execution_count": 10,
   "id": "65b9dc84",
   "metadata": {
    "execution": {
     "iopub.execute_input": "2023-10-21T10:14:09.270371Z",
     "iopub.status.busy": "2023-10-21T10:14:09.269087Z",
     "iopub.status.idle": "2023-10-21T10:14:09.295053Z",
     "shell.execute_reply": "2023-10-21T10:14:09.294084Z"
    },
    "papermill": {
     "duration": 0.039089,
     "end_time": "2023-10-21T10:14:09.297620",
     "exception": false,
     "start_time": "2023-10-21T10:14:09.258531",
     "status": "completed"
    },
    "tags": []
   },
   "outputs": [
    {
     "data": {
      "text/html": [
       "<div>\n",
       "<style scoped>\n",
       "    .dataframe tbody tr th:only-of-type {\n",
       "        vertical-align: middle;\n",
       "    }\n",
       "\n",
       "    .dataframe tbody tr th {\n",
       "        vertical-align: top;\n",
       "    }\n",
       "\n",
       "    .dataframe thead th {\n",
       "        text-align: right;\n",
       "    }\n",
       "</style>\n",
       "<table border=\"1\" class=\"dataframe\">\n",
       "  <thead>\n",
       "    <tr style=\"text-align: right;\">\n",
       "      <th></th>\n",
       "      <th>image_id</th>\n",
       "      <th>label</th>\n",
       "      <th>image_width</th>\n",
       "      <th>image_height</th>\n",
       "      <th>is_tma</th>\n",
       "      <th>file_path</th>\n",
       "      <th>target_label</th>\n",
       "      <th>kfold</th>\n",
       "    </tr>\n",
       "  </thead>\n",
       "  <tbody>\n",
       "    <tr>\n",
       "      <th>0</th>\n",
       "      <td>4</td>\n",
       "      <td>HGSC</td>\n",
       "      <td>23785</td>\n",
       "      <td>20008</td>\n",
       "      <td>False</td>\n",
       "      <td>/kaggle/input/UBC-OCEAN/train_thumbnails/4_thu...</td>\n",
       "      <td>2</td>\n",
       "      <td>4.0</td>\n",
       "    </tr>\n",
       "    <tr>\n",
       "      <th>1</th>\n",
       "      <td>66</td>\n",
       "      <td>LGSC</td>\n",
       "      <td>48871</td>\n",
       "      <td>48195</td>\n",
       "      <td>False</td>\n",
       "      <td>/kaggle/input/UBC-OCEAN/train_thumbnails/66_th...</td>\n",
       "      <td>3</td>\n",
       "      <td>1.0</td>\n",
       "    </tr>\n",
       "    <tr>\n",
       "      <th>2</th>\n",
       "      <td>281</td>\n",
       "      <td>LGSC</td>\n",
       "      <td>42309</td>\n",
       "      <td>15545</td>\n",
       "      <td>False</td>\n",
       "      <td>/kaggle/input/UBC-OCEAN/train_thumbnails/281_t...</td>\n",
       "      <td>3</td>\n",
       "      <td>4.0</td>\n",
       "    </tr>\n",
       "    <tr>\n",
       "      <th>3</th>\n",
       "      <td>286</td>\n",
       "      <td>EC</td>\n",
       "      <td>37204</td>\n",
       "      <td>30020</td>\n",
       "      <td>False</td>\n",
       "      <td>/kaggle/input/UBC-OCEAN/train_thumbnails/286_t...</td>\n",
       "      <td>1</td>\n",
       "      <td>2.0</td>\n",
       "    </tr>\n",
       "    <tr>\n",
       "      <th>4</th>\n",
       "      <td>431</td>\n",
       "      <td>HGSC</td>\n",
       "      <td>39991</td>\n",
       "      <td>40943</td>\n",
       "      <td>False</td>\n",
       "      <td>/kaggle/input/UBC-OCEAN/train_thumbnails/431_t...</td>\n",
       "      <td>2</td>\n",
       "      <td>4.0</td>\n",
       "    </tr>\n",
       "  </tbody>\n",
       "</table>\n",
       "</div>"
      ],
      "text/plain": [
       "   image_id label  image_width  image_height  is_tma  \\\n",
       "0         4  HGSC        23785         20008   False   \n",
       "1        66  LGSC        48871         48195   False   \n",
       "2       281  LGSC        42309         15545   False   \n",
       "3       286    EC        37204         30020   False   \n",
       "4       431  HGSC        39991         40943   False   \n",
       "\n",
       "                                           file_path  target_label  kfold  \n",
       "0  /kaggle/input/UBC-OCEAN/train_thumbnails/4_thu...             2    4.0  \n",
       "1  /kaggle/input/UBC-OCEAN/train_thumbnails/66_th...             3    1.0  \n",
       "2  /kaggle/input/UBC-OCEAN/train_thumbnails/281_t...             3    4.0  \n",
       "3  /kaggle/input/UBC-OCEAN/train_thumbnails/286_t...             1    2.0  \n",
       "4  /kaggle/input/UBC-OCEAN/train_thumbnails/431_t...             2    4.0  "
      ]
     },
     "execution_count": 10,
     "metadata": {},
     "output_type": "execute_result"
    }
   ],
   "source": [
    "# use stratified K Fold for crossvalidation \n",
    "skf = StratifiedKFold(n_splits=CONFIG['n_fold'], shuffle=True, random_state=CONFIG[\"seed\"])\n",
    "\n",
    "for fold, ( _, val_) in enumerate(skf.split(X=df_train, y=df_train.target_label)):\n",
    "    df_train.loc[val_ , \"kfold\"] = int(fold)\n",
    "df_train.head()\n"
   ]
  },
  {
   "cell_type": "code",
   "execution_count": 11,
   "id": "51eb31e7",
   "metadata": {
    "execution": {
     "iopub.execute_input": "2023-10-21T10:14:09.317750Z",
     "iopub.status.busy": "2023-10-21T10:14:09.317372Z",
     "iopub.status.idle": "2023-10-21T10:14:09.326825Z",
     "shell.execute_reply": "2023-10-21T10:14:09.325270Z"
    },
    "papermill": {
     "duration": 0.022705,
     "end_time": "2023-10-21T10:14:09.329425",
     "exception": false,
     "start_time": "2023-10-21T10:14:09.306720",
     "status": "completed"
    },
    "tags": []
   },
   "outputs": [],
   "source": [
    "from torch.utils.data import Dataset, DataLoader\n",
    "\n",
    "class UBCDataset(Dataset):\n",
    "    def __init__(self, df, transforms=None):\n",
    "        self.df = df\n",
    "        self.filenames = df.file_path.values\n",
    "        self.labels =  df.target_label.values\n",
    "        self.transforms = transforms\n",
    "\n",
    "    def __len__(self):\n",
    "        return len(self.df)\n",
    "\n",
    "    def __getitem__(self, idx):\n",
    "        img_path = self.filenames[idx]\n",
    "        img = cv2.imread(img_path)\n",
    "        img = cv2.cvtColor(img, cv2.COLOR_BGR2RGB)\n",
    "        \n",
    "        if self.transforms:\n",
    "            img = self.transforms(image=img)[\"image\"]\n",
    "            \n",
    "        return {\n",
    "            \"image\": img,\n",
    "            \"label\": torch.tensor(self.labels[idx], dtype=torch.long)\n",
    "               }\n",
    "        "
   ]
  },
  {
   "cell_type": "code",
   "execution_count": 12,
   "id": "ec67882a",
   "metadata": {
    "execution": {
     "iopub.execute_input": "2023-10-21T10:14:09.350594Z",
     "iopub.status.busy": "2023-10-21T10:14:09.349948Z",
     "iopub.status.idle": "2023-10-21T10:14:10.622819Z",
     "shell.execute_reply": "2023-10-21T10:14:10.621513Z"
    },
    "papermill": {
     "duration": 1.286934,
     "end_time": "2023-10-21T10:14:10.625665",
     "exception": false,
     "start_time": "2023-10-21T10:14:09.338731",
     "status": "completed"
    },
    "tags": []
   },
   "outputs": [],
   "source": [
    "# Albumentations for augmentations\n",
    "import albumentations as A\n",
    "from albumentations.pytorch import ToTensorV2\n",
    "\n",
    "data_transforms = {\n",
    "    \"valid\": A.Compose([\n",
    "        A.Resize(CONFIG['img_size'], CONFIG['img_size']),\n",
    "        A.Normalize(\n",
    "                mean=[0.485, 0.456, 0.406], \n",
    "                std=[0.229, 0.224, 0.225], \n",
    "                max_pixel_value=255.0, \n",
    "                p=1.0\n",
    "            ),\n",
    "        ToTensorV2()], p=1.)\n",
    "}\n",
    "\n"
   ]
  },
  {
   "cell_type": "code",
   "execution_count": null,
   "id": "f69fd898",
   "metadata": {
    "papermill": {
     "duration": 0.009354,
     "end_time": "2023-10-21T10:14:10.645390",
     "exception": false,
     "start_time": "2023-10-21T10:14:10.636036",
     "status": "completed"
    },
    "tags": []
   },
   "outputs": [],
   "source": [
    "\n"
   ]
  },
  {
   "cell_type": "markdown",
   "id": "a0860365",
   "metadata": {
    "papermill": {
     "duration": 0.009359,
     "end_time": "2023-10-21T10:14:10.664037",
     "exception": false,
     "start_time": "2023-10-21T10:14:10.654678",
     "status": "completed"
    },
    "tags": []
   },
   "source": [
    "## 2. Model Creation"
   ]
  },
  {
   "cell_type": "code",
   "execution_count": 13,
   "id": "54c8618b",
   "metadata": {
    "execution": {
     "iopub.execute_input": "2023-10-21T10:14:10.685324Z",
     "iopub.status.busy": "2023-10-21T10:14:10.684484Z",
     "iopub.status.idle": "2023-10-21T10:14:11.242438Z",
     "shell.execute_reply": "2023-10-21T10:14:11.241329Z"
    },
    "papermill": {
     "duration": 0.571903,
     "end_time": "2023-10-21T10:14:11.245226",
     "exception": false,
     "start_time": "2023-10-21T10:14:10.673323",
     "status": "completed"
    },
    "tags": []
   },
   "outputs": [
    {
     "name": "stderr",
     "output_type": "stream",
     "text": [
      "/opt/conda/lib/python3.10/site-packages/timm/models/_factory.py:114: UserWarning: Mapping deprecated model name tf_efficientnet_b0_ns to current tf_efficientnet_b0.ns_jft_in1k.\n",
      "  model = create_fn(\n"
     ]
    }
   ],
   "source": [
    "class GeM(nn.Module):\n",
    "    def __init__(self, p=3, eps=1e-6):\n",
    "        super(GeM, self).__init__()\n",
    "        self.p = nn.Parameter(torch.ones(1)*p)\n",
    "        self.eps = eps\n",
    "\n",
    "    def forward(self, x):\n",
    "        return self.gem(x, p=self.p, eps=self.eps)\n",
    "        \n",
    "    def gem(self, x, p=3, eps=1e-6):\n",
    "        return F.avg_pool2d(x.clamp(min=eps).pow(p), (x.size(-2), x.size(-1))).pow(1./p)\n",
    "        \n",
    "    def __repr__(self):\n",
    "        return self.__class__.__name__ + \\\n",
    "                '(' + 'p=' + '{:.4f}'.format(self.p.data.tolist()[0]) + \\\n",
    "                ', ' + 'eps=' + str(self.eps) + ')'\n",
    "\n",
    "\n",
    "class EfficientNetB0(nn.Module):\n",
    "    '''\n",
    "    EfficientNet B0 fine-tune.\n",
    "    '''\n",
    "    def __init__(self, model_name, num_classes, pretrained=False, checkpoint_path=None):\n",
    "        '''\n",
    "        Fine tune for EfficientNetB0\n",
    "        Args\n",
    "            n_classes : int - Number of classification categories.\n",
    "            learnable_modules : tuple - Names of the modules to fine-tune.\n",
    "        Return\n",
    "            \n",
    "        '''\n",
    "        super(EfficientNetB0, self).__init__()\n",
    "        self.model = timm.create_model(model_name, pretrained=pretrained, checkpoint_path=checkpoint_path)\n",
    "\n",
    "        in_features = self.model.classifier.in_features\n",
    "        self.model.classifier = nn.Identity()\n",
    "        self.model.global_pool = nn.Identity()\n",
    "        self.pooling = GeM()\n",
    "        self.linear = nn.Linear(in_features, num_classes)\n",
    "        self.softmax = nn.Softmax(dim=1)\n",
    "\n",
    "    def forward(self, images):\n",
    "        \"\"\"\n",
    "        Forward function for the fine-tuned model\n",
    "        Args\n",
    "            x: \n",
    "        Return\n",
    "            result\n",
    "        \"\"\"\n",
    "        features = self.model(images)\n",
    "        pooled_features = self.pooling(features).flatten(1)\n",
    "        output = self.linear(pooled_features)\n",
    "        return output\n",
    "\n",
    "BEST_WEIGHT = checkpoint_path='//kaggle/input/tf-efficientnet-b0-aa-827b6e33-pth/tf_efficientnet_b0_aa-827b6e33.pth'\n",
    "model = EfficientNetB0(CONFIG['model_name'], CONFIG['num_classes'], pretrained=False , checkpoint_path=checkpoint_path)\n",
    "weights = torch.load( BEST_WEIGHT )\n",
    "# model.load_state_dict(weights)\n",
    "model.to(CONFIG['device']);\n",
    "\n",
    "\n",
    "# model = timm.create_model('tf_efficientnet_b0', checkpoint_path='//kaggle/input/tf-efficientnet-b0-aa-827b6e33-pth/tf_efficientnet_b0_aa-827b6e33.pth')\n",
    "# model.eval()\n",
    "# model.state_dict()"
   ]
  },
  {
   "cell_type": "code",
   "execution_count": 14,
   "id": "a13a290b",
   "metadata": {
    "execution": {
     "iopub.execute_input": "2023-10-21T10:14:11.265583Z",
     "iopub.status.busy": "2023-10-21T10:14:11.264930Z",
     "iopub.status.idle": "2023-10-21T10:14:11.268663Z",
     "shell.execute_reply": "2023-10-21T10:14:11.267914Z"
    },
    "papermill": {
     "duration": 0.016578,
     "end_time": "2023-10-21T10:14:11.270973",
     "exception": false,
     "start_time": "2023-10-21T10:14:11.254395",
     "status": "completed"
    },
    "tags": []
   },
   "outputs": [],
   "source": [
    "# Inspect the weights of the model\n",
    "# for name, parameter in model.named_parameters():\n",
    "#     print(f'{name}: {parameter.shape}')\n",
    "# model.state_dict()\n"
   ]
  },
  {
   "cell_type": "code",
   "execution_count": 15,
   "id": "8de79a93",
   "metadata": {
    "execution": {
     "iopub.execute_input": "2023-10-21T10:14:11.292290Z",
     "iopub.status.busy": "2023-10-21T10:14:11.291327Z",
     "iopub.status.idle": "2023-10-21T10:14:11.298985Z",
     "shell.execute_reply": "2023-10-21T10:14:11.297855Z"
    },
    "papermill": {
     "duration": 0.021105,
     "end_time": "2023-10-21T10:14:11.301462",
     "exception": false,
     "start_time": "2023-10-21T10:14:11.280357",
     "status": "completed"
    },
    "tags": []
   },
   "outputs": [],
   "source": [
    "\n",
    "\n",
    "train_dataset = UBCDataset(df_train, transforms=data_transforms[\"valid\"])\n",
    "train_loader = DataLoader(train_dataset, batch_size=CONFIG['valid_batch_size'], \n",
    "                          num_workers=2, shuffle=False, pin_memory=True)\n",
    "\n",
    "test_dataset = UBCDataset(df_test, transforms=data_transforms[\"valid\"])\n",
    "test_loader = DataLoader(test_dataset, batch_size=CONFIG['valid_batch_size'], \n",
    "                          num_workers=2, shuffle=False, pin_memory=True)\n"
   ]
  },
  {
   "cell_type": "code",
   "execution_count": 16,
   "id": "ae000461",
   "metadata": {
    "execution": {
     "iopub.execute_input": "2023-10-21T10:14:11.322499Z",
     "iopub.status.busy": "2023-10-21T10:14:11.321867Z",
     "iopub.status.idle": "2023-10-21T10:14:12.163095Z",
     "shell.execute_reply": "2023-10-21T10:14:12.160325Z"
    },
    "papermill": {
     "duration": 0.855659,
     "end_time": "2023-10-21T10:14:12.166472",
     "exception": false,
     "start_time": "2023-10-21T10:14:11.310813",
     "status": "completed"
    },
    "tags": []
   },
   "outputs": [
    {
     "name": "stderr",
     "output_type": "stream",
     "text": [
      "100%|██████████| 1/1 [00:00<00:00,  1.28it/s]\n"
     ]
    }
   ],
   "source": [
    "preds = []\n",
    "with torch.no_grad():\n",
    "    bar = tqdm(enumerate(test_loader), total=len(test_loader))\n",
    "    for step, data in bar: \n",
    "        # print(step)\n",
    "        images = data['image'].to(CONFIG[\"device\"], dtype=torch.float)        \n",
    "        batch_size = images.size(0)\n",
    "        outputs = model(images)\n",
    "        _, predicted = torch.max(model.softmax(outputs), 1)\n",
    "        preds.append( predicted.detach().cpu().numpy() )\n",
    "preds = np.concatenate(preds).flatten()\n",
    "pred_labels = encoder.inverse_transform( preds )"
   ]
  },
  {
   "cell_type": "code",
   "execution_count": 17,
   "id": "f61dd1a2",
   "metadata": {
    "execution": {
     "iopub.execute_input": "2023-10-21T10:14:12.189118Z",
     "iopub.status.busy": "2023-10-21T10:14:12.188659Z",
     "iopub.status.idle": "2023-10-21T10:14:12.205116Z",
     "shell.execute_reply": "2023-10-21T10:14:12.204013Z"
    },
    "papermill": {
     "duration": 0.031038,
     "end_time": "2023-10-21T10:14:12.208015",
     "exception": false,
     "start_time": "2023-10-21T10:14:12.176977",
     "status": "completed"
    },
    "tags": []
   },
   "outputs": [],
   "source": [
    "df_sub = pd.read_csv(f\"{ROOT_DIR}/sample_submission.csv\")\n",
    "\n",
    "df_sub[\"label\"] = pred_labels\n",
    "df_sub.to_csv(\"submission.csv\", index=False)"
   ]
  },
  {
   "cell_type": "code",
   "execution_count": 18,
   "id": "ca66e381",
   "metadata": {
    "execution": {
     "iopub.execute_input": "2023-10-21T10:14:12.229459Z",
     "iopub.status.busy": "2023-10-21T10:14:12.229050Z",
     "iopub.status.idle": "2023-10-21T10:14:12.239946Z",
     "shell.execute_reply": "2023-10-21T10:14:12.239101Z"
    },
    "papermill": {
     "duration": 0.02437,
     "end_time": "2023-10-21T10:14:12.242242",
     "exception": false,
     "start_time": "2023-10-21T10:14:12.217872",
     "status": "completed"
    },
    "tags": []
   },
   "outputs": [
    {
     "data": {
      "text/html": [
       "<div>\n",
       "<style scoped>\n",
       "    .dataframe tbody tr th:only-of-type {\n",
       "        vertical-align: middle;\n",
       "    }\n",
       "\n",
       "    .dataframe tbody tr th {\n",
       "        vertical-align: top;\n",
       "    }\n",
       "\n",
       "    .dataframe thead th {\n",
       "        text-align: right;\n",
       "    }\n",
       "</style>\n",
       "<table border=\"1\" class=\"dataframe\">\n",
       "  <thead>\n",
       "    <tr style=\"text-align: right;\">\n",
       "      <th></th>\n",
       "      <th>image_id</th>\n",
       "      <th>label</th>\n",
       "    </tr>\n",
       "  </thead>\n",
       "  <tbody>\n",
       "    <tr>\n",
       "      <th>0</th>\n",
       "      <td>41</td>\n",
       "      <td>LGSC</td>\n",
       "    </tr>\n",
       "  </tbody>\n",
       "</table>\n",
       "</div>"
      ],
      "text/plain": [
       "   image_id label\n",
       "0        41  LGSC"
      ]
     },
     "execution_count": 18,
     "metadata": {},
     "output_type": "execute_result"
    }
   ],
   "source": [
    "df_sub"
   ]
  },
  {
   "cell_type": "code",
   "execution_count": null,
   "id": "26ce74d0",
   "metadata": {
    "papermill": {
     "duration": 0.009727,
     "end_time": "2023-10-21T10:14:12.261835",
     "exception": false,
     "start_time": "2023-10-21T10:14:12.252108",
     "status": "completed"
    },
    "tags": []
   },
   "outputs": [],
   "source": []
  }
 ],
 "metadata": {
  "kernelspec": {
   "display_name": "Python 3",
   "language": "python",
   "name": "python3"
  },
  "language_info": {
   "codemirror_mode": {
    "name": "ipython",
    "version": 3
   },
   "file_extension": ".py",
   "mimetype": "text/x-python",
   "name": "python",
   "nbconvert_exporter": "python",
   "pygments_lexer": "ipython3",
   "version": "3.10.12"
  },
  "papermill": {
   "default_parameters": {},
   "duration": 17.045411,
   "end_time": "2023-10-21T10:14:13.896945",
   "environment_variables": {},
   "exception": null,
   "input_path": "__notebook__.ipynb",
   "output_path": "__notebook__.ipynb",
   "parameters": {},
   "start_time": "2023-10-21T10:13:56.851534",
   "version": "2.4.0"
  }
 },
 "nbformat": 4,
 "nbformat_minor": 5
}
