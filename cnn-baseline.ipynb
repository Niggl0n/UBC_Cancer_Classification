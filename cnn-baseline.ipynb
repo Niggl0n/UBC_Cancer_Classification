{
 "cells": [
  {
   "cell_type": "markdown",
   "id": "55026892",
   "metadata": {
    "papermill": {
     "duration": 0.007839,
     "end_time": "2023-10-21T10:30:31.699938",
     "exception": false,
     "start_time": "2023-10-21T10:30:31.692099",
     "status": "completed"
    },
    "tags": []
   },
   "source": [
    "# Introduction \n",
    "\n",
    "**This is a basic CNN Model training notebook**\n",
    "\n",
    "It is based on: \n",
    "- Thumbnail images\n",
    "- Basic data transformation (using Albumentation):\n",
    "    - resizing images to 512x512\n",
    "    - normalizing pixel values\n",
    "- CNN Architecture\n",
    "\n",
    "\n",
    "**Todos:**\n",
    "\n",
    "- Learn about Dataset & DataLoader\n",
    "- add augmentations (albumentation)\n",
    "- gem pooling"
   ]
  },
  {
   "cell_type": "code",
   "execution_count": 1,
   "id": "ea0845a0",
   "metadata": {
    "_cell_guid": "b1076dfc-b9ad-4769-8c92-a6c4dae69d19",
    "_uuid": "8f2839f25d086af736a60e9eeb907d3b93b6e0e5",
    "execution": {
     "iopub.execute_input": "2023-10-21T10:30:31.713663Z",
     "iopub.status.busy": "2023-10-21T10:30:31.713209Z",
     "iopub.status.idle": "2023-10-21T10:30:32.364764Z",
     "shell.execute_reply": "2023-10-21T10:30:32.363315Z"
    },
    "papermill": {
     "duration": 0.661349,
     "end_time": "2023-10-21T10:30:32.367525",
     "exception": false,
     "start_time": "2023-10-21T10:30:31.706176",
     "status": "completed"
    },
    "tags": []
   },
   "outputs": [],
   "source": [
    "# This Python 3 environment comes with many helpful analytics libraries installed\n",
    "# It is defined by the kaggle/python Docker image: https://github.com/kaggle/docker-python\n",
    "# For example, here's several helpful packages to load\n",
    "\n",
    "import numpy as np # linear algebra\n",
    "import pandas as pd # data processing, CSV file I/O (e.g. pd.read_csv)\n",
    "\n",
    "# Input data files are available in the read-only \"../input/\" directory\n",
    "# For example, running this (by clicking run or pressing Shift+Enter) will list all files under the input directory\n",
    "\n",
    "import os\n",
    "for dirname, _, filenames in os.walk('/kaggle/input'):\n",
    "    for filename in filenames:\n",
    "        # print(os.path.join(dirname, filename))\n",
    "        continue\n",
    "\n",
    "# You can write up to 20GB to the current directory (/kaggle/working/) that gets preserved as output when you create a version using \"Save & Run All\" \n",
    "# You can also write temporary files to /kaggle/temp/, but they won't be saved outside of the current session"
   ]
  },
  {
   "cell_type": "code",
   "execution_count": 2,
   "id": "a0e16405",
   "metadata": {
    "execution": {
     "iopub.execute_input": "2023-10-21T10:30:32.381516Z",
     "iopub.status.busy": "2023-10-21T10:30:32.380982Z",
     "iopub.status.idle": "2023-10-21T10:30:40.351547Z",
     "shell.execute_reply": "2023-10-21T10:30:40.350414Z"
    },
    "papermill": {
     "duration": 7.981394,
     "end_time": "2023-10-21T10:30:40.354807",
     "exception": false,
     "start_time": "2023-10-21T10:30:32.373413",
     "status": "completed"
    },
    "tags": []
   },
   "outputs": [],
   "source": [
    "\n",
    "\n",
    "import os\n",
    "import gc\n",
    "import cv2\n",
    "import math\n",
    "import copy\n",
    "import time\n",
    "import random\n",
    "import glob\n",
    "from matplotlib import pyplot as plt\n",
    "\n",
    "# For data manipulation\n",
    "import numpy as np\n",
    "import pandas as pd\n",
    "\n",
    "# Pytorch Imports\n",
    "import torch\n",
    "import torch.nn as nn\n",
    "import torch.optim as optim\n",
    "import torch.nn.functional as F\n",
    "from torch.optim import lr_scheduler\n",
    "from torch.utils.data import Dataset, DataLoader\n",
    "from torch.cuda import amp\n",
    "import torchvision\n",
    "\n",
    "# Utils\n",
    "import joblib\n",
    "from tqdm import tqdm\n",
    "from collections import defaultdict\n",
    "\n",
    "# Sklearn Imports\n",
    "from sklearn.preprocessing import LabelEncoder\n",
    "from sklearn.model_selection import StratifiedKFold\n",
    "\n",
    "# For Image Models\n",
    "import timm\n",
    "\n",
    "# Albumentations for augmentations\n",
    "# import albumentations as A\n",
    "# from albumentations.pytorch import ToTensorV2\n",
    "\n",
    "# For colored terminal text\n",
    "from colorama import Fore, Back, Style\n",
    "b_ = Fore.BLUE\n",
    "sr_ = Style.RESET_ALL\n",
    "\n",
    "import warnings\n",
    "# warnings.filterwarnings(\"ignore\")\n",
    "\n",
    "# For descriptive error messages\n",
    "os.environ['CUDA_LAUNCH_BLOCKING'] = \"1\""
   ]
  },
  {
   "cell_type": "code",
   "execution_count": 3,
   "id": "b5c7bc83",
   "metadata": {
    "execution": {
     "iopub.execute_input": "2023-10-21T10:30:40.368567Z",
     "iopub.status.busy": "2023-10-21T10:30:40.368179Z",
     "iopub.status.idle": "2023-10-21T10:30:40.375485Z",
     "shell.execute_reply": "2023-10-21T10:30:40.374254Z"
    },
    "papermill": {
     "duration": 0.017258,
     "end_time": "2023-10-21T10:30:40.378118",
     "exception": false,
     "start_time": "2023-10-21T10:30:40.360860",
     "status": "completed"
    },
    "tags": []
   },
   "outputs": [],
   "source": [
    "CONFIG = {\n",
    "    \"n_fold\": 5,\n",
    "    \"seed\": 42,\n",
    "    \"img_size\": 512,\n",
    "    \"model_name\": \"tf_efficientnet_b0_ns\",\n",
    "    \"num_classes\": 5,\n",
    "    \"valid_batch_size\": 64,\n",
    "    \"device\": torch.device(\"cuda:0\" if torch.cuda.is_available() else \"cpu\"),\n",
    "}"
   ]
  },
  {
   "cell_type": "markdown",
   "id": "d95b0faf",
   "metadata": {
    "papermill": {
     "duration": 0.005539,
     "end_time": "2023-10-21T10:30:40.390082",
     "exception": false,
     "start_time": "2023-10-21T10:30:40.384543",
     "status": "completed"
    },
    "tags": []
   },
   "source": [
    "## 1. Data Preparation"
   ]
  },
  {
   "cell_type": "code",
   "execution_count": 4,
   "id": "217aadad",
   "metadata": {
    "execution": {
     "iopub.execute_input": "2023-10-21T10:30:40.403336Z",
     "iopub.status.busy": "2023-10-21T10:30:40.402912Z",
     "iopub.status.idle": "2023-10-21T10:30:40.410163Z",
     "shell.execute_reply": "2023-10-21T10:30:40.408576Z"
    },
    "papermill": {
     "duration": 0.016846,
     "end_time": "2023-10-21T10:30:40.412726",
     "exception": false,
     "start_time": "2023-10-21T10:30:40.395880",
     "status": "completed"
    },
    "tags": []
   },
   "outputs": [],
   "source": [
    "ROOT_DIR = '/kaggle/input/UBC-OCEAN'\n",
    "TRAIN_DIR = '/kaggle/input/UBC-OCEAN/train_thumbnails'\n",
    "TEST_DIR = '/kaggle/input/UBC-OCEAN/test_thumbnails'\n",
    "ALT_TEST_DIR = '/kaggle/input/UBC-OCEAN/test_images'\n",
    "\n",
    "\n",
    "def get_train_file_path(image_id):\n",
    "    return f\"{TRAIN_DIR}/{image_id}_thumbnail.png\"\n",
    "\n",
    "\n",
    "def get_test_file_path(image_id):\n",
    "    #if os.path.exists(f\"{TEST_DIR}/{image_id}_thumbnail.png\"):\n",
    "    #    return f\"{TEST_DIR}/{image_id}_thumbnail.png\"\n",
    "    #else:\n",
    "    #    return f\"{ALT_TEST_DIR}/{image_id}.png\"\n",
    "    return f\"{ALT_TEST_DIR}/{image_id}.png\"\n",
    "\n"
   ]
  },
  {
   "cell_type": "code",
   "execution_count": 5,
   "id": "bf4bf6ae",
   "metadata": {
    "execution": {
     "iopub.execute_input": "2023-10-21T10:30:40.426287Z",
     "iopub.status.busy": "2023-10-21T10:30:40.425864Z",
     "iopub.status.idle": "2023-10-21T10:30:40.432739Z",
     "shell.execute_reply": "2023-10-21T10:30:40.431620Z"
    },
    "papermill": {
     "duration": 0.016651,
     "end_time": "2023-10-21T10:30:40.435118",
     "exception": false,
     "start_time": "2023-10-21T10:30:40.418467",
     "status": "completed"
    },
    "tags": []
   },
   "outputs": [],
   "source": [
    "train_images = sorted(glob.glob(f\"{TRAIN_DIR}/*.png\"))\n",
    "# train_images"
   ]
  },
  {
   "cell_type": "code",
   "execution_count": 6,
   "id": "75b7ea5a",
   "metadata": {
    "execution": {
     "iopub.execute_input": "2023-10-21T10:30:40.448978Z",
     "iopub.status.busy": "2023-10-21T10:30:40.448576Z",
     "iopub.status.idle": "2023-10-21T10:30:40.491009Z",
     "shell.execute_reply": "2023-10-21T10:30:40.489578Z"
    },
    "papermill": {
     "duration": 0.051805,
     "end_time": "2023-10-21T10:30:40.493299",
     "exception": false,
     "start_time": "2023-10-21T10:30:40.441494",
     "status": "completed"
    },
    "tags": []
   },
   "outputs": [
    {
     "name": "stdout",
     "output_type": "stream",
     "text": [
      "(538, 5)\n"
     ]
    },
    {
     "data": {
      "text/html": [
       "<div>\n",
       "<style scoped>\n",
       "    .dataframe tbody tr th:only-of-type {\n",
       "        vertical-align: middle;\n",
       "    }\n",
       "\n",
       "    .dataframe tbody tr th {\n",
       "        vertical-align: top;\n",
       "    }\n",
       "\n",
       "    .dataframe thead th {\n",
       "        text-align: right;\n",
       "    }\n",
       "</style>\n",
       "<table border=\"1\" class=\"dataframe\">\n",
       "  <thead>\n",
       "    <tr style=\"text-align: right;\">\n",
       "      <th></th>\n",
       "      <th>image_id</th>\n",
       "      <th>label</th>\n",
       "      <th>image_width</th>\n",
       "      <th>image_height</th>\n",
       "      <th>is_tma</th>\n",
       "    </tr>\n",
       "  </thead>\n",
       "  <tbody>\n",
       "    <tr>\n",
       "      <th>0</th>\n",
       "      <td>4</td>\n",
       "      <td>HGSC</td>\n",
       "      <td>23785</td>\n",
       "      <td>20008</td>\n",
       "      <td>False</td>\n",
       "    </tr>\n",
       "    <tr>\n",
       "      <th>1</th>\n",
       "      <td>66</td>\n",
       "      <td>LGSC</td>\n",
       "      <td>48871</td>\n",
       "      <td>48195</td>\n",
       "      <td>False</td>\n",
       "    </tr>\n",
       "    <tr>\n",
       "      <th>2</th>\n",
       "      <td>91</td>\n",
       "      <td>HGSC</td>\n",
       "      <td>3388</td>\n",
       "      <td>3388</td>\n",
       "      <td>True</td>\n",
       "    </tr>\n",
       "    <tr>\n",
       "      <th>3</th>\n",
       "      <td>281</td>\n",
       "      <td>LGSC</td>\n",
       "      <td>42309</td>\n",
       "      <td>15545</td>\n",
       "      <td>False</td>\n",
       "    </tr>\n",
       "    <tr>\n",
       "      <th>4</th>\n",
       "      <td>286</td>\n",
       "      <td>EC</td>\n",
       "      <td>37204</td>\n",
       "      <td>30020</td>\n",
       "      <td>False</td>\n",
       "    </tr>\n",
       "  </tbody>\n",
       "</table>\n",
       "</div>"
      ],
      "text/plain": [
       "   image_id label  image_width  image_height  is_tma\n",
       "0         4  HGSC        23785         20008   False\n",
       "1        66  LGSC        48871         48195   False\n",
       "2        91  HGSC         3388          3388    True\n",
       "3       281  LGSC        42309         15545   False\n",
       "4       286    EC        37204         30020   False"
      ]
     },
     "execution_count": 6,
     "metadata": {},
     "output_type": "execute_result"
    }
   ],
   "source": [
    "df_train = pd.read_csv(\"/kaggle/input/UBC-OCEAN/train.csv\")\n",
    "print(df_train.shape)\n",
    "df_train.head()"
   ]
  },
  {
   "cell_type": "code",
   "execution_count": 7,
   "id": "f323c9fe",
   "metadata": {
    "execution": {
     "iopub.execute_input": "2023-10-21T10:30:40.507585Z",
     "iopub.status.busy": "2023-10-21T10:30:40.507196Z",
     "iopub.status.idle": "2023-10-21T10:30:40.524169Z",
     "shell.execute_reply": "2023-10-21T10:30:40.522800Z"
    },
    "papermill": {
     "duration": 0.027071,
     "end_time": "2023-10-21T10:30:40.526620",
     "exception": false,
     "start_time": "2023-10-21T10:30:40.499549",
     "status": "completed"
    },
    "tags": []
   },
   "outputs": [
    {
     "data": {
      "text/plain": [
       "(513, 6)"
      ]
     },
     "execution_count": 7,
     "metadata": {},
     "output_type": "execute_result"
    }
   ],
   "source": [
    "df_train['file_path'] = df_train['image_id'].apply(get_train_file_path)\n",
    "# only consider WSI / Thumbnail images\n",
    "df_train = df_train[ df_train[\"file_path\"].isin(train_images) ].reset_index(drop=True)\n",
    "df_train.shape"
   ]
  },
  {
   "cell_type": "code",
   "execution_count": 8,
   "id": "76bb8119",
   "metadata": {
    "execution": {
     "iopub.execute_input": "2023-10-21T10:30:40.540732Z",
     "iopub.status.busy": "2023-10-21T10:30:40.540354Z",
     "iopub.status.idle": "2023-10-21T10:30:40.559312Z",
     "shell.execute_reply": "2023-10-21T10:30:40.557935Z"
    },
    "papermill": {
     "duration": 0.029234,
     "end_time": "2023-10-21T10:30:40.562086",
     "exception": false,
     "start_time": "2023-10-21T10:30:40.532852",
     "status": "completed"
    },
    "tags": []
   },
   "outputs": [
    {
     "data": {
      "text/html": [
       "<div>\n",
       "<style scoped>\n",
       "    .dataframe tbody tr th:only-of-type {\n",
       "        vertical-align: middle;\n",
       "    }\n",
       "\n",
       "    .dataframe tbody tr th {\n",
       "        vertical-align: top;\n",
       "    }\n",
       "\n",
       "    .dataframe thead th {\n",
       "        text-align: right;\n",
       "    }\n",
       "</style>\n",
       "<table border=\"1\" class=\"dataframe\">\n",
       "  <thead>\n",
       "    <tr style=\"text-align: right;\">\n",
       "      <th></th>\n",
       "      <th>image_id</th>\n",
       "      <th>image_width</th>\n",
       "      <th>image_height</th>\n",
       "      <th>file_path</th>\n",
       "      <th>target_label</th>\n",
       "    </tr>\n",
       "  </thead>\n",
       "  <tbody>\n",
       "    <tr>\n",
       "      <th>0</th>\n",
       "      <td>41</td>\n",
       "      <td>28469</td>\n",
       "      <td>16987</td>\n",
       "      <td>/kaggle/input/UBC-OCEAN/test_images/41.png</td>\n",
       "      <td>0</td>\n",
       "    </tr>\n",
       "  </tbody>\n",
       "</table>\n",
       "</div>"
      ],
      "text/plain": [
       "   image_id  image_width  image_height  \\\n",
       "0        41        28469         16987   \n",
       "\n",
       "                                    file_path  target_label  \n",
       "0  /kaggle/input/UBC-OCEAN/test_images/41.png             0  "
      ]
     },
     "execution_count": 8,
     "metadata": {},
     "output_type": "execute_result"
    }
   ],
   "source": [
    "df_test = pd.read_csv(\"/kaggle/input/UBC-OCEAN/test.csv\")\n",
    "df_test['file_path'] = df_test['image_id'].apply(get_test_file_path)\n",
    "df_test[\"target_label\"] = 0 \n",
    "df_test"
   ]
  },
  {
   "cell_type": "code",
   "execution_count": 9,
   "id": "9ed49a14",
   "metadata": {
    "execution": {
     "iopub.execute_input": "2023-10-21T10:30:40.576527Z",
     "iopub.status.busy": "2023-10-21T10:30:40.576073Z",
     "iopub.status.idle": "2023-10-21T10:30:40.591897Z",
     "shell.execute_reply": "2023-10-21T10:30:40.590740Z"
    },
    "papermill": {
     "duration": 0.025448,
     "end_time": "2023-10-21T10:30:40.594051",
     "exception": false,
     "start_time": "2023-10-21T10:30:40.568603",
     "status": "completed"
    },
    "tags": []
   },
   "outputs": [
    {
     "data": {
      "text/html": [
       "<div>\n",
       "<style scoped>\n",
       "    .dataframe tbody tr th:only-of-type {\n",
       "        vertical-align: middle;\n",
       "    }\n",
       "\n",
       "    .dataframe tbody tr th {\n",
       "        vertical-align: top;\n",
       "    }\n",
       "\n",
       "    .dataframe thead th {\n",
       "        text-align: right;\n",
       "    }\n",
       "</style>\n",
       "<table border=\"1\" class=\"dataframe\">\n",
       "  <thead>\n",
       "    <tr style=\"text-align: right;\">\n",
       "      <th></th>\n",
       "      <th>image_id</th>\n",
       "      <th>label</th>\n",
       "      <th>image_width</th>\n",
       "      <th>image_height</th>\n",
       "      <th>is_tma</th>\n",
       "      <th>file_path</th>\n",
       "      <th>target_label</th>\n",
       "    </tr>\n",
       "  </thead>\n",
       "  <tbody>\n",
       "    <tr>\n",
       "      <th>0</th>\n",
       "      <td>4</td>\n",
       "      <td>HGSC</td>\n",
       "      <td>23785</td>\n",
       "      <td>20008</td>\n",
       "      <td>False</td>\n",
       "      <td>/kaggle/input/UBC-OCEAN/train_thumbnails/4_thu...</td>\n",
       "      <td>2</td>\n",
       "    </tr>\n",
       "    <tr>\n",
       "      <th>1</th>\n",
       "      <td>66</td>\n",
       "      <td>LGSC</td>\n",
       "      <td>48871</td>\n",
       "      <td>48195</td>\n",
       "      <td>False</td>\n",
       "      <td>/kaggle/input/UBC-OCEAN/train_thumbnails/66_th...</td>\n",
       "      <td>3</td>\n",
       "    </tr>\n",
       "    <tr>\n",
       "      <th>2</th>\n",
       "      <td>281</td>\n",
       "      <td>LGSC</td>\n",
       "      <td>42309</td>\n",
       "      <td>15545</td>\n",
       "      <td>False</td>\n",
       "      <td>/kaggle/input/UBC-OCEAN/train_thumbnails/281_t...</td>\n",
       "      <td>3</td>\n",
       "    </tr>\n",
       "    <tr>\n",
       "      <th>3</th>\n",
       "      <td>286</td>\n",
       "      <td>EC</td>\n",
       "      <td>37204</td>\n",
       "      <td>30020</td>\n",
       "      <td>False</td>\n",
       "      <td>/kaggle/input/UBC-OCEAN/train_thumbnails/286_t...</td>\n",
       "      <td>1</td>\n",
       "    </tr>\n",
       "    <tr>\n",
       "      <th>4</th>\n",
       "      <td>431</td>\n",
       "      <td>HGSC</td>\n",
       "      <td>39991</td>\n",
       "      <td>40943</td>\n",
       "      <td>False</td>\n",
       "      <td>/kaggle/input/UBC-OCEAN/train_thumbnails/431_t...</td>\n",
       "      <td>2</td>\n",
       "    </tr>\n",
       "  </tbody>\n",
       "</table>\n",
       "</div>"
      ],
      "text/plain": [
       "   image_id label  image_width  image_height  is_tma  \\\n",
       "0         4  HGSC        23785         20008   False   \n",
       "1        66  LGSC        48871         48195   False   \n",
       "2       281  LGSC        42309         15545   False   \n",
       "3       286    EC        37204         30020   False   \n",
       "4       431  HGSC        39991         40943   False   \n",
       "\n",
       "                                           file_path  target_label  \n",
       "0  /kaggle/input/UBC-OCEAN/train_thumbnails/4_thu...             2  \n",
       "1  /kaggle/input/UBC-OCEAN/train_thumbnails/66_th...             3  \n",
       "2  /kaggle/input/UBC-OCEAN/train_thumbnails/281_t...             3  \n",
       "3  /kaggle/input/UBC-OCEAN/train_thumbnails/286_t...             1  \n",
       "4  /kaggle/input/UBC-OCEAN/train_thumbnails/431_t...             2  "
      ]
     },
     "execution_count": 9,
     "metadata": {},
     "output_type": "execute_result"
    }
   ],
   "source": [
    "# encode to numericalt target\n",
    "encoder = LabelEncoder()\n",
    "df_train['target_label'] = encoder.fit_transform(df_train['label'])\n",
    "\n",
    "# save encoder\n",
    "with open(\"label_encoder.pkl\", \"wb\") as fp:\n",
    "    joblib.dump(encoder, fp)\n",
    "    \n",
    "df_train.head()"
   ]
  },
  {
   "cell_type": "code",
   "execution_count": 10,
   "id": "4a7714ad",
   "metadata": {
    "execution": {
     "iopub.execute_input": "2023-10-21T10:30:40.609047Z",
     "iopub.status.busy": "2023-10-21T10:30:40.608626Z",
     "iopub.status.idle": "2023-10-21T10:30:40.632133Z",
     "shell.execute_reply": "2023-10-21T10:30:40.630842Z"
    },
    "papermill": {
     "duration": 0.034043,
     "end_time": "2023-10-21T10:30:40.634775",
     "exception": false,
     "start_time": "2023-10-21T10:30:40.600732",
     "status": "completed"
    },
    "tags": []
   },
   "outputs": [
    {
     "data": {
      "text/html": [
       "<div>\n",
       "<style scoped>\n",
       "    .dataframe tbody tr th:only-of-type {\n",
       "        vertical-align: middle;\n",
       "    }\n",
       "\n",
       "    .dataframe tbody tr th {\n",
       "        vertical-align: top;\n",
       "    }\n",
       "\n",
       "    .dataframe thead th {\n",
       "        text-align: right;\n",
       "    }\n",
       "</style>\n",
       "<table border=\"1\" class=\"dataframe\">\n",
       "  <thead>\n",
       "    <tr style=\"text-align: right;\">\n",
       "      <th></th>\n",
       "      <th>image_id</th>\n",
       "      <th>label</th>\n",
       "      <th>image_width</th>\n",
       "      <th>image_height</th>\n",
       "      <th>is_tma</th>\n",
       "      <th>file_path</th>\n",
       "      <th>target_label</th>\n",
       "      <th>kfold</th>\n",
       "    </tr>\n",
       "  </thead>\n",
       "  <tbody>\n",
       "    <tr>\n",
       "      <th>0</th>\n",
       "      <td>4</td>\n",
       "      <td>HGSC</td>\n",
       "      <td>23785</td>\n",
       "      <td>20008</td>\n",
       "      <td>False</td>\n",
       "      <td>/kaggle/input/UBC-OCEAN/train_thumbnails/4_thu...</td>\n",
       "      <td>2</td>\n",
       "      <td>4.0</td>\n",
       "    </tr>\n",
       "    <tr>\n",
       "      <th>1</th>\n",
       "      <td>66</td>\n",
       "      <td>LGSC</td>\n",
       "      <td>48871</td>\n",
       "      <td>48195</td>\n",
       "      <td>False</td>\n",
       "      <td>/kaggle/input/UBC-OCEAN/train_thumbnails/66_th...</td>\n",
       "      <td>3</td>\n",
       "      <td>1.0</td>\n",
       "    </tr>\n",
       "    <tr>\n",
       "      <th>2</th>\n",
       "      <td>281</td>\n",
       "      <td>LGSC</td>\n",
       "      <td>42309</td>\n",
       "      <td>15545</td>\n",
       "      <td>False</td>\n",
       "      <td>/kaggle/input/UBC-OCEAN/train_thumbnails/281_t...</td>\n",
       "      <td>3</td>\n",
       "      <td>4.0</td>\n",
       "    </tr>\n",
       "    <tr>\n",
       "      <th>3</th>\n",
       "      <td>286</td>\n",
       "      <td>EC</td>\n",
       "      <td>37204</td>\n",
       "      <td>30020</td>\n",
       "      <td>False</td>\n",
       "      <td>/kaggle/input/UBC-OCEAN/train_thumbnails/286_t...</td>\n",
       "      <td>1</td>\n",
       "      <td>2.0</td>\n",
       "    </tr>\n",
       "    <tr>\n",
       "      <th>4</th>\n",
       "      <td>431</td>\n",
       "      <td>HGSC</td>\n",
       "      <td>39991</td>\n",
       "      <td>40943</td>\n",
       "      <td>False</td>\n",
       "      <td>/kaggle/input/UBC-OCEAN/train_thumbnails/431_t...</td>\n",
       "      <td>2</td>\n",
       "      <td>4.0</td>\n",
       "    </tr>\n",
       "  </tbody>\n",
       "</table>\n",
       "</div>"
      ],
      "text/plain": [
       "   image_id label  image_width  image_height  is_tma  \\\n",
       "0         4  HGSC        23785         20008   False   \n",
       "1        66  LGSC        48871         48195   False   \n",
       "2       281  LGSC        42309         15545   False   \n",
       "3       286    EC        37204         30020   False   \n",
       "4       431  HGSC        39991         40943   False   \n",
       "\n",
       "                                           file_path  target_label  kfold  \n",
       "0  /kaggle/input/UBC-OCEAN/train_thumbnails/4_thu...             2    4.0  \n",
       "1  /kaggle/input/UBC-OCEAN/train_thumbnails/66_th...             3    1.0  \n",
       "2  /kaggle/input/UBC-OCEAN/train_thumbnails/281_t...             3    4.0  \n",
       "3  /kaggle/input/UBC-OCEAN/train_thumbnails/286_t...             1    2.0  \n",
       "4  /kaggle/input/UBC-OCEAN/train_thumbnails/431_t...             2    4.0  "
      ]
     },
     "execution_count": 10,
     "metadata": {},
     "output_type": "execute_result"
    }
   ],
   "source": [
    "# use stratified K Fold for crossvalidation \n",
    "skf = StratifiedKFold(n_splits=CONFIG['n_fold'], shuffle=True, random_state=CONFIG[\"seed\"])\n",
    "\n",
    "for fold, ( _, val_) in enumerate(skf.split(X=df_train, y=df_train.target_label)):\n",
    "    df_train.loc[val_ , \"kfold\"] = int(fold)\n",
    "df_train.head()\n"
   ]
  },
  {
   "cell_type": "code",
   "execution_count": 11,
   "id": "c4a23fb3",
   "metadata": {
    "execution": {
     "iopub.execute_input": "2023-10-21T10:30:40.649878Z",
     "iopub.status.busy": "2023-10-21T10:30:40.649475Z",
     "iopub.status.idle": "2023-10-21T10:30:40.657167Z",
     "shell.execute_reply": "2023-10-21T10:30:40.656283Z"
    },
    "papermill": {
     "duration": 0.017846,
     "end_time": "2023-10-21T10:30:40.659400",
     "exception": false,
     "start_time": "2023-10-21T10:30:40.641554",
     "status": "completed"
    },
    "tags": []
   },
   "outputs": [],
   "source": [
    "from torch.utils.data import Dataset, DataLoader\n",
    "\n",
    "class UBCDataset(Dataset):\n",
    "    def __init__(self, df, transforms=None):\n",
    "        self.df = df\n",
    "        self.filenames = df.file_path.values\n",
    "        self.labels =  df.target_label.values\n",
    "        self.transforms = transforms\n",
    "\n",
    "    def __len__(self):\n",
    "        return len(self.df)\n",
    "\n",
    "    def __getitem__(self, idx):\n",
    "        img_path = self.filenames[idx]\n",
    "        img = cv2.imread(img_path)\n",
    "        img = cv2.cvtColor(img, cv2.COLOR_BGR2RGB)\n",
    "        \n",
    "        if self.transforms:\n",
    "            img = self.transforms(image=img)[\"image\"]\n",
    "            \n",
    "        return {\n",
    "            \"image\": img,\n",
    "            \"label\": torch.tensor(self.labels[idx], dtype=torch.long)\n",
    "               }\n",
    "        "
   ]
  },
  {
   "cell_type": "code",
   "execution_count": 12,
   "id": "cb14f0c2",
   "metadata": {
    "execution": {
     "iopub.execute_input": "2023-10-21T10:30:40.675162Z",
     "iopub.status.busy": "2023-10-21T10:30:40.674760Z",
     "iopub.status.idle": "2023-10-21T10:30:41.934924Z",
     "shell.execute_reply": "2023-10-21T10:30:41.933417Z"
    },
    "papermill": {
     "duration": 1.271516,
     "end_time": "2023-10-21T10:30:41.937830",
     "exception": false,
     "start_time": "2023-10-21T10:30:40.666314",
     "status": "completed"
    },
    "tags": []
   },
   "outputs": [],
   "source": [
    "# Albumentations for augmentations\n",
    "import albumentations as A\n",
    "from albumentations.pytorch import ToTensorV2\n",
    "\n",
    "data_transforms = {\n",
    "    \"valid\": A.Compose([\n",
    "        A.Resize(CONFIG['img_size'], CONFIG['img_size']),\n",
    "        A.Normalize(\n",
    "                mean=[0.485, 0.456, 0.406], \n",
    "                std=[0.229, 0.224, 0.225], \n",
    "                max_pixel_value=255.0, \n",
    "                p=1.0\n",
    "            ),\n",
    "        ToTensorV2()], p=1.)\n",
    "}\n",
    "\n"
   ]
  },
  {
   "cell_type": "code",
   "execution_count": null,
   "id": "ccdba1f4",
   "metadata": {
    "papermill": {
     "duration": 0.00651,
     "end_time": "2023-10-21T10:30:41.951338",
     "exception": false,
     "start_time": "2023-10-21T10:30:41.944828",
     "status": "completed"
    },
    "tags": []
   },
   "outputs": [],
   "source": [
    "\n"
   ]
  },
  {
   "cell_type": "markdown",
   "id": "ae2d4542",
   "metadata": {
    "papermill": {
     "duration": 0.006888,
     "end_time": "2023-10-21T10:30:41.964861",
     "exception": false,
     "start_time": "2023-10-21T10:30:41.957973",
     "status": "completed"
    },
    "tags": []
   },
   "source": [
    "## 2. Model Creation"
   ]
  },
  {
   "cell_type": "code",
   "execution_count": 13,
   "id": "91377326",
   "metadata": {
    "execution": {
     "iopub.execute_input": "2023-10-21T10:30:41.980973Z",
     "iopub.status.busy": "2023-10-21T10:30:41.980396Z",
     "iopub.status.idle": "2023-10-21T10:30:42.524609Z",
     "shell.execute_reply": "2023-10-21T10:30:42.523639Z"
    },
    "papermill": {
     "duration": 0.55564,
     "end_time": "2023-10-21T10:30:42.527352",
     "exception": false,
     "start_time": "2023-10-21T10:30:41.971712",
     "status": "completed"
    },
    "tags": []
   },
   "outputs": [
    {
     "name": "stderr",
     "output_type": "stream",
     "text": [
      "/opt/conda/lib/python3.10/site-packages/timm/models/_factory.py:114: UserWarning: Mapping deprecated model name tf_efficientnet_b0_ns to current tf_efficientnet_b0.ns_jft_in1k.\n",
      "  model = create_fn(\n"
     ]
    }
   ],
   "source": [
    "class GeM(nn.Module):\n",
    "    def __init__(self, p=3, eps=1e-6):\n",
    "        super(GeM, self).__init__()\n",
    "        self.p = nn.Parameter(torch.ones(1)*p)\n",
    "        self.eps = eps\n",
    "\n",
    "    def forward(self, x):\n",
    "        return self.gem(x, p=self.p, eps=self.eps)\n",
    "        \n",
    "    def gem(self, x, p=3, eps=1e-6):\n",
    "        return F.avg_pool2d(x.clamp(min=eps).pow(p), (x.size(-2), x.size(-1))).pow(1./p)\n",
    "        \n",
    "    def __repr__(self):\n",
    "        return self.__class__.__name__ + \\\n",
    "                '(' + 'p=' + '{:.4f}'.format(self.p.data.tolist()[0]) + \\\n",
    "                ', ' + 'eps=' + str(self.eps) + ')'\n",
    "\n",
    "\n",
    "class EfficientNetB0(nn.Module):\n",
    "    '''\n",
    "    EfficientNet B0 fine-tune.\n",
    "    '''\n",
    "    def __init__(self, model_name, num_classes, pretrained=False, checkpoint_path=None):\n",
    "        '''\n",
    "        Fine tune for EfficientNetB0\n",
    "        Args\n",
    "            n_classes : int - Number of classification categories.\n",
    "            learnable_modules : tuple - Names of the modules to fine-tune.\n",
    "        Return\n",
    "            \n",
    "        '''\n",
    "        super(EfficientNetB0, self).__init__()\n",
    "        self.model = timm.create_model(model_name, pretrained=pretrained, checkpoint_path=checkpoint_path)\n",
    "\n",
    "        in_features = self.model.classifier.in_features\n",
    "        self.model.classifier = nn.Identity()\n",
    "        self.model.global_pool = nn.Identity()\n",
    "        self.pooling = GeM()\n",
    "        self.linear = nn.Linear(in_features, num_classes)\n",
    "        self.softmax = nn.Softmax(dim=1)\n",
    "\n",
    "    def forward(self, images):\n",
    "        \"\"\"\n",
    "        Forward function for the fine-tuned model\n",
    "        Args\n",
    "            x: \n",
    "        Return\n",
    "            result\n",
    "        \"\"\"\n",
    "        features = self.model(images)\n",
    "        pooled_features = self.pooling(features).flatten(1)\n",
    "        output = self.linear(pooled_features)\n",
    "        return output\n",
    "\n",
    "BEST_WEIGHT = checkpoint_path='//kaggle/input/tf-efficientnet-b0-aa-827b6e33-pth/tf_efficientnet_b0_aa-827b6e33.pth'\n",
    "model = EfficientNetB0(CONFIG['model_name'], CONFIG['num_classes'], pretrained=False , checkpoint_path=checkpoint_path)\n",
    "weights = torch.load( BEST_WEIGHT )\n",
    "# model.load_state_dict(weights)\n",
    "model.to(CONFIG['device']);\n",
    "\n",
    "\n",
    "# model = timm.create_model('tf_efficientnet_b0', checkpoint_path='//kaggle/input/tf-efficientnet-b0-aa-827b6e33-pth/tf_efficientnet_b0_aa-827b6e33.pth')\n",
    "# model.eval()\n",
    "# model.state_dict()"
   ]
  },
  {
   "cell_type": "code",
   "execution_count": 14,
   "id": "f3ebab27",
   "metadata": {
    "execution": {
     "iopub.execute_input": "2023-10-21T10:30:42.544801Z",
     "iopub.status.busy": "2023-10-21T10:30:42.543666Z",
     "iopub.status.idle": "2023-10-21T10:30:42.548419Z",
     "shell.execute_reply": "2023-10-21T10:30:42.547383Z"
    },
    "papermill": {
     "duration": 0.016158,
     "end_time": "2023-10-21T10:30:42.550639",
     "exception": false,
     "start_time": "2023-10-21T10:30:42.534481",
     "status": "completed"
    },
    "tags": []
   },
   "outputs": [],
   "source": [
    "# Inspect the weights of the model\n",
    "# for name, parameter in model.named_parameters():\n",
    "#     print(f'{name}: {parameter.shape}')\n",
    "# model.state_dict()\n"
   ]
  },
  {
   "cell_type": "code",
   "execution_count": 15,
   "id": "b37711df",
   "metadata": {
    "execution": {
     "iopub.execute_input": "2023-10-21T10:30:42.568229Z",
     "iopub.status.busy": "2023-10-21T10:30:42.566870Z",
     "iopub.status.idle": "2023-10-21T10:30:42.574035Z",
     "shell.execute_reply": "2023-10-21T10:30:42.573106Z"
    },
    "papermill": {
     "duration": 0.018695,
     "end_time": "2023-10-21T10:30:42.576348",
     "exception": false,
     "start_time": "2023-10-21T10:30:42.557653",
     "status": "completed"
    },
    "tags": []
   },
   "outputs": [],
   "source": [
    "\n",
    "\n",
    "train_dataset = UBCDataset(df_train, transforms=data_transforms[\"valid\"])\n",
    "train_loader = DataLoader(train_dataset, batch_size=CONFIG['valid_batch_size'], \n",
    "                          num_workers=2, shuffle=False, pin_memory=True)\n",
    "\n",
    "test_dataset = UBCDataset(df_test, transforms=data_transforms[\"valid\"])\n",
    "test_loader = DataLoader(test_dataset, batch_size=CONFIG['valid_batch_size'], \n",
    "                          num_workers=2, shuffle=False, pin_memory=True)\n"
   ]
  },
  {
   "cell_type": "code",
   "execution_count": 16,
   "id": "4d449393",
   "metadata": {
    "execution": {
     "iopub.execute_input": "2023-10-21T10:30:42.593461Z",
     "iopub.status.busy": "2023-10-21T10:30:42.592659Z",
     "iopub.status.idle": "2023-10-21T10:31:04.448962Z",
     "shell.execute_reply": "2023-10-21T10:31:04.447136Z"
    },
    "papermill": {
     "duration": 21.868127,
     "end_time": "2023-10-21T10:31:04.451990",
     "exception": false,
     "start_time": "2023-10-21T10:30:42.583863",
     "status": "completed"
    },
    "tags": []
   },
   "outputs": [
    {
     "name": "stderr",
     "output_type": "stream",
     "text": [
      "100%|██████████| 1/1 [00:21<00:00, 21.80s/it]\n"
     ]
    }
   ],
   "source": [
    "preds = []\n",
    "with torch.no_grad():\n",
    "    bar = tqdm(enumerate(test_loader), total=len(test_loader))\n",
    "    for step, data in bar: \n",
    "        # print(step)\n",
    "        images = data['image'].to(CONFIG[\"device\"], dtype=torch.float)        \n",
    "        batch_size = images.size(0)\n",
    "        outputs = model(images)\n",
    "        _, predicted = torch.max(model.softmax(outputs), 1)\n",
    "        preds.append( predicted.detach().cpu().numpy() )\n",
    "preds = np.concatenate(preds).flatten()\n",
    "pred_labels = encoder.inverse_transform( preds )"
   ]
  },
  {
   "cell_type": "code",
   "execution_count": 17,
   "id": "83e4f8d0",
   "metadata": {
    "execution": {
     "iopub.execute_input": "2023-10-21T10:31:04.469719Z",
     "iopub.status.busy": "2023-10-21T10:31:04.469294Z",
     "iopub.status.idle": "2023-10-21T10:31:04.487482Z",
     "shell.execute_reply": "2023-10-21T10:31:04.486269Z"
    },
    "papermill": {
     "duration": 0.029959,
     "end_time": "2023-10-21T10:31:04.489934",
     "exception": false,
     "start_time": "2023-10-21T10:31:04.459975",
     "status": "completed"
    },
    "tags": []
   },
   "outputs": [],
   "source": [
    "df_sub = pd.read_csv(f\"{ROOT_DIR}/sample_submission.csv\")\n",
    "\n",
    "df_sub[\"label\"] = pred_labels\n",
    "df_sub.to_csv(\"submission.csv\", index=False)"
   ]
  },
  {
   "cell_type": "code",
   "execution_count": 18,
   "id": "df9cb21d",
   "metadata": {
    "execution": {
     "iopub.execute_input": "2023-10-21T10:31:04.506604Z",
     "iopub.status.busy": "2023-10-21T10:31:04.506233Z",
     "iopub.status.idle": "2023-10-21T10:31:04.517263Z",
     "shell.execute_reply": "2023-10-21T10:31:04.516065Z"
    },
    "papermill": {
     "duration": 0.022233,
     "end_time": "2023-10-21T10:31:04.519799",
     "exception": false,
     "start_time": "2023-10-21T10:31:04.497566",
     "status": "completed"
    },
    "tags": []
   },
   "outputs": [
    {
     "data": {
      "text/html": [
       "<div>\n",
       "<style scoped>\n",
       "    .dataframe tbody tr th:only-of-type {\n",
       "        vertical-align: middle;\n",
       "    }\n",
       "\n",
       "    .dataframe tbody tr th {\n",
       "        vertical-align: top;\n",
       "    }\n",
       "\n",
       "    .dataframe thead th {\n",
       "        text-align: right;\n",
       "    }\n",
       "</style>\n",
       "<table border=\"1\" class=\"dataframe\">\n",
       "  <thead>\n",
       "    <tr style=\"text-align: right;\">\n",
       "      <th></th>\n",
       "      <th>image_id</th>\n",
       "      <th>label</th>\n",
       "    </tr>\n",
       "  </thead>\n",
       "  <tbody>\n",
       "    <tr>\n",
       "      <th>0</th>\n",
       "      <td>41</td>\n",
       "      <td>MC</td>\n",
       "    </tr>\n",
       "  </tbody>\n",
       "</table>\n",
       "</div>"
      ],
      "text/plain": [
       "   image_id label\n",
       "0        41    MC"
      ]
     },
     "execution_count": 18,
     "metadata": {},
     "output_type": "execute_result"
    }
   ],
   "source": [
    "df_sub"
   ]
  },
  {
   "cell_type": "code",
   "execution_count": null,
   "id": "6008cbae",
   "metadata": {
    "papermill": {
     "duration": 0.007253,
     "end_time": "2023-10-21T10:31:04.534342",
     "exception": false,
     "start_time": "2023-10-21T10:31:04.527089",
     "status": "completed"
    },
    "tags": []
   },
   "outputs": [],
   "source": []
  },
  {
   "cell_type": "code",
   "execution_count": null,
   "id": "9097fdc7",
   "metadata": {
    "papermill": {
     "duration": 0.007004,
     "end_time": "2023-10-21T10:31:04.548747",
     "exception": false,
     "start_time": "2023-10-21T10:31:04.541743",
     "status": "completed"
    },
    "tags": []
   },
   "outputs": [],
   "source": []
  }
 ],
 "metadata": {
  "kernelspec": {
   "display_name": "Python 3",
   "language": "python",
   "name": "python3"
  },
  "language_info": {
   "codemirror_mode": {
    "name": "ipython",
    "version": 3
   },
   "file_extension": ".py",
   "mimetype": "text/x-python",
   "name": "python",
   "nbconvert_exporter": "python",
   "pygments_lexer": "ipython3",
   "version": "3.10.12"
  },
  "papermill": {
   "default_parameters": {},
   "duration": 37.997172,
   "end_time": "2023-10-21T10:31:06.181792",
   "environment_variables": {},
   "exception": null,
   "input_path": "__notebook__.ipynb",
   "output_path": "__notebook__.ipynb",
   "parameters": {},
   "start_time": "2023-10-21T10:30:28.184620",
   "version": "2.4.0"
  }
 },
 "nbformat": 4,
 "nbformat_minor": 5
}
