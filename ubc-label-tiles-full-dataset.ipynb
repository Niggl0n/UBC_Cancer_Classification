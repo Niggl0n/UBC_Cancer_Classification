{
 "cells": [
  {
   "cell_type": "markdown",
   "id": "3a0657bc",
   "metadata": {
    "papermill": {
     "duration": 0.010233,
     "end_time": "2023-12-14T08:08:54.665785",
     "exception": false,
     "start_time": "2023-12-14T08:08:54.655552",
     "status": "completed"
    },
    "tags": []
   },
   "source": [
    "# Introduction \n",
    "\n",
    "**This Notebook is used to label the tiled dataset based on cancerous vs. non-cancerous tissue**\n",
    "\n",
    "- Binary Classificatio of Tiles\n",
    "- Inference on non-labeled dataset\n",
    "- Model trained on masked (sub-)dataset"
   ]
  },
  {
   "cell_type": "code",
   "execution_count": 1,
   "id": "bcea9c02",
   "metadata": {
    "execution": {
     "iopub.execute_input": "2023-12-14T08:08:54.687031Z",
     "iopub.status.busy": "2023-12-14T08:08:54.686581Z",
     "iopub.status.idle": "2023-12-14T08:08:54.698724Z",
     "shell.execute_reply": "2023-12-14T08:08:54.697855Z"
    },
    "papermill": {
     "duration": 0.025117,
     "end_time": "2023-12-14T08:08:54.700731",
     "exception": false,
     "start_time": "2023-12-14T08:08:54.675614",
     "status": "completed"
    },
    "tags": []
   },
   "outputs": [
    {
     "data": {
      "text/plain": [
       "'!pip install --quiet mlflow dagshub\\nimport mlflow.pytorch \\nfrom mlflow import MlflowClient'"
      ]
     },
     "execution_count": 1,
     "metadata": {},
     "output_type": "execute_result"
    }
   ],
   "source": [
    "\"\"\"!pip install --quiet mlflow dagshub\n",
    "import mlflow.pytorch \n",
    "from mlflow import MlflowClient\"\"\""
   ]
  },
  {
   "cell_type": "code",
   "execution_count": 2,
   "id": "acf8dafa",
   "metadata": {
    "execution": {
     "iopub.execute_input": "2023-12-14T08:08:54.722337Z",
     "iopub.status.busy": "2023-12-14T08:08:54.722067Z",
     "iopub.status.idle": "2023-12-14T08:09:03.091008Z",
     "shell.execute_reply": "2023-12-14T08:09:03.090020Z"
    },
    "papermill": {
     "duration": 8.382392,
     "end_time": "2023-12-14T08:09:03.093415",
     "exception": false,
     "start_time": "2023-12-14T08:08:54.711023",
     "status": "completed"
    },
    "tags": []
   },
   "outputs": [
    {
     "name": "stderr",
     "output_type": "stream",
     "text": [
      "/opt/conda/lib/python3.10/site-packages/scipy/__init__.py:146: UserWarning: A NumPy version >=1.16.5 and <1.23.0 is required for this version of SciPy (detected version 1.23.5\n",
      "  warnings.warn(f\"A NumPy version >={np_minversion} and <{np_maxversion}\"\n"
     ]
    }
   ],
   "source": [
    "# Standard library imports\n",
    "import copy\n",
    "import datetime\n",
    "import gc\n",
    "import glob\n",
    "import heapq\n",
    "import joblib\n",
    "import math\n",
    "import os\n",
    "import random\n",
    "import time\n",
    "from collections import defaultdict\n",
    "from itertools import chain\n",
    "\n",
    "# Related third-party imports\n",
    "import albumentations as A\n",
    "import cv2\n",
    "import numpy as np\n",
    "import pandas as pd\n",
    "import timm\n",
    "import torch\n",
    "import torch.nn as nn\n",
    "import torch.nn.functional as F\n",
    "import torch.optim as optim\n",
    "import torchvision\n",
    "from albumentations.pytorch import ToTensorV2\n",
    "from colorama import Fore, Back, Style\n",
    "from joblib import Parallel, delayed\n",
    "from matplotlib import pyplot as plt\n",
    "from PIL import Image\n",
    "from skimage import io\n",
    "from sklearn.metrics import balanced_accuracy_score, confusion_matrix, f1_score, accuracy_score\n",
    "from sklearn.model_selection import StratifiedKFold\n",
    "from sklearn.preprocessing import LabelEncoder\n",
    "from torch.cuda import amp\n",
    "from torch.optim import lr_scheduler\n",
    "from torch.utils.data import Dataset, DataLoader\n",
    "from tqdm import tqdm, tqdm_notebook\n",
    "\n",
    "# Local application/library specific imports\n",
    "# (Your local imports here, if any)/kaggle/input/ubc-binary-cancer-tissue-classifier-wsi-0-25x/label_encoder.pkl\n",
    "\n",
    "# Set up for colored terminal text\n",
    "b_ = Fore.BLUE\n",
    "sr_ = Style.RESET_ALL\n",
    "\n",
    "# Disable warnings\n",
    "import warnings\n",
    "warnings.filterwarnings('ignore')\n",
    "os.environ['CUDA_LAUNCH_BLOCKING'] = \"1\"\n",
    "\n",
    "pd.set_option('display.max_colwidth', None)"
   ]
  },
  {
   "cell_type": "code",
   "execution_count": 3,
   "id": "827d390d",
   "metadata": {
    "execution": {
     "iopub.execute_input": "2023-12-14T08:09:03.115123Z",
     "iopub.status.busy": "2023-12-14T08:09:03.114626Z",
     "iopub.status.idle": "2023-12-14T08:09:25.445892Z",
     "shell.execute_reply": "2023-12-14T08:09:25.444986Z"
    },
    "papermill": {
     "duration": 22.344553,
     "end_time": "2023-12-14T08:09:25.448260",
     "exception": false,
     "start_time": "2023-12-14T08:09:03.103707",
     "status": "completed"
    },
    "tags": []
   },
   "outputs": [
    {
     "name": "stdout",
     "output_type": "stream",
     "text": [
      "\u001b[31mERROR: pip's dependency resolver does not currently take into account all the packages that are installed. This behaviour is the source of the following dependency conflicts.\r\n",
      "ydata-profiling 4.3.1 requires dacite>=1.8, but you have dacite 1.6.0 which is incompatible.\r\n",
      "ydata-profiling 4.3.1 requires scipy<1.11,>=1.4.1, but you have scipy 1.11.2 which is incompatible.\u001b[0m\u001b[31m\r\n",
      "\u001b[0m"
     ]
    }
   ],
   "source": [
    "from ubc_utils_infrastructure import create_img_dataframe_from_directory\n",
    "from ubc_utils_models import UBCBinaryModel\n"
   ]
  },
  {
   "cell_type": "code",
   "execution_count": 4,
   "id": "54d4f382",
   "metadata": {
    "execution": {
     "iopub.execute_input": "2023-12-14T08:09:25.472491Z",
     "iopub.status.busy": "2023-12-14T08:09:25.471136Z",
     "iopub.status.idle": "2023-12-14T08:09:25.542754Z",
     "shell.execute_reply": "2023-12-14T08:09:25.541777Z"
    },
    "papermill": {
     "duration": 0.085596,
     "end_time": "2023-12-14T08:09:25.544709",
     "exception": false,
     "start_time": "2023-12-14T08:09:25.459113",
     "status": "completed"
    },
    "tags": []
   },
   "outputs": [],
   "source": [
    "CONFIG = {\n",
    "    \"datetime_now\": datetime.datetime.now().strftime(\"%Y-%m-%d_%H-%M-%S\"), \n",
    "    \"seed\": 42,\n",
    "    \"img_size\": 512,\n",
    "    \"model_name\": \"tf_efficientnet_b0_ns\",   # \"tf_efficientnet_b0_ns\", # \"tf_efficientnetv2_s_in21ft1k\"\n",
    "    \"model_path\": \"/kaggle/input/ubc-binary-cancer-tissue-classifier-wsi-0-25x/best_model_checkpoint2023-12-13_10-55-50.pth\",\n",
    "    \"valid_batch_size\": 32,\n",
    "    \"device\": torch.device(\"cuda:0\" if torch.cuda.is_available() else \"cpu\"),\n",
    "}"
   ]
  },
  {
   "cell_type": "markdown",
   "id": "54355520",
   "metadata": {
    "papermill": {
     "duration": 0.010233,
     "end_time": "2023-12-14T08:09:25.565881",
     "exception": false,
     "start_time": "2023-12-14T08:09:25.555648",
     "status": "completed"
    },
    "tags": []
   },
   "source": [
    "## 1. Data Preparation"
   ]
  },
  {
   "cell_type": "code",
   "execution_count": 5,
   "id": "fefba925",
   "metadata": {
    "execution": {
     "iopub.execute_input": "2023-12-14T08:09:25.588487Z",
     "iopub.status.busy": "2023-12-14T08:09:25.588100Z",
     "iopub.status.idle": "2023-12-14T08:09:25.664721Z",
     "shell.execute_reply": "2023-12-14T08:09:25.663775Z"
    },
    "papermill": {
     "duration": 0.090131,
     "end_time": "2023-12-14T08:09:25.666669",
     "exception": false,
     "start_time": "2023-12-14T08:09:25.576538",
     "status": "completed"
    },
    "tags": []
   },
   "outputs": [
    {
     "name": "stdout",
     "output_type": "stream",
     "text": [
      "{'is_submission': False, 'weighted_loss': True, 'datetime_now': '2023-12-13_10-55-43', 'n_fold': 5, 'test_fold': 0, 'valid_fold': 2, 'seed': 42, 'img_size': 512, 'model_name': 'tf_efficientnet_b0_ns', 'checkpoint_path': '/kaggle/input/tf-efficientnet-b0-aa-827b6e33-pth/tf_efficientnet_b0_aa-827b6e33.pth', 'num_classes': 5, 'train_batch_size': 8, 'valid_batch_size': 8, 'n_tiles': 10, 'n_tiles_test': 10, 'num_epochs': 10, 'early_stopping': True, 'patience': 6, 'optimizer': 'adam', 'scheduler': 'CosineAnnealingLR', 'min_lr': 1e-06, 'T_max': 10, 'momentum': 0.9, 'weight_decay': 1e-05, 'learning_rate': 0.0001, 'betas': (0.9, 0.999), 'eps': 1e-08}\n"
     ]
    },
    {
     "data": {
      "text/html": [
       "<div>\n",
       "<style scoped>\n",
       "    .dataframe tbody tr th:only-of-type {\n",
       "        vertical-align: middle;\n",
       "    }\n",
       "\n",
       "    .dataframe tbody tr th {\n",
       "        vertical-align: top;\n",
       "    }\n",
       "\n",
       "    .dataframe thead th {\n",
       "        text-align: right;\n",
       "    }\n",
       "</style>\n",
       "<table border=\"1\" class=\"dataframe\">\n",
       "  <thead>\n",
       "    <tr style=\"text-align: right;\">\n",
       "      <th></th>\n",
       "      <th>image_path</th>\n",
       "      <th>label</th>\n",
       "      <th>predicted_label</th>\n",
       "      <th>prediction</th>\n",
       "      <th>probability</th>\n",
       "    </tr>\n",
       "  </thead>\n",
       "  <tbody>\n",
       "    <tr>\n",
       "      <th>0</th>\n",
       "      <td>/kaggle/input/ubc-ocean-tiles-w-masks-2048px-scale-0-25/train_images/30738/00071_26-6.png</td>\n",
       "      <td>0.0</td>\n",
       "      <td>cancer</td>\n",
       "      <td>0</td>\n",
       "      <td>0</td>\n",
       "    </tr>\n",
       "    <tr>\n",
       "      <th>1</th>\n",
       "      <td>/kaggle/input/ubc-ocean-tiles-w-masks-2048px-scale-0-25/train_images/36063/00141_31-9.png</td>\n",
       "      <td>0.0</td>\n",
       "      <td>cancer</td>\n",
       "      <td>0</td>\n",
       "      <td>0</td>\n",
       "    </tr>\n",
       "    <tr>\n",
       "      <th>2</th>\n",
       "      <td>/kaggle/input/ubc-ocean-tiles-w-masks-2048px-scale-0-25/train_images/50304/00407_11-19.png</td>\n",
       "      <td>0.0</td>\n",
       "      <td>cancer</td>\n",
       "      <td>0</td>\n",
       "      <td>0</td>\n",
       "    </tr>\n",
       "    <tr>\n",
       "      <th>3</th>\n",
       "      <td>/kaggle/input/ubc-ocean-tiles-w-masks-2048px-scale-0-25/train_images/19255/00417_30-15.png</td>\n",
       "      <td>0.0</td>\n",
       "      <td>cancer</td>\n",
       "      <td>0</td>\n",
       "      <td>0</td>\n",
       "    </tr>\n",
       "    <tr>\n",
       "      <th>4</th>\n",
       "      <td>/kaggle/input/ubc-ocean-tiles-w-masks-2048px-scale-0-25/train_images/47960/00099_8-7.png</td>\n",
       "      <td>0.0</td>\n",
       "      <td>cancer</td>\n",
       "      <td>0</td>\n",
       "      <td>0</td>\n",
       "    </tr>\n",
       "  </tbody>\n",
       "</table>\n",
       "</div>"
      ],
      "text/plain": [
       "                                                                                   image_path  \\\n",
       "0   /kaggle/input/ubc-ocean-tiles-w-masks-2048px-scale-0-25/train_images/30738/00071_26-6.png   \n",
       "1   /kaggle/input/ubc-ocean-tiles-w-masks-2048px-scale-0-25/train_images/36063/00141_31-9.png   \n",
       "2  /kaggle/input/ubc-ocean-tiles-w-masks-2048px-scale-0-25/train_images/50304/00407_11-19.png   \n",
       "3  /kaggle/input/ubc-ocean-tiles-w-masks-2048px-scale-0-25/train_images/19255/00417_30-15.png   \n",
       "4    /kaggle/input/ubc-ocean-tiles-w-masks-2048px-scale-0-25/train_images/47960/00099_8-7.png   \n",
       "\n",
       "   label predicted_label  prediction  probability  \n",
       "0    0.0          cancer           0            0  \n",
       "1    0.0          cancer           0            0  \n",
       "2    0.0          cancer           0            0  \n",
       "3    0.0          cancer           0            0  \n",
       "4    0.0          cancer           0            0  "
      ]
     },
     "execution_count": 5,
     "metadata": {},
     "output_type": "execute_result"
    }
   ],
   "source": [
    "# load data from training notebook \n",
    "with open(\"/kaggle/input/ubc-binary-cancer-tissue-classifier-wsi-0-25x/label_encoder.pkl\", \"rb\") as fp:\n",
    "    encoder = joblib.load(fp)\n",
    "with open(\"/kaggle/input/ubc-binary-cancer-tissue-classifier-wsi-0-25x/CONFIG.pkl\", \"rb\") as fp:\n",
    "    CONFIG_TRAIN = joblib.load(fp)\n",
    "print(CONFIG_TRAIN)\n",
    "df_test = pd.read_csv(\"/kaggle/input/ubc-binary-cancer-tissue-classifier-wsi-0-25x/df_test_binary_classification.csv\")\n",
    "df_test.head()"
   ]
  },
  {
   "cell_type": "code",
   "execution_count": 6,
   "id": "27281e2d",
   "metadata": {
    "execution": {
     "iopub.execute_input": "2023-12-14T08:09:25.690396Z",
     "iopub.status.busy": "2023-12-14T08:09:25.689991Z",
     "iopub.status.idle": "2023-12-14T08:09:25.708315Z",
     "shell.execute_reply": "2023-12-14T08:09:25.707395Z"
    },
    "papermill": {
     "duration": 0.032727,
     "end_time": "2023-12-14T08:09:25.710635",
     "exception": false,
     "start_time": "2023-12-14T08:09:25.677908",
     "status": "completed"
    },
    "tags": []
   },
   "outputs": [
    {
     "name": "stdout",
     "output_type": "stream",
     "text": [
      "(2888, 5)\n"
     ]
    },
    {
     "data": {
      "text/plain": [
       "label\n",
       "0.0    2569\n",
       "1.0     319\n",
       "Name: count, dtype: int64"
      ]
     },
     "metadata": {},
     "output_type": "display_data"
    },
    {
     "data": {
      "text/plain": [
       "prediction\n",
       "0    2471\n",
       "1     417\n",
       "Name: count, dtype: int64"
      ]
     },
     "metadata": {},
     "output_type": "display_data"
    }
   ],
   "source": [
    "print(df_test.shape)\n",
    "display(df_test.label.value_counts())\n",
    "display(df_test.prediction.value_counts())\n"
   ]
  },
  {
   "cell_type": "code",
   "execution_count": 7,
   "id": "2b457f2f",
   "metadata": {
    "execution": {
     "iopub.execute_input": "2023-12-14T08:09:25.735468Z",
     "iopub.status.busy": "2023-12-14T08:09:25.735095Z",
     "iopub.status.idle": "2023-12-14T08:09:26.037633Z",
     "shell.execute_reply": "2023-12-14T08:09:26.036775Z"
    },
    "papermill": {
     "duration": 0.317409,
     "end_time": "2023-12-14T08:09:26.039492",
     "exception": false,
     "start_time": "2023-12-14T08:09:25.722083",
     "status": "completed"
    },
    "tags": []
   },
   "outputs": [
    {
     "data": {
      "text/plain": [
       "<Axes: >"
      ]
     },
     "execution_count": 7,
     "metadata": {},
     "output_type": "execute_result"
    },
    {
     "data": {
      "image/png": "[encoded data removed]",
      "text/plain": [
       "<Figure size 640x480 with 1 Axes>"
      ]
     },
     "metadata": {},
     "output_type": "display_data"
    }
   ],
   "source": [
    "df_test.probability.hist()"
   ]
  },
  {
   "cell_type": "code",
   "execution_count": 8,
   "id": "d7cabfd3",
   "metadata": {
    "execution": {
     "iopub.execute_input": "2023-12-14T08:09:26.064209Z",
     "iopub.status.busy": "2023-12-14T08:09:26.063906Z",
     "iopub.status.idle": "2023-12-14T08:09:26.364949Z",
     "shell.execute_reply": "2023-12-14T08:09:26.364013Z"
    },
    "papermill": {
     "duration": 0.31525,
     "end_time": "2023-12-14T08:09:26.367133",
     "exception": false,
     "start_time": "2023-12-14T08:09:26.051883",
     "status": "completed"
    },
    "tags": []
   },
   "outputs": [
    {
     "data": {
      "text/html": [
       "<div>\n",
       "<style scoped>\n",
       "    .dataframe tbody tr th:only-of-type {\n",
       "        vertical-align: middle;\n",
       "    }\n",
       "\n",
       "    .dataframe tbody tr th {\n",
       "        vertical-align: top;\n",
       "    }\n",
       "\n",
       "    .dataframe thead th {\n",
       "        text-align: right;\n",
       "    }\n",
       "</style>\n",
       "<table border=\"1\" class=\"dataframe\">\n",
       "  <thead>\n",
       "    <tr style=\"text-align: right;\">\n",
       "      <th></th>\n",
       "      <th>image_id</th>\n",
       "      <th>subtype</th>\n",
       "      <th>image_width</th>\n",
       "      <th>image_height</th>\n",
       "      <th>is_tma</th>\n",
       "    </tr>\n",
       "  </thead>\n",
       "  <tbody>\n",
       "    <tr>\n",
       "      <th>182</th>\n",
       "      <td>21445</td>\n",
       "      <td>MC</td>\n",
       "      <td>34200</td>\n",
       "      <td>23705</td>\n",
       "      <td>False</td>\n",
       "    </tr>\n",
       "    <tr>\n",
       "      <th>266</th>\n",
       "      <td>32035</td>\n",
       "      <td>HGSC</td>\n",
       "      <td>16861</td>\n",
       "      <td>44075</td>\n",
       "      <td>False</td>\n",
       "    </tr>\n",
       "    <tr>\n",
       "      <th>312</th>\n",
       "      <td>38019</td>\n",
       "      <td>MC</td>\n",
       "      <td>59023</td>\n",
       "      <td>43223</td>\n",
       "      <td>False</td>\n",
       "    </tr>\n",
       "    <tr>\n",
       "      <th>523</th>\n",
       "      <td>63429</td>\n",
       "      <td>EC</td>\n",
       "      <td>67783</td>\n",
       "      <td>29066</td>\n",
       "      <td>False</td>\n",
       "    </tr>\n",
       "    <tr>\n",
       "      <th>129</th>\n",
       "      <td>15470</td>\n",
       "      <td>CC</td>\n",
       "      <td>64751</td>\n",
       "      <td>18986</td>\n",
       "      <td>False</td>\n",
       "    </tr>\n",
       "  </tbody>\n",
       "</table>\n",
       "</div>"
      ],
      "text/plain": [
       "     image_id subtype  image_width  image_height  is_tma\n",
       "182     21445      MC        34200         23705   False\n",
       "266     32035    HGSC        16861         44075   False\n",
       "312     38019      MC        59023         43223   False\n",
       "523     63429      EC        67783         29066   False\n",
       "129     15470      CC        64751         18986   False"
      ]
     },
     "metadata": {},
     "output_type": "display_data"
    },
    {
     "data": {
      "text/html": [
       "<div>\n",
       "<style scoped>\n",
       "    .dataframe tbody tr th:only-of-type {\n",
       "        vertical-align: middle;\n",
       "    }\n",
       "\n",
       "    .dataframe tbody tr th {\n",
       "        vertical-align: top;\n",
       "    }\n",
       "\n",
       "    .dataframe thead th {\n",
       "        text-align: right;\n",
       "    }\n",
       "</style>\n",
       "<table border=\"1\" class=\"dataframe\">\n",
       "  <thead>\n",
       "    <tr style=\"text-align: right;\">\n",
       "      <th></th>\n",
       "      <th>image_path</th>\n",
       "      <th>mask_path</th>\n",
       "      <th>cancer_ratio</th>\n",
       "      <th>non_cancer_ratio</th>\n",
       "      <th>label</th>\n",
       "    </tr>\n",
       "  </thead>\n",
       "  <tbody>\n",
       "    <tr>\n",
       "      <th>24401</th>\n",
       "      <td>/kaggle/input/ubc-ocean-tiles-w-masks-2048px-scale-0-25/train_images/46815/00031_1-4.png</td>\n",
       "      <td>/kaggle/input/ubc-ocean-tiles-w-masks-2048px-scale-0-25/train_masks/46815/00031_1-4.png</td>\n",
       "      <td>0.191418</td>\n",
       "      <td>0.0</td>\n",
       "      <td>cancer</td>\n",
       "    </tr>\n",
       "    <tr>\n",
       "      <th>9024</th>\n",
       "      <td>/kaggle/input/ubc-ocean-tiles-w-masks-2048px-scale-0-25/train_images/30738/00072_27-6.png</td>\n",
       "      <td>/kaggle/input/ubc-ocean-tiles-w-masks-2048px-scale-0-25/train_masks/30738/00072_27-6.png</td>\n",
       "      <td>0.083214</td>\n",
       "      <td>0.0</td>\n",
       "      <td>cancer</td>\n",
       "    </tr>\n",
       "    <tr>\n",
       "      <th>13883</th>\n",
       "      <td>/kaggle/input/ubc-ocean-tiles-w-masks-2048px-scale-0-25/train_images/10143/00261_18-16.png</td>\n",
       "      <td>/kaggle/input/ubc-ocean-tiles-w-masks-2048px-scale-0-25/train_masks/10143/00261_18-16.png</td>\n",
       "      <td>0.000000</td>\n",
       "      <td>0.0</td>\n",
       "      <td>unknown</td>\n",
       "    </tr>\n",
       "    <tr>\n",
       "      <th>5015</th>\n",
       "      <td>/kaggle/input/ubc-ocean-tiles-w-masks-2048px-scale-0-25/train_images/37307/00349_13-19.png</td>\n",
       "      <td>/kaggle/input/ubc-ocean-tiles-w-masks-2048px-scale-0-25/train_masks/37307/00349_13-19.png</td>\n",
       "      <td>0.000000</td>\n",
       "      <td>0.0</td>\n",
       "      <td>unknown</td>\n",
       "    </tr>\n",
       "    <tr>\n",
       "      <th>37244</th>\n",
       "      <td>/kaggle/input/ubc-ocean-tiles-w-masks-2048px-scale-0-25/train_images/61424/00013_15-2.png</td>\n",
       "      <td>/kaggle/input/ubc-ocean-tiles-w-masks-2048px-scale-0-25/train_masks/61424/00013_15-2.png</td>\n",
       "      <td>0.000000</td>\n",
       "      <td>0.0</td>\n",
       "      <td>unknown</td>\n",
       "    </tr>\n",
       "  </tbody>\n",
       "</table>\n",
       "</div>"
      ],
      "text/plain": [
       "                                                                                       image_path  \\\n",
       "24401    /kaggle/input/ubc-ocean-tiles-w-masks-2048px-scale-0-25/train_images/46815/00031_1-4.png   \n",
       "9024    /kaggle/input/ubc-ocean-tiles-w-masks-2048px-scale-0-25/train_images/30738/00072_27-6.png   \n",
       "13883  /kaggle/input/ubc-ocean-tiles-w-masks-2048px-scale-0-25/train_images/10143/00261_18-16.png   \n",
       "5015   /kaggle/input/ubc-ocean-tiles-w-masks-2048px-scale-0-25/train_images/37307/00349_13-19.png   \n",
       "37244   /kaggle/input/ubc-ocean-tiles-w-masks-2048px-scale-0-25/train_images/61424/00013_15-2.png   \n",
       "\n",
       "                                                                                       mask_path  \\\n",
       "24401    /kaggle/input/ubc-ocean-tiles-w-masks-2048px-scale-0-25/train_masks/46815/00031_1-4.png   \n",
       "9024    /kaggle/input/ubc-ocean-tiles-w-masks-2048px-scale-0-25/train_masks/30738/00072_27-6.png   \n",
       "13883  /kaggle/input/ubc-ocean-tiles-w-masks-2048px-scale-0-25/train_masks/10143/00261_18-16.png   \n",
       "5015   /kaggle/input/ubc-ocean-tiles-w-masks-2048px-scale-0-25/train_masks/37307/00349_13-19.png   \n",
       "37244   /kaggle/input/ubc-ocean-tiles-w-masks-2048px-scale-0-25/train_masks/61424/00013_15-2.png   \n",
       "\n",
       "       cancer_ratio  non_cancer_ratio    label  \n",
       "24401      0.191418               0.0   cancer  \n",
       "9024       0.083214               0.0   cancer  \n",
       "13883      0.000000               0.0  unknown  \n",
       "5015       0.000000               0.0  unknown  \n",
       "37244      0.000000               0.0  unknown  "
      ]
     },
     "metadata": {},
     "output_type": "display_data"
    }
   ],
   "source": [
    "ROOT_DIR = '/kaggle/input/UBC-OCEAN'\n",
    "TRAIN_DIR = '/kaggle/input/tiles-of-cancer-2048px-scale-0-25'\n",
    "INFER_DIR = '/kaggle/input/ubc-ocean-tiles-w-masks-2048px-scale-0-25'\n",
    "\n",
    "df_orig = pd.read_csv(\"/kaggle/input/UBC-OCEAN/train.csv\")\n",
    "df_orig = df_orig.rename(columns={\"label\":\"subtype\"})\n",
    "df_labelled = pd.read_csv(\"/kaggle/input/df-tiles-025x-cancer-tissue-binary-labels/tiles_labelled_binary_cancer.csv\", index_col=\"Unnamed: 0\")\n",
    "display(df_orig.sample(5))\n",
    "display(df_labelled.sample(5))"
   ]
  },
  {
   "cell_type": "code",
   "execution_count": 9,
   "id": "0f3fb8fc",
   "metadata": {
    "execution": {
     "iopub.execute_input": "2023-12-14T08:09:26.393184Z",
     "iopub.status.busy": "2023-12-14T08:09:26.392800Z",
     "iopub.status.idle": "2023-12-14T08:09:26.531628Z",
     "shell.execute_reply": "2023-12-14T08:09:26.530618Z"
    },
    "papermill": {
     "duration": 0.154596,
     "end_time": "2023-12-14T08:09:26.533979",
     "exception": false,
     "start_time": "2023-12-14T08:09:26.379383",
     "status": "completed"
    },
    "tags": []
   },
   "outputs": [],
   "source": [
    "def prepare_df(df_labelled):\n",
    "    df_labelled[\"image_id\"] = df_labelled[\"image_path\"].map(lambda x: int(x.split('/')[-2]))\n",
    "    df_labelled = df_labelled[~df_labelled[\"image_path\"].str.lower().str.contains(\"tma\")]\n",
    "    df_labelled = df_labelled[df_labelled[\"label\"]!=\"unknown\"].reset_index(drop=True)\n",
    "    df_labelled = pd.merge(df_labelled, df_orig, on=\"image_id\", how=\"left\")\n",
    "    df_labelled[\"group\"] = df_labelled[\"label\"] + \"_\" + df_labelled[\"subtype\"] \n",
    "    return df_labelled\n",
    "\n",
    "\n",
    "df_masks = prepare_df(df_labelled)"
   ]
  },
  {
   "cell_type": "code",
   "execution_count": 10,
   "id": "7faabfc6",
   "metadata": {
    "execution": {
     "iopub.execute_input": "2023-12-14T08:09:26.559909Z",
     "iopub.status.busy": "2023-12-14T08:09:26.559237Z",
     "iopub.status.idle": "2023-12-14T08:09:58.022631Z",
     "shell.execute_reply": "2023-12-14T08:09:58.021681Z"
    },
    "papermill": {
     "duration": 31.490794,
     "end_time": "2023-12-14T08:09:58.036667",
     "exception": false,
     "start_time": "2023-12-14T08:09:26.545873",
     "status": "completed"
    },
    "tags": []
   },
   "outputs": [
    {
     "name": "stdout",
     "output_type": "stream",
     "text": [
      "(123714, 2)\n",
      "Example row: /kaggle/input/tiles-of-cancer-2048px-scale-0-25/8805/000021_6-2.png 8805\n"
     ]
    },
    {
     "data": {
      "text/html": [
       "<div>\n",
       "<style scoped>\n",
       "    .dataframe tbody tr th:only-of-type {\n",
       "        vertical-align: middle;\n",
       "    }\n",
       "\n",
       "    .dataframe tbody tr th {\n",
       "        vertical-align: top;\n",
       "    }\n",
       "\n",
       "    .dataframe thead th {\n",
       "        text-align: right;\n",
       "    }\n",
       "</style>\n",
       "<table border=\"1\" class=\"dataframe\">\n",
       "  <thead>\n",
       "    <tr style=\"text-align: right;\">\n",
       "      <th></th>\n",
       "      <th>image_path</th>\n",
       "      <th>image_id</th>\n",
       "    </tr>\n",
       "  </thead>\n",
       "  <tbody>\n",
       "    <tr>\n",
       "      <th>0</th>\n",
       "      <td>/kaggle/input/tiles-of-cancer-2048px-scale-0-25/8805/000021_6-2.png</td>\n",
       "      <td>8805</td>\n",
       "    </tr>\n",
       "    <tr>\n",
       "      <th>1</th>\n",
       "      <td>/kaggle/input/tiles-of-cancer-2048px-scale-0-25/8805/000056_9-4.png</td>\n",
       "      <td>8805</td>\n",
       "    </tr>\n",
       "    <tr>\n",
       "      <th>2</th>\n",
       "      <td>/kaggle/input/tiles-of-cancer-2048px-scale-0-25/8805/000089_10-6.png</td>\n",
       "      <td>8805</td>\n",
       "    </tr>\n",
       "    <tr>\n",
       "      <th>3</th>\n",
       "      <td>/kaggle/input/tiles-of-cancer-2048px-scale-0-25/8805/000002_3-1.png</td>\n",
       "      <td>8805</td>\n",
       "    </tr>\n",
       "    <tr>\n",
       "      <th>4</th>\n",
       "      <td>/kaggle/input/tiles-of-cancer-2048px-scale-0-25/8805/000057_10-4.png</td>\n",
       "      <td>8805</td>\n",
       "    </tr>\n",
       "  </tbody>\n",
       "</table>\n",
       "</div>"
      ],
      "text/plain": [
       "                                                             image_path  \\\n",
       "0   /kaggle/input/tiles-of-cancer-2048px-scale-0-25/8805/000021_6-2.png   \n",
       "1   /kaggle/input/tiles-of-cancer-2048px-scale-0-25/8805/000056_9-4.png   \n",
       "2  /kaggle/input/tiles-of-cancer-2048px-scale-0-25/8805/000089_10-6.png   \n",
       "3   /kaggle/input/tiles-of-cancer-2048px-scale-0-25/8805/000002_3-1.png   \n",
       "4  /kaggle/input/tiles-of-cancer-2048px-scale-0-25/8805/000057_10-4.png   \n",
       "\n",
       "   image_id  \n",
       "0      8805  \n",
       "1      8805  \n",
       "2      8805  \n",
       "3      8805  \n",
       "4      8805  "
      ]
     },
     "metadata": {},
     "output_type": "display_data"
    }
   ],
   "source": [
    "directory_path = \"/kaggle/input/tiles-of-cancer-2048px-scale-0-25\"\n",
    "df_tiles_all = create_img_dataframe_from_directory(directory_path)\n",
    "df_tiles_all[\"image_id\"] = df_tiles_all[\"image_id\"].astype(int)\n",
    "print(df_tiles_all.shape)\n",
    "print(\"Example row:\", df_tiles_all.iloc[0,0], df_tiles_all.iloc[0,1])\n",
    "display(df_tiles_all.head()) "
   ]
  },
  {
   "cell_type": "code",
   "execution_count": 11,
   "id": "eeea8439",
   "metadata": {
    "execution": {
     "iopub.execute_input": "2023-12-14T08:09:58.062522Z",
     "iopub.status.busy": "2023-12-14T08:09:58.061846Z",
     "iopub.status.idle": "2023-12-14T08:09:58.067779Z",
     "shell.execute_reply": "2023-12-14T08:09:58.066821Z"
    },
    "papermill": {
     "duration": 0.021397,
     "end_time": "2023-12-14T08:09:58.069946",
     "exception": false,
     "start_time": "2023-12-14T08:09:58.048549",
     "status": "completed"
    },
    "tags": []
   },
   "outputs": [
    {
     "name": "stdout",
     "output_type": "stream",
     "text": [
      "Example row: /kaggle/input/tiles-of-cancer-2048px-scale-0-25/8805/000021_6-2.png 8805\n",
      "Example row: /kaggle/input/ubc-ocean-tiles-w-masks-2048px-scale-0-25/train_images/53688/00014_8-2.png /kaggle/input/ubc-ocean-tiles-w-masks-2048px-scale-0-25/train_masks/53688/00014_8-2.png\n"
     ]
    }
   ],
   "source": [
    "print(\"Example row:\", df_tiles_all.iloc[0,0], df_tiles_all.iloc[0,1])\n",
    "print(\"Example row:\", df_masks.iloc[0,0], df_masks.iloc[0,1])\n"
   ]
  },
  {
   "cell_type": "code",
   "execution_count": 12,
   "id": "eb99b7c3",
   "metadata": {
    "execution": {
     "iopub.execute_input": "2023-12-14T08:09:58.096816Z",
     "iopub.status.busy": "2023-12-14T08:09:58.095949Z",
     "iopub.status.idle": "2023-12-14T08:09:58.104115Z",
     "shell.execute_reply": "2023-12-14T08:09:58.103271Z"
    },
    "papermill": {
     "duration": 0.023869,
     "end_time": "2023-12-14T08:09:58.106022",
     "exception": false,
     "start_time": "2023-12-14T08:09:58.082153",
     "status": "completed"
    },
    "tags": []
   },
   "outputs": [
    {
     "data": {
      "text/plain": [
       "(152, 538)"
      ]
     },
     "execution_count": 12,
     "metadata": {},
     "output_type": "execute_result"
    }
   ],
   "source": [
    "df_masks[\"image_id\"].nunique(), df_tiles_all[\"image_id\"].nunique()"
   ]
  },
  {
   "cell_type": "code",
   "execution_count": 13,
   "id": "e14a3b51",
   "metadata": {
    "execution": {
     "iopub.execute_input": "2023-12-14T08:09:58.132177Z",
     "iopub.status.busy": "2023-12-14T08:09:58.131812Z",
     "iopub.status.idle": "2023-12-14T08:09:58.141777Z",
     "shell.execute_reply": "2023-12-14T08:09:58.140848Z"
    },
    "papermill": {
     "duration": 0.025595,
     "end_time": "2023-12-14T08:09:58.143886",
     "exception": false,
     "start_time": "2023-12-14T08:09:58.118291",
     "status": "completed"
    },
    "tags": []
   },
   "outputs": [],
   "source": [
    "img_color_mean=[0.8661704276539922, 0.7663107094675368, 0.8574260897185548]\n",
    "img_color_std=[0.08670629753900036, 0.11646580094195522, 0.07164169171856792]\n",
    "\n",
    "data_transforms = {\n",
    "    \"train\": A.Compose([\n",
    "        A.Resize(512, 512),\n",
    "        A.HorizontalFlip(p=0.5),\n",
    "        A.VerticalFlip(p=0.5),\n",
    "        # A.RandomBrightnessContrast(p=0.75),\n",
    "        A.ShiftScaleRotate(p=0.75),\n",
    "        A.OneOf([\n",
    "        A.GaussNoise(var_limit=[10, 50]),\n",
    "        A.GaussianBlur(),\n",
    "        A.MotionBlur(),\n",
    "        ], p=0.4),\n",
    "        A.GridDistortion(num_steps=5, distort_limit=0.3, p=0.5),\n",
    "        A.CoarseDropout(max_holes=5, max_width=int(512* 0.1), max_height=int(512* 0.1),\n",
    "        mask_fill_value=0, p=0.5),\n",
    "        A.Normalize(img_color_mean, img_color_std), \n",
    "        ToTensorV2()], p=1.),\n",
    "    \n",
    "    \"valid\": A.Compose([\n",
    "        A.Resize(CONFIG['img_size'], CONFIG['img_size']),\n",
    "        A.Normalize(img_color_mean, img_color_std), \n",
    "        ToTensorV2()], p=1.)\n",
    "}\n",
    "\n"
   ]
  },
  {
   "cell_type": "markdown",
   "id": "9c1100d0",
   "metadata": {
    "papermill": {
     "duration": 0.012277,
     "end_time": "2023-12-14T08:09:58.168964",
     "exception": false,
     "start_time": "2023-12-14T08:09:58.156687",
     "status": "completed"
    },
    "tags": []
   },
   "source": [
    "## 3. Training"
   ]
  },
  {
   "cell_type": "code",
   "execution_count": 14,
   "id": "203c2eb4",
   "metadata": {
    "execution": {
     "iopub.execute_input": "2023-12-14T08:09:58.195221Z",
     "iopub.status.busy": "2023-12-14T08:09:58.194860Z",
     "iopub.status.idle": "2023-12-14T08:09:58.203153Z",
     "shell.execute_reply": "2023-12-14T08:09:58.202311Z"
    },
    "papermill": {
     "duration": 0.023773,
     "end_time": "2023-12-14T08:09:58.205036",
     "exception": false,
     "start_time": "2023-12-14T08:09:58.181263",
     "status": "completed"
    },
    "tags": []
   },
   "outputs": [],
   "source": [
    "class InferBinaryTilesDataset(Dataset):\n",
    "    \"\"\"\n",
    "    Dataset Class which is used in order to read tiles from given folder / path and label them accroding to a binary classifier.\n",
    "    This is a pure inference dataset. \n",
    "    \n",
    "    \"\"\"\n",
    "    def __init__(\n",
    "        self,\n",
    "        df_data,\n",
    "        transforms = None,\n",
    "        mode: str = 'valid',\n",
    "        labels_lut = None,\n",
    "        # train_val_split: float = 0.90,\n",
    "        tissue_label_th: float = 0.2\n",
    "    ):\n",
    "\n",
    "        self.transforms = transforms\n",
    "        self.mode = mode\n",
    "        self.data = df_data\n",
    "        self.img_paths =  self.data.image_path.values.tolist()\n",
    "        \n",
    "    def __getitem__(self, idx: int) -> tuple:\n",
    "        img_path = self.img_paths[idx]\n",
    "        assert os.path.isfile(img_path), f\"missing: {img_path}\"\n",
    "        tile = cv2.imread(img_path)\n",
    "        tile = cv2.cvtColor(tile, cv2.COLOR_BGR2RGB)\n",
    "        # augmentation\n",
    "        if self.transforms:\n",
    "            tile = self.transforms(image=tile)[\"image\"]\n",
    "        #print(f\"img dim: {img.shape}\")\n",
    "        return {\n",
    "            \"image\": tile,\n",
    "            \"image_path\": img_path,\n",
    "               }\n",
    "    \n",
    "    def __len__(self) -> int:\n",
    "        return len(self.img_paths)\n"
   ]
  },
  {
   "cell_type": "code",
   "execution_count": 15,
   "id": "09e0321c",
   "metadata": {
    "execution": {
     "iopub.execute_input": "2023-12-14T08:09:58.231516Z",
     "iopub.status.busy": "2023-12-14T08:09:58.231119Z",
     "iopub.status.idle": "2023-12-14T08:09:58.236632Z",
     "shell.execute_reply": "2023-12-14T08:09:58.235714Z"
    },
    "papermill": {
     "duration": 0.021128,
     "end_time": "2023-12-14T08:09:58.238618",
     "exception": false,
     "start_time": "2023-12-14T08:09:58.217490",
     "status": "completed"
    },
    "tags": []
   },
   "outputs": [],
   "source": [
    "def metrics(df_pred):\n",
    "    conf_matrix = confusion_matrix(df_pred[\"label\"], df_pred[\"predicted_label\"])\n",
    "    accuracy = accuracy_score(df_pred[\"label\"], df_pred[\"predicted_label\"])\n",
    "    macro_f1 = f1_score(df_pred[\"label\"], df_pred[\"predicted_label\"], average='macro')\n",
    "    print(macro_f1, accuracy)\n",
    "    display(conf_matrix)"
   ]
  },
  {
   "cell_type": "code",
   "execution_count": 16,
   "id": "25e41ba6",
   "metadata": {
    "execution": {
     "iopub.execute_input": "2023-12-14T08:09:58.264905Z",
     "iopub.status.busy": "2023-12-14T08:09:58.264533Z",
     "iopub.status.idle": "2023-12-14T08:09:58.274334Z",
     "shell.execute_reply": "2023-12-14T08:09:58.273370Z"
    },
    "papermill": {
     "duration": 0.025267,
     "end_time": "2023-12-14T08:09:58.276188",
     "exception": false,
     "start_time": "2023-12-14T08:09:58.250921",
     "status": "completed"
    },
    "tags": []
   },
   "outputs": [],
   "source": [
    "def infer_on_unlabelled_data(model, CONFIG, df_test, val_size=1.0):\n",
    "    model.eval()\n",
    "    infer_dataset = InferBinaryTilesDataset(df_test, transforms=data_transforms[\"valid\"])\n",
    "    infer_loader = DataLoader(infer_dataset, batch_size=CONFIG['valid_batch_size'], num_workers=2, shuffle=False, pin_memory=True)\n",
    "    print(f\"Test-Dataset Size: {len(infer_dataset)}\")\n",
    "\n",
    "    preds_list = []\n",
    "    probs_list = []\n",
    "    image_path_list = []\n",
    "    #test_acc = 0.0\n",
    "\n",
    "    with torch.no_grad():\n",
    "        bar = tqdm(enumerate(infer_loader), total=len(infer_loader))\n",
    "        for step, data in bar: \n",
    "            # print(step)\n",
    "            images = data['image'].to(CONFIG[\"device\"], dtype=torch.float)\n",
    "            image_paths = data['image_path'] # .to(CONFIG[\"device\"], dtype=torch.float)\n",
    "\n",
    "            outputs = model(images)        \n",
    "            probs = torch.sigmoid(outputs)\n",
    "            predicted = (probs > 0.5).int()\n",
    "            #preds_list.append(predicted.detach().cpu().numpy() )\n",
    "            #probs_list.append(probs.detach().cpu().numpy() )\n",
    "            #image_path_list.append(image_paths)\n",
    "            preds_list.extend(predicted.detach().cpu().numpy().ravel())\n",
    "            probs_list.extend(probs.detach().cpu().numpy().ravel())            \n",
    "            image_path_list.extend(image_paths)\n",
    "    # pred_labels = encoder.inverse_transform(preds_list)\n",
    "    df_infer = pd.DataFrame({\n",
    "        \"image_path\": image_path_list,\n",
    "        \"prediction\": preds_list,\n",
    "        \"probability\": probs_list,\n",
    "    })\n",
    "    return df_infer"
   ]
  },
  {
   "cell_type": "code",
   "execution_count": 17,
   "id": "89d86cbb",
   "metadata": {
    "execution": {
     "iopub.execute_input": "2023-12-14T08:09:58.359370Z",
     "iopub.status.busy": "2023-12-14T08:09:58.359013Z",
     "iopub.status.idle": "2023-12-14T08:10:02.190584Z",
     "shell.execute_reply": "2023-12-14T08:10:02.189549Z"
    },
    "papermill": {
     "duration": 3.904392,
     "end_time": "2023-12-14T08:10:02.192900",
     "exception": false,
     "start_time": "2023-12-14T08:09:58.288508",
     "status": "completed"
    },
    "tags": []
   },
   "outputs": [],
   "source": [
    "model = UBCBinaryModel(CONFIG['model_name'], pretrained=False , checkpoint_path=None)\n",
    "# model_path = \"/kaggle/input/binary-tiles-classifier-025x-v6/best_model_checkpoint2023-12-10_10-57-05.pth\"\n",
    "model.load_state_dict(torch.load(CONFIG[\"model_path\"], map_location=CONFIG[\"device\"]))\n",
    "model.to(CONFIG['device']);\n",
    "\n",
    "label_dict = {\n",
    "    0:\"cancer\",\n",
    "    1:\"non-cancer\"}"
   ]
  },
  {
   "cell_type": "code",
   "execution_count": 18,
   "id": "75a08e99",
   "metadata": {
    "execution": {
     "iopub.execute_input": "2023-12-14T08:10:02.218739Z",
     "iopub.status.busy": "2023-12-14T08:10:02.218368Z",
     "iopub.status.idle": "2023-12-14T08:10:02.229212Z",
     "shell.execute_reply": "2023-12-14T08:10:02.228336Z"
    },
    "papermill": {
     "duration": 0.025769,
     "end_time": "2023-12-14T08:10:02.231078",
     "exception": false,
     "start_time": "2023-12-14T08:10:02.205309",
     "status": "completed"
    },
    "tags": []
   },
   "outputs": [
    {
     "name": "stdout",
     "output_type": "stream",
     "text": [
      "(2888, 5)\n"
     ]
    },
    {
     "data": {
      "text/html": [
       "<div>\n",
       "<style scoped>\n",
       "    .dataframe tbody tr th:only-of-type {\n",
       "        vertical-align: middle;\n",
       "    }\n",
       "\n",
       "    .dataframe tbody tr th {\n",
       "        vertical-align: top;\n",
       "    }\n",
       "\n",
       "    .dataframe thead th {\n",
       "        text-align: right;\n",
       "    }\n",
       "</style>\n",
       "<table border=\"1\" class=\"dataframe\">\n",
       "  <thead>\n",
       "    <tr style=\"text-align: right;\">\n",
       "      <th></th>\n",
       "      <th>image_path</th>\n",
       "      <th>label</th>\n",
       "      <th>predicted_label</th>\n",
       "      <th>prediction</th>\n",
       "      <th>probability</th>\n",
       "    </tr>\n",
       "  </thead>\n",
       "  <tbody>\n",
       "    <tr>\n",
       "      <th>0</th>\n",
       "      <td>/kaggle/input/ubc-ocean-tiles-w-masks-2048px-scale-0-25/train_images/30738/00071_26-6.png</td>\n",
       "      <td>0.0</td>\n",
       "      <td>cancer</td>\n",
       "      <td>0</td>\n",
       "      <td>0</td>\n",
       "    </tr>\n",
       "    <tr>\n",
       "      <th>1</th>\n",
       "      <td>/kaggle/input/ubc-ocean-tiles-w-masks-2048px-scale-0-25/train_images/36063/00141_31-9.png</td>\n",
       "      <td>0.0</td>\n",
       "      <td>cancer</td>\n",
       "      <td>0</td>\n",
       "      <td>0</td>\n",
       "    </tr>\n",
       "  </tbody>\n",
       "</table>\n",
       "</div>"
      ],
      "text/plain": [
       "                                                                                  image_path  \\\n",
       "0  /kaggle/input/ubc-ocean-tiles-w-masks-2048px-scale-0-25/train_images/30738/00071_26-6.png   \n",
       "1  /kaggle/input/ubc-ocean-tiles-w-masks-2048px-scale-0-25/train_images/36063/00141_31-9.png   \n",
       "\n",
       "   label predicted_label  prediction  probability  \n",
       "0    0.0          cancer           0            0  \n",
       "1    0.0          cancer           0            0  "
      ]
     },
     "execution_count": 18,
     "metadata": {},
     "output_type": "execute_result"
    }
   ],
   "source": [
    "print(df_test.shape)\n",
    "df_test.head(2)"
   ]
  },
  {
   "cell_type": "code",
   "execution_count": 19,
   "id": "b60e5f02",
   "metadata": {
    "execution": {
     "iopub.execute_input": "2023-12-14T08:10:02.256691Z",
     "iopub.status.busy": "2023-12-14T08:10:02.256343Z",
     "iopub.status.idle": "2023-12-14T08:10:54.754067Z",
     "shell.execute_reply": "2023-12-14T08:10:54.752616Z"
    },
    "papermill": {
     "duration": 52.512771,
     "end_time": "2023-12-14T08:10:54.756046",
     "exception": false,
     "start_time": "2023-12-14T08:10:02.243275",
     "status": "completed"
    },
    "tags": []
   },
   "outputs": [
    {
     "name": "stdout",
     "output_type": "stream",
     "text": [
      "Infer on Holdout Set:\n",
      "Test-Dataset Size: 2888\n"
     ]
    },
    {
     "name": "stderr",
     "output_type": "stream",
     "text": [
      "100%|██████████| 91/91 [00:52<00:00,  1.74it/s]\n"
     ]
    }
   ],
   "source": [
    "print(\"Infer on Holdout Set:\")\n",
    "df_test_control = infer_on_unlabelled_data(model, CONFIG, df_test)\n"
   ]
  },
  {
   "cell_type": "code",
   "execution_count": 20,
   "id": "fb2ee317",
   "metadata": {
    "execution": {
     "iopub.execute_input": "2023-12-14T08:10:54.796663Z",
     "iopub.status.busy": "2023-12-14T08:10:54.796292Z",
     "iopub.status.idle": "2023-12-14T08:10:54.852237Z",
     "shell.execute_reply": "2023-12-14T08:10:54.851259Z"
    },
    "papermill": {
     "duration": 0.078584,
     "end_time": "2023-12-14T08:10:54.854316",
     "exception": false,
     "start_time": "2023-12-14T08:10:54.775732",
     "status": "completed"
    },
    "tags": []
   },
   "outputs": [
    {
     "data": {
      "text/html": [
       "<div>\n",
       "<style scoped>\n",
       "    .dataframe tbody tr th:only-of-type {\n",
       "        vertical-align: middle;\n",
       "    }\n",
       "\n",
       "    .dataframe tbody tr th {\n",
       "        vertical-align: top;\n",
       "    }\n",
       "\n",
       "    .dataframe thead th {\n",
       "        text-align: right;\n",
       "    }\n",
       "</style>\n",
       "<table border=\"1\" class=\"dataframe\">\n",
       "  <thead>\n",
       "    <tr style=\"text-align: right;\">\n",
       "      <th></th>\n",
       "      <th>image_path</th>\n",
       "      <th>prediction</th>\n",
       "      <th>probability</th>\n",
       "      <th>predicted_label</th>\n",
       "    </tr>\n",
       "  </thead>\n",
       "  <tbody>\n",
       "    <tr>\n",
       "      <th>0</th>\n",
       "      <td>/kaggle/input/ubc-ocean-tiles-w-masks-2048px-scale-0-25/train_images/30738/00071_26-6.png</td>\n",
       "      <td>0</td>\n",
       "      <td>0.0000</td>\n",
       "      <td>cancer</td>\n",
       "    </tr>\n",
       "    <tr>\n",
       "      <th>1</th>\n",
       "      <td>/kaggle/input/ubc-ocean-tiles-w-masks-2048px-scale-0-25/train_images/36063/00141_31-9.png</td>\n",
       "      <td>0</td>\n",
       "      <td>0.3267</td>\n",
       "      <td>cancer</td>\n",
       "    </tr>\n",
       "    <tr>\n",
       "      <th>2</th>\n",
       "      <td>/kaggle/input/ubc-ocean-tiles-w-masks-2048px-scale-0-25/train_images/50304/00407_11-19.png</td>\n",
       "      <td>0</td>\n",
       "      <td>0.0000</td>\n",
       "      <td>cancer</td>\n",
       "    </tr>\n",
       "    <tr>\n",
       "      <th>3</th>\n",
       "      <td>/kaggle/input/ubc-ocean-tiles-w-masks-2048px-scale-0-25/train_images/19255/00417_30-15.png</td>\n",
       "      <td>0</td>\n",
       "      <td>0.0009</td>\n",
       "      <td>cancer</td>\n",
       "    </tr>\n",
       "    <tr>\n",
       "      <th>4</th>\n",
       "      <td>/kaggle/input/ubc-ocean-tiles-w-masks-2048px-scale-0-25/train_images/47960/00099_8-7.png</td>\n",
       "      <td>0</td>\n",
       "      <td>0.0000</td>\n",
       "      <td>cancer</td>\n",
       "    </tr>\n",
       "  </tbody>\n",
       "</table>\n",
       "</div>"
      ],
      "text/plain": [
       "                                                                                   image_path  \\\n",
       "0   /kaggle/input/ubc-ocean-tiles-w-masks-2048px-scale-0-25/train_images/30738/00071_26-6.png   \n",
       "1   /kaggle/input/ubc-ocean-tiles-w-masks-2048px-scale-0-25/train_images/36063/00141_31-9.png   \n",
       "2  /kaggle/input/ubc-ocean-tiles-w-masks-2048px-scale-0-25/train_images/50304/00407_11-19.png   \n",
       "3  /kaggle/input/ubc-ocean-tiles-w-masks-2048px-scale-0-25/train_images/19255/00417_30-15.png   \n",
       "4    /kaggle/input/ubc-ocean-tiles-w-masks-2048px-scale-0-25/train_images/47960/00099_8-7.png   \n",
       "\n",
       "   prediction  probability predicted_label  \n",
       "0           0       0.0000          cancer  \n",
       "1           0       0.3267          cancer  \n",
       "2           0       0.0000          cancer  \n",
       "3           0       0.0009          cancer  \n",
       "4           0       0.0000          cancer  "
      ]
     },
     "metadata": {},
     "output_type": "display_data"
    },
    {
     "name": "stdout",
     "output_type": "stream",
     "text": [
      "1.0\n"
     ]
    },
    {
     "data": {
      "text/plain": [
       "prediction\n",
       "0    2471\n",
       "1     417\n",
       "Name: count, dtype: int64"
      ]
     },
     "execution_count": 20,
     "metadata": {},
     "output_type": "execute_result"
    }
   ],
   "source": [
    "df_test_control[\"predicted_label\"] = encoder.inverse_transform(df_test_control[\"prediction\"])\n",
    "df_test_control[\"probability\"] = df_test_control[\"probability\"].map(lambda x: np.round(x, 4))\n",
    "display(df_test_control.head())\n",
    "print(df_test_control.probability.max())\n",
    "df_test_control.prediction.value_counts()"
   ]
  },
  {
   "cell_type": "code",
   "execution_count": 21,
   "id": "baeb8209",
   "metadata": {
    "execution": {
     "iopub.execute_input": "2023-12-14T08:10:54.895339Z",
     "iopub.status.busy": "2023-12-14T08:10:54.895013Z",
     "iopub.status.idle": "2023-12-14T08:10:54.940662Z",
     "shell.execute_reply": "2023-12-14T08:10:54.939712Z"
    },
    "papermill": {
     "duration": 0.068673,
     "end_time": "2023-12-14T08:10:54.942874",
     "exception": false,
     "start_time": "2023-12-14T08:10:54.874201",
     "status": "completed"
    },
    "tags": []
   },
   "outputs": [
    {
     "name": "stdout",
     "output_type": "stream",
     "text": [
      "(2888, 5)\n"
     ]
    },
    {
     "data": {
      "text/html": [
       "<div>\n",
       "<style scoped>\n",
       "    .dataframe tbody tr th:only-of-type {\n",
       "        vertical-align: middle;\n",
       "    }\n",
       "\n",
       "    .dataframe tbody tr th {\n",
       "        vertical-align: top;\n",
       "    }\n",
       "\n",
       "    .dataframe thead th {\n",
       "        text-align: right;\n",
       "    }\n",
       "</style>\n",
       "<table border=\"1\" class=\"dataframe\">\n",
       "  <thead>\n",
       "    <tr style=\"text-align: right;\">\n",
       "      <th></th>\n",
       "      <th>image_path</th>\n",
       "      <th>label</th>\n",
       "      <th>prediction</th>\n",
       "      <th>probability</th>\n",
       "      <th>predicted_label</th>\n",
       "    </tr>\n",
       "  </thead>\n",
       "  <tbody>\n",
       "    <tr>\n",
       "      <th>0</th>\n",
       "      <td>/kaggle/input/ubc-ocean-tiles-w-masks-2048px-scale-0-25/train_images/30738/00071_26-6.png</td>\n",
       "      <td>0.0</td>\n",
       "      <td>0</td>\n",
       "      <td>0.0000</td>\n",
       "      <td>cancer</td>\n",
       "    </tr>\n",
       "    <tr>\n",
       "      <th>1</th>\n",
       "      <td>/kaggle/input/ubc-ocean-tiles-w-masks-2048px-scale-0-25/train_images/36063/00141_31-9.png</td>\n",
       "      <td>0.0</td>\n",
       "      <td>0</td>\n",
       "      <td>0.3267</td>\n",
       "      <td>cancer</td>\n",
       "    </tr>\n",
       "  </tbody>\n",
       "</table>\n",
       "</div>"
      ],
      "text/plain": [
       "                                                                                  image_path  \\\n",
       "0  /kaggle/input/ubc-ocean-tiles-w-masks-2048px-scale-0-25/train_images/30738/00071_26-6.png   \n",
       "1  /kaggle/input/ubc-ocean-tiles-w-masks-2048px-scale-0-25/train_images/36063/00141_31-9.png   \n",
       "\n",
       "   label  prediction  probability predicted_label  \n",
       "0    0.0           0       0.0000          cancer  \n",
       "1    0.0           0       0.3267          cancer  "
      ]
     },
     "metadata": {},
     "output_type": "display_data"
    }
   ],
   "source": [
    "df_test = pd.merge(df_test[[\"image_path\", \"label\"]], df_test_control, on=\"image_path\", how=\"inner\")\n",
    "print(df_test.shape)\n",
    "display(df_test.head(2))\n",
    "df_test.to_csv(\"df_test_025x_predictions.csv\")"
   ]
  },
  {
   "cell_type": "code",
   "execution_count": 22,
   "id": "df46a63a",
   "metadata": {
    "execution": {
     "iopub.execute_input": "2023-12-14T08:10:54.985723Z",
     "iopub.status.busy": "2023-12-14T08:10:54.985312Z",
     "iopub.status.idle": "2023-12-14T08:10:54.998480Z",
     "shell.execute_reply": "2023-12-14T08:10:54.997384Z"
    },
    "papermill": {
     "duration": 0.036985,
     "end_time": "2023-12-14T08:10:55.000511",
     "exception": false,
     "start_time": "2023-12-14T08:10:54.963526",
     "status": "completed"
    },
    "tags": []
   },
   "outputs": [
    {
     "name": "stdout",
     "output_type": "stream",
     "text": [
      "Accuracy Testset: 0.9501385041551247\n",
      "F1-Score Testset: 0.8043478260869565\n"
     ]
    }
   ],
   "source": [
    "print(\"Accuracy Testset:\", accuracy_score(df_test[\"label\"], df_test[\"prediction\"]))\n",
    "print(\"F1-Score Testset:\", f1_score(df_test[\"label\"], df_test[\"prediction\"]))"
   ]
  },
  {
   "cell_type": "code",
   "execution_count": 23,
   "id": "8cf93b46",
   "metadata": {
    "execution": {
     "iopub.execute_input": "2023-12-14T08:10:55.043759Z",
     "iopub.status.busy": "2023-12-14T08:10:55.043357Z",
     "iopub.status.idle": "2023-12-14T08:42:35.134107Z",
     "shell.execute_reply": "2023-12-14T08:42:35.133042Z"
    },
    "papermill": {
     "duration": 1900.114602,
     "end_time": "2023-12-14T08:42:35.135978",
     "exception": false,
     "start_time": "2023-12-14T08:10:55.021376",
     "status": "completed"
    },
    "tags": []
   },
   "outputs": [
    {
     "name": "stdout",
     "output_type": "stream",
     "text": [
      "Infer on Holdout Set. Shape: (123714, 2)\n",
      "Test-Dataset Size: 123714\n"
     ]
    },
    {
     "name": "stderr",
     "output_type": "stream",
     "text": [
      "100%|██████████| 3867/3867 [31:38<00:00,  2.04it/s]\n"
     ]
    },
    {
     "name": "stdout",
     "output_type": "stream",
     "text": [
      "inference done!\n"
     ]
    },
    {
     "data": {
      "text/html": [
       "<div>\n",
       "<style scoped>\n",
       "    .dataframe tbody tr th:only-of-type {\n",
       "        vertical-align: middle;\n",
       "    }\n",
       "\n",
       "    .dataframe tbody tr th {\n",
       "        vertical-align: top;\n",
       "    }\n",
       "\n",
       "    .dataframe thead th {\n",
       "        text-align: right;\n",
       "    }\n",
       "</style>\n",
       "<table border=\"1\" class=\"dataframe\">\n",
       "  <thead>\n",
       "    <tr style=\"text-align: right;\">\n",
       "      <th></th>\n",
       "      <th>image_path</th>\n",
       "      <th>prediction</th>\n",
       "      <th>probability</th>\n",
       "    </tr>\n",
       "  </thead>\n",
       "  <tbody>\n",
       "    <tr>\n",
       "      <th>0</th>\n",
       "      <td>/kaggle/input/tiles-of-cancer-2048px-scale-0-25/8805/000021_6-2.png</td>\n",
       "      <td>0</td>\n",
       "      <td>0.001676</td>\n",
       "    </tr>\n",
       "    <tr>\n",
       "      <th>1</th>\n",
       "      <td>/kaggle/input/tiles-of-cancer-2048px-scale-0-25/8805/000056_9-4.png</td>\n",
       "      <td>1</td>\n",
       "      <td>0.786360</td>\n",
       "    </tr>\n",
       "    <tr>\n",
       "      <th>2</th>\n",
       "      <td>/kaggle/input/tiles-of-cancer-2048px-scale-0-25/8805/000089_10-6.png</td>\n",
       "      <td>1</td>\n",
       "      <td>0.981452</td>\n",
       "    </tr>\n",
       "    <tr>\n",
       "      <th>3</th>\n",
       "      <td>/kaggle/input/tiles-of-cancer-2048px-scale-0-25/8805/000002_3-1.png</td>\n",
       "      <td>0</td>\n",
       "      <td>0.016089</td>\n",
       "    </tr>\n",
       "    <tr>\n",
       "      <th>4</th>\n",
       "      <td>/kaggle/input/tiles-of-cancer-2048px-scale-0-25/8805/000057_10-4.png</td>\n",
       "      <td>1</td>\n",
       "      <td>0.860730</td>\n",
       "    </tr>\n",
       "  </tbody>\n",
       "</table>\n",
       "</div>"
      ],
      "text/plain": [
       "                                                             image_path  \\\n",
       "0   /kaggle/input/tiles-of-cancer-2048px-scale-0-25/8805/000021_6-2.png   \n",
       "1   /kaggle/input/tiles-of-cancer-2048px-scale-0-25/8805/000056_9-4.png   \n",
       "2  /kaggle/input/tiles-of-cancer-2048px-scale-0-25/8805/000089_10-6.png   \n",
       "3   /kaggle/input/tiles-of-cancer-2048px-scale-0-25/8805/000002_3-1.png   \n",
       "4  /kaggle/input/tiles-of-cancer-2048px-scale-0-25/8805/000057_10-4.png   \n",
       "\n",
       "   prediction  probability  \n",
       "0           0     0.001676  \n",
       "1           1     0.786360  \n",
       "2           1     0.981452  \n",
       "3           0     0.016089  \n",
       "4           1     0.860730  "
      ]
     },
     "execution_count": 23,
     "metadata": {},
     "output_type": "execute_result"
    }
   ],
   "source": [
    "print(f\"Infer on Holdout Set. Shape: {df_tiles_all.shape}\")\n",
    "df_tiles_labelled = infer_on_unlabelled_data(model, CONFIG, df_tiles_all)\n",
    "df_tiles_labelled.to_csv(\"tiles_025x_full_pseudo_labels.csv\")\n",
    "print(\"inference done!\")\n",
    "df_tiles_labelled.head()"
   ]
  },
  {
   "cell_type": "code",
   "execution_count": 24,
   "id": "35a0e4f6",
   "metadata": {
    "execution": {
     "iopub.execute_input": "2023-12-14T08:42:35.820647Z",
     "iopub.status.busy": "2023-12-14T08:42:35.820244Z",
     "iopub.status.idle": "2023-12-14T08:42:35.950061Z",
     "shell.execute_reply": "2023-12-14T08:42:35.949210Z"
    },
    "papermill": {
     "duration": 0.512157,
     "end_time": "2023-12-14T08:42:35.952457",
     "exception": false,
     "start_time": "2023-12-14T08:42:35.440300",
     "status": "completed"
    },
    "tags": []
   },
   "outputs": [],
   "source": [
    "df_tiles_labelled = pd.merge(df_tiles_all, df_tiles_labelled, on=\"image_path\", how=\"inner\") \n"
   ]
  },
  {
   "cell_type": "markdown",
   "id": "dac7c7a2",
   "metadata": {
    "papermill": {
     "duration": 0.305873,
     "end_time": "2023-12-14T08:42:36.564982",
     "exception": false,
     "start_time": "2023-12-14T08:42:36.259109",
     "status": "completed"
    },
    "tags": []
   },
   "source": [
    "# Model Evaluation"
   ]
  },
  {
   "cell_type": "code",
   "execution_count": 25,
   "id": "7d9d3c23",
   "metadata": {
    "execution": {
     "iopub.execute_input": "2023-12-14T08:42:37.186522Z",
     "iopub.status.busy": "2023-12-14T08:42:37.185653Z",
     "iopub.status.idle": "2023-12-14T08:42:37.196393Z",
     "shell.execute_reply": "2023-12-14T08:42:37.195468Z"
    },
    "papermill": {
     "duration": 0.320335,
     "end_time": "2023-12-14T08:42:37.198265",
     "exception": false,
     "start_time": "2023-12-14T08:42:36.877930",
     "status": "completed"
    },
    "tags": []
   },
   "outputs": [],
   "source": [
    "def evaluate_dual_thresholds(y_true, y_probs):\n",
    "    thresholds = np.arange(0.0, 1.01, 0.05)\n",
    "    results = []\n",
    "\n",
    "    for lower_thresh, upper_thresh in itertools.product(thresholds, repeat=2):\n",
    "        if lower_thresh >= upper_thresh:\n",
    "            continue\n",
    "\n",
    "        y_pred = np.where(y_probs < lower_thresh, 0, np.where(y_probs > upper_thresh, 1, -1)) # -1 for 'unknown'\n",
    "        known_mask = y_pred != -1\n",
    "\n",
    "        if np.any(known_mask): # Calculate metrics only if there are 'known' samples\n",
    "            accuracy = accuracy_score(y_true[known_mask], y_pred[known_mask])\n",
    "            precision = precision_score(y_true[known_mask], y_pred[known_mask])\n",
    "            recall = recall_score(y_true[known_mask], y_pred[known_mask])\n",
    "            f1 = f1_score(y_true[known_mask], y_pred[known_mask])\n",
    "            results.append((lower_thresh, upper_thresh, accuracy, precision, recall, f1))\n",
    "\n",
    "    # Sorting results based on F1 score or another metric of choice\n",
    "    results.sort(key=lambda x: x[5], reverse=True) # Sort by F1 score\n",
    "\n",
    "    # Plotting the top 10 results\n",
    "    plt.figure(figsize=(10, 6))\n",
    "    for i, (lower_thresh, upper_thresh, accuracy, precision, recall, f1) in enumerate(results[:10]):\n",
    "        plt.plot([lower_thresh, upper_thresh], [f1, f1], label=f'Thresholds: {lower_thresh:.2f}-{upper_thresh:.2f}')\n",
    "\n",
    "    plt.xlabel('Threshold')\n",
    "    plt.ylabel('F1 Score')\n",
    "    plt.title('Evaluation of Different Threshold Pairs')\n",
    "    plt.legend()\n",
    "    plt.show()"
   ]
  },
  {
   "cell_type": "code",
   "execution_count": null,
   "id": "134f9184",
   "metadata": {
    "execution": {
     "iopub.execute_input": "2023-12-13T19:09:15.601123Z",
     "iopub.status.busy": "2023-12-13T19:09:15.600744Z",
     "iopub.status.idle": "2023-12-13T19:09:15.622393Z",
     "shell.execute_reply": "2023-12-13T19:09:15.621455Z",
     "shell.execute_reply.started": "2023-12-13T19:09:15.601095Z"
    },
    "papermill": {
     "duration": 0.315465,
     "end_time": "2023-12-14T08:42:37.817300",
     "exception": false,
     "start_time": "2023-12-14T08:42:37.501835",
     "status": "completed"
    },
    "tags": []
   },
   "outputs": [],
   "source": []
  },
  {
   "cell_type": "code",
   "execution_count": 26,
   "id": "4f6a3611",
   "metadata": {
    "execution": {
     "iopub.execute_input": "2023-12-14T08:42:38.511887Z",
     "iopub.status.busy": "2023-12-14T08:42:38.511119Z",
     "iopub.status.idle": "2023-12-14T08:42:38.515546Z",
     "shell.execute_reply": "2023-12-14T08:42:38.514600Z"
    },
    "papermill": {
     "duration": 0.373857,
     "end_time": "2023-12-14T08:42:38.517632",
     "exception": false,
     "start_time": "2023-12-14T08:42:38.143775",
     "status": "completed"
    },
    "tags": []
   },
   "outputs": [],
   "source": [
    "# evaluate_dual_thresholds(df_test_control[\"label\"], df_test_control[\"probability\"])add_suffix"
   ]
  },
  {
   "cell_type": "code",
   "execution_count": 27,
   "id": "677e0d83",
   "metadata": {
    "execution": {
     "iopub.execute_input": "2023-12-14T08:42:39.140116Z",
     "iopub.status.busy": "2023-12-14T08:42:39.139771Z",
     "iopub.status.idle": "2023-12-14T08:42:39.147336Z",
     "shell.execute_reply": "2023-12-14T08:42:39.146451Z"
    },
    "papermill": {
     "duration": 0.318169,
     "end_time": "2023-12-14T08:42:39.149297",
     "exception": false,
     "start_time": "2023-12-14T08:42:38.831128",
     "status": "completed"
    },
    "tags": []
   },
   "outputs": [
    {
     "data": {
      "text/plain": [
       "'\\ndf_v1 = pd.read_csv(\"/kaggle/input/df-test-binary-v1/df_test_025x_predictions.csv\")\\ndf_v1.head()\\nprint(\"Size: \", df_v1.shape)\\nprint(\"Accuracy Testset:\", accuracy_score(df_v1[\"label\"], df_v1[\"prediction\"]))\\nprint(\"F1-Score Testset:\", f1_score(df_v1[\"label\"], df_v1[\"prediction\"]))\\nprint(\"Confusion Testset:\", confusion_matrix(df_v1[\"label\"], df_v1[\"prediction\"]))\\ndf_filtered = df_v1[(df_v1[\"probability\"]<0.2) | (df_v1[\"probability\"]>0.8)]\\nprint(\"Size: \", df_filtered.shape)\\nprint(\"Accuracy Testset:\", accuracy_score(df_filtered[\"label\"], df_filtered[\"prediction\"]))\\nprint(\"F1-Score Testset:\", f1_score(df_filtered[\"label\"], df_filtered[\"prediction\"]))\\nprint(\"Confusion Testset:\", confusion_matrix(df_filtered[\"label\"], df_filtered[\"prediction\"]))\\ndf_filtered = df_v1[(df_v1[\"probability\"]<0.1) | (df_v1[\"probability\"]>0.9)]\\nprint(\"Size: \", df_filtered.shape)\\nprint(\"Accuracy Testset:\", accuracy_score(df_filtered[\"label\"], df_filtered[\"prediction\"]))\\nprint(\"F1-Score Testset:\", f1_score(df_filtered[\"label\"], df_filtered[\"prediction\"]))\\nprint(\"Confusion Testset:\", confusion_matrix(df_filtered[\"label\"], df_filtered[\"prediction\"]))\\ndf_filtered = df_v1[(df_v1[\"probability\"]<0.01) | (df_v1[\"probability\"]>0.9)]\\nprint(\"Size: \", df_filtered.shape)\\nprint(\"Accuracy Testset:\", accuracy_score(df_filtered[\"label\"], df_filtered[\"prediction\"]))\\nprint(\"F1-Score Testset:\", f1_score(df_filtered[\"label\"], df_filtered[\"prediction\"]))\\nprint(\"Confusion Testset:\", confusion_matrix(df_filtered[\"label\"], df_filtered[\"prediction\"]))'"
      ]
     },
     "execution_count": 27,
     "metadata": {},
     "output_type": "execute_result"
    }
   ],
   "source": [
    "\"\"\"\n",
    "df_v1 = pd.read_csv(\"/kaggle/input/df-test-binary-v1/df_test_025x_predictions.csv\")\n",
    "df_v1.head()\n",
    "print(\"Size: \", df_v1.shape)\n",
    "print(\"Accuracy Testset:\", accuracy_score(df_v1[\"label\"], df_v1[\"prediction\"]))\n",
    "print(\"F1-Score Testset:\", f1_score(df_v1[\"label\"], df_v1[\"prediction\"]))\n",
    "print(\"Confusion Testset:\", confusion_matrix(df_v1[\"label\"], df_v1[\"prediction\"]))\n",
    "df_filtered = df_v1[(df_v1[\"probability\"]<0.2) | (df_v1[\"probability\"]>0.8)]\n",
    "print(\"Size: \", df_filtered.shape)\n",
    "print(\"Accuracy Testset:\", accuracy_score(df_filtered[\"label\"], df_filtered[\"prediction\"]))\n",
    "print(\"F1-Score Testset:\", f1_score(df_filtered[\"label\"], df_filtered[\"prediction\"]))\n",
    "print(\"Confusion Testset:\", confusion_matrix(df_filtered[\"label\"], df_filtered[\"prediction\"]))\n",
    "df_filtered = df_v1[(df_v1[\"probability\"]<0.1) | (df_v1[\"probability\"]>0.9)]\n",
    "print(\"Size: \", df_filtered.shape)\n",
    "print(\"Accuracy Testset:\", accuracy_score(df_filtered[\"label\"], df_filtered[\"prediction\"]))\n",
    "print(\"F1-Score Testset:\", f1_score(df_filtered[\"label\"], df_filtered[\"prediction\"]))\n",
    "print(\"Confusion Testset:\", confusion_matrix(df_filtered[\"label\"], df_filtered[\"prediction\"]))\n",
    "df_filtered = df_v1[(df_v1[\"probability\"]<0.01) | (df_v1[\"probability\"]>0.9)]\n",
    "print(\"Size: \", df_filtered.shape)\n",
    "print(\"Accuracy Testset:\", accuracy_score(df_filtered[\"label\"], df_filtered[\"prediction\"]))\n",
    "print(\"F1-Score Testset:\", f1_score(df_filtered[\"label\"], df_filtered[\"prediction\"]))\n",
    "print(\"Confusion Testset:\", confusion_matrix(df_filtered[\"label\"], df_filtered[\"prediction\"]))\"\"\""
   ]
  },
  {
   "cell_type": "code",
   "execution_count": null,
   "id": "69546d83",
   "metadata": {
    "execution": {
     "iopub.execute_input": "2023-12-13T19:12:09.483891Z",
     "iopub.status.busy": "2023-12-13T19:12:09.483022Z",
     "iopub.status.idle": "2023-12-13T19:12:09.504674Z",
     "shell.execute_reply": "2023-12-13T19:12:09.503555Z",
     "shell.execute_reply.started": "2023-12-13T19:12:09.483850Z"
    },
    "papermill": {
     "duration": 0.33465,
     "end_time": "2023-12-14T08:42:39.813219",
     "exception": false,
     "start_time": "2023-12-14T08:42:39.478569",
     "status": "completed"
    },
    "tags": []
   },
   "outputs": [],
   "source": []
  },
  {
   "cell_type": "code",
   "execution_count": null,
   "id": "267df9c8",
   "metadata": {
    "execution": {
     "iopub.execute_input": "2023-12-13T19:13:20.079037Z",
     "iopub.status.busy": "2023-12-13T19:13:20.077784Z",
     "iopub.status.idle": "2023-12-13T19:13:20.099277Z",
     "shell.execute_reply": "2023-12-13T19:13:20.098007Z",
     "shell.execute_reply.started": "2023-12-13T19:13:20.078998Z"
    },
    "papermill": {
     "duration": 0.308257,
     "end_time": "2023-12-14T08:42:40.442800",
     "exception": false,
     "start_time": "2023-12-14T08:42:40.134543",
     "status": "completed"
    },
    "tags": []
   },
   "outputs": [],
   "source": []
  },
  {
   "cell_type": "code",
   "execution_count": null,
   "id": "750ddf3f",
   "metadata": {
    "execution": {
     "iopub.execute_input": "2023-12-13T19:14:46.678371Z",
     "iopub.status.busy": "2023-12-13T19:14:46.677524Z",
     "iopub.status.idle": "2023-12-13T19:14:46.696192Z",
     "shell.execute_reply": "2023-12-13T19:14:46.695101Z",
     "shell.execute_reply.started": "2023-12-13T19:14:46.678341Z"
    },
    "papermill": {
     "duration": 0.308566,
     "end_time": "2023-12-14T08:42:41.058065",
     "exception": false,
     "start_time": "2023-12-14T08:42:40.749499",
     "status": "completed"
    },
    "tags": []
   },
   "outputs": [],
   "source": []
  },
  {
   "cell_type": "code",
   "execution_count": null,
   "id": "4dc4b707",
   "metadata": {
    "execution": {
     "iopub.execute_input": "2023-12-13T19:14:03.932406Z",
     "iopub.status.busy": "2023-12-13T19:14:03.932067Z",
     "iopub.status.idle": "2023-12-13T19:14:03.952054Z",
     "shell.execute_reply": "2023-12-13T19:14:03.951093Z",
     "shell.execute_reply.started": "2023-12-13T19:14:03.932379Z"
    },
    "papermill": {
     "duration": 0.309604,
     "end_time": "2023-12-14T08:42:41.739281",
     "exception": false,
     "start_time": "2023-12-14T08:42:41.429677",
     "status": "completed"
    },
    "tags": []
   },
   "outputs": [],
   "source": []
  },
  {
   "cell_type": "code",
   "execution_count": null,
   "id": "ff6e7dfd",
   "metadata": {
    "papermill": {
     "duration": 0.307406,
     "end_time": "2023-12-14T08:42:42.356098",
     "exception": false,
     "start_time": "2023-12-14T08:42:42.048692",
     "status": "completed"
    },
    "tags": []
   },
   "outputs": [],
   "source": []
  }
 ],
 "metadata": {
  "kaggle": {
   "accelerator": "none",
   "dataSources": [
    {
     "databundleVersionId": 6924515,
     "sourceId": 45867,
     "sourceType": "competition"
    },
    {
     "datasetId": 3889865,
     "sourceId": 6917177,
     "sourceType": "datasetVersion"
    },
    {
     "datasetId": 4014175,
     "sourceId": 6984590,
     "sourceType": "datasetVersion"
    },
    {
     "datasetId": 4027203,
     "sourceId": 7029230,
     "sourceType": "datasetVersion"
    },
    {
     "datasetId": 4133077,
     "sourceId": 7156628,
     "sourceType": "datasetVersion"
    },
    {
     "datasetId": 4154039,
     "sourceId": 7185654,
     "sourceType": "datasetVersion"
    },
    {
     "datasetId": 4160818,
     "sourceId": 7194780,
     "sourceType": "datasetVersion"
    },
    {
     "sourceId": 154724360,
     "sourceType": "kernelVersion"
    },
    {
     "sourceId": 154725573,
     "sourceType": "kernelVersion"
    },
    {
     "sourceId": 154832111,
     "sourceType": "kernelVersion"
    },
    {
     "sourceId": 154840576,
     "sourceType": "kernelVersion"
    }
   ],
   "dockerImageVersionId": 30559,
   "isGpuEnabled": false,
   "isInternetEnabled": true,
   "language": "python",
   "sourceType": "notebook"
  },
  "kernelspec": {
   "display_name": "Python 3",
   "language": "python",
   "name": "python3"
  },
  "language_info": {
   "codemirror_mode": {
    "name": "ipython",
    "version": 3
   },
   "file_extension": ".py",
   "mimetype": "text/x-python",
   "name": "python",
   "nbconvert_exporter": "python",
   "pygments_lexer": "ipython3",
   "version": "3.10.12"
  },
  "papermill": {
   "default_parameters": {},
   "duration": 2034.69908,
   "end_time": "2023-12-14T08:42:45.805557",
   "environment_variables": {},
   "exception": null,
   "input_path": "__notebook__.ipynb",
   "output_path": "__notebook__.ipynb",
   "parameters": {},
   "start_time": "2023-12-14T08:08:51.106477",
   "version": "2.4.0"
  }
 },
 "nbformat": 4,
 "nbformat_minor": 5
}
