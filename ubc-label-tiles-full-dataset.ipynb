{
 "cells": [
  {
   "cell_type": "markdown",
   "id": "03cf6dd1",
   "metadata": {
    "papermill": {
     "duration": 0.009771,
     "end_time": "2023-12-13T13:48:51.960842",
     "exception": false,
     "start_time": "2023-12-13T13:48:51.951071",
     "status": "completed"
    },
    "tags": []
   },
   "source": [
    "# Introduction \n",
    "\n",
    "**This Notebook is used to label the tiled dataset based on cancerous vs. non-cancerous tissue**\n",
    "\n",
    "- Binary Classificatio of Tiles\n",
    "- Inference on non-labeled dataset\n",
    "- Model trained on masked (sub-)dataset"
   ]
  },
  {
   "cell_type": "code",
   "execution_count": 1,
   "id": "b7a011e8",
   "metadata": {
    "execution": {
     "iopub.execute_input": "2023-12-13T13:48:51.982374Z",
     "iopub.status.busy": "2023-12-13T13:48:51.981575Z",
     "iopub.status.idle": "2023-12-13T13:48:51.995283Z",
     "shell.execute_reply": "2023-12-13T13:48:51.994359Z"
    },
    "papermill": {
     "duration": 0.027041,
     "end_time": "2023-12-13T13:48:51.997650",
     "exception": false,
     "start_time": "2023-12-13T13:48:51.970609",
     "status": "completed"
    },
    "tags": []
   },
   "outputs": [
    {
     "data": {
      "text/plain": [
       "'!pip install --quiet mlflow dagshub\\nimport mlflow.pytorch \\nfrom mlflow import MlflowClient'"
      ]
     },
     "execution_count": 1,
     "metadata": {},
     "output_type": "execute_result"
    }
   ],
   "source": [
    "\"\"\"!pip install --quiet mlflow dagshub\n",
    "import mlflow.pytorch \n",
    "from mlflow import MlflowClient\"\"\""
   ]
  },
  {
   "cell_type": "code",
   "execution_count": 2,
   "id": "d84fe87c",
   "metadata": {
    "execution": {
     "iopub.execute_input": "2023-12-13T13:48:52.017467Z",
     "iopub.status.busy": "2023-12-13T13:48:52.017209Z",
     "iopub.status.idle": "2023-12-13T13:49:00.197560Z",
     "shell.execute_reply": "2023-12-13T13:49:00.196773Z"
    },
    "papermill": {
     "duration": 8.192893,
     "end_time": "2023-12-13T13:49:00.199879",
     "exception": false,
     "start_time": "2023-12-13T13:48:52.006986",
     "status": "completed"
    },
    "tags": []
   },
   "outputs": [
    {
     "name": "stderr",
     "output_type": "stream",
     "text": [
      "/opt/conda/lib/python3.10/site-packages/scipy/__init__.py:146: UserWarning: A NumPy version >=1.16.5 and <1.23.0 is required for this version of SciPy (detected version 1.23.5\n",
      "  warnings.warn(f\"A NumPy version >={np_minversion} and <{np_maxversion}\"\n"
     ]
    }
   ],
   "source": [
    "# Standard library imports\n",
    "import copy\n",
    "import datetime\n",
    "import gc\n",
    "import glob\n",
    "import heapq\n",
    "import joblib\n",
    "import math\n",
    "import os\n",
    "import random\n",
    "import time\n",
    "from collections import defaultdict\n",
    "from itertools import chain\n",
    "\n",
    "# Related third-party imports\n",
    "import albumentations as A\n",
    "import cv2\n",
    "import numpy as np\n",
    "import pandas as pd\n",
    "import timm\n",
    "import torch\n",
    "import torch.nn as nn\n",
    "import torch.nn.functional as F\n",
    "import torch.optim as optim\n",
    "import torchvision\n",
    "from albumentations.pytorch import ToTensorV2\n",
    "from colorama import Fore, Back, Style\n",
    "from joblib import Parallel, delayed\n",
    "from matplotlib import pyplot as plt\n",
    "from PIL import Image\n",
    "from skimage import io\n",
    "from sklearn.metrics import balanced_accuracy_score, confusion_matrix, f1_score, accuracy_score\n",
    "from sklearn.model_selection import StratifiedKFold\n",
    "from sklearn.preprocessing import LabelEncoder\n",
    "from torch.cuda import amp\n",
    "from torch.optim import lr_scheduler\n",
    "from torch.utils.data import Dataset, DataLoader\n",
    "from tqdm import tqdm, tqdm_notebook\n",
    "\n",
    "# Local application/library specific imports\n",
    "# (Your local imports here, if any)/kaggle/input/ubc-binary-cancer-tissue-classifier-wsi-0-25x/label_encoder.pkl\n",
    "\n",
    "# Set up for colored terminal text\n",
    "b_ = Fore.BLUE\n",
    "sr_ = Style.RESET_ALL\n",
    "\n",
    "# Disable warnings\n",
    "import warnings\n",
    "warnings.filterwarnings('ignore')\n",
    "os.environ['CUDA_LAUNCH_BLOCKING'] = \"1\"\n",
    "\n",
    "pd.set_option('display.max_colwidth', None)"
   ]
  },
  {
   "cell_type": "code",
   "execution_count": 3,
   "id": "d6df77b3",
   "metadata": {
    "execution": {
     "iopub.execute_input": "2023-12-13T13:49:00.219052Z",
     "iopub.status.busy": "2023-12-13T13:49:00.218734Z",
     "iopub.status.idle": "2023-12-13T13:49:21.634587Z",
     "shell.execute_reply": "2023-12-13T13:49:21.633676Z"
    },
    "papermill": {
     "duration": 21.427813,
     "end_time": "2023-12-13T13:49:21.636856",
     "exception": false,
     "start_time": "2023-12-13T13:49:00.209043",
     "status": "completed"
    },
    "tags": []
   },
   "outputs": [
    {
     "name": "stdout",
     "output_type": "stream",
     "text": [
      "\u001b[31mERROR: pip's dependency resolver does not currently take into account all the packages that are installed. This behaviour is the source of the following dependency conflicts.\r\n",
      "ydata-profiling 4.3.1 requires dacite>=1.8, but you have dacite 1.6.0 which is incompatible.\r\n",
      "ydata-profiling 4.3.1 requires scipy<1.11,>=1.4.1, but you have scipy 1.11.2 which is incompatible.\u001b[0m\u001b[31m\r\n",
      "\u001b[0m"
     ]
    }
   ],
   "source": [
    "from ubc_utils_infrastructure import create_img_dataframe_from_directory\n",
    "from ubc_utils_models import UBCBinaryModel\n"
   ]
  },
  {
   "cell_type": "code",
   "execution_count": 4,
   "id": "9af37153",
   "metadata": {
    "execution": {
     "iopub.execute_input": "2023-12-13T13:49:21.657434Z",
     "iopub.status.busy": "2023-12-13T13:49:21.656219Z",
     "iopub.status.idle": "2023-12-13T13:49:21.733714Z",
     "shell.execute_reply": "2023-12-13T13:49:21.732761Z"
    },
    "papermill": {
     "duration": 0.089502,
     "end_time": "2023-12-13T13:49:21.735648",
     "exception": false,
     "start_time": "2023-12-13T13:49:21.646146",
     "status": "completed"
    },
    "tags": []
   },
   "outputs": [],
   "source": [
    "CONFIG = {\n",
    "    \"datetime_now\": datetime.datetime.now().strftime(\"%Y-%m-%d_%H-%M-%S\"), \n",
    "    \"seed\": 42,\n",
    "    \"img_size\": 512,\n",
    "    \"model_name\": \"tf_efficientnet_b0_ns\",   # \"tf_efficientnet_b0_ns\", # \"tf_efficientnetv2_s_in21ft1k\"\n",
    "    \"model_path\": \"/kaggle/input/ubc-binary-cancer-tissue-classifier-wsi-0-25x/best_model_checkpoint2023-12-13_10-55-50.pth\",\n",
    "    \"valid_batch_size\": 32,\n",
    "    \"device\": torch.device(\"cuda:0\" if torch.cuda.is_available() else \"cpu\"),\n",
    "}"
   ]
  },
  {
   "cell_type": "markdown",
   "id": "8436747e",
   "metadata": {
    "papermill": {
     "duration": 0.008559,
     "end_time": "2023-12-13T13:49:21.753293",
     "exception": false,
     "start_time": "2023-12-13T13:49:21.744734",
     "status": "completed"
    },
    "tags": []
   },
   "source": [
    "## 1. Data Preparation"
   ]
  },
  {
   "cell_type": "code",
   "execution_count": 5,
   "id": "9e91fee3",
   "metadata": {
    "execution": {
     "iopub.execute_input": "2023-12-13T13:49:21.772418Z",
     "iopub.status.busy": "2023-12-13T13:49:21.772086Z",
     "iopub.status.idle": "2023-12-13T13:49:21.842839Z",
     "shell.execute_reply": "2023-12-13T13:49:21.841948Z"
    },
    "papermill": {
     "duration": 0.082508,
     "end_time": "2023-12-13T13:49:21.844824",
     "exception": false,
     "start_time": "2023-12-13T13:49:21.762316",
     "status": "completed"
    },
    "tags": []
   },
   "outputs": [
    {
     "name": "stdout",
     "output_type": "stream",
     "text": [
      "{'is_submission': False, 'weighted_loss': True, 'datetime_now': '2023-12-13_10-55-43', 'n_fold': 5, 'test_fold': 0, 'valid_fold': 2, 'seed': 42, 'img_size': 512, 'model_name': 'tf_efficientnet_b0_ns', 'checkpoint_path': '/kaggle/input/tf-efficientnet-b0-aa-827b6e33-pth/tf_efficientnet_b0_aa-827b6e33.pth', 'num_classes': 5, 'train_batch_size': 8, 'valid_batch_size': 8, 'n_tiles': 10, 'n_tiles_test': 10, 'num_epochs': 10, 'early_stopping': True, 'patience': 6, 'optimizer': 'adam', 'scheduler': 'CosineAnnealingLR', 'min_lr': 1e-06, 'T_max': 10, 'momentum': 0.9, 'weight_decay': 1e-05, 'learning_rate': 0.0001, 'betas': (0.9, 0.999), 'eps': 1e-08}\n"
     ]
    },
    {
     "data": {
      "text/html": [
       "<div>\n",
       "<style scoped>\n",
       "    .dataframe tbody tr th:only-of-type {\n",
       "        vertical-align: middle;\n",
       "    }\n",
       "\n",
       "    .dataframe tbody tr th {\n",
       "        vertical-align: top;\n",
       "    }\n",
       "\n",
       "    .dataframe thead th {\n",
       "        text-align: right;\n",
       "    }\n",
       "</style>\n",
       "<table border=\"1\" class=\"dataframe\">\n",
       "  <thead>\n",
       "    <tr style=\"text-align: right;\">\n",
       "      <th></th>\n",
       "      <th>image_path</th>\n",
       "      <th>label</th>\n",
       "      <th>predicted_label</th>\n",
       "      <th>prediction</th>\n",
       "      <th>probability</th>\n",
       "    </tr>\n",
       "  </thead>\n",
       "  <tbody>\n",
       "    <tr>\n",
       "      <th>0</th>\n",
       "      <td>/kaggle/input/ubc-ocean-tiles-w-masks-2048px-scale-0-25/train_images/30738/00071_26-6.png</td>\n",
       "      <td>0.0</td>\n",
       "      <td>cancer</td>\n",
       "      <td>0</td>\n",
       "      <td>0</td>\n",
       "    </tr>\n",
       "    <tr>\n",
       "      <th>1</th>\n",
       "      <td>/kaggle/input/ubc-ocean-tiles-w-masks-2048px-scale-0-25/train_images/36063/00141_31-9.png</td>\n",
       "      <td>0.0</td>\n",
       "      <td>cancer</td>\n",
       "      <td>0</td>\n",
       "      <td>0</td>\n",
       "    </tr>\n",
       "    <tr>\n",
       "      <th>2</th>\n",
       "      <td>/kaggle/input/ubc-ocean-tiles-w-masks-2048px-scale-0-25/train_images/50304/00407_11-19.png</td>\n",
       "      <td>0.0</td>\n",
       "      <td>cancer</td>\n",
       "      <td>0</td>\n",
       "      <td>0</td>\n",
       "    </tr>\n",
       "    <tr>\n",
       "      <th>3</th>\n",
       "      <td>/kaggle/input/ubc-ocean-tiles-w-masks-2048px-scale-0-25/train_images/19255/00417_30-15.png</td>\n",
       "      <td>0.0</td>\n",
       "      <td>cancer</td>\n",
       "      <td>0</td>\n",
       "      <td>0</td>\n",
       "    </tr>\n",
       "    <tr>\n",
       "      <th>4</th>\n",
       "      <td>/kaggle/input/ubc-ocean-tiles-w-masks-2048px-scale-0-25/train_images/47960/00099_8-7.png</td>\n",
       "      <td>0.0</td>\n",
       "      <td>cancer</td>\n",
       "      <td>0</td>\n",
       "      <td>0</td>\n",
       "    </tr>\n",
       "  </tbody>\n",
       "</table>\n",
       "</div>"
      ],
      "text/plain": [
       "                                                                                   image_path  \\\n",
       "0   /kaggle/input/ubc-ocean-tiles-w-masks-2048px-scale-0-25/train_images/30738/00071_26-6.png   \n",
       "1   /kaggle/input/ubc-ocean-tiles-w-masks-2048px-scale-0-25/train_images/36063/00141_31-9.png   \n",
       "2  /kaggle/input/ubc-ocean-tiles-w-masks-2048px-scale-0-25/train_images/50304/00407_11-19.png   \n",
       "3  /kaggle/input/ubc-ocean-tiles-w-masks-2048px-scale-0-25/train_images/19255/00417_30-15.png   \n",
       "4    /kaggle/input/ubc-ocean-tiles-w-masks-2048px-scale-0-25/train_images/47960/00099_8-7.png   \n",
       "\n",
       "   label predicted_label  prediction  probability  \n",
       "0    0.0          cancer           0            0  \n",
       "1    0.0          cancer           0            0  \n",
       "2    0.0          cancer           0            0  \n",
       "3    0.0          cancer           0            0  \n",
       "4    0.0          cancer           0            0  "
      ]
     },
     "execution_count": 5,
     "metadata": {},
     "output_type": "execute_result"
    }
   ],
   "source": [
    "# load data from training notebook \n",
    "with open(\"/kaggle/input/ubc-binary-cancer-tissue-classifier-wsi-0-25x/label_encoder.pkl\", \"rb\") as fp:\n",
    "    encoder = joblib.load(fp)\n",
    "with open(\"/kaggle/input/ubc-binary-cancer-tissue-classifier-wsi-0-25x/CONFIG.pkl\", \"rb\") as fp:\n",
    "    CONFIG_TRAIN = joblib.load(fp)\n",
    "print(CONFIG_TRAIN)\n",
    "df_test = pd.read_csv(\"/kaggle/input/ubc-binary-cancer-tissue-classifier-wsi-0-25x/df_test_binary_classification.csv\")\n",
    "df_test.head()"
   ]
  },
  {
   "cell_type": "code",
   "execution_count": 6,
   "id": "ccb74a39",
   "metadata": {
    "execution": {
     "iopub.execute_input": "2023-12-13T13:49:21.864760Z",
     "iopub.status.busy": "2023-12-13T13:49:21.864463Z",
     "iopub.status.idle": "2023-12-13T13:49:21.879708Z",
     "shell.execute_reply": "2023-12-13T13:49:21.878873Z"
    },
    "papermill": {
     "duration": 0.02703,
     "end_time": "2023-12-13T13:49:21.881593",
     "exception": false,
     "start_time": "2023-12-13T13:49:21.854563",
     "status": "completed"
    },
    "tags": []
   },
   "outputs": [
    {
     "name": "stdout",
     "output_type": "stream",
     "text": [
      "(2888, 5)\n"
     ]
    },
    {
     "data": {
      "text/plain": [
       "label\n",
       "0.0    2569\n",
       "1.0     319\n",
       "Name: count, dtype: int64"
      ]
     },
     "metadata": {},
     "output_type": "display_data"
    },
    {
     "data": {
      "text/plain": [
       "prediction\n",
       "0    2471\n",
       "1     417\n",
       "Name: count, dtype: int64"
      ]
     },
     "metadata": {},
     "output_type": "display_data"
    }
   ],
   "source": [
    "print(df_test.shape)\n",
    "display(df_test.label.value_counts())\n",
    "display(df_test.prediction.value_counts())\n"
   ]
  },
  {
   "cell_type": "code",
   "execution_count": 7,
   "id": "c6a81cea",
   "metadata": {
    "execution": {
     "iopub.execute_input": "2023-12-13T13:49:21.901953Z",
     "iopub.status.busy": "2023-12-13T13:49:21.901441Z",
     "iopub.status.idle": "2023-12-13T13:49:22.198918Z",
     "shell.execute_reply": "2023-12-13T13:49:22.197967Z"
    },
    "papermill": {
     "duration": 0.310149,
     "end_time": "2023-12-13T13:49:22.201162",
     "exception": false,
     "start_time": "2023-12-13T13:49:21.891013",
     "status": "completed"
    },
    "tags": []
   },
   "outputs": [
    {
     "data": {
      "text/plain": [
       "<Axes: >"
      ]
     },
     "execution_count": 7,
     "metadata": {},
     "output_type": "execute_result"
    },
    {
     "data": {
      "image/png": "[encoded data removed]",
      "text/plain": [
       "<Figure size 640x480 with 1 Axes>"
      ]
     },
     "metadata": {},
     "output_type": "display_data"
    }
   ],
   "source": [
    "df_test.probability.hist()"
   ]
  },
  {
   "cell_type": "code",
   "execution_count": 8,
   "id": "f9e91b65",
   "metadata": {
    "execution": {
     "iopub.execute_input": "2023-12-13T13:49:22.222127Z",
     "iopub.status.busy": "2023-12-13T13:49:22.221809Z",
     "iopub.status.idle": "2023-12-13T13:49:22.487178Z",
     "shell.execute_reply": "2023-12-13T13:49:22.486246Z"
    },
    "papermill": {
     "duration": 0.277974,
     "end_time": "2023-12-13T13:49:22.489078",
     "exception": false,
     "start_time": "2023-12-13T13:49:22.211104",
     "status": "completed"
    },
    "tags": []
   },
   "outputs": [
    {
     "data": {
      "text/html": [
       "<div>\n",
       "<style scoped>\n",
       "    .dataframe tbody tr th:only-of-type {\n",
       "        vertical-align: middle;\n",
       "    }\n",
       "\n",
       "    .dataframe tbody tr th {\n",
       "        vertical-align: top;\n",
       "    }\n",
       "\n",
       "    .dataframe thead th {\n",
       "        text-align: right;\n",
       "    }\n",
       "</style>\n",
       "<table border=\"1\" class=\"dataframe\">\n",
       "  <thead>\n",
       "    <tr style=\"text-align: right;\">\n",
       "      <th></th>\n",
       "      <th>image_id</th>\n",
       "      <th>subtype</th>\n",
       "      <th>image_width</th>\n",
       "      <th>image_height</th>\n",
       "      <th>is_tma</th>\n",
       "    </tr>\n",
       "  </thead>\n",
       "  <tbody>\n",
       "    <tr>\n",
       "      <th>171</th>\n",
       "      <td>20329</td>\n",
       "      <td>MC</td>\n",
       "      <td>67900</td>\n",
       "      <td>48795</td>\n",
       "      <td>False</td>\n",
       "    </tr>\n",
       "    <tr>\n",
       "      <th>202</th>\n",
       "      <td>25256</td>\n",
       "      <td>LGSC</td>\n",
       "      <td>47369</td>\n",
       "      <td>25545</td>\n",
       "      <td>False</td>\n",
       "    </tr>\n",
       "    <tr>\n",
       "      <th>370</th>\n",
       "      <td>44232</td>\n",
       "      <td>EC</td>\n",
       "      <td>77992</td>\n",
       "      <td>30533</td>\n",
       "      <td>False</td>\n",
       "    </tr>\n",
       "    <tr>\n",
       "      <th>466</th>\n",
       "      <td>55281</td>\n",
       "      <td>HGSC</td>\n",
       "      <td>68171</td>\n",
       "      <td>18203</td>\n",
       "      <td>False</td>\n",
       "    </tr>\n",
       "    <tr>\n",
       "      <th>26</th>\n",
       "      <td>3055</td>\n",
       "      <td>HGSC</td>\n",
       "      <td>73631</td>\n",
       "      <td>37323</td>\n",
       "      <td>False</td>\n",
       "    </tr>\n",
       "  </tbody>\n",
       "</table>\n",
       "</div>"
      ],
      "text/plain": [
       "     image_id subtype  image_width  image_height  is_tma\n",
       "171     20329      MC        67900         48795   False\n",
       "202     25256    LGSC        47369         25545   False\n",
       "370     44232      EC        77992         30533   False\n",
       "466     55281    HGSC        68171         18203   False\n",
       "26       3055    HGSC        73631         37323   False"
      ]
     },
     "metadata": {},
     "output_type": "display_data"
    },
    {
     "data": {
      "text/html": [
       "<div>\n",
       "<style scoped>\n",
       "    .dataframe tbody tr th:only-of-type {\n",
       "        vertical-align: middle;\n",
       "    }\n",
       "\n",
       "    .dataframe tbody tr th {\n",
       "        vertical-align: top;\n",
       "    }\n",
       "\n",
       "    .dataframe thead th {\n",
       "        text-align: right;\n",
       "    }\n",
       "</style>\n",
       "<table border=\"1\" class=\"dataframe\">\n",
       "  <thead>\n",
       "    <tr style=\"text-align: right;\">\n",
       "      <th></th>\n",
       "      <th>image_path</th>\n",
       "      <th>mask_path</th>\n",
       "      <th>cancer_ratio</th>\n",
       "      <th>non_cancer_ratio</th>\n",
       "      <th>label</th>\n",
       "    </tr>\n",
       "  </thead>\n",
       "  <tbody>\n",
       "    <tr>\n",
       "      <th>6094</th>\n",
       "      <td>/kaggle/input/ubc-ocean-tiles-w-masks-2048px-scale-0-25/train_images/65094/00078_16-4.png</td>\n",
       "      <td>/kaggle/input/ubc-ocean-tiles-w-masks-2048px-scale-0-25/train_masks/65094/00078_16-4.png</td>\n",
       "      <td>1.000000</td>\n",
       "      <td>0.0</td>\n",
       "      <td>cancer</td>\n",
       "    </tr>\n",
       "    <tr>\n",
       "      <th>19461</th>\n",
       "      <td>/kaggle/input/ubc-ocean-tiles-w-masks-2048px-scale-0-25/train_images/46139/00024_11-2.png</td>\n",
       "      <td>/kaggle/input/ubc-ocean-tiles-w-masks-2048px-scale-0-25/train_masks/46139/00024_11-2.png</td>\n",
       "      <td>0.609463</td>\n",
       "      <td>0.0</td>\n",
       "      <td>cancer</td>\n",
       "    </tr>\n",
       "    <tr>\n",
       "      <th>3148</th>\n",
       "      <td>/kaggle/input/ubc-ocean-tiles-w-masks-2048px-scale-0-25/train_images/38901/00091_6-6.png</td>\n",
       "      <td>/kaggle/input/ubc-ocean-tiles-w-masks-2048px-scale-0-25/train_masks/38901/00091_6-6.png</td>\n",
       "      <td>0.534752</td>\n",
       "      <td>0.0</td>\n",
       "      <td>cancer</td>\n",
       "    </tr>\n",
       "    <tr>\n",
       "      <th>1391</th>\n",
       "      <td>/kaggle/input/ubc-ocean-tiles-w-masks-2048px-scale-0-25/train_images/16064/00084_20-5.png</td>\n",
       "      <td>/kaggle/input/ubc-ocean-tiles-w-masks-2048px-scale-0-25/train_masks/16064/00084_20-5.png</td>\n",
       "      <td>0.361774</td>\n",
       "      <td>0.0</td>\n",
       "      <td>cancer</td>\n",
       "    </tr>\n",
       "    <tr>\n",
       "      <th>42008</th>\n",
       "      <td>/kaggle/input/ubc-ocean-tiles-w-masks-2048px-scale-0-25/train_images/56875/00174_9-11.png</td>\n",
       "      <td>/kaggle/input/ubc-ocean-tiles-w-masks-2048px-scale-0-25/train_masks/56875/00174_9-11.png</td>\n",
       "      <td>0.000000</td>\n",
       "      <td>0.0</td>\n",
       "      <td>unknown</td>\n",
       "    </tr>\n",
       "  </tbody>\n",
       "</table>\n",
       "</div>"
      ],
      "text/plain": [
       "                                                                                      image_path  \\\n",
       "6094   /kaggle/input/ubc-ocean-tiles-w-masks-2048px-scale-0-25/train_images/65094/00078_16-4.png   \n",
       "19461  /kaggle/input/ubc-ocean-tiles-w-masks-2048px-scale-0-25/train_images/46139/00024_11-2.png   \n",
       "3148    /kaggle/input/ubc-ocean-tiles-w-masks-2048px-scale-0-25/train_images/38901/00091_6-6.png   \n",
       "1391   /kaggle/input/ubc-ocean-tiles-w-masks-2048px-scale-0-25/train_images/16064/00084_20-5.png   \n",
       "42008  /kaggle/input/ubc-ocean-tiles-w-masks-2048px-scale-0-25/train_images/56875/00174_9-11.png   \n",
       "\n",
       "                                                                                      mask_path  \\\n",
       "6094   /kaggle/input/ubc-ocean-tiles-w-masks-2048px-scale-0-25/train_masks/65094/00078_16-4.png   \n",
       "19461  /kaggle/input/ubc-ocean-tiles-w-masks-2048px-scale-0-25/train_masks/46139/00024_11-2.png   \n",
       "3148    /kaggle/input/ubc-ocean-tiles-w-masks-2048px-scale-0-25/train_masks/38901/00091_6-6.png   \n",
       "1391   /kaggle/input/ubc-ocean-tiles-w-masks-2048px-scale-0-25/train_masks/16064/00084_20-5.png   \n",
       "42008  /kaggle/input/ubc-ocean-tiles-w-masks-2048px-scale-0-25/train_masks/56875/00174_9-11.png   \n",
       "\n",
       "       cancer_ratio  non_cancer_ratio    label  \n",
       "6094       1.000000               0.0   cancer  \n",
       "19461      0.609463               0.0   cancer  \n",
       "3148       0.534752               0.0   cancer  \n",
       "1391       0.361774               0.0   cancer  \n",
       "42008      0.000000               0.0  unknown  "
      ]
     },
     "metadata": {},
     "output_type": "display_data"
    }
   ],
   "source": [
    "ROOT_DIR = '/kaggle/input/UBC-OCEAN'\n",
    "TRAIN_DIR = '/kaggle/input/tiles-of-cancer-2048px-scale-0-25'\n",
    "INFER_DIR = '/kaggle/input/ubc-ocean-tiles-w-masks-2048px-scale-0-25'\n",
    "\n",
    "df_orig = pd.read_csv(\"/kaggle/input/UBC-OCEAN/train.csv\")\n",
    "df_orig = df_orig.rename(columns={\"label\":\"subtype\"})\n",
    "df_labelled = pd.read_csv(\"/kaggle/input/df-tiles-025x-cancer-tissue-binary-labels/tiles_labelled_binary_cancer.csv\", index_col=\"Unnamed: 0\")\n",
    "display(df_orig.sample(5))\n",
    "display(df_labelled.sample(5))"
   ]
  },
  {
   "cell_type": "code",
   "execution_count": 9,
   "id": "637477aa",
   "metadata": {
    "execution": {
     "iopub.execute_input": "2023-12-13T13:49:22.511433Z",
     "iopub.status.busy": "2023-12-13T13:49:22.511087Z",
     "iopub.status.idle": "2023-12-13T13:49:22.646450Z",
     "shell.execute_reply": "2023-12-13T13:49:22.645468Z"
    },
    "papermill": {
     "duration": 0.149186,
     "end_time": "2023-12-13T13:49:22.648767",
     "exception": false,
     "start_time": "2023-12-13T13:49:22.499581",
     "status": "completed"
    },
    "tags": []
   },
   "outputs": [],
   "source": [
    "def prepare_df(df_labelled):\n",
    "    df_labelled[\"image_id\"] = df_labelled[\"image_path\"].map(lambda x: int(x.split('/')[-2]))\n",
    "    df_labelled = df_labelled[~df_labelled[\"image_path\"].str.lower().str.contains(\"tma\")]\n",
    "    df_labelled = df_labelled[df_labelled[\"label\"]!=\"unknown\"].reset_index(drop=True)\n",
    "    df_labelled = pd.merge(df_labelled, df_orig, on=\"image_id\", how=\"left\")\n",
    "    df_labelled[\"group\"] = df_labelled[\"label\"] + \"_\" + df_labelled[\"subtype\"] \n",
    "    return df_labelled\n",
    "\n",
    "\n",
    "df_masks = prepare_df(df_labelled)"
   ]
  },
  {
   "cell_type": "code",
   "execution_count": 10,
   "id": "d253a8d9",
   "metadata": {
    "execution": {
     "iopub.execute_input": "2023-12-13T13:49:22.671671Z",
     "iopub.status.busy": "2023-12-13T13:49:22.671317Z",
     "iopub.status.idle": "2023-12-13T13:50:14.046992Z",
     "shell.execute_reply": "2023-12-13T13:50:14.046067Z"
    },
    "papermill": {
     "duration": 51.400201,
     "end_time": "2023-12-13T13:50:14.059601",
     "exception": false,
     "start_time": "2023-12-13T13:49:22.659400",
     "status": "completed"
    },
    "tags": []
   },
   "outputs": [
    {
     "name": "stdout",
     "output_type": "stream",
     "text": [
      "(123714, 2)\n",
      "Example row: /kaggle/input/tiles-of-cancer-2048px-scale-0-25/8805/000021_6-2.png 8805\n"
     ]
    },
    {
     "data": {
      "text/html": [
       "<div>\n",
       "<style scoped>\n",
       "    .dataframe tbody tr th:only-of-type {\n",
       "        vertical-align: middle;\n",
       "    }\n",
       "\n",
       "    .dataframe tbody tr th {\n",
       "        vertical-align: top;\n",
       "    }\n",
       "\n",
       "    .dataframe thead th {\n",
       "        text-align: right;\n",
       "    }\n",
       "</style>\n",
       "<table border=\"1\" class=\"dataframe\">\n",
       "  <thead>\n",
       "    <tr style=\"text-align: right;\">\n",
       "      <th></th>\n",
       "      <th>image_path</th>\n",
       "      <th>image_id</th>\n",
       "    </tr>\n",
       "  </thead>\n",
       "  <tbody>\n",
       "    <tr>\n",
       "      <th>0</th>\n",
       "      <td>/kaggle/input/tiles-of-cancer-2048px-scale-0-25/8805/000021_6-2.png</td>\n",
       "      <td>8805</td>\n",
       "    </tr>\n",
       "    <tr>\n",
       "      <th>1</th>\n",
       "      <td>/kaggle/input/tiles-of-cancer-2048px-scale-0-25/8805/000056_9-4.png</td>\n",
       "      <td>8805</td>\n",
       "    </tr>\n",
       "    <tr>\n",
       "      <th>2</th>\n",
       "      <td>/kaggle/input/tiles-of-cancer-2048px-scale-0-25/8805/000089_10-6.png</td>\n",
       "      <td>8805</td>\n",
       "    </tr>\n",
       "    <tr>\n",
       "      <th>3</th>\n",
       "      <td>/kaggle/input/tiles-of-cancer-2048px-scale-0-25/8805/000002_3-1.png</td>\n",
       "      <td>8805</td>\n",
       "    </tr>\n",
       "    <tr>\n",
       "      <th>4</th>\n",
       "      <td>/kaggle/input/tiles-of-cancer-2048px-scale-0-25/8805/000057_10-4.png</td>\n",
       "      <td>8805</td>\n",
       "    </tr>\n",
       "  </tbody>\n",
       "</table>\n",
       "</div>"
      ],
      "text/plain": [
       "                                                             image_path  \\\n",
       "0   /kaggle/input/tiles-of-cancer-2048px-scale-0-25/8805/000021_6-2.png   \n",
       "1   /kaggle/input/tiles-of-cancer-2048px-scale-0-25/8805/000056_9-4.png   \n",
       "2  /kaggle/input/tiles-of-cancer-2048px-scale-0-25/8805/000089_10-6.png   \n",
       "3   /kaggle/input/tiles-of-cancer-2048px-scale-0-25/8805/000002_3-1.png   \n",
       "4  /kaggle/input/tiles-of-cancer-2048px-scale-0-25/8805/000057_10-4.png   \n",
       "\n",
       "   image_id  \n",
       "0      8805  \n",
       "1      8805  \n",
       "2      8805  \n",
       "3      8805  \n",
       "4      8805  "
      ]
     },
     "metadata": {},
     "output_type": "display_data"
    }
   ],
   "source": [
    "directory_path = \"/kaggle/input/tiles-of-cancer-2048px-scale-0-25\"\n",
    "df_tiles_all = create_img_dataframe_from_directory(directory_path)\n",
    "df_tiles_all[\"image_id\"] = df_tiles_all[\"image_id\"].astype(int)\n",
    "print(df_tiles_all.shape)\n",
    "print(\"Example row:\", df_tiles_all.iloc[0,0], df_tiles_all.iloc[0,1])\n",
    "display(df_tiles_all.head()) "
   ]
  },
  {
   "cell_type": "code",
   "execution_count": 11,
   "id": "ceb5a15e",
   "metadata": {
    "execution": {
     "iopub.execute_input": "2023-12-13T13:50:14.082173Z",
     "iopub.status.busy": "2023-12-13T13:50:14.081840Z",
     "iopub.status.idle": "2023-12-13T13:50:14.087685Z",
     "shell.execute_reply": "2023-12-13T13:50:14.086818Z"
    },
    "papermill": {
     "duration": 0.01956,
     "end_time": "2023-12-13T13:50:14.089895",
     "exception": false,
     "start_time": "2023-12-13T13:50:14.070335",
     "status": "completed"
    },
    "tags": []
   },
   "outputs": [
    {
     "name": "stdout",
     "output_type": "stream",
     "text": [
      "Example row: /kaggle/input/tiles-of-cancer-2048px-scale-0-25/8805/000021_6-2.png 8805\n",
      "Example row: /kaggle/input/ubc-ocean-tiles-w-masks-2048px-scale-0-25/train_images/53688/00014_8-2.png /kaggle/input/ubc-ocean-tiles-w-masks-2048px-scale-0-25/train_masks/53688/00014_8-2.png\n"
     ]
    }
   ],
   "source": [
    "print(\"Example row:\", df_tiles_all.iloc[0,0], df_tiles_all.iloc[0,1])\n",
    "print(\"Example row:\", df_masks.iloc[0,0], df_masks.iloc[0,1])\n"
   ]
  },
  {
   "cell_type": "code",
   "execution_count": 12,
   "id": "1c59da6b",
   "metadata": {
    "execution": {
     "iopub.execute_input": "2023-12-13T13:50:14.112377Z",
     "iopub.status.busy": "2023-12-13T13:50:14.112079Z",
     "iopub.status.idle": "2023-12-13T13:50:14.119427Z",
     "shell.execute_reply": "2023-12-13T13:50:14.118670Z"
    },
    "papermill": {
     "duration": 0.02062,
     "end_time": "2023-12-13T13:50:14.121244",
     "exception": false,
     "start_time": "2023-12-13T13:50:14.100624",
     "status": "completed"
    },
    "tags": []
   },
   "outputs": [
    {
     "data": {
      "text/plain": [
       "(152, 538)"
      ]
     },
     "execution_count": 12,
     "metadata": {},
     "output_type": "execute_result"
    }
   ],
   "source": [
    "df_masks[\"image_id\"].nunique(), df_tiles_all[\"image_id\"].nunique()"
   ]
  },
  {
   "cell_type": "code",
   "execution_count": 13,
   "id": "5135a1ce",
   "metadata": {
    "execution": {
     "iopub.execute_input": "2023-12-13T13:50:14.143865Z",
     "iopub.status.busy": "2023-12-13T13:50:14.143547Z",
     "iopub.status.idle": "2023-12-13T13:50:14.152713Z",
     "shell.execute_reply": "2023-12-13T13:50:14.151880Z"
    },
    "papermill": {
     "duration": 0.022492,
     "end_time": "2023-12-13T13:50:14.154528",
     "exception": false,
     "start_time": "2023-12-13T13:50:14.132036",
     "status": "completed"
    },
    "tags": []
   },
   "outputs": [],
   "source": [
    "img_color_mean=[0.8661704276539922, 0.7663107094675368, 0.8574260897185548]\n",
    "img_color_std=[0.08670629753900036, 0.11646580094195522, 0.07164169171856792]\n",
    "\n",
    "data_transforms = {\n",
    "    \"train\": A.Compose([\n",
    "        A.Resize(512, 512),\n",
    "        A.HorizontalFlip(p=0.5),\n",
    "        A.VerticalFlip(p=0.5),\n",
    "        # A.RandomBrightnessContrast(p=0.75),\n",
    "        A.ShiftScaleRotate(p=0.75),\n",
    "        A.OneOf([\n",
    "        A.GaussNoise(var_limit=[10, 50]),\n",
    "        A.GaussianBlur(),\n",
    "        A.MotionBlur(),\n",
    "        ], p=0.4),\n",
    "        A.GridDistortion(num_steps=5, distort_limit=0.3, p=0.5),\n",
    "        A.CoarseDropout(max_holes=5, max_width=int(512* 0.1), max_height=int(512* 0.1),\n",
    "        mask_fill_value=0, p=0.5),\n",
    "        A.Normalize(img_color_mean, img_color_std), \n",
    "        ToTensorV2()], p=1.),\n",
    "    \n",
    "    \"valid\": A.Compose([\n",
    "        A.Resize(CONFIG['img_size'], CONFIG['img_size']),\n",
    "        A.Normalize(img_color_mean, img_color_std), \n",
    "        ToTensorV2()], p=1.)\n",
    "}\n",
    "\n"
   ]
  },
  {
   "cell_type": "markdown",
   "id": "c3d37114",
   "metadata": {
    "papermill": {
     "duration": 0.010501,
     "end_time": "2023-12-13T13:50:14.175624",
     "exception": false,
     "start_time": "2023-12-13T13:50:14.165123",
     "status": "completed"
    },
    "tags": []
   },
   "source": [
    "## 3. Training"
   ]
  },
  {
   "cell_type": "code",
   "execution_count": 14,
   "id": "8f89a5bd",
   "metadata": {
    "execution": {
     "iopub.execute_input": "2023-12-13T13:50:14.198584Z",
     "iopub.status.busy": "2023-12-13T13:50:14.197818Z",
     "iopub.status.idle": "2023-12-13T13:50:14.205869Z",
     "shell.execute_reply": "2023-12-13T13:50:14.204962Z"
    },
    "papermill": {
     "duration": 0.021485,
     "end_time": "2023-12-13T13:50:14.207833",
     "exception": false,
     "start_time": "2023-12-13T13:50:14.186348",
     "status": "completed"
    },
    "tags": []
   },
   "outputs": [],
   "source": [
    "class InferBinaryTilesDataset(Dataset):\n",
    "    \"\"\"\n",
    "    Dataset Class which is used in order to read tiles from given folder / path and label them accroding to a binary classifier.\n",
    "    This is a pure inference dataset. \n",
    "    \n",
    "    \"\"\"\n",
    "    def __init__(\n",
    "        self,\n",
    "        df_data,\n",
    "        transforms = None,\n",
    "        mode: str = 'valid',\n",
    "        labels_lut = None,\n",
    "        # train_val_split: float = 0.90,\n",
    "        tissue_label_th: float = 0.2\n",
    "    ):\n",
    "\n",
    "        self.transforms = transforms\n",
    "        self.mode = mode\n",
    "        self.data = df_data\n",
    "        self.img_paths =  self.data.image_path.values.tolist()\n",
    "        \n",
    "    def __getitem__(self, idx: int) -> tuple:\n",
    "        img_path = self.img_paths[idx]\n",
    "        assert os.path.isfile(img_path), f\"missing: {img_path}\"\n",
    "        tile = cv2.imread(img_path)\n",
    "        tile = cv2.cvtColor(tile, cv2.COLOR_BGR2RGB)\n",
    "        # augmentation\n",
    "        if self.transforms:\n",
    "            tile = self.transforms(image=tile)[\"image\"]\n",
    "        #print(f\"img dim: {img.shape}\")\n",
    "        return {\n",
    "            \"image\": tile,\n",
    "            \"image_path\": img_path,\n",
    "               }\n",
    "    \n",
    "    def __len__(self) -> int:\n",
    "        return len(self.img_paths)\n"
   ]
  },
  {
   "cell_type": "code",
   "execution_count": 15,
   "id": "097029ed",
   "metadata": {
    "execution": {
     "iopub.execute_input": "2023-12-13T13:50:14.230100Z",
     "iopub.status.busy": "2023-12-13T13:50:14.229803Z",
     "iopub.status.idle": "2023-12-13T13:50:14.234890Z",
     "shell.execute_reply": "2023-12-13T13:50:14.234064Z"
    },
    "papermill": {
     "duration": 0.018262,
     "end_time": "2023-12-13T13:50:14.236767",
     "exception": false,
     "start_time": "2023-12-13T13:50:14.218505",
     "status": "completed"
    },
    "tags": []
   },
   "outputs": [],
   "source": [
    "def metrics(df_pred):\n",
    "    conf_matrix = confusion_matrix(df_pred[\"label\"], df_pred[\"predicted_label\"])\n",
    "    accuracy = accuracy_score(df_pred[\"label\"], df_pred[\"predicted_label\"])\n",
    "    macro_f1 = f1_score(df_pred[\"label\"], df_pred[\"predicted_label\"], average='macro')\n",
    "    print(macro_f1, accuracy)\n",
    "    display(conf_matrix)"
   ]
  },
  {
   "cell_type": "code",
   "execution_count": 16,
   "id": "1fea7fce",
   "metadata": {
    "execution": {
     "iopub.execute_input": "2023-12-13T13:50:14.259820Z",
     "iopub.status.busy": "2023-12-13T13:50:14.259531Z",
     "iopub.status.idle": "2023-12-13T13:50:14.269078Z",
     "shell.execute_reply": "2023-12-13T13:50:14.268125Z"
    },
    "papermill": {
     "duration": 0.023094,
     "end_time": "2023-12-13T13:50:14.270968",
     "exception": false,
     "start_time": "2023-12-13T13:50:14.247874",
     "status": "completed"
    },
    "tags": []
   },
   "outputs": [],
   "source": [
    "def infer_on_unlabelled_data(model, CONFIG, df_test, val_size=1.0):\n",
    "    model.eval()\n",
    "    infer_dataset = InferBinaryTilesDataset(df_test, transforms=data_transforms[\"valid\"])\n",
    "    infer_loader = DataLoader(infer_dataset, batch_size=CONFIG['valid_batch_size'], num_workers=2, shuffle=False, pin_memory=True)\n",
    "    print(f\"Test-Dataset Size: {len(infer_dataset)}\")\n",
    "\n",
    "    preds_list = []\n",
    "    probs_list = []\n",
    "    image_path_list = []\n",
    "    #test_acc = 0.0\n",
    "\n",
    "    with torch.no_grad():\n",
    "        bar = tqdm(enumerate(infer_loader), total=len(infer_loader))\n",
    "        for step, data in bar: \n",
    "            # print(step)\n",
    "            images = data['image'].to(CONFIG[\"device\"], dtype=torch.float)\n",
    "            image_paths = data['image_path'] # .to(CONFIG[\"device\"], dtype=torch.float)\n",
    "\n",
    "            outputs = model(images)        \n",
    "            probs = torch.sigmoid(outputs)\n",
    "            predicted = (probs > 0.5).int()\n",
    "            #preds_list.append(predicted.detach().cpu().numpy() )\n",
    "            #probs_list.append(probs.detach().cpu().numpy() )\n",
    "            #image_path_list.append(image_paths)\n",
    "            preds_list.extend(predicted.detach().cpu().numpy().ravel())\n",
    "            probs_list.extend(probs.detach().cpu().numpy().ravel())            \n",
    "            image_path_list.extend(image_paths)\n",
    "    # pred_labels = encoder.inverse_transform(preds_list)\n",
    "    df_infer = pd.DataFrame({\n",
    "        \"image_path\": image_path_list,\n",
    "        \"prediction\": preds_list,\n",
    "        \"probability\": probs_list,\n",
    "    })\n",
    "    return df_infer"
   ]
  },
  {
   "cell_type": "code",
   "execution_count": 17,
   "id": "3a01e31c",
   "metadata": {
    "execution": {
     "iopub.execute_input": "2023-12-13T13:50:14.293469Z",
     "iopub.status.busy": "2023-12-13T13:50:14.293180Z",
     "iopub.status.idle": "2023-12-13T13:50:17.947532Z",
     "shell.execute_reply": "2023-12-13T13:50:17.946584Z"
    },
    "papermill": {
     "duration": 3.668495,
     "end_time": "2023-12-13T13:50:17.950282",
     "exception": false,
     "start_time": "2023-12-13T13:50:14.281787",
     "status": "completed"
    },
    "tags": []
   },
   "outputs": [],
   "source": [
    "model = UBCBinaryModel(CONFIG['model_name'], pretrained=False , checkpoint_path=None)\n",
    "# model_path = \"/kaggle/input/binary-tiles-classifier-025x-v6/best_model_checkpoint2023-12-10_10-57-05.pth\"\n",
    "model.load_state_dict(torch.load(CONFIG[\"model_path\"], map_location=CONFIG[\"device\"]))\n",
    "model.to(CONFIG['device']);\n",
    "\n",
    "label_dict = {\n",
    "    0:\"cancer\",\n",
    "    1:\"non-cancer\"}"
   ]
  },
  {
   "cell_type": "code",
   "execution_count": 18,
   "id": "d106b28b",
   "metadata": {
    "execution": {
     "iopub.execute_input": "2023-12-13T13:50:17.973775Z",
     "iopub.status.busy": "2023-12-13T13:50:17.973230Z",
     "iopub.status.idle": "2023-12-13T13:50:17.983961Z",
     "shell.execute_reply": "2023-12-13T13:50:17.983068Z"
    },
    "papermill": {
     "duration": 0.024493,
     "end_time": "2023-12-13T13:50:17.985764",
     "exception": false,
     "start_time": "2023-12-13T13:50:17.961271",
     "status": "completed"
    },
    "tags": []
   },
   "outputs": [
    {
     "name": "stdout",
     "output_type": "stream",
     "text": [
      "(2888, 5)\n"
     ]
    },
    {
     "data": {
      "text/html": [
       "<div>\n",
       "<style scoped>\n",
       "    .dataframe tbody tr th:only-of-type {\n",
       "        vertical-align: middle;\n",
       "    }\n",
       "\n",
       "    .dataframe tbody tr th {\n",
       "        vertical-align: top;\n",
       "    }\n",
       "\n",
       "    .dataframe thead th {\n",
       "        text-align: right;\n",
       "    }\n",
       "</style>\n",
       "<table border=\"1\" class=\"dataframe\">\n",
       "  <thead>\n",
       "    <tr style=\"text-align: right;\">\n",
       "      <th></th>\n",
       "      <th>image_path</th>\n",
       "      <th>label</th>\n",
       "      <th>predicted_label</th>\n",
       "      <th>prediction</th>\n",
       "      <th>probability</th>\n",
       "    </tr>\n",
       "  </thead>\n",
       "  <tbody>\n",
       "    <tr>\n",
       "      <th>0</th>\n",
       "      <td>/kaggle/input/ubc-ocean-tiles-w-masks-2048px-scale-0-25/train_images/30738/00071_26-6.png</td>\n",
       "      <td>0.0</td>\n",
       "      <td>cancer</td>\n",
       "      <td>0</td>\n",
       "      <td>0</td>\n",
       "    </tr>\n",
       "    <tr>\n",
       "      <th>1</th>\n",
       "      <td>/kaggle/input/ubc-ocean-tiles-w-masks-2048px-scale-0-25/train_images/36063/00141_31-9.png</td>\n",
       "      <td>0.0</td>\n",
       "      <td>cancer</td>\n",
       "      <td>0</td>\n",
       "      <td>0</td>\n",
       "    </tr>\n",
       "  </tbody>\n",
       "</table>\n",
       "</div>"
      ],
      "text/plain": [
       "                                                                                  image_path  \\\n",
       "0  /kaggle/input/ubc-ocean-tiles-w-masks-2048px-scale-0-25/train_images/30738/00071_26-6.png   \n",
       "1  /kaggle/input/ubc-ocean-tiles-w-masks-2048px-scale-0-25/train_images/36063/00141_31-9.png   \n",
       "\n",
       "   label predicted_label  prediction  probability  \n",
       "0    0.0          cancer           0            0  \n",
       "1    0.0          cancer           0            0  "
      ]
     },
     "execution_count": 18,
     "metadata": {},
     "output_type": "execute_result"
    }
   ],
   "source": [
    "print(df_test.shape)\n",
    "df_test.head(2)"
   ]
  },
  {
   "cell_type": "code",
   "execution_count": 19,
   "id": "667e5023",
   "metadata": {
    "execution": {
     "iopub.execute_input": "2023-12-13T13:50:18.008796Z",
     "iopub.status.busy": "2023-12-13T13:50:18.008529Z",
     "iopub.status.idle": "2023-12-13T13:51:19.915197Z",
     "shell.execute_reply": "2023-12-13T13:51:19.914104Z"
    },
    "papermill": {
     "duration": 61.920441,
     "end_time": "2023-12-13T13:51:19.917455",
     "exception": false,
     "start_time": "2023-12-13T13:50:17.997014",
     "status": "completed"
    },
    "tags": []
   },
   "outputs": [
    {
     "name": "stdout",
     "output_type": "stream",
     "text": [
      "Infer on Holdout Set:\n",
      "Test-Dataset Size: 2888\n"
     ]
    },
    {
     "name": "stderr",
     "output_type": "stream",
     "text": [
      "100%|██████████| 91/91 [01:01<00:00,  1.47it/s]\n"
     ]
    }
   ],
   "source": [
    "print(\"Infer on Holdout Set:\")\n",
    "df_test_control = infer_on_unlabelled_data(model, CONFIG, df_test)\n"
   ]
  },
  {
   "cell_type": "code",
   "execution_count": 20,
   "id": "6c54f9ac",
   "metadata": {
    "execution": {
     "iopub.execute_input": "2023-12-13T13:51:20.010953Z",
     "iopub.status.busy": "2023-12-13T13:51:20.010563Z",
     "iopub.status.idle": "2023-12-13T13:51:20.068371Z",
     "shell.execute_reply": "2023-12-13T13:51:20.067448Z"
    },
    "papermill": {
     "duration": 0.080517,
     "end_time": "2023-12-13T13:51:20.071297",
     "exception": false,
     "start_time": "2023-12-13T13:51:19.990780",
     "status": "completed"
    },
    "tags": []
   },
   "outputs": [
    {
     "data": {
      "text/html": [
       "<div>\n",
       "<style scoped>\n",
       "    .dataframe tbody tr th:only-of-type {\n",
       "        vertical-align: middle;\n",
       "    }\n",
       "\n",
       "    .dataframe tbody tr th {\n",
       "        vertical-align: top;\n",
       "    }\n",
       "\n",
       "    .dataframe thead th {\n",
       "        text-align: right;\n",
       "    }\n",
       "</style>\n",
       "<table border=\"1\" class=\"dataframe\">\n",
       "  <thead>\n",
       "    <tr style=\"text-align: right;\">\n",
       "      <th></th>\n",
       "      <th>image_path</th>\n",
       "      <th>prediction</th>\n",
       "      <th>probability</th>\n",
       "      <th>predicted_label</th>\n",
       "    </tr>\n",
       "  </thead>\n",
       "  <tbody>\n",
       "    <tr>\n",
       "      <th>0</th>\n",
       "      <td>/kaggle/input/ubc-ocean-tiles-w-masks-2048px-scale-0-25/train_images/30738/00071_26-6.png</td>\n",
       "      <td>0</td>\n",
       "      <td>0.0000</td>\n",
       "      <td>cancer</td>\n",
       "    </tr>\n",
       "    <tr>\n",
       "      <th>1</th>\n",
       "      <td>/kaggle/input/ubc-ocean-tiles-w-masks-2048px-scale-0-25/train_images/36063/00141_31-9.png</td>\n",
       "      <td>0</td>\n",
       "      <td>0.3267</td>\n",
       "      <td>cancer</td>\n",
       "    </tr>\n",
       "    <tr>\n",
       "      <th>2</th>\n",
       "      <td>/kaggle/input/ubc-ocean-tiles-w-masks-2048px-scale-0-25/train_images/50304/00407_11-19.png</td>\n",
       "      <td>0</td>\n",
       "      <td>0.0000</td>\n",
       "      <td>cancer</td>\n",
       "    </tr>\n",
       "    <tr>\n",
       "      <th>3</th>\n",
       "      <td>/kaggle/input/ubc-ocean-tiles-w-masks-2048px-scale-0-25/train_images/19255/00417_30-15.png</td>\n",
       "      <td>0</td>\n",
       "      <td>0.0009</td>\n",
       "      <td>cancer</td>\n",
       "    </tr>\n",
       "    <tr>\n",
       "      <th>4</th>\n",
       "      <td>/kaggle/input/ubc-ocean-tiles-w-masks-2048px-scale-0-25/train_images/47960/00099_8-7.png</td>\n",
       "      <td>0</td>\n",
       "      <td>0.0000</td>\n",
       "      <td>cancer</td>\n",
       "    </tr>\n",
       "  </tbody>\n",
       "</table>\n",
       "</div>"
      ],
      "text/plain": [
       "                                                                                   image_path  \\\n",
       "0   /kaggle/input/ubc-ocean-tiles-w-masks-2048px-scale-0-25/train_images/30738/00071_26-6.png   \n",
       "1   /kaggle/input/ubc-ocean-tiles-w-masks-2048px-scale-0-25/train_images/36063/00141_31-9.png   \n",
       "2  /kaggle/input/ubc-ocean-tiles-w-masks-2048px-scale-0-25/train_images/50304/00407_11-19.png   \n",
       "3  /kaggle/input/ubc-ocean-tiles-w-masks-2048px-scale-0-25/train_images/19255/00417_30-15.png   \n",
       "4    /kaggle/input/ubc-ocean-tiles-w-masks-2048px-scale-0-25/train_images/47960/00099_8-7.png   \n",
       "\n",
       "   prediction  probability predicted_label  \n",
       "0           0       0.0000          cancer  \n",
       "1           0       0.3267          cancer  \n",
       "2           0       0.0000          cancer  \n",
       "3           0       0.0009          cancer  \n",
       "4           0       0.0000          cancer  "
      ]
     },
     "metadata": {},
     "output_type": "display_data"
    },
    {
     "name": "stdout",
     "output_type": "stream",
     "text": [
      "1.0\n"
     ]
    },
    {
     "data": {
      "text/plain": [
       "prediction\n",
       "0    2471\n",
       "1     417\n",
       "Name: count, dtype: int64"
      ]
     },
     "execution_count": 20,
     "metadata": {},
     "output_type": "execute_result"
    }
   ],
   "source": [
    "df_test_control[\"predicted_label\"] = encoder.inverse_transform(df_test_control[\"prediction\"])\n",
    "df_test_control[\"probability\"] = df_test_control[\"probability\"].map(lambda x: np.round(x, 4))\n",
    "display(df_test_control.head())\n",
    "print(df_test_control.probability.max())\n",
    "df_test_control.prediction.value_counts()"
   ]
  },
  {
   "cell_type": "code",
   "execution_count": 21,
   "id": "9a6da7d6",
   "metadata": {
    "execution": {
     "iopub.execute_input": "2023-12-13T13:51:20.112660Z",
     "iopub.status.busy": "2023-12-13T13:51:20.112273Z",
     "iopub.status.idle": "2023-12-13T13:51:20.163278Z",
     "shell.execute_reply": "2023-12-13T13:51:20.162056Z"
    },
    "papermill": {
     "duration": 0.073845,
     "end_time": "2023-12-13T13:51:20.165660",
     "exception": false,
     "start_time": "2023-12-13T13:51:20.091815",
     "status": "completed"
    },
    "tags": []
   },
   "outputs": [
    {
     "name": "stdout",
     "output_type": "stream",
     "text": [
      "(2888, 5)\n"
     ]
    },
    {
     "data": {
      "text/html": [
       "<div>\n",
       "<style scoped>\n",
       "    .dataframe tbody tr th:only-of-type {\n",
       "        vertical-align: middle;\n",
       "    }\n",
       "\n",
       "    .dataframe tbody tr th {\n",
       "        vertical-align: top;\n",
       "    }\n",
       "\n",
       "    .dataframe thead th {\n",
       "        text-align: right;\n",
       "    }\n",
       "</style>\n",
       "<table border=\"1\" class=\"dataframe\">\n",
       "  <thead>\n",
       "    <tr style=\"text-align: right;\">\n",
       "      <th></th>\n",
       "      <th>image_path</th>\n",
       "      <th>label</th>\n",
       "      <th>prediction</th>\n",
       "      <th>probability</th>\n",
       "      <th>predicted_label</th>\n",
       "    </tr>\n",
       "  </thead>\n",
       "  <tbody>\n",
       "    <tr>\n",
       "      <th>0</th>\n",
       "      <td>/kaggle/input/ubc-ocean-tiles-w-masks-2048px-scale-0-25/train_images/30738/00071_26-6.png</td>\n",
       "      <td>0.0</td>\n",
       "      <td>0</td>\n",
       "      <td>0.0000</td>\n",
       "      <td>cancer</td>\n",
       "    </tr>\n",
       "    <tr>\n",
       "      <th>1</th>\n",
       "      <td>/kaggle/input/ubc-ocean-tiles-w-masks-2048px-scale-0-25/train_images/36063/00141_31-9.png</td>\n",
       "      <td>0.0</td>\n",
       "      <td>0</td>\n",
       "      <td>0.3267</td>\n",
       "      <td>cancer</td>\n",
       "    </tr>\n",
       "  </tbody>\n",
       "</table>\n",
       "</div>"
      ],
      "text/plain": [
       "                                                                                  image_path  \\\n",
       "0  /kaggle/input/ubc-ocean-tiles-w-masks-2048px-scale-0-25/train_images/30738/00071_26-6.png   \n",
       "1  /kaggle/input/ubc-ocean-tiles-w-masks-2048px-scale-0-25/train_images/36063/00141_31-9.png   \n",
       "\n",
       "   label  prediction  probability predicted_label  \n",
       "0    0.0           0       0.0000          cancer  \n",
       "1    0.0           0       0.3267          cancer  "
      ]
     },
     "metadata": {},
     "output_type": "display_data"
    }
   ],
   "source": [
    "df_test = pd.merge(df_test[[\"image_path\", \"label\"]], df_test_control, on=\"image_path\", how=\"inner\")\n",
    "print(df_test.shape)\n",
    "display(df_test.head(2))\n",
    "df_test.to_csv(\"df_test_025x_predictions.csv\")"
   ]
  },
  {
   "cell_type": "code",
   "execution_count": 22,
   "id": "e85da330",
   "metadata": {
    "execution": {
     "iopub.execute_input": "2023-12-13T13:51:20.206085Z",
     "iopub.status.busy": "2023-12-13T13:51:20.205687Z",
     "iopub.status.idle": "2023-12-13T13:51:20.218367Z",
     "shell.execute_reply": "2023-12-13T13:51:20.217252Z"
    },
    "papermill": {
     "duration": 0.035292,
     "end_time": "2023-12-13T13:51:20.220386",
     "exception": false,
     "start_time": "2023-12-13T13:51:20.185094",
     "status": "completed"
    },
    "tags": []
   },
   "outputs": [
    {
     "name": "stdout",
     "output_type": "stream",
     "text": [
      "Accuracy Testset: 0.9501385041551247\n",
      "F1-Score Testset: 0.8043478260869565\n"
     ]
    }
   ],
   "source": [
    "print(\"Accuracy Testset:\", accuracy_score(df_test[\"label\"], df_test[\"prediction\"]))\n",
    "print(\"F1-Score Testset:\", f1_score(df_test[\"label\"], df_test[\"prediction\"]))"
   ]
  },
  {
   "cell_type": "code",
   "execution_count": 23,
   "id": "e69efeb6",
   "metadata": {
    "execution": {
     "iopub.execute_input": "2023-12-13T13:51:20.262560Z",
     "iopub.status.busy": "2023-12-13T13:51:20.262184Z",
     "iopub.status.idle": "2023-12-13T14:24:54.889890Z",
     "shell.execute_reply": "2023-12-13T14:24:54.888742Z"
    },
    "papermill": {
     "duration": 2014.651426,
     "end_time": "2023-12-13T14:24:54.892146",
     "exception": false,
     "start_time": "2023-12-13T13:51:20.240720",
     "status": "completed"
    },
    "tags": []
   },
   "outputs": [
    {
     "name": "stdout",
     "output_type": "stream",
     "text": [
      "Infer on Holdout Set:\n",
      "Test-Dataset Size: 123714\n"
     ]
    },
    {
     "name": "stderr",
     "output_type": "stream",
     "text": [
      "100%|██████████| 3867/3867 [33:33<00:00,  1.92it/s]\n"
     ]
    },
    {
     "data": {
      "text/html": [
       "<div>\n",
       "<style scoped>\n",
       "    .dataframe tbody tr th:only-of-type {\n",
       "        vertical-align: middle;\n",
       "    }\n",
       "\n",
       "    .dataframe tbody tr th {\n",
       "        vertical-align: top;\n",
       "    }\n",
       "\n",
       "    .dataframe thead th {\n",
       "        text-align: right;\n",
       "    }\n",
       "</style>\n",
       "<table border=\"1\" class=\"dataframe\">\n",
       "  <thead>\n",
       "    <tr style=\"text-align: right;\">\n",
       "      <th></th>\n",
       "      <th>image_path</th>\n",
       "      <th>prediction</th>\n",
       "      <th>probability</th>\n",
       "    </tr>\n",
       "  </thead>\n",
       "  <tbody>\n",
       "    <tr>\n",
       "      <th>0</th>\n",
       "      <td>/kaggle/input/tiles-of-cancer-2048px-scale-0-25/8805/000021_6-2.png</td>\n",
       "      <td>0</td>\n",
       "      <td>0.001676</td>\n",
       "    </tr>\n",
       "    <tr>\n",
       "      <th>1</th>\n",
       "      <td>/kaggle/input/tiles-of-cancer-2048px-scale-0-25/8805/000056_9-4.png</td>\n",
       "      <td>1</td>\n",
       "      <td>0.786360</td>\n",
       "    </tr>\n",
       "    <tr>\n",
       "      <th>2</th>\n",
       "      <td>/kaggle/input/tiles-of-cancer-2048px-scale-0-25/8805/000089_10-6.png</td>\n",
       "      <td>1</td>\n",
       "      <td>0.981452</td>\n",
       "    </tr>\n",
       "    <tr>\n",
       "      <th>3</th>\n",
       "      <td>/kaggle/input/tiles-of-cancer-2048px-scale-0-25/8805/000002_3-1.png</td>\n",
       "      <td>0</td>\n",
       "      <td>0.016089</td>\n",
       "    </tr>\n",
       "    <tr>\n",
       "      <th>4</th>\n",
       "      <td>/kaggle/input/tiles-of-cancer-2048px-scale-0-25/8805/000057_10-4.png</td>\n",
       "      <td>1</td>\n",
       "      <td>0.860730</td>\n",
       "    </tr>\n",
       "  </tbody>\n",
       "</table>\n",
       "</div>"
      ],
      "text/plain": [
       "                                                             image_path  \\\n",
       "0   /kaggle/input/tiles-of-cancer-2048px-scale-0-25/8805/000021_6-2.png   \n",
       "1   /kaggle/input/tiles-of-cancer-2048px-scale-0-25/8805/000056_9-4.png   \n",
       "2  /kaggle/input/tiles-of-cancer-2048px-scale-0-25/8805/000089_10-6.png   \n",
       "3   /kaggle/input/tiles-of-cancer-2048px-scale-0-25/8805/000002_3-1.png   \n",
       "4  /kaggle/input/tiles-of-cancer-2048px-scale-0-25/8805/000057_10-4.png   \n",
       "\n",
       "   prediction  probability  \n",
       "0           0     0.001676  \n",
       "1           1     0.786360  \n",
       "2           1     0.981452  \n",
       "3           0     0.016089  \n",
       "4           1     0.860730  "
      ]
     },
     "execution_count": 23,
     "metadata": {},
     "output_type": "execute_result"
    }
   ],
   "source": [
    "print(\"Infer on Holdout Set:\")\n",
    "df_tiles_labelled = infer_on_unlabelled_data(model, CONFIG, df_tiles_all)\n",
    "df_tiles_labelled.head()"
   ]
  },
  {
   "cell_type": "code",
   "execution_count": 24,
   "id": "560ceb83",
   "metadata": {
    "execution": {
     "iopub.execute_input": "2023-12-13T14:24:55.586668Z",
     "iopub.status.busy": "2023-12-13T14:24:55.585759Z",
     "iopub.status.idle": "2023-12-13T14:24:56.255677Z",
     "shell.execute_reply": "2023-12-13T14:24:56.254552Z"
    },
    "papermill": {
     "duration": 1.0005,
     "end_time": "2023-12-13T14:24:56.258278",
     "exception": false,
     "start_time": "2023-12-13T14:24:55.257778",
     "status": "completed"
    },
    "tags": []
   },
   "outputs": [],
   "source": [
    "df_tiles_all.to_csv(\"tiles_025x_full_pseudo_labels.csv\")"
   ]
  },
  {
   "cell_type": "code",
   "execution_count": 25,
   "id": "473ad2b0",
   "metadata": {
    "execution": {
     "iopub.execute_input": "2023-12-13T14:24:56.875648Z",
     "iopub.status.busy": "2023-12-13T14:24:56.875042Z",
     "iopub.status.idle": "2023-12-13T14:24:56.881132Z",
     "shell.execute_reply": "2023-12-13T14:24:56.880257Z"
    },
    "papermill": {
     "duration": 0.315289,
     "end_time": "2023-12-13T14:24:56.883097",
     "exception": false,
     "start_time": "2023-12-13T14:24:56.567808",
     "status": "completed"
    },
    "tags": []
   },
   "outputs": [
    {
     "data": {
      "text/plain": [
       "'\\ndf_pred = pd.merge(df_masks, df_test, on=\"image_path\", how=\"inner\")\\ndf_pred[\"predicted_label\"] = df_pred[\"prediction\"].map(label_dict) \\ndf_pred\\n\\ndf_conf = df_pred.loc[(df_pred[\"probability\"]>0.8) | (df_pred[\"probability\"]<0.2)]\\ndf_conf.shape\\n\\nmetrics(df_pred)\\nmetrics(df_conf)\\n'"
      ]
     },
     "execution_count": 25,
     "metadata": {},
     "output_type": "execute_result"
    }
   ],
   "source": [
    "\"\"\"\n",
    "df_pred = pd.merge(df_masks, df_test, on=\"image_path\", how=\"inner\")\n",
    "df_pred[\"predicted_label\"] = df_pred[\"prediction\"].map(label_dict) \n",
    "df_pred\n",
    "\n",
    "df_conf = df_pred.loc[(df_pred[\"probability\"]>0.8) | (df_pred[\"probability\"]<0.2)]\n",
    "df_conf.shape\n",
    "\n",
    "metrics(df_pred)\n",
    "metrics(df_conf)\n",
    "\"\"\""
   ]
  },
  {
   "cell_type": "code",
   "execution_count": 26,
   "id": "a06960af",
   "metadata": {
    "execution": {
     "iopub.execute_input": "2023-12-13T14:24:57.498584Z",
     "iopub.status.busy": "2023-12-13T14:24:57.498217Z",
     "iopub.status.idle": "2023-12-13T14:24:57.509368Z",
     "shell.execute_reply": "2023-12-13T14:24:57.508557Z"
    },
    "papermill": {
     "duration": 0.324073,
     "end_time": "2023-12-13T14:24:57.511277",
     "exception": false,
     "start_time": "2023-12-13T14:24:57.187204",
     "status": "completed"
    },
    "tags": []
   },
   "outputs": [],
   "source": [
    "def evaluate_dual_thresholds(y_true, y_probs):\n",
    "    thresholds = np.arange(0.0, 1.01, 0.05)\n",
    "    results = []\n",
    "\n",
    "    for lower_thresh, upper_thresh in itertools.product(thresholds, repeat=2):\n",
    "        if lower_thresh >= upper_thresh:\n",
    "            continue\n",
    "\n",
    "        y_pred = np.where(y_probs < lower_thresh, 0, np.where(y_probs > upper_thresh, 1, -1)) # -1 for 'unknown'\n",
    "        known_mask = y_pred != -1\n",
    "\n",
    "        if np.any(known_mask): # Calculate metrics only if there are 'known' samples\n",
    "            accuracy = accuracy_score(y_true[known_mask], y_pred[known_mask])\n",
    "            precision = precision_score(y_true[known_mask], y_pred[known_mask])\n",
    "            recall = recall_score(y_true[known_mask], y_pred[known_mask])\n",
    "            f1 = f1_score(y_true[known_mask], y_pred[known_mask])\n",
    "            results.append((lower_thresh, upper_thresh, accuracy, precision, recall, f1))\n",
    "\n",
    "    # Sorting results based on F1 score or another metric of choice\n",
    "    results.sort(key=lambda x: x[5], reverse=True) # Sort by F1 score\n",
    "\n",
    "    # Plotting the top 10 results\n",
    "    plt.figure(figsize=(10, 6))\n",
    "    for i, (lower_thresh, upper_thresh, accuracy, precision, recall, f1) in enumerate(results[:10]):\n",
    "        plt.plot([lower_thresh, upper_thresh], [f1, f1], label=f'Thresholds: {lower_thresh:.2f}-{upper_thresh:.2f}')\n",
    "\n",
    "    plt.xlabel('Threshold')\n",
    "    plt.ylabel('F1 Score')\n",
    "    plt.title('Evaluation of Different Threshold Pairs')\n",
    "    plt.legend()\n",
    "    plt.show()"
   ]
  },
  {
   "cell_type": "code",
   "execution_count": 27,
   "id": "eceee96c",
   "metadata": {
    "execution": {
     "iopub.execute_input": "2023-12-13T14:24:58.120711Z",
     "iopub.status.busy": "2023-12-13T14:24:58.120343Z",
     "iopub.status.idle": "2023-12-13T14:24:58.124543Z",
     "shell.execute_reply": "2023-12-13T14:24:58.123709Z"
    },
    "papermill": {
     "duration": 0.309804,
     "end_time": "2023-12-13T14:24:58.126512",
     "exception": false,
     "start_time": "2023-12-13T14:24:57.816708",
     "status": "completed"
    },
    "tags": []
   },
   "outputs": [],
   "source": [
    "# evaluate_dual_thresholds(df_test_control[\"label\"], df_test_control[\"probability\"])"
   ]
  },
  {
   "cell_type": "code",
   "execution_count": null,
   "id": "1286a650",
   "metadata": {
    "papermill": {
     "duration": 0.362496,
     "end_time": "2023-12-13T14:24:58.796286",
     "exception": false,
     "start_time": "2023-12-13T14:24:58.433790",
     "status": "completed"
    },
    "tags": []
   },
   "outputs": [],
   "source": []
  }
 ],
 "metadata": {
  "kaggle": {
   "accelerator": "gpu",
   "dataSources": [
    {
     "databundleVersionId": 6924515,
     "sourceId": 45867,
     "sourceType": "competition"
    },
    {
     "datasetId": 3889865,
     "sourceId": 6917177,
     "sourceType": "datasetVersion"
    },
    {
     "datasetId": 4014175,
     "sourceId": 6984590,
     "sourceType": "datasetVersion"
    },
    {
     "datasetId": 4027203,
     "sourceId": 7029230,
     "sourceType": "datasetVersion"
    },
    {
     "datasetId": 4133077,
     "sourceId": 7156628,
     "sourceType": "datasetVersion"
    },
    {
     "datasetId": 4154039,
     "sourceId": 7185654,
     "sourceType": "datasetVersion"
    },
    {
     "sourceId": 154724360,
     "sourceType": "kernelVersion"
    },
    {
     "sourceId": 154725573,
     "sourceType": "kernelVersion"
    },
    {
     "sourceId": 154832111,
     "sourceType": "kernelVersion"
    },
    {
     "sourceId": 154840576,
     "sourceType": "kernelVersion"
    }
   ],
   "dockerImageVersionId": 30559,
   "isGpuEnabled": true,
   "isInternetEnabled": true,
   "language": "python",
   "sourceType": "notebook"
  },
  "kernelspec": {
   "display_name": "Python 3",
   "language": "python",
   "name": "python3"
  },
  "language_info": {
   "codemirror_mode": {
    "name": "ipython",
    "version": 3
   },
   "file_extension": ".py",
   "mimetype": "text/x-python",
   "name": "python",
   "nbconvert_exporter": "python",
   "pygments_lexer": "ipython3",
   "version": "3.10.12"
  },
  "papermill": {
   "default_parameters": {},
   "duration": 2173.692693,
   "end_time": "2023-12-13T14:25:02.162430",
   "environment_variables": {},
   "exception": null,
   "input_path": "__notebook__.ipynb",
   "output_path": "__notebook__.ipynb",
   "parameters": {},
   "start_time": "2023-12-13T13:48:48.469737",
   "version": "2.4.0"
  }
 },
 "nbformat": 4,
 "nbformat_minor": 5
}
