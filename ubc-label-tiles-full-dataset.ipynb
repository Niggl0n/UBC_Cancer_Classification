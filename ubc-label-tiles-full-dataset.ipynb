{
 "cells": [
  {
   "cell_type": "markdown",
   "id": "c066863f",
   "metadata": {
    "papermill": {
     "duration": 0.010417,
     "end_time": "2023-12-13T19:26:13.629689",
     "exception": false,
     "start_time": "2023-12-13T19:26:13.619272",
     "status": "completed"
    },
    "tags": []
   },
   "source": [
    "# Introduction \n",
    "\n",
    "**This Notebook is used to label the tiled dataset based on cancerous vs. non-cancerous tissue**\n",
    "\n",
    "- Binary Classificatio of Tiles\n",
    "- Inference on non-labeled dataset\n",
    "- Model trained on masked (sub-)dataset"
   ]
  },
  {
   "cell_type": "code",
   "execution_count": 1,
   "id": "8fa636a6",
   "metadata": {
    "execution": {
     "iopub.execute_input": "2023-12-13T19:26:13.651840Z",
     "iopub.status.busy": "2023-12-13T19:26:13.650995Z",
     "iopub.status.idle": "2023-12-13T19:26:13.663298Z",
     "shell.execute_reply": "2023-12-13T19:26:13.662445Z"
    },
    "papermill": {
     "duration": 0.025486,
     "end_time": "2023-12-13T19:26:13.665244",
     "exception": false,
     "start_time": "2023-12-13T19:26:13.639758",
     "status": "completed"
    },
    "tags": []
   },
   "outputs": [
    {
     "data": {
      "text/plain": [
       "'!pip install --quiet mlflow dagshub\\nimport mlflow.pytorch \\nfrom mlflow import MlflowClient'"
      ]
     },
     "execution_count": 1,
     "metadata": {},
     "output_type": "execute_result"
    }
   ],
   "source": [
    "\"\"\"!pip install --quiet mlflow dagshub\n",
    "import mlflow.pytorch \n",
    "from mlflow import MlflowClient\"\"\""
   ]
  },
  {
   "cell_type": "code",
   "execution_count": 2,
   "id": "40185ccb",
   "metadata": {
    "execution": {
     "iopub.execute_input": "2023-12-13T19:26:13.686169Z",
     "iopub.status.busy": "2023-12-13T19:26:13.685934Z",
     "iopub.status.idle": "2023-12-13T19:26:21.594014Z",
     "shell.execute_reply": "2023-12-13T19:26:21.593243Z"
    },
    "papermill": {
     "duration": 7.921018,
     "end_time": "2023-12-13T19:26:21.596253",
     "exception": false,
     "start_time": "2023-12-13T19:26:13.675235",
     "status": "completed"
    },
    "tags": []
   },
   "outputs": [
    {
     "name": "stderr",
     "output_type": "stream",
     "text": [
      "/opt/conda/lib/python3.10/site-packages/scipy/__init__.py:146: UserWarning: A NumPy version >=1.16.5 and <1.23.0 is required for this version of SciPy (detected version 1.23.5\n",
      "  warnings.warn(f\"A NumPy version >={np_minversion} and <{np_maxversion}\"\n"
     ]
    }
   ],
   "source": [
    "# Standard library imports\n",
    "import copy\n",
    "import datetime\n",
    "import gc\n",
    "import glob\n",
    "import heapq\n",
    "import joblib\n",
    "import math\n",
    "import os\n",
    "import random\n",
    "import time\n",
    "from collections import defaultdict\n",
    "from itertools import chain\n",
    "\n",
    "# Related third-party imports\n",
    "import albumentations as A\n",
    "import cv2\n",
    "import numpy as np\n",
    "import pandas as pd\n",
    "import timm\n",
    "import torch\n",
    "import torch.nn as nn\n",
    "import torch.nn.functional as F\n",
    "import torch.optim as optim\n",
    "import torchvision\n",
    "from albumentations.pytorch import ToTensorV2\n",
    "from colorama import Fore, Back, Style\n",
    "from joblib import Parallel, delayed\n",
    "from matplotlib import pyplot as plt\n",
    "from PIL import Image\n",
    "from skimage import io\n",
    "from sklearn.metrics import balanced_accuracy_score, confusion_matrix, f1_score, accuracy_score\n",
    "from sklearn.model_selection import StratifiedKFold\n",
    "from sklearn.preprocessing import LabelEncoder\n",
    "from torch.cuda import amp\n",
    "from torch.optim import lr_scheduler\n",
    "from torch.utils.data import Dataset, DataLoader\n",
    "from tqdm import tqdm, tqdm_notebook\n",
    "\n",
    "# Local application/library specific imports\n",
    "# (Your local imports here, if any)/kaggle/input/ubc-binary-cancer-tissue-classifier-wsi-0-25x/label_encoder.pkl\n",
    "\n",
    "# Set up for colored terminal text\n",
    "b_ = Fore.BLUE\n",
    "sr_ = Style.RESET_ALL\n",
    "\n",
    "# Disable warnings\n",
    "import warnings\n",
    "warnings.filterwarnings('ignore')\n",
    "os.environ['CUDA_LAUNCH_BLOCKING'] = \"1\"\n",
    "\n",
    "pd.set_option('display.max_colwidth', None)"
   ]
  },
  {
   "cell_type": "code",
   "execution_count": 3,
   "id": "b22bb783",
   "metadata": {
    "execution": {
     "iopub.execute_input": "2023-12-13T19:26:21.618186Z",
     "iopub.status.busy": "2023-12-13T19:26:21.617877Z",
     "iopub.status.idle": "2023-12-13T19:26:42.511983Z",
     "shell.execute_reply": "2023-12-13T19:26:42.510934Z"
    },
    "papermill": {
     "duration": 20.907516,
     "end_time": "2023-12-13T19:26:42.514359",
     "exception": false,
     "start_time": "2023-12-13T19:26:21.606843",
     "status": "completed"
    },
    "tags": []
   },
   "outputs": [
    {
     "name": "stdout",
     "output_type": "stream",
     "text": [
      "\u001b[31mERROR: pip's dependency resolver does not currently take into account all the packages that are installed. This behaviour is the source of the following dependency conflicts.\r\n",
      "ydata-profiling 4.3.1 requires dacite>=1.8, but you have dacite 1.6.0 which is incompatible.\r\n",
      "ydata-profiling 4.3.1 requires scipy<1.11,>=1.4.1, but you have scipy 1.11.2 which is incompatible.\u001b[0m\u001b[31m\r\n",
      "\u001b[0m"
     ]
    }
   ],
   "source": [
    "from ubc_utils_infrastructure import create_img_dataframe_from_directory\n",
    "from ubc_utils_models import UBCBinaryModel\n"
   ]
  },
  {
   "cell_type": "code",
   "execution_count": 4,
   "id": "64471889",
   "metadata": {
    "execution": {
     "iopub.execute_input": "2023-12-13T19:26:42.536939Z",
     "iopub.status.busy": "2023-12-13T19:26:42.536236Z",
     "iopub.status.idle": "2023-12-13T19:26:42.601571Z",
     "shell.execute_reply": "2023-12-13T19:26:42.600694Z"
    },
    "papermill": {
     "duration": 0.078657,
     "end_time": "2023-12-13T19:26:42.603602",
     "exception": false,
     "start_time": "2023-12-13T19:26:42.524945",
     "status": "completed"
    },
    "tags": []
   },
   "outputs": [],
   "source": [
    "CONFIG = {\n",
    "    \"datetime_now\": datetime.datetime.now().strftime(\"%Y-%m-%d_%H-%M-%S\"), \n",
    "    \"seed\": 42,\n",
    "    \"img_size\": 512,\n",
    "    \"model_name\": \"tf_efficientnet_b0_ns\",   # \"tf_efficientnet_b0_ns\", # \"tf_efficientnetv2_s_in21ft1k\"\n",
    "    \"model_path\": \"/kaggle/input/ubc-binary-cancer-tissue-classifier-wsi-0-25x/best_model_checkpoint2023-12-13_10-55-50.pth\",\n",
    "    \"valid_batch_size\": 32,\n",
    "    \"device\": torch.device(\"cuda:0\" if torch.cuda.is_available() else \"cpu\"),\n",
    "}"
   ]
  },
  {
   "cell_type": "markdown",
   "id": "549198da",
   "metadata": {
    "papermill": {
     "duration": 0.009961,
     "end_time": "2023-12-13T19:26:42.623775",
     "exception": false,
     "start_time": "2023-12-13T19:26:42.613814",
     "status": "completed"
    },
    "tags": []
   },
   "source": [
    "## 1. Data Preparation"
   ]
  },
  {
   "cell_type": "code",
   "execution_count": 5,
   "id": "8e8059a2",
   "metadata": {
    "execution": {
     "iopub.execute_input": "2023-12-13T19:26:42.645195Z",
     "iopub.status.busy": "2023-12-13T19:26:42.644908Z",
     "iopub.status.idle": "2023-12-13T19:26:42.709432Z",
     "shell.execute_reply": "2023-12-13T19:26:42.708526Z"
    },
    "papermill": {
     "duration": 0.077507,
     "end_time": "2023-12-13T19:26:42.711396",
     "exception": false,
     "start_time": "2023-12-13T19:26:42.633889",
     "status": "completed"
    },
    "tags": []
   },
   "outputs": [
    {
     "name": "stdout",
     "output_type": "stream",
     "text": [
      "{'is_submission': False, 'weighted_loss': True, 'datetime_now': '2023-12-13_10-55-43', 'n_fold': 5, 'test_fold': 0, 'valid_fold': 2, 'seed': 42, 'img_size': 512, 'model_name': 'tf_efficientnet_b0_ns', 'checkpoint_path': '/kaggle/input/tf-efficientnet-b0-aa-827b6e33-pth/tf_efficientnet_b0_aa-827b6e33.pth', 'num_classes': 5, 'train_batch_size': 8, 'valid_batch_size': 8, 'n_tiles': 10, 'n_tiles_test': 10, 'num_epochs': 10, 'early_stopping': True, 'patience': 6, 'optimizer': 'adam', 'scheduler': 'CosineAnnealingLR', 'min_lr': 1e-06, 'T_max': 10, 'momentum': 0.9, 'weight_decay': 1e-05, 'learning_rate': 0.0001, 'betas': (0.9, 0.999), 'eps': 1e-08}\n"
     ]
    },
    {
     "data": {
      "text/html": [
       "<div>\n",
       "<style scoped>\n",
       "    .dataframe tbody tr th:only-of-type {\n",
       "        vertical-align: middle;\n",
       "    }\n",
       "\n",
       "    .dataframe tbody tr th {\n",
       "        vertical-align: top;\n",
       "    }\n",
       "\n",
       "    .dataframe thead th {\n",
       "        text-align: right;\n",
       "    }\n",
       "</style>\n",
       "<table border=\"1\" class=\"dataframe\">\n",
       "  <thead>\n",
       "    <tr style=\"text-align: right;\">\n",
       "      <th></th>\n",
       "      <th>image_path</th>\n",
       "      <th>label</th>\n",
       "      <th>predicted_label</th>\n",
       "      <th>prediction</th>\n",
       "      <th>probability</th>\n",
       "    </tr>\n",
       "  </thead>\n",
       "  <tbody>\n",
       "    <tr>\n",
       "      <th>0</th>\n",
       "      <td>/kaggle/input/ubc-ocean-tiles-w-masks-2048px-scale-0-25/train_images/30738/00071_26-6.png</td>\n",
       "      <td>0.0</td>\n",
       "      <td>cancer</td>\n",
       "      <td>0</td>\n",
       "      <td>0</td>\n",
       "    </tr>\n",
       "    <tr>\n",
       "      <th>1</th>\n",
       "      <td>/kaggle/input/ubc-ocean-tiles-w-masks-2048px-scale-0-25/train_images/36063/00141_31-9.png</td>\n",
       "      <td>0.0</td>\n",
       "      <td>cancer</td>\n",
       "      <td>0</td>\n",
       "      <td>0</td>\n",
       "    </tr>\n",
       "    <tr>\n",
       "      <th>2</th>\n",
       "      <td>/kaggle/input/ubc-ocean-tiles-w-masks-2048px-scale-0-25/train_images/50304/00407_11-19.png</td>\n",
       "      <td>0.0</td>\n",
       "      <td>cancer</td>\n",
       "      <td>0</td>\n",
       "      <td>0</td>\n",
       "    </tr>\n",
       "    <tr>\n",
       "      <th>3</th>\n",
       "      <td>/kaggle/input/ubc-ocean-tiles-w-masks-2048px-scale-0-25/train_images/19255/00417_30-15.png</td>\n",
       "      <td>0.0</td>\n",
       "      <td>cancer</td>\n",
       "      <td>0</td>\n",
       "      <td>0</td>\n",
       "    </tr>\n",
       "    <tr>\n",
       "      <th>4</th>\n",
       "      <td>/kaggle/input/ubc-ocean-tiles-w-masks-2048px-scale-0-25/train_images/47960/00099_8-7.png</td>\n",
       "      <td>0.0</td>\n",
       "      <td>cancer</td>\n",
       "      <td>0</td>\n",
       "      <td>0</td>\n",
       "    </tr>\n",
       "  </tbody>\n",
       "</table>\n",
       "</div>"
      ],
      "text/plain": [
       "                                                                                   image_path  \\\n",
       "0   /kaggle/input/ubc-ocean-tiles-w-masks-2048px-scale-0-25/train_images/30738/00071_26-6.png   \n",
       "1   /kaggle/input/ubc-ocean-tiles-w-masks-2048px-scale-0-25/train_images/36063/00141_31-9.png   \n",
       "2  /kaggle/input/ubc-ocean-tiles-w-masks-2048px-scale-0-25/train_images/50304/00407_11-19.png   \n",
       "3  /kaggle/input/ubc-ocean-tiles-w-masks-2048px-scale-0-25/train_images/19255/00417_30-15.png   \n",
       "4    /kaggle/input/ubc-ocean-tiles-w-masks-2048px-scale-0-25/train_images/47960/00099_8-7.png   \n",
       "\n",
       "   label predicted_label  prediction  probability  \n",
       "0    0.0          cancer           0            0  \n",
       "1    0.0          cancer           0            0  \n",
       "2    0.0          cancer           0            0  \n",
       "3    0.0          cancer           0            0  \n",
       "4    0.0          cancer           0            0  "
      ]
     },
     "execution_count": 5,
     "metadata": {},
     "output_type": "execute_result"
    }
   ],
   "source": [
    "# load data from training notebook \n",
    "with open(\"/kaggle/input/ubc-binary-cancer-tissue-classifier-wsi-0-25x/label_encoder.pkl\", \"rb\") as fp:\n",
    "    encoder = joblib.load(fp)\n",
    "with open(\"/kaggle/input/ubc-binary-cancer-tissue-classifier-wsi-0-25x/CONFIG.pkl\", \"rb\") as fp:\n",
    "    CONFIG_TRAIN = joblib.load(fp)\n",
    "print(CONFIG_TRAIN)\n",
    "df_test = pd.read_csv(\"/kaggle/input/ubc-binary-cancer-tissue-classifier-wsi-0-25x/df_test_binary_classification.csv\")\n",
    "df_test.head()"
   ]
  },
  {
   "cell_type": "code",
   "execution_count": 6,
   "id": "fbd3e858",
   "metadata": {
    "execution": {
     "iopub.execute_input": "2023-12-13T19:26:42.733904Z",
     "iopub.status.busy": "2023-12-13T19:26:42.733610Z",
     "iopub.status.idle": "2023-12-13T19:26:42.749151Z",
     "shell.execute_reply": "2023-12-13T19:26:42.748335Z"
    },
    "papermill": {
     "duration": 0.028625,
     "end_time": "2023-12-13T19:26:42.750939",
     "exception": false,
     "start_time": "2023-12-13T19:26:42.722314",
     "status": "completed"
    },
    "tags": []
   },
   "outputs": [
    {
     "name": "stdout",
     "output_type": "stream",
     "text": [
      "(2888, 5)\n"
     ]
    },
    {
     "data": {
      "text/plain": [
       "label\n",
       "0.0    2569\n",
       "1.0     319\n",
       "Name: count, dtype: int64"
      ]
     },
     "metadata": {},
     "output_type": "display_data"
    },
    {
     "data": {
      "text/plain": [
       "prediction\n",
       "0    2471\n",
       "1     417\n",
       "Name: count, dtype: int64"
      ]
     },
     "metadata": {},
     "output_type": "display_data"
    }
   ],
   "source": [
    "print(df_test.shape)\n",
    "display(df_test.label.value_counts())\n",
    "display(df_test.prediction.value_counts())\n"
   ]
  },
  {
   "cell_type": "code",
   "execution_count": 7,
   "id": "b63d166d",
   "metadata": {
    "execution": {
     "iopub.execute_input": "2023-12-13T19:26:42.773409Z",
     "iopub.status.busy": "2023-12-13T19:26:42.773085Z",
     "iopub.status.idle": "2023-12-13T19:26:43.066825Z",
     "shell.execute_reply": "2023-12-13T19:26:43.065799Z"
    },
    "papermill": {
     "duration": 0.307196,
     "end_time": "2023-12-13T19:26:43.068843",
     "exception": false,
     "start_time": "2023-12-13T19:26:42.761647",
     "status": "completed"
    },
    "tags": []
   },
   "outputs": [
    {
     "data": {
      "text/plain": [
       "<Axes: >"
      ]
     },
     "execution_count": 7,
     "metadata": {},
     "output_type": "execute_result"
    },
    {
     "data": {
      "image/png": "[encoded data removed]",
      "text/plain": [
       "<Figure size 640x480 with 1 Axes>"
      ]
     },
     "metadata": {},
     "output_type": "display_data"
    }
   ],
   "source": [
    "df_test.probability.hist()"
   ]
  },
  {
   "cell_type": "code",
   "execution_count": 8,
   "id": "9c3bb1f2",
   "metadata": {
    "execution": {
     "iopub.execute_input": "2023-12-13T19:26:43.092844Z",
     "iopub.status.busy": "2023-12-13T19:26:43.092552Z",
     "iopub.status.idle": "2023-12-13T19:26:43.336887Z",
     "shell.execute_reply": "2023-12-13T19:26:43.335743Z"
    },
    "papermill": {
     "duration": 0.258748,
     "end_time": "2023-12-13T19:26:43.339221",
     "exception": false,
     "start_time": "2023-12-13T19:26:43.080473",
     "status": "completed"
    },
    "tags": []
   },
   "outputs": [
    {
     "data": {
      "text/html": [
       "<div>\n",
       "<style scoped>\n",
       "    .dataframe tbody tr th:only-of-type {\n",
       "        vertical-align: middle;\n",
       "    }\n",
       "\n",
       "    .dataframe tbody tr th {\n",
       "        vertical-align: top;\n",
       "    }\n",
       "\n",
       "    .dataframe thead th {\n",
       "        text-align: right;\n",
       "    }\n",
       "</style>\n",
       "<table border=\"1\" class=\"dataframe\">\n",
       "  <thead>\n",
       "    <tr style=\"text-align: right;\">\n",
       "      <th></th>\n",
       "      <th>image_id</th>\n",
       "      <th>subtype</th>\n",
       "      <th>image_width</th>\n",
       "      <th>image_height</th>\n",
       "      <th>is_tma</th>\n",
       "    </tr>\n",
       "  </thead>\n",
       "  <tbody>\n",
       "    <tr>\n",
       "      <th>296</th>\n",
       "      <td>36008</td>\n",
       "      <td>HGSC</td>\n",
       "      <td>54565</td>\n",
       "      <td>24542</td>\n",
       "      <td>False</td>\n",
       "    </tr>\n",
       "    <tr>\n",
       "      <th>368</th>\n",
       "      <td>43875</td>\n",
       "      <td>HGSC</td>\n",
       "      <td>74627</td>\n",
       "      <td>30260</td>\n",
       "      <td>False</td>\n",
       "    </tr>\n",
       "    <tr>\n",
       "      <th>493</th>\n",
       "      <td>59589</td>\n",
       "      <td>HGSC</td>\n",
       "      <td>49751</td>\n",
       "      <td>33607</td>\n",
       "      <td>False</td>\n",
       "    </tr>\n",
       "    <tr>\n",
       "      <th>403</th>\n",
       "      <td>47911</td>\n",
       "      <td>HGSC</td>\n",
       "      <td>45465</td>\n",
       "      <td>24590</td>\n",
       "      <td>False</td>\n",
       "    </tr>\n",
       "    <tr>\n",
       "      <th>145</th>\n",
       "      <td>17291</td>\n",
       "      <td>CC</td>\n",
       "      <td>52562</td>\n",
       "      <td>37932</td>\n",
       "      <td>False</td>\n",
       "    </tr>\n",
       "  </tbody>\n",
       "</table>\n",
       "</div>"
      ],
      "text/plain": [
       "     image_id subtype  image_width  image_height  is_tma\n",
       "296     36008    HGSC        54565         24542   False\n",
       "368     43875    HGSC        74627         30260   False\n",
       "493     59589    HGSC        49751         33607   False\n",
       "403     47911    HGSC        45465         24590   False\n",
       "145     17291      CC        52562         37932   False"
      ]
     },
     "metadata": {},
     "output_type": "display_data"
    },
    {
     "data": {
      "text/html": [
       "<div>\n",
       "<style scoped>\n",
       "    .dataframe tbody tr th:only-of-type {\n",
       "        vertical-align: middle;\n",
       "    }\n",
       "\n",
       "    .dataframe tbody tr th {\n",
       "        vertical-align: top;\n",
       "    }\n",
       "\n",
       "    .dataframe thead th {\n",
       "        text-align: right;\n",
       "    }\n",
       "</style>\n",
       "<table border=\"1\" class=\"dataframe\">\n",
       "  <thead>\n",
       "    <tr style=\"text-align: right;\">\n",
       "      <th></th>\n",
       "      <th>image_path</th>\n",
       "      <th>mask_path</th>\n",
       "      <th>cancer_ratio</th>\n",
       "      <th>non_cancer_ratio</th>\n",
       "      <th>label</th>\n",
       "    </tr>\n",
       "  </thead>\n",
       "  <tbody>\n",
       "    <tr>\n",
       "      <th>38761</th>\n",
       "      <td>/kaggle/input/ubc-ocean-tiles-w-masks-2048px-scale-0-25/train_images/15139/00118_26-6.png</td>\n",
       "      <td>/kaggle/input/ubc-ocean-tiles-w-masks-2048px-scale-0-25/train_masks/15139/00118_26-6.png</td>\n",
       "      <td>1.000000</td>\n",
       "      <td>0.000000</td>\n",
       "      <td>cancer</td>\n",
       "    </tr>\n",
       "    <tr>\n",
       "      <th>4380</th>\n",
       "      <td>/kaggle/input/ubc-ocean-tiles-w-masks-2048px-scale-0-25/train_images/65022/00017_10-2.png</td>\n",
       "      <td>/kaggle/input/ubc-ocean-tiles-w-masks-2048px-scale-0-25/train_masks/65022/00017_10-2.png</td>\n",
       "      <td>0.000000</td>\n",
       "      <td>0.000000</td>\n",
       "      <td>unknown</td>\n",
       "    </tr>\n",
       "    <tr>\n",
       "      <th>24652</th>\n",
       "      <td>/kaggle/input/ubc-ocean-tiles-w-masks-2048px-scale-0-25/train_images/45630/00424_3-16.png</td>\n",
       "      <td>/kaggle/input/ubc-ocean-tiles-w-masks-2048px-scale-0-25/train_masks/45630/00424_3-16.png</td>\n",
       "      <td>0.000000</td>\n",
       "      <td>0.657318</td>\n",
       "      <td>non-cancer</td>\n",
       "    </tr>\n",
       "    <tr>\n",
       "      <th>36197</th>\n",
       "      <td>/kaggle/input/ubc-ocean-tiles-w-masks-2048px-scale-0-25/train_images/46688/00219_11-12.png</td>\n",
       "      <td>/kaggle/input/ubc-ocean-tiles-w-masks-2048px-scale-0-25/train_masks/46688/00219_11-12.png</td>\n",
       "      <td>0.000000</td>\n",
       "      <td>0.000000</td>\n",
       "      <td>unknown</td>\n",
       "    </tr>\n",
       "    <tr>\n",
       "      <th>31956</th>\n",
       "      <td>/kaggle/input/ubc-ocean-tiles-w-masks-2048px-scale-0-25/train_images/10800/00021_8-3.png</td>\n",
       "      <td>/kaggle/input/ubc-ocean-tiles-w-masks-2048px-scale-0-25/train_masks/10800/00021_8-3.png</td>\n",
       "      <td>0.014698</td>\n",
       "      <td>0.000000</td>\n",
       "      <td>cancer</td>\n",
       "    </tr>\n",
       "  </tbody>\n",
       "</table>\n",
       "</div>"
      ],
      "text/plain": [
       "                                                                                       image_path  \\\n",
       "38761   /kaggle/input/ubc-ocean-tiles-w-masks-2048px-scale-0-25/train_images/15139/00118_26-6.png   \n",
       "4380    /kaggle/input/ubc-ocean-tiles-w-masks-2048px-scale-0-25/train_images/65022/00017_10-2.png   \n",
       "24652   /kaggle/input/ubc-ocean-tiles-w-masks-2048px-scale-0-25/train_images/45630/00424_3-16.png   \n",
       "36197  /kaggle/input/ubc-ocean-tiles-w-masks-2048px-scale-0-25/train_images/46688/00219_11-12.png   \n",
       "31956    /kaggle/input/ubc-ocean-tiles-w-masks-2048px-scale-0-25/train_images/10800/00021_8-3.png   \n",
       "\n",
       "                                                                                       mask_path  \\\n",
       "38761   /kaggle/input/ubc-ocean-tiles-w-masks-2048px-scale-0-25/train_masks/15139/00118_26-6.png   \n",
       "4380    /kaggle/input/ubc-ocean-tiles-w-masks-2048px-scale-0-25/train_masks/65022/00017_10-2.png   \n",
       "24652   /kaggle/input/ubc-ocean-tiles-w-masks-2048px-scale-0-25/train_masks/45630/00424_3-16.png   \n",
       "36197  /kaggle/input/ubc-ocean-tiles-w-masks-2048px-scale-0-25/train_masks/46688/00219_11-12.png   \n",
       "31956    /kaggle/input/ubc-ocean-tiles-w-masks-2048px-scale-0-25/train_masks/10800/00021_8-3.png   \n",
       "\n",
       "       cancer_ratio  non_cancer_ratio       label  \n",
       "38761      1.000000          0.000000      cancer  \n",
       "4380       0.000000          0.000000     unknown  \n",
       "24652      0.000000          0.657318  non-cancer  \n",
       "36197      0.000000          0.000000     unknown  \n",
       "31956      0.014698          0.000000      cancer  "
      ]
     },
     "metadata": {},
     "output_type": "display_data"
    }
   ],
   "source": [
    "ROOT_DIR = '/kaggle/input/UBC-OCEAN'\n",
    "TRAIN_DIR = '/kaggle/input/tiles-of-cancer-2048px-scale-0-25'\n",
    "INFER_DIR = '/kaggle/input/ubc-ocean-tiles-w-masks-2048px-scale-0-25'\n",
    "\n",
    "df_orig = pd.read_csv(\"/kaggle/input/UBC-OCEAN/train.csv\")\n",
    "df_orig = df_orig.rename(columns={\"label\":\"subtype\"})\n",
    "df_labelled = pd.read_csv(\"/kaggle/input/df-tiles-025x-cancer-tissue-binary-labels/tiles_labelled_binary_cancer.csv\", index_col=\"Unnamed: 0\")\n",
    "display(df_orig.sample(5))\n",
    "display(df_labelled.sample(5))"
   ]
  },
  {
   "cell_type": "code",
   "execution_count": 9,
   "id": "5fef6584",
   "metadata": {
    "execution": {
     "iopub.execute_input": "2023-12-13T19:26:43.364520Z",
     "iopub.status.busy": "2023-12-13T19:26:43.364189Z",
     "iopub.status.idle": "2023-12-13T19:26:43.493019Z",
     "shell.execute_reply": "2023-12-13T19:26:43.492025Z"
    },
    "papermill": {
     "duration": 0.143542,
     "end_time": "2023-12-13T19:26:43.495172",
     "exception": false,
     "start_time": "2023-12-13T19:26:43.351630",
     "status": "completed"
    },
    "tags": []
   },
   "outputs": [],
   "source": [
    "def prepare_df(df_labelled):\n",
    "    df_labelled[\"image_id\"] = df_labelled[\"image_path\"].map(lambda x: int(x.split('/')[-2]))\n",
    "    df_labelled = df_labelled[~df_labelled[\"image_path\"].str.lower().str.contains(\"tma\")]\n",
    "    df_labelled = df_labelled[df_labelled[\"label\"]!=\"unknown\"].reset_index(drop=True)\n",
    "    df_labelled = pd.merge(df_labelled, df_orig, on=\"image_id\", how=\"left\")\n",
    "    df_labelled[\"group\"] = df_labelled[\"label\"] + \"_\" + df_labelled[\"subtype\"] \n",
    "    return df_labelled\n",
    "\n",
    "\n",
    "df_masks = prepare_df(df_labelled)"
   ]
  },
  {
   "cell_type": "code",
   "execution_count": 10,
   "id": "db1fdbf3",
   "metadata": {
    "execution": {
     "iopub.execute_input": "2023-12-13T19:26:43.520186Z",
     "iopub.status.busy": "2023-12-13T19:26:43.519874Z",
     "iopub.status.idle": "2023-12-13T19:27:18.778136Z",
     "shell.execute_reply": "2023-12-13T19:27:18.777194Z"
    },
    "papermill": {
     "duration": 35.284144,
     "end_time": "2023-12-13T19:27:18.791222",
     "exception": false,
     "start_time": "2023-12-13T19:26:43.507078",
     "status": "completed"
    },
    "tags": []
   },
   "outputs": [
    {
     "name": "stdout",
     "output_type": "stream",
     "text": [
      "(123714, 2)\n",
      "Example row: /kaggle/input/tiles-of-cancer-2048px-scale-0-25/8805/000021_6-2.png 8805\n"
     ]
    },
    {
     "data": {
      "text/html": [
       "<div>\n",
       "<style scoped>\n",
       "    .dataframe tbody tr th:only-of-type {\n",
       "        vertical-align: middle;\n",
       "    }\n",
       "\n",
       "    .dataframe tbody tr th {\n",
       "        vertical-align: top;\n",
       "    }\n",
       "\n",
       "    .dataframe thead th {\n",
       "        text-align: right;\n",
       "    }\n",
       "</style>\n",
       "<table border=\"1\" class=\"dataframe\">\n",
       "  <thead>\n",
       "    <tr style=\"text-align: right;\">\n",
       "      <th></th>\n",
       "      <th>image_path</th>\n",
       "      <th>image_id</th>\n",
       "    </tr>\n",
       "  </thead>\n",
       "  <tbody>\n",
       "    <tr>\n",
       "      <th>0</th>\n",
       "      <td>/kaggle/input/tiles-of-cancer-2048px-scale-0-25/8805/000021_6-2.png</td>\n",
       "      <td>8805</td>\n",
       "    </tr>\n",
       "    <tr>\n",
       "      <th>1</th>\n",
       "      <td>/kaggle/input/tiles-of-cancer-2048px-scale-0-25/8805/000056_9-4.png</td>\n",
       "      <td>8805</td>\n",
       "    </tr>\n",
       "    <tr>\n",
       "      <th>2</th>\n",
       "      <td>/kaggle/input/tiles-of-cancer-2048px-scale-0-25/8805/000089_10-6.png</td>\n",
       "      <td>8805</td>\n",
       "    </tr>\n",
       "    <tr>\n",
       "      <th>3</th>\n",
       "      <td>/kaggle/input/tiles-of-cancer-2048px-scale-0-25/8805/000002_3-1.png</td>\n",
       "      <td>8805</td>\n",
       "    </tr>\n",
       "    <tr>\n",
       "      <th>4</th>\n",
       "      <td>/kaggle/input/tiles-of-cancer-2048px-scale-0-25/8805/000057_10-4.png</td>\n",
       "      <td>8805</td>\n",
       "    </tr>\n",
       "  </tbody>\n",
       "</table>\n",
       "</div>"
      ],
      "text/plain": [
       "                                                             image_path  \\\n",
       "0   /kaggle/input/tiles-of-cancer-2048px-scale-0-25/8805/000021_6-2.png   \n",
       "1   /kaggle/input/tiles-of-cancer-2048px-scale-0-25/8805/000056_9-4.png   \n",
       "2  /kaggle/input/tiles-of-cancer-2048px-scale-0-25/8805/000089_10-6.png   \n",
       "3   /kaggle/input/tiles-of-cancer-2048px-scale-0-25/8805/000002_3-1.png   \n",
       "4  /kaggle/input/tiles-of-cancer-2048px-scale-0-25/8805/000057_10-4.png   \n",
       "\n",
       "   image_id  \n",
       "0      8805  \n",
       "1      8805  \n",
       "2      8805  \n",
       "3      8805  \n",
       "4      8805  "
      ]
     },
     "metadata": {},
     "output_type": "display_data"
    }
   ],
   "source": [
    "directory_path = \"/kaggle/input/tiles-of-cancer-2048px-scale-0-25\"\n",
    "df_tiles_all = create_img_dataframe_from_directory(directory_path)\n",
    "df_tiles_all[\"image_id\"] = df_tiles_all[\"image_id\"].astype(int)\n",
    "print(df_tiles_all.shape)\n",
    "print(\"Example row:\", df_tiles_all.iloc[0,0], df_tiles_all.iloc[0,1])\n",
    "display(df_tiles_all.head()) "
   ]
  },
  {
   "cell_type": "code",
   "execution_count": 11,
   "id": "0c3e7b32",
   "metadata": {
    "execution": {
     "iopub.execute_input": "2023-12-13T19:27:18.816334Z",
     "iopub.status.busy": "2023-12-13T19:27:18.815991Z",
     "iopub.status.idle": "2023-12-13T19:27:18.821531Z",
     "shell.execute_reply": "2023-12-13T19:27:18.820586Z"
    },
    "papermill": {
     "duration": 0.020261,
     "end_time": "2023-12-13T19:27:18.823514",
     "exception": false,
     "start_time": "2023-12-13T19:27:18.803253",
     "status": "completed"
    },
    "tags": []
   },
   "outputs": [
    {
     "name": "stdout",
     "output_type": "stream",
     "text": [
      "Example row: /kaggle/input/tiles-of-cancer-2048px-scale-0-25/8805/000021_6-2.png 8805\n",
      "Example row: /kaggle/input/ubc-ocean-tiles-w-masks-2048px-scale-0-25/train_images/53688/00014_8-2.png /kaggle/input/ubc-ocean-tiles-w-masks-2048px-scale-0-25/train_masks/53688/00014_8-2.png\n"
     ]
    }
   ],
   "source": [
    "print(\"Example row:\", df_tiles_all.iloc[0,0], df_tiles_all.iloc[0,1])\n",
    "print(\"Example row:\", df_masks.iloc[0,0], df_masks.iloc[0,1])\n"
   ]
  },
  {
   "cell_type": "code",
   "execution_count": 12,
   "id": "c35ec1ba",
   "metadata": {
    "execution": {
     "iopub.execute_input": "2023-12-13T19:27:18.848818Z",
     "iopub.status.busy": "2023-12-13T19:27:18.848127Z",
     "iopub.status.idle": "2023-12-13T19:27:18.855661Z",
     "shell.execute_reply": "2023-12-13T19:27:18.854821Z"
    },
    "papermill": {
     "duration": 0.022146,
     "end_time": "2023-12-13T19:27:18.857505",
     "exception": false,
     "start_time": "2023-12-13T19:27:18.835359",
     "status": "completed"
    },
    "tags": []
   },
   "outputs": [
    {
     "data": {
      "text/plain": [
       "(152, 538)"
      ]
     },
     "execution_count": 12,
     "metadata": {},
     "output_type": "execute_result"
    }
   ],
   "source": [
    "df_masks[\"image_id\"].nunique(), df_tiles_all[\"image_id\"].nunique()"
   ]
  },
  {
   "cell_type": "code",
   "execution_count": 13,
   "id": "56efc2e5",
   "metadata": {
    "execution": {
     "iopub.execute_input": "2023-12-13T19:27:18.882149Z",
     "iopub.status.busy": "2023-12-13T19:27:18.881908Z",
     "iopub.status.idle": "2023-12-13T19:27:18.890747Z",
     "shell.execute_reply": "2023-12-13T19:27:18.889981Z"
    },
    "papermill": {
     "duration": 0.023353,
     "end_time": "2023-12-13T19:27:18.892598",
     "exception": false,
     "start_time": "2023-12-13T19:27:18.869245",
     "status": "completed"
    },
    "tags": []
   },
   "outputs": [],
   "source": [
    "img_color_mean=[0.8661704276539922, 0.7663107094675368, 0.8574260897185548]\n",
    "img_color_std=[0.08670629753900036, 0.11646580094195522, 0.07164169171856792]\n",
    "\n",
    "data_transforms = {\n",
    "    \"train\": A.Compose([\n",
    "        A.Resize(512, 512),\n",
    "        A.HorizontalFlip(p=0.5),\n",
    "        A.VerticalFlip(p=0.5),\n",
    "        # A.RandomBrightnessContrast(p=0.75),\n",
    "        A.ShiftScaleRotate(p=0.75),\n",
    "        A.OneOf([\n",
    "        A.GaussNoise(var_limit=[10, 50]),\n",
    "        A.GaussianBlur(),\n",
    "        A.MotionBlur(),\n",
    "        ], p=0.4),\n",
    "        A.GridDistortion(num_steps=5, distort_limit=0.3, p=0.5),\n",
    "        A.CoarseDropout(max_holes=5, max_width=int(512* 0.1), max_height=int(512* 0.1),\n",
    "        mask_fill_value=0, p=0.5),\n",
    "        A.Normalize(img_color_mean, img_color_std), \n",
    "        ToTensorV2()], p=1.),\n",
    "    \n",
    "    \"valid\": A.Compose([\n",
    "        A.Resize(CONFIG['img_size'], CONFIG['img_size']),\n",
    "        A.Normalize(img_color_mean, img_color_std), \n",
    "        ToTensorV2()], p=1.)\n",
    "}\n",
    "\n"
   ]
  },
  {
   "cell_type": "markdown",
   "id": "58c540d9",
   "metadata": {
    "papermill": {
     "duration": 0.011656,
     "end_time": "2023-12-13T19:27:18.916044",
     "exception": false,
     "start_time": "2023-12-13T19:27:18.904388",
     "status": "completed"
    },
    "tags": []
   },
   "source": [
    "## 3. Training"
   ]
  },
  {
   "cell_type": "code",
   "execution_count": 14,
   "id": "dc55e837",
   "metadata": {
    "execution": {
     "iopub.execute_input": "2023-12-13T19:27:18.941010Z",
     "iopub.status.busy": "2023-12-13T19:27:18.940750Z",
     "iopub.status.idle": "2023-12-13T19:27:18.948339Z",
     "shell.execute_reply": "2023-12-13T19:27:18.947524Z"
    },
    "papermill": {
     "duration": 0.022381,
     "end_time": "2023-12-13T19:27:18.950224",
     "exception": false,
     "start_time": "2023-12-13T19:27:18.927843",
     "status": "completed"
    },
    "tags": []
   },
   "outputs": [],
   "source": [
    "class InferBinaryTilesDataset(Dataset):\n",
    "    \"\"\"\n",
    "    Dataset Class which is used in order to read tiles from given folder / path and label them accroding to a binary classifier.\n",
    "    This is a pure inference dataset. \n",
    "    \n",
    "    \"\"\"\n",
    "    def __init__(\n",
    "        self,\n",
    "        df_data,\n",
    "        transforms = None,\n",
    "        mode: str = 'valid',\n",
    "        labels_lut = None,\n",
    "        # train_val_split: float = 0.90,\n",
    "        tissue_label_th: float = 0.2\n",
    "    ):\n",
    "\n",
    "        self.transforms = transforms\n",
    "        self.mode = mode\n",
    "        self.data = df_data\n",
    "        self.img_paths =  self.data.image_path.values.tolist()\n",
    "        \n",
    "    def __getitem__(self, idx: int) -> tuple:\n",
    "        img_path = self.img_paths[idx]\n",
    "        assert os.path.isfile(img_path), f\"missing: {img_path}\"\n",
    "        tile = cv2.imread(img_path)\n",
    "        tile = cv2.cvtColor(tile, cv2.COLOR_BGR2RGB)\n",
    "        # augmentation\n",
    "        if self.transforms:\n",
    "            tile = self.transforms(image=tile)[\"image\"]\n",
    "        #print(f\"img dim: {img.shape}\")\n",
    "        return {\n",
    "            \"image\": tile,\n",
    "            \"image_path\": img_path,\n",
    "               }\n",
    "    \n",
    "    def __len__(self) -> int:\n",
    "        return len(self.img_paths)\n"
   ]
  },
  {
   "cell_type": "code",
   "execution_count": 15,
   "id": "315f4d2e",
   "metadata": {
    "execution": {
     "iopub.execute_input": "2023-12-13T19:27:18.974942Z",
     "iopub.status.busy": "2023-12-13T19:27:18.974703Z",
     "iopub.status.idle": "2023-12-13T19:27:18.979902Z",
     "shell.execute_reply": "2023-12-13T19:27:18.979039Z"
    },
    "papermill": {
     "duration": 0.019729,
     "end_time": "2023-12-13T19:27:18.981805",
     "exception": false,
     "start_time": "2023-12-13T19:27:18.962076",
     "status": "completed"
    },
    "tags": []
   },
   "outputs": [],
   "source": [
    "def metrics(df_pred):\n",
    "    conf_matrix = confusion_matrix(df_pred[\"label\"], df_pred[\"predicted_label\"])\n",
    "    accuracy = accuracy_score(df_pred[\"label\"], df_pred[\"predicted_label\"])\n",
    "    macro_f1 = f1_score(df_pred[\"label\"], df_pred[\"predicted_label\"], average='macro')\n",
    "    print(macro_f1, accuracy)\n",
    "    display(conf_matrix)"
   ]
  },
  {
   "cell_type": "code",
   "execution_count": 16,
   "id": "87d635e6",
   "metadata": {
    "execution": {
     "iopub.execute_input": "2023-12-13T19:27:19.007018Z",
     "iopub.status.busy": "2023-12-13T19:27:19.006755Z",
     "iopub.status.idle": "2023-12-13T19:27:19.015798Z",
     "shell.execute_reply": "2023-12-13T19:27:19.014904Z"
    },
    "papermill": {
     "duration": 0.023971,
     "end_time": "2023-12-13T19:27:19.017801",
     "exception": false,
     "start_time": "2023-12-13T19:27:18.993830",
     "status": "completed"
    },
    "tags": []
   },
   "outputs": [],
   "source": [
    "def infer_on_unlabelled_data(model, CONFIG, df_test, val_size=1.0):\n",
    "    model.eval()\n",
    "    infer_dataset = InferBinaryTilesDataset(df_test, transforms=data_transforms[\"valid\"])\n",
    "    infer_loader = DataLoader(infer_dataset, batch_size=CONFIG['valid_batch_size'], num_workers=2, shuffle=False, pin_memory=True)\n",
    "    print(f\"Test-Dataset Size: {len(infer_dataset)}\")\n",
    "\n",
    "    preds_list = []\n",
    "    probs_list = []\n",
    "    image_path_list = []\n",
    "    #test_acc = 0.0\n",
    "\n",
    "    with torch.no_grad():\n",
    "        bar = tqdm(enumerate(infer_loader), total=len(infer_loader))\n",
    "        for step, data in bar: \n",
    "            # print(step)\n",
    "            images = data['image'].to(CONFIG[\"device\"], dtype=torch.float)\n",
    "            image_paths = data['image_path'] # .to(CONFIG[\"device\"], dtype=torch.float)\n",
    "\n",
    "            outputs = model(images)        \n",
    "            probs = torch.sigmoid(outputs)\n",
    "            predicted = (probs > 0.5).int()\n",
    "            #preds_list.append(predicted.detach().cpu().numpy() )\n",
    "            #probs_list.append(probs.detach().cpu().numpy() )\n",
    "            #image_path_list.append(image_paths)\n",
    "            preds_list.extend(predicted.detach().cpu().numpy().ravel())\n",
    "            probs_list.extend(probs.detach().cpu().numpy().ravel())            \n",
    "            image_path_list.extend(image_paths)\n",
    "    # pred_labels = encoder.inverse_transform(preds_list)\n",
    "    df_infer = pd.DataFrame({\n",
    "        \"image_path\": image_path_list,\n",
    "        \"prediction\": preds_list,\n",
    "        \"probability\": probs_list,\n",
    "    })\n",
    "    return df_infer"
   ]
  },
  {
   "cell_type": "code",
   "execution_count": 17,
   "id": "d244414f",
   "metadata": {
    "execution": {
     "iopub.execute_input": "2023-12-13T19:27:19.085813Z",
     "iopub.status.busy": "2023-12-13T19:27:19.085067Z",
     "iopub.status.idle": "2023-12-13T19:27:22.905661Z",
     "shell.execute_reply": "2023-12-13T19:27:22.904658Z"
    },
    "papermill": {
     "duration": 3.878444,
     "end_time": "2023-12-13T19:27:22.908048",
     "exception": false,
     "start_time": "2023-12-13T19:27:19.029604",
     "status": "completed"
    },
    "tags": []
   },
   "outputs": [],
   "source": [
    "model = UBCBinaryModel(CONFIG['model_name'], pretrained=False , checkpoint_path=None)\n",
    "# model_path = \"/kaggle/input/binary-tiles-classifier-025x-v6/best_model_checkpoint2023-12-10_10-57-05.pth\"\n",
    "model.load_state_dict(torch.load(CONFIG[\"model_path\"], map_location=CONFIG[\"device\"]))\n",
    "model.to(CONFIG['device']);\n",
    "\n",
    "label_dict = {\n",
    "    0:\"cancer\",\n",
    "    1:\"non-cancer\"}"
   ]
  },
  {
   "cell_type": "code",
   "execution_count": 18,
   "id": "d446ca54",
   "metadata": {
    "execution": {
     "iopub.execute_input": "2023-12-13T19:27:22.934182Z",
     "iopub.status.busy": "2023-12-13T19:27:22.933899Z",
     "iopub.status.idle": "2023-12-13T19:27:22.944913Z",
     "shell.execute_reply": "2023-12-13T19:27:22.944039Z"
    },
    "papermill": {
     "duration": 0.026619,
     "end_time": "2023-12-13T19:27:22.947188",
     "exception": false,
     "start_time": "2023-12-13T19:27:22.920569",
     "status": "completed"
    },
    "tags": []
   },
   "outputs": [
    {
     "name": "stdout",
     "output_type": "stream",
     "text": [
      "(2888, 5)\n"
     ]
    },
    {
     "data": {
      "text/html": [
       "<div>\n",
       "<style scoped>\n",
       "    .dataframe tbody tr th:only-of-type {\n",
       "        vertical-align: middle;\n",
       "    }\n",
       "\n",
       "    .dataframe tbody tr th {\n",
       "        vertical-align: top;\n",
       "    }\n",
       "\n",
       "    .dataframe thead th {\n",
       "        text-align: right;\n",
       "    }\n",
       "</style>\n",
       "<table border=\"1\" class=\"dataframe\">\n",
       "  <thead>\n",
       "    <tr style=\"text-align: right;\">\n",
       "      <th></th>\n",
       "      <th>image_path</th>\n",
       "      <th>label</th>\n",
       "      <th>predicted_label</th>\n",
       "      <th>prediction</th>\n",
       "      <th>probability</th>\n",
       "    </tr>\n",
       "  </thead>\n",
       "  <tbody>\n",
       "    <tr>\n",
       "      <th>0</th>\n",
       "      <td>/kaggle/input/ubc-ocean-tiles-w-masks-2048px-scale-0-25/train_images/30738/00071_26-6.png</td>\n",
       "      <td>0.0</td>\n",
       "      <td>cancer</td>\n",
       "      <td>0</td>\n",
       "      <td>0</td>\n",
       "    </tr>\n",
       "    <tr>\n",
       "      <th>1</th>\n",
       "      <td>/kaggle/input/ubc-ocean-tiles-w-masks-2048px-scale-0-25/train_images/36063/00141_31-9.png</td>\n",
       "      <td>0.0</td>\n",
       "      <td>cancer</td>\n",
       "      <td>0</td>\n",
       "      <td>0</td>\n",
       "    </tr>\n",
       "  </tbody>\n",
       "</table>\n",
       "</div>"
      ],
      "text/plain": [
       "                                                                                  image_path  \\\n",
       "0  /kaggle/input/ubc-ocean-tiles-w-masks-2048px-scale-0-25/train_images/30738/00071_26-6.png   \n",
       "1  /kaggle/input/ubc-ocean-tiles-w-masks-2048px-scale-0-25/train_images/36063/00141_31-9.png   \n",
       "\n",
       "   label predicted_label  prediction  probability  \n",
       "0    0.0          cancer           0            0  \n",
       "1    0.0          cancer           0            0  "
      ]
     },
     "execution_count": 18,
     "metadata": {},
     "output_type": "execute_result"
    }
   ],
   "source": [
    "print(df_test.shape)\n",
    "df_test.head(2)"
   ]
  },
  {
   "cell_type": "code",
   "execution_count": 19,
   "id": "70712efe",
   "metadata": {
    "execution": {
     "iopub.execute_input": "2023-12-13T19:27:22.972762Z",
     "iopub.status.busy": "2023-12-13T19:27:22.972500Z",
     "iopub.status.idle": "2023-12-13T19:28:16.522894Z",
     "shell.execute_reply": "2023-12-13T19:28:16.521849Z"
    },
    "papermill": {
     "duration": 53.565585,
     "end_time": "2023-12-13T19:28:16.525094",
     "exception": false,
     "start_time": "2023-12-13T19:27:22.959509",
     "status": "completed"
    },
    "tags": []
   },
   "outputs": [
    {
     "name": "stdout",
     "output_type": "stream",
     "text": [
      "Infer on Holdout Set:\n",
      "Test-Dataset Size: 2888\n"
     ]
    },
    {
     "name": "stderr",
     "output_type": "stream",
     "text": [
      "100%|██████████| 91/91 [00:53<00:00,  1.70it/s]\n"
     ]
    }
   ],
   "source": [
    "print(\"Infer on Holdout Set:\")\n",
    "df_test_control = infer_on_unlabelled_data(model, CONFIG, df_test)\n"
   ]
  },
  {
   "cell_type": "code",
   "execution_count": 20,
   "id": "e2f56446",
   "metadata": {
    "execution": {
     "iopub.execute_input": "2023-12-13T19:28:16.565808Z",
     "iopub.status.busy": "2023-12-13T19:28:16.565484Z",
     "iopub.status.idle": "2023-12-13T19:28:16.620921Z",
     "shell.execute_reply": "2023-12-13T19:28:16.619865Z"
    },
    "papermill": {
     "duration": 0.078045,
     "end_time": "2023-12-13T19:28:16.622892",
     "exception": false,
     "start_time": "2023-12-13T19:28:16.544847",
     "status": "completed"
    },
    "tags": []
   },
   "outputs": [
    {
     "data": {
      "text/html": [
       "<div>\n",
       "<style scoped>\n",
       "    .dataframe tbody tr th:only-of-type {\n",
       "        vertical-align: middle;\n",
       "    }\n",
       "\n",
       "    .dataframe tbody tr th {\n",
       "        vertical-align: top;\n",
       "    }\n",
       "\n",
       "    .dataframe thead th {\n",
       "        text-align: right;\n",
       "    }\n",
       "</style>\n",
       "<table border=\"1\" class=\"dataframe\">\n",
       "  <thead>\n",
       "    <tr style=\"text-align: right;\">\n",
       "      <th></th>\n",
       "      <th>image_path</th>\n",
       "      <th>prediction</th>\n",
       "      <th>probability</th>\n",
       "      <th>predicted_label</th>\n",
       "    </tr>\n",
       "  </thead>\n",
       "  <tbody>\n",
       "    <tr>\n",
       "      <th>0</th>\n",
       "      <td>/kaggle/input/ubc-ocean-tiles-w-masks-2048px-scale-0-25/train_images/30738/00071_26-6.png</td>\n",
       "      <td>0</td>\n",
       "      <td>0.0000</td>\n",
       "      <td>cancer</td>\n",
       "    </tr>\n",
       "    <tr>\n",
       "      <th>1</th>\n",
       "      <td>/kaggle/input/ubc-ocean-tiles-w-masks-2048px-scale-0-25/train_images/36063/00141_31-9.png</td>\n",
       "      <td>0</td>\n",
       "      <td>0.3267</td>\n",
       "      <td>cancer</td>\n",
       "    </tr>\n",
       "    <tr>\n",
       "      <th>2</th>\n",
       "      <td>/kaggle/input/ubc-ocean-tiles-w-masks-2048px-scale-0-25/train_images/50304/00407_11-19.png</td>\n",
       "      <td>0</td>\n",
       "      <td>0.0000</td>\n",
       "      <td>cancer</td>\n",
       "    </tr>\n",
       "    <tr>\n",
       "      <th>3</th>\n",
       "      <td>/kaggle/input/ubc-ocean-tiles-w-masks-2048px-scale-0-25/train_images/19255/00417_30-15.png</td>\n",
       "      <td>0</td>\n",
       "      <td>0.0009</td>\n",
       "      <td>cancer</td>\n",
       "    </tr>\n",
       "    <tr>\n",
       "      <th>4</th>\n",
       "      <td>/kaggle/input/ubc-ocean-tiles-w-masks-2048px-scale-0-25/train_images/47960/00099_8-7.png</td>\n",
       "      <td>0</td>\n",
       "      <td>0.0000</td>\n",
       "      <td>cancer</td>\n",
       "    </tr>\n",
       "  </tbody>\n",
       "</table>\n",
       "</div>"
      ],
      "text/plain": [
       "                                                                                   image_path  \\\n",
       "0   /kaggle/input/ubc-ocean-tiles-w-masks-2048px-scale-0-25/train_images/30738/00071_26-6.png   \n",
       "1   /kaggle/input/ubc-ocean-tiles-w-masks-2048px-scale-0-25/train_images/36063/00141_31-9.png   \n",
       "2  /kaggle/input/ubc-ocean-tiles-w-masks-2048px-scale-0-25/train_images/50304/00407_11-19.png   \n",
       "3  /kaggle/input/ubc-ocean-tiles-w-masks-2048px-scale-0-25/train_images/19255/00417_30-15.png   \n",
       "4    /kaggle/input/ubc-ocean-tiles-w-masks-2048px-scale-0-25/train_images/47960/00099_8-7.png   \n",
       "\n",
       "   prediction  probability predicted_label  \n",
       "0           0       0.0000          cancer  \n",
       "1           0       0.3267          cancer  \n",
       "2           0       0.0000          cancer  \n",
       "3           0       0.0009          cancer  \n",
       "4           0       0.0000          cancer  "
      ]
     },
     "metadata": {},
     "output_type": "display_data"
    },
    {
     "name": "stdout",
     "output_type": "stream",
     "text": [
      "1.0\n"
     ]
    },
    {
     "data": {
      "text/plain": [
       "prediction\n",
       "0    2471\n",
       "1     417\n",
       "Name: count, dtype: int64"
      ]
     },
     "execution_count": 20,
     "metadata": {},
     "output_type": "execute_result"
    }
   ],
   "source": [
    "df_test_control[\"predicted_label\"] = encoder.inverse_transform(df_test_control[\"prediction\"])\n",
    "df_test_control[\"probability\"] = df_test_control[\"probability\"].map(lambda x: np.round(x, 4))\n",
    "display(df_test_control.head())\n",
    "print(df_test_control.probability.max())\n",
    "df_test_control.prediction.value_counts()"
   ]
  },
  {
   "cell_type": "code",
   "execution_count": 21,
   "id": "db478db0",
   "metadata": {
    "execution": {
     "iopub.execute_input": "2023-12-13T19:28:16.663999Z",
     "iopub.status.busy": "2023-12-13T19:28:16.663723Z",
     "iopub.status.idle": "2023-12-13T19:28:16.708445Z",
     "shell.execute_reply": "2023-12-13T19:28:16.707605Z"
    },
    "papermill": {
     "duration": 0.067241,
     "end_time": "2023-12-13T19:28:16.710354",
     "exception": false,
     "start_time": "2023-12-13T19:28:16.643113",
     "status": "completed"
    },
    "tags": []
   },
   "outputs": [
    {
     "name": "stdout",
     "output_type": "stream",
     "text": [
      "(2888, 5)\n"
     ]
    },
    {
     "data": {
      "text/html": [
       "<div>\n",
       "<style scoped>\n",
       "    .dataframe tbody tr th:only-of-type {\n",
       "        vertical-align: middle;\n",
       "    }\n",
       "\n",
       "    .dataframe tbody tr th {\n",
       "        vertical-align: top;\n",
       "    }\n",
       "\n",
       "    .dataframe thead th {\n",
       "        text-align: right;\n",
       "    }\n",
       "</style>\n",
       "<table border=\"1\" class=\"dataframe\">\n",
       "  <thead>\n",
       "    <tr style=\"text-align: right;\">\n",
       "      <th></th>\n",
       "      <th>image_path</th>\n",
       "      <th>label</th>\n",
       "      <th>prediction</th>\n",
       "      <th>probability</th>\n",
       "      <th>predicted_label</th>\n",
       "    </tr>\n",
       "  </thead>\n",
       "  <tbody>\n",
       "    <tr>\n",
       "      <th>0</th>\n",
       "      <td>/kaggle/input/ubc-ocean-tiles-w-masks-2048px-scale-0-25/train_images/30738/00071_26-6.png</td>\n",
       "      <td>0.0</td>\n",
       "      <td>0</td>\n",
       "      <td>0.0000</td>\n",
       "      <td>cancer</td>\n",
       "    </tr>\n",
       "    <tr>\n",
       "      <th>1</th>\n",
       "      <td>/kaggle/input/ubc-ocean-tiles-w-masks-2048px-scale-0-25/train_images/36063/00141_31-9.png</td>\n",
       "      <td>0.0</td>\n",
       "      <td>0</td>\n",
       "      <td>0.3267</td>\n",
       "      <td>cancer</td>\n",
       "    </tr>\n",
       "  </tbody>\n",
       "</table>\n",
       "</div>"
      ],
      "text/plain": [
       "                                                                                  image_path  \\\n",
       "0  /kaggle/input/ubc-ocean-tiles-w-masks-2048px-scale-0-25/train_images/30738/00071_26-6.png   \n",
       "1  /kaggle/input/ubc-ocean-tiles-w-masks-2048px-scale-0-25/train_images/36063/00141_31-9.png   \n",
       "\n",
       "   label  prediction  probability predicted_label  \n",
       "0    0.0           0       0.0000          cancer  \n",
       "1    0.0           0       0.3267          cancer  "
      ]
     },
     "metadata": {},
     "output_type": "display_data"
    }
   ],
   "source": [
    "df_test = pd.merge(df_test[[\"image_path\", \"label\"]], df_test_control, on=\"image_path\", how=\"inner\")\n",
    "print(df_test.shape)\n",
    "display(df_test.head(2))\n",
    "df_test.to_csv(\"df_test_025x_predictions.csv\")"
   ]
  },
  {
   "cell_type": "code",
   "execution_count": 22,
   "id": "fa3b1ea1",
   "metadata": {
    "execution": {
     "iopub.execute_input": "2023-12-13T19:28:16.751978Z",
     "iopub.status.busy": "2023-12-13T19:28:16.751370Z",
     "iopub.status.idle": "2023-12-13T19:28:16.762485Z",
     "shell.execute_reply": "2023-12-13T19:28:16.761512Z"
    },
    "papermill": {
     "duration": 0.033713,
     "end_time": "2023-12-13T19:28:16.764333",
     "exception": false,
     "start_time": "2023-12-13T19:28:16.730620",
     "status": "completed"
    },
    "tags": []
   },
   "outputs": [
    {
     "name": "stdout",
     "output_type": "stream",
     "text": [
      "Accuracy Testset: 0.9501385041551247\n",
      "F1-Score Testset: 0.8043478260869565\n"
     ]
    }
   ],
   "source": [
    "print(\"Accuracy Testset:\", accuracy_score(df_test[\"label\"], df_test[\"prediction\"]))\n",
    "print(\"F1-Score Testset:\", f1_score(df_test[\"label\"], df_test[\"prediction\"]))"
   ]
  },
  {
   "cell_type": "code",
   "execution_count": 23,
   "id": "0c926cab",
   "metadata": {
    "execution": {
     "iopub.execute_input": "2023-12-13T19:28:16.805409Z",
     "iopub.status.busy": "2023-12-13T19:28:16.805103Z",
     "iopub.status.idle": "2023-12-13T19:28:17.291599Z",
     "shell.execute_reply": "2023-12-13T19:28:17.290434Z"
    },
    "papermill": {
     "duration": 0.509577,
     "end_time": "2023-12-13T19:28:17.293788",
     "exception": false,
     "start_time": "2023-12-13T19:28:16.784211",
     "status": "completed"
    },
    "tags": []
   },
   "outputs": [
    {
     "name": "stdout",
     "output_type": "stream",
     "text": [
      "Infer on Holdout Set:\n",
      "Test-Dataset Size: 10\n"
     ]
    },
    {
     "name": "stderr",
     "output_type": "stream",
     "text": [
      "100%|██████████| 1/1 [00:00<00:00,  2.42it/s]\n"
     ]
    },
    {
     "data": {
      "text/html": [
       "<div>\n",
       "<style scoped>\n",
       "    .dataframe tbody tr th:only-of-type {\n",
       "        vertical-align: middle;\n",
       "    }\n",
       "\n",
       "    .dataframe tbody tr th {\n",
       "        vertical-align: top;\n",
       "    }\n",
       "\n",
       "    .dataframe thead th {\n",
       "        text-align: right;\n",
       "    }\n",
       "</style>\n",
       "<table border=\"1\" class=\"dataframe\">\n",
       "  <thead>\n",
       "    <tr style=\"text-align: right;\">\n",
       "      <th></th>\n",
       "      <th>image_path</th>\n",
       "      <th>prediction</th>\n",
       "      <th>probability</th>\n",
       "    </tr>\n",
       "  </thead>\n",
       "  <tbody>\n",
       "    <tr>\n",
       "      <th>0</th>\n",
       "      <td>/kaggle/input/tiles-of-cancer-2048px-scale-0-25/8805/000021_6-2.png</td>\n",
       "      <td>0</td>\n",
       "      <td>0.001676</td>\n",
       "    </tr>\n",
       "    <tr>\n",
       "      <th>1</th>\n",
       "      <td>/kaggle/input/tiles-of-cancer-2048px-scale-0-25/8805/000056_9-4.png</td>\n",
       "      <td>1</td>\n",
       "      <td>0.786360</td>\n",
       "    </tr>\n",
       "    <tr>\n",
       "      <th>2</th>\n",
       "      <td>/kaggle/input/tiles-of-cancer-2048px-scale-0-25/8805/000089_10-6.png</td>\n",
       "      <td>1</td>\n",
       "      <td>0.981452</td>\n",
       "    </tr>\n",
       "    <tr>\n",
       "      <th>3</th>\n",
       "      <td>/kaggle/input/tiles-of-cancer-2048px-scale-0-25/8805/000002_3-1.png</td>\n",
       "      <td>0</td>\n",
       "      <td>0.016089</td>\n",
       "    </tr>\n",
       "    <tr>\n",
       "      <th>4</th>\n",
       "      <td>/kaggle/input/tiles-of-cancer-2048px-scale-0-25/8805/000057_10-4.png</td>\n",
       "      <td>1</td>\n",
       "      <td>0.860730</td>\n",
       "    </tr>\n",
       "  </tbody>\n",
       "</table>\n",
       "</div>"
      ],
      "text/plain": [
       "                                                             image_path  \\\n",
       "0   /kaggle/input/tiles-of-cancer-2048px-scale-0-25/8805/000021_6-2.png   \n",
       "1   /kaggle/input/tiles-of-cancer-2048px-scale-0-25/8805/000056_9-4.png   \n",
       "2  /kaggle/input/tiles-of-cancer-2048px-scale-0-25/8805/000089_10-6.png   \n",
       "3   /kaggle/input/tiles-of-cancer-2048px-scale-0-25/8805/000002_3-1.png   \n",
       "4  /kaggle/input/tiles-of-cancer-2048px-scale-0-25/8805/000057_10-4.png   \n",
       "\n",
       "   prediction  probability  \n",
       "0           0     0.001676  \n",
       "1           1     0.786360  \n",
       "2           1     0.981452  \n",
       "3           0     0.016089  \n",
       "4           1     0.860730  "
      ]
     },
     "execution_count": 23,
     "metadata": {},
     "output_type": "execute_result"
    }
   ],
   "source": [
    "print(\"Infer on Holdout Set:\")\n",
    "df_tiles_labelled = infer_on_unlabelled_data(model, CONFIG, df_tiles_all.head(10))\n",
    "df_tiles_labelled.head()"
   ]
  },
  {
   "cell_type": "code",
   "execution_count": 24,
   "id": "4d2b3838",
   "metadata": {
    "execution": {
     "iopub.execute_input": "2023-12-13T19:28:17.338878Z",
     "iopub.status.busy": "2023-12-13T19:28:17.338040Z",
     "iopub.status.idle": "2023-12-13T19:28:17.407354Z",
     "shell.execute_reply": "2023-12-13T19:28:17.406552Z"
    },
    "papermill": {
     "duration": 0.093649,
     "end_time": "2023-12-13T19:28:17.409419",
     "exception": false,
     "start_time": "2023-12-13T19:28:17.315770",
     "status": "completed"
    },
    "tags": []
   },
   "outputs": [],
   "source": [
    "df_tiles_labelled = pd.merge(df_tiles_all, df_tiles_labelled, on=\"image_path\", how=\"inner\") \n",
    "df_tiles_labelled.to_csv(\"tiles_025x_full_pseudo_labels.csv\")"
   ]
  },
  {
   "cell_type": "markdown",
   "id": "8465eaae",
   "metadata": {
    "papermill": {
     "duration": 0.021944,
     "end_time": "2023-12-13T19:28:17.452991",
     "exception": false,
     "start_time": "2023-12-13T19:28:17.431047",
     "status": "completed"
    },
    "tags": []
   },
   "source": [
    "# Model Evaluation"
   ]
  },
  {
   "cell_type": "code",
   "execution_count": 25,
   "id": "2f0f59c5",
   "metadata": {
    "execution": {
     "iopub.execute_input": "2023-12-13T19:28:17.496331Z",
     "iopub.status.busy": "2023-12-13T19:28:17.495753Z",
     "iopub.status.idle": "2023-12-13T19:28:17.506768Z",
     "shell.execute_reply": "2023-12-13T19:28:17.505940Z"
    },
    "papermill": {
     "duration": 0.03491,
     "end_time": "2023-12-13T19:28:17.508650",
     "exception": false,
     "start_time": "2023-12-13T19:28:17.473740",
     "status": "completed"
    },
    "tags": []
   },
   "outputs": [],
   "source": [
    "def evaluate_dual_thresholds(y_true, y_probs):\n",
    "    thresholds = np.arange(0.0, 1.01, 0.05)\n",
    "    results = []\n",
    "\n",
    "    for lower_thresh, upper_thresh in itertools.product(thresholds, repeat=2):\n",
    "        if lower_thresh >= upper_thresh:\n",
    "            continue\n",
    "\n",
    "        y_pred = np.where(y_probs < lower_thresh, 0, np.where(y_probs > upper_thresh, 1, -1)) # -1 for 'unknown'\n",
    "        known_mask = y_pred != -1\n",
    "\n",
    "        if np.any(known_mask): # Calculate metrics only if there are 'known' samples\n",
    "            accuracy = accuracy_score(y_true[known_mask], y_pred[known_mask])\n",
    "            precision = precision_score(y_true[known_mask], y_pred[known_mask])\n",
    "            recall = recall_score(y_true[known_mask], y_pred[known_mask])\n",
    "            f1 = f1_score(y_true[known_mask], y_pred[known_mask])\n",
    "            results.append((lower_thresh, upper_thresh, accuracy, precision, recall, f1))\n",
    "\n",
    "    # Sorting results based on F1 score or another metric of choice\n",
    "    results.sort(key=lambda x: x[5], reverse=True) # Sort by F1 score\n",
    "\n",
    "    # Plotting the top 10 results\n",
    "    plt.figure(figsize=(10, 6))\n",
    "    for i, (lower_thresh, upper_thresh, accuracy, precision, recall, f1) in enumerate(results[:10]):\n",
    "        plt.plot([lower_thresh, upper_thresh], [f1, f1], label=f'Thresholds: {lower_thresh:.2f}-{upper_thresh:.2f}')\n",
    "\n",
    "    plt.xlabel('Threshold')\n",
    "    plt.ylabel('F1 Score')\n",
    "    plt.title('Evaluation of Different Threshold Pairs')\n",
    "    plt.legend()\n",
    "    plt.show()"
   ]
  },
  {
   "cell_type": "code",
   "execution_count": 26,
   "id": "5e324840",
   "metadata": {
    "execution": {
     "iopub.execute_input": "2023-12-13T19:28:17.551486Z",
     "iopub.status.busy": "2023-12-13T19:28:17.551005Z",
     "iopub.status.idle": "2023-12-13T19:28:17.577096Z",
     "shell.execute_reply": "2023-12-13T19:28:17.576240Z"
    },
    "papermill": {
     "duration": 0.049609,
     "end_time": "2023-12-13T19:28:17.578976",
     "exception": false,
     "start_time": "2023-12-13T19:28:17.529367",
     "status": "completed"
    },
    "tags": []
   },
   "outputs": [
    {
     "data": {
      "text/html": [
       "<div>\n",
       "<style scoped>\n",
       "    .dataframe tbody tr th:only-of-type {\n",
       "        vertical-align: middle;\n",
       "    }\n",
       "\n",
       "    .dataframe tbody tr th {\n",
       "        vertical-align: top;\n",
       "    }\n",
       "\n",
       "    .dataframe thead th {\n",
       "        text-align: right;\n",
       "    }\n",
       "</style>\n",
       "<table border=\"1\" class=\"dataframe\">\n",
       "  <thead>\n",
       "    <tr style=\"text-align: right;\">\n",
       "      <th></th>\n",
       "      <th>Unnamed: 0</th>\n",
       "      <th>image_path</th>\n",
       "      <th>label</th>\n",
       "      <th>prediction</th>\n",
       "      <th>probability</th>\n",
       "      <th>predicted_label</th>\n",
       "    </tr>\n",
       "  </thead>\n",
       "  <tbody>\n",
       "    <tr>\n",
       "      <th>0</th>\n",
       "      <td>0</td>\n",
       "      <td>/kaggle/input/ubc-ocean-tiles-w-masks-2048px-scale-0-25/train_images/30738/00071_26-6.png</td>\n",
       "      <td>0.0</td>\n",
       "      <td>0</td>\n",
       "      <td>0.0000</td>\n",
       "      <td>cancer</td>\n",
       "    </tr>\n",
       "    <tr>\n",
       "      <th>1</th>\n",
       "      <td>1</td>\n",
       "      <td>/kaggle/input/ubc-ocean-tiles-w-masks-2048px-scale-0-25/train_images/36063/00141_31-9.png</td>\n",
       "      <td>0.0</td>\n",
       "      <td>0</td>\n",
       "      <td>0.3267</td>\n",
       "      <td>cancer</td>\n",
       "    </tr>\n",
       "    <tr>\n",
       "      <th>2</th>\n",
       "      <td>2</td>\n",
       "      <td>/kaggle/input/ubc-ocean-tiles-w-masks-2048px-scale-0-25/train_images/50304/00407_11-19.png</td>\n",
       "      <td>0.0</td>\n",
       "      <td>0</td>\n",
       "      <td>0.0000</td>\n",
       "      <td>cancer</td>\n",
       "    </tr>\n",
       "    <tr>\n",
       "      <th>3</th>\n",
       "      <td>3</td>\n",
       "      <td>/kaggle/input/ubc-ocean-tiles-w-masks-2048px-scale-0-25/train_images/19255/00417_30-15.png</td>\n",
       "      <td>0.0</td>\n",
       "      <td>0</td>\n",
       "      <td>0.0009</td>\n",
       "      <td>cancer</td>\n",
       "    </tr>\n",
       "    <tr>\n",
       "      <th>4</th>\n",
       "      <td>4</td>\n",
       "      <td>/kaggle/input/ubc-ocean-tiles-w-masks-2048px-scale-0-25/train_images/47960/00099_8-7.png</td>\n",
       "      <td>0.0</td>\n",
       "      <td>0</td>\n",
       "      <td>0.0000</td>\n",
       "      <td>cancer</td>\n",
       "    </tr>\n",
       "  </tbody>\n",
       "</table>\n",
       "</div>"
      ],
      "text/plain": [
       "   Unnamed: 0  \\\n",
       "0           0   \n",
       "1           1   \n",
       "2           2   \n",
       "3           3   \n",
       "4           4   \n",
       "\n",
       "                                                                                   image_path  \\\n",
       "0   /kaggle/input/ubc-ocean-tiles-w-masks-2048px-scale-0-25/train_images/30738/00071_26-6.png   \n",
       "1   /kaggle/input/ubc-ocean-tiles-w-masks-2048px-scale-0-25/train_images/36063/00141_31-9.png   \n",
       "2  /kaggle/input/ubc-ocean-tiles-w-masks-2048px-scale-0-25/train_images/50304/00407_11-19.png   \n",
       "3  /kaggle/input/ubc-ocean-tiles-w-masks-2048px-scale-0-25/train_images/19255/00417_30-15.png   \n",
       "4    /kaggle/input/ubc-ocean-tiles-w-masks-2048px-scale-0-25/train_images/47960/00099_8-7.png   \n",
       "\n",
       "   label  prediction  probability predicted_label  \n",
       "0    0.0           0       0.0000          cancer  \n",
       "1    0.0           0       0.3267          cancer  \n",
       "2    0.0           0       0.0000          cancer  \n",
       "3    0.0           0       0.0009          cancer  \n",
       "4    0.0           0       0.0000          cancer  "
      ]
     },
     "execution_count": 26,
     "metadata": {},
     "output_type": "execute_result"
    }
   ],
   "source": [
    "df_v1 = pd.read_csv(\"/kaggle/input/df-test-binary-v1/df_test_025x_predictions.csv\")\n",
    "df_v1.head()"
   ]
  },
  {
   "cell_type": "code",
   "execution_count": 27,
   "id": "c0c50a21",
   "metadata": {
    "execution": {
     "iopub.execute_input": "2023-12-13T19:28:17.622320Z",
     "iopub.status.busy": "2023-12-13T19:28:17.622023Z",
     "iopub.status.idle": "2023-12-13T19:28:17.625737Z",
     "shell.execute_reply": "2023-12-13T19:28:17.625001Z"
    },
    "papermill": {
     "duration": 0.027471,
     "end_time": "2023-12-13T19:28:17.627633",
     "exception": false,
     "start_time": "2023-12-13T19:28:17.600162",
     "status": "completed"
    },
    "tags": []
   },
   "outputs": [],
   "source": [
    "# evaluate_dual_thresholds(df_test_control[\"label\"], df_test_control[\"probability\"])add_suffix"
   ]
  },
  {
   "cell_type": "code",
   "execution_count": 28,
   "id": "0fd495b0",
   "metadata": {
    "execution": {
     "iopub.execute_input": "2023-12-13T19:28:17.670852Z",
     "iopub.status.busy": "2023-12-13T19:28:17.670256Z",
     "iopub.status.idle": "2023-12-13T19:28:17.686736Z",
     "shell.execute_reply": "2023-12-13T19:28:17.685802Z"
    },
    "papermill": {
     "duration": 0.040045,
     "end_time": "2023-12-13T19:28:17.688608",
     "exception": false,
     "start_time": "2023-12-13T19:28:17.648563",
     "status": "completed"
    },
    "tags": []
   },
   "outputs": [
    {
     "name": "stdout",
     "output_type": "stream",
     "text": [
      "Size:  (2888, 6)\n",
      "Accuracy Testset: 0.9501385041551247\n",
      "F1-Score Testset: 0.8043478260869565\n",
      "Confusion Testset: [[2448  121]\n",
      " [  23  296]]\n"
     ]
    }
   ],
   "source": [
    "print(\"Size: \", df_v1.shape)\n",
    "print(\"Accuracy Testset:\", accuracy_score(df_v1[\"label\"], df_v1[\"prediction\"]))\n",
    "print(\"F1-Score Testset:\", f1_score(df_v1[\"label\"], df_v1[\"prediction\"]))\n",
    "print(\"Confusion Testset:\", confusion_matrix(df_v1[\"label\"], df_v1[\"prediction\"]))"
   ]
  },
  {
   "cell_type": "code",
   "execution_count": 29,
   "id": "38e901f3",
   "metadata": {
    "execution": {
     "iopub.execute_input": "2023-12-13T19:28:17.732089Z",
     "iopub.status.busy": "2023-12-13T19:28:17.731828Z",
     "iopub.status.idle": "2023-12-13T19:28:17.747801Z",
     "shell.execute_reply": "2023-12-13T19:28:17.746816Z"
    },
    "papermill": {
     "duration": 0.039969,
     "end_time": "2023-12-13T19:28:17.749556",
     "exception": false,
     "start_time": "2023-12-13T19:28:17.709587",
     "status": "completed"
    },
    "tags": []
   },
   "outputs": [
    {
     "name": "stdout",
     "output_type": "stream",
     "text": [
      "Size:  (2692, 6)\n",
      "Accuracy Testset: 0.9736255572065379\n",
      "F1-Score Testset: 0.8849270664505673\n",
      "Confusion Testset: [[2348   59]\n",
      " [  12  273]]\n"
     ]
    }
   ],
   "source": [
    "df_filtered = df_v1[(df_v1[\"probability\"]<0.2) | (df_v1[\"probability\"]>0.8)]\n",
    "print(\"Size: \", df_filtered.shape)\n",
    "print(\"Accuracy Testset:\", accuracy_score(df_filtered[\"label\"], df_filtered[\"prediction\"]))\n",
    "print(\"F1-Score Testset:\", f1_score(df_filtered[\"label\"], df_filtered[\"prediction\"]))\n",
    "print(\"Confusion Testset:\", confusion_matrix(df_filtered[\"label\"], df_filtered[\"prediction\"]))"
   ]
  },
  {
   "cell_type": "code",
   "execution_count": 30,
   "id": "a5e25861",
   "metadata": {
    "execution": {
     "iopub.execute_input": "2023-12-13T19:28:17.793298Z",
     "iopub.status.busy": "2023-12-13T19:28:17.792564Z",
     "iopub.status.idle": "2023-12-13T19:28:17.808290Z",
     "shell.execute_reply": "2023-12-13T19:28:17.807339Z"
    },
    "papermill": {
     "duration": 0.039685,
     "end_time": "2023-12-13T19:28:17.810127",
     "exception": false,
     "start_time": "2023-12-13T19:28:17.770442",
     "status": "completed"
    },
    "tags": []
   },
   "outputs": [
    {
     "name": "stdout",
     "output_type": "stream",
     "text": [
      "Size:  (2574, 6)\n",
      "Accuracy Testset: 0.986013986013986\n",
      "F1-Score Testset: 0.9352517985611511\n",
      "Confusion Testset: [[2278   33]\n",
      " [   3  260]]\n"
     ]
    }
   ],
   "source": [
    "df_filtered = df_v1[(df_v1[\"probability\"]<0.1) | (df_v1[\"probability\"]>0.9)]\n",
    "print(\"Size: \", df_filtered.shape)\n",
    "print(\"Accuracy Testset:\", accuracy_score(df_filtered[\"label\"], df_filtered[\"prediction\"]))\n",
    "print(\"F1-Score Testset:\", f1_score(df_filtered[\"label\"], df_filtered[\"prediction\"]))\n",
    "print(\"Confusion Testset:\", confusion_matrix(df_filtered[\"label\"], df_filtered[\"prediction\"]))"
   ]
  },
  {
   "cell_type": "code",
   "execution_count": 31,
   "id": "026bc382",
   "metadata": {
    "execution": {
     "iopub.execute_input": "2023-12-13T19:28:17.853876Z",
     "iopub.status.busy": "2023-12-13T19:28:17.853621Z",
     "iopub.status.idle": "2023-12-13T19:28:17.868805Z",
     "shell.execute_reply": "2023-12-13T19:28:17.867781Z"
    },
    "papermill": {
     "duration": 0.039153,
     "end_time": "2023-12-13T19:28:17.870642",
     "exception": false,
     "start_time": "2023-12-13T19:28:17.831489",
     "status": "completed"
    },
    "tags": []
   },
   "outputs": [
    {
     "name": "stdout",
     "output_type": "stream",
     "text": [
      "Size:  (2256, 6)\n",
      "Accuracy Testset: 0.9849290780141844\n",
      "F1-Score Testset: 0.9386281588447655\n",
      "Confusion Testset: [[1962   33]\n",
      " [   1  260]]\n"
     ]
    }
   ],
   "source": [
    "df_filtered = df_v1[(df_v1[\"probability\"]<0.01) | (df_v1[\"probability\"]>0.9)]\n",
    "print(\"Size: \", df_filtered.shape)\n",
    "print(\"Accuracy Testset:\", accuracy_score(df_filtered[\"label\"], df_filtered[\"prediction\"]))\n",
    "print(\"F1-Score Testset:\", f1_score(df_filtered[\"label\"], df_filtered[\"prediction\"]))\n",
    "print(\"Confusion Testset:\", confusion_matrix(df_filtered[\"label\"], df_filtered[\"prediction\"]))"
   ]
  },
  {
   "cell_type": "code",
   "execution_count": 32,
   "id": "57a0d623",
   "metadata": {
    "execution": {
     "iopub.execute_input": "2023-12-13T19:28:17.915015Z",
     "iopub.status.busy": "2023-12-13T19:28:17.914734Z",
     "iopub.status.idle": "2023-12-13T19:28:17.931839Z",
     "shell.execute_reply": "2023-12-13T19:28:17.930805Z"
    },
    "papermill": {
     "duration": 0.041545,
     "end_time": "2023-12-13T19:28:17.933749",
     "exception": false,
     "start_time": "2023-12-13T19:28:17.892204",
     "status": "completed"
    },
    "tags": []
   },
   "outputs": [
    {
     "data": {
      "text/html": [
       "<div>\n",
       "<style scoped>\n",
       "    .dataframe tbody tr th:only-of-type {\n",
       "        vertical-align: middle;\n",
       "    }\n",
       "\n",
       "    .dataframe tbody tr th {\n",
       "        vertical-align: top;\n",
       "    }\n",
       "\n",
       "    .dataframe thead th {\n",
       "        text-align: right;\n",
       "    }\n",
       "</style>\n",
       "<table border=\"1\" class=\"dataframe\">\n",
       "  <thead>\n",
       "    <tr style=\"text-align: right;\">\n",
       "      <th></th>\n",
       "      <th>Unnamed: 0</th>\n",
       "      <th>image_path</th>\n",
       "      <th>label</th>\n",
       "      <th>prediction</th>\n",
       "      <th>probability</th>\n",
       "      <th>predicted_label</th>\n",
       "    </tr>\n",
       "  </thead>\n",
       "  <tbody>\n",
       "    <tr>\n",
       "      <th>67</th>\n",
       "      <td>67</td>\n",
       "      <td>/kaggle/input/ubc-ocean-tiles-w-masks-2048px-scale-0-25/train_images/2666/00332_11-21.png</td>\n",
       "      <td>1.0</td>\n",
       "      <td>1</td>\n",
       "      <td>0.9958</td>\n",
       "      <td>non-cancer</td>\n",
       "    </tr>\n",
       "    <tr>\n",
       "      <th>70</th>\n",
       "      <td>70</td>\n",
       "      <td>/kaggle/input/ubc-ocean-tiles-w-masks-2048px-scale-0-25/train_images/20316/00163_2-13.png</td>\n",
       "      <td>1.0</td>\n",
       "      <td>1</td>\n",
       "      <td>0.9976</td>\n",
       "      <td>non-cancer</td>\n",
       "    </tr>\n",
       "    <tr>\n",
       "      <th>86</th>\n",
       "      <td>86</td>\n",
       "      <td>/kaggle/input/ubc-ocean-tiles-w-masks-2048px-scale-0-25/train_images/16064/00024_2-3.png</td>\n",
       "      <td>1.0</td>\n",
       "      <td>1</td>\n",
       "      <td>0.9993</td>\n",
       "      <td>non-cancer</td>\n",
       "    </tr>\n",
       "    <tr>\n",
       "      <th>94</th>\n",
       "      <td>94</td>\n",
       "      <td>/kaggle/input/ubc-ocean-tiles-w-masks-2048px-scale-0-25/train_images/45185/00202_5-11.png</td>\n",
       "      <td>1.0</td>\n",
       "      <td>1</td>\n",
       "      <td>0.9981</td>\n",
       "      <td>non-cancer</td>\n",
       "    </tr>\n",
       "    <tr>\n",
       "      <th>115</th>\n",
       "      <td>115</td>\n",
       "      <td>/kaggle/input/ubc-ocean-tiles-w-masks-2048px-scale-0-25/train_images/2666/00030_22-5.png</td>\n",
       "      <td>1.0</td>\n",
       "      <td>1</td>\n",
       "      <td>0.9991</td>\n",
       "      <td>non-cancer</td>\n",
       "    </tr>\n",
       "    <tr>\n",
       "      <th>...</th>\n",
       "      <td>...</td>\n",
       "      <td>...</td>\n",
       "      <td>...</td>\n",
       "      <td>...</td>\n",
       "      <td>...</td>\n",
       "      <td>...</td>\n",
       "    </tr>\n",
       "    <tr>\n",
       "      <th>2783</th>\n",
       "      <td>2783</td>\n",
       "      <td>/kaggle/input/ubc-ocean-tiles-w-masks-2048px-scale-0-25/train_images/50304/00268_2-14.png</td>\n",
       "      <td>1.0</td>\n",
       "      <td>1</td>\n",
       "      <td>0.9952</td>\n",
       "      <td>non-cancer</td>\n",
       "    </tr>\n",
       "    <tr>\n",
       "      <th>2788</th>\n",
       "      <td>2788</td>\n",
       "      <td>/kaggle/input/ubc-ocean-tiles-w-masks-2048px-scale-0-25/train_images/15209/00104_23-7.png</td>\n",
       "      <td>1.0</td>\n",
       "      <td>1</td>\n",
       "      <td>0.9913</td>\n",
       "      <td>non-cancer</td>\n",
       "    </tr>\n",
       "    <tr>\n",
       "      <th>2841</th>\n",
       "      <td>2841</td>\n",
       "      <td>/kaggle/input/ubc-ocean-tiles-w-masks-2048px-scale-0-25/train_images/19255/00298_6-12.png</td>\n",
       "      <td>1.0</td>\n",
       "      <td>1</td>\n",
       "      <td>0.9986</td>\n",
       "      <td>non-cancer</td>\n",
       "    </tr>\n",
       "    <tr>\n",
       "      <th>2847</th>\n",
       "      <td>2847</td>\n",
       "      <td>/kaggle/input/ubc-ocean-tiles-w-masks-2048px-scale-0-25/train_images/19255/00364_8-14.png</td>\n",
       "      <td>1.0</td>\n",
       "      <td>1</td>\n",
       "      <td>0.9959</td>\n",
       "      <td>non-cancer</td>\n",
       "    </tr>\n",
       "    <tr>\n",
       "      <th>2858</th>\n",
       "      <td>2858</td>\n",
       "      <td>/kaggle/input/ubc-ocean-tiles-w-masks-2048px-scale-0-25/train_images/19255/00151_13-7.png</td>\n",
       "      <td>1.0</td>\n",
       "      <td>1</td>\n",
       "      <td>0.9931</td>\n",
       "      <td>non-cancer</td>\n",
       "    </tr>\n",
       "  </tbody>\n",
       "</table>\n",
       "<p>180 rows × 6 columns</p>\n",
       "</div>"
      ],
      "text/plain": [
       "      Unnamed: 0  \\\n",
       "67            67   \n",
       "70            70   \n",
       "86            86   \n",
       "94            94   \n",
       "115          115   \n",
       "...          ...   \n",
       "2783        2783   \n",
       "2788        2788   \n",
       "2841        2841   \n",
       "2847        2847   \n",
       "2858        2858   \n",
       "\n",
       "                                                                                     image_path  \\\n",
       "67    /kaggle/input/ubc-ocean-tiles-w-masks-2048px-scale-0-25/train_images/2666/00332_11-21.png   \n",
       "70    /kaggle/input/ubc-ocean-tiles-w-masks-2048px-scale-0-25/train_images/20316/00163_2-13.png   \n",
       "86     /kaggle/input/ubc-ocean-tiles-w-masks-2048px-scale-0-25/train_images/16064/00024_2-3.png   \n",
       "94    /kaggle/input/ubc-ocean-tiles-w-masks-2048px-scale-0-25/train_images/45185/00202_5-11.png   \n",
       "115    /kaggle/input/ubc-ocean-tiles-w-masks-2048px-scale-0-25/train_images/2666/00030_22-5.png   \n",
       "...                                                                                         ...   \n",
       "2783  /kaggle/input/ubc-ocean-tiles-w-masks-2048px-scale-0-25/train_images/50304/00268_2-14.png   \n",
       "2788  /kaggle/input/ubc-ocean-tiles-w-masks-2048px-scale-0-25/train_images/15209/00104_23-7.png   \n",
       "2841  /kaggle/input/ubc-ocean-tiles-w-masks-2048px-scale-0-25/train_images/19255/00298_6-12.png   \n",
       "2847  /kaggle/input/ubc-ocean-tiles-w-masks-2048px-scale-0-25/train_images/19255/00364_8-14.png   \n",
       "2858  /kaggle/input/ubc-ocean-tiles-w-masks-2048px-scale-0-25/train_images/19255/00151_13-7.png   \n",
       "\n",
       "      label  prediction  probability predicted_label  \n",
       "67      1.0           1       0.9958      non-cancer  \n",
       "70      1.0           1       0.9976      non-cancer  \n",
       "86      1.0           1       0.9993      non-cancer  \n",
       "94      1.0           1       0.9981      non-cancer  \n",
       "115     1.0           1       0.9991      non-cancer  \n",
       "...     ...         ...          ...             ...  \n",
       "2783    1.0           1       0.9952      non-cancer  \n",
       "2788    1.0           1       0.9913      non-cancer  \n",
       "2841    1.0           1       0.9986      non-cancer  \n",
       "2847    1.0           1       0.9959      non-cancer  \n",
       "2858    1.0           1       0.9931      non-cancer  \n",
       "\n",
       "[180 rows x 6 columns]"
      ]
     },
     "execution_count": 32,
     "metadata": {},
     "output_type": "execute_result"
    }
   ],
   "source": [
    "df_v1[df_v1[\"probability\"]>0.99]"
   ]
  },
  {
   "cell_type": "code",
   "execution_count": null,
   "id": "a0be818d",
   "metadata": {
    "papermill": {
     "duration": 0.021565,
     "end_time": "2023-12-13T19:28:17.977446",
     "exception": false,
     "start_time": "2023-12-13T19:28:17.955881",
     "status": "completed"
    },
    "tags": []
   },
   "outputs": [],
   "source": []
  }
 ],
 "metadata": {
  "kaggle": {
   "accelerator": "none",
   "dataSources": [
    {
     "databundleVersionId": 6924515,
     "sourceId": 45867,
     "sourceType": "competition"
    },
    {
     "datasetId": 3889865,
     "sourceId": 6917177,
     "sourceType": "datasetVersion"
    },
    {
     "datasetId": 4014175,
     "sourceId": 6984590,
     "sourceType": "datasetVersion"
    },
    {
     "datasetId": 4027203,
     "sourceId": 7029230,
     "sourceType": "datasetVersion"
    },
    {
     "datasetId": 4133077,
     "sourceId": 7156628,
     "sourceType": "datasetVersion"
    },
    {
     "datasetId": 4154039,
     "sourceId": 7185654,
     "sourceType": "datasetVersion"
    },
    {
     "datasetId": 4160818,
     "sourceId": 7194780,
     "sourceType": "datasetVersion"
    },
    {
     "sourceId": 154724360,
     "sourceType": "kernelVersion"
    },
    {
     "sourceId": 154725573,
     "sourceType": "kernelVersion"
    },
    {
     "sourceId": 154832111,
     "sourceType": "kernelVersion"
    },
    {
     "sourceId": 154840576,
     "sourceType": "kernelVersion"
    }
   ],
   "dockerImageVersionId": 30559,
   "isGpuEnabled": false,
   "isInternetEnabled": true,
   "language": "python",
   "sourceType": "notebook"
  },
  "kernelspec": {
   "display_name": "Python 3",
   "language": "python",
   "name": "python3"
  },
  "language_info": {
   "codemirror_mode": {
    "name": "ipython",
    "version": 3
   },
   "file_extension": ".py",
   "mimetype": "text/x-python",
   "name": "python",
   "nbconvert_exporter": "python",
   "pygments_lexer": "ipython3",
   "version": "3.10.12"
  },
  "papermill": {
   "default_parameters": {},
   "duration": 130.595436,
   "end_time": "2023-12-13T19:28:20.832141",
   "environment_variables": {},
   "exception": null,
   "input_path": "__notebook__.ipynb",
   "output_path": "__notebook__.ipynb",
   "parameters": {},
   "start_time": "2023-12-13T19:26:10.236705",
   "version": "2.4.0"
  }
 },
 "nbformat": 4,
 "nbformat_minor": 5
}
