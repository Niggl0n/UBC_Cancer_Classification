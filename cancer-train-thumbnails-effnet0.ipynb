{
 "cells": [
  {
   "cell_type": "markdown",
   "id": "56d73f88",
   "metadata": {
    "_cell_guid": "7fbd9e76-0e61-448f-9821-5604ee06b6bd",
    "_uuid": "c236e383-a567-4593-8224-4d91a5b2f48a",
    "papermill": {
     "duration": 0.010237,
     "end_time": "2023-11-13T13:59:03.661076",
     "exception": false,
     "start_time": "2023-11-13T13:59:03.650839",
     "status": "completed"
    },
    "tags": []
   },
   "source": [
    "# Introduction \n",
    "\n",
    "**This is a basic CNN Model training notebook**\n",
    "\n",
    "It is based on: \n",
    "- Thumbnail images\n",
    "- Basic data transformation (using Albumentation):\n",
    "    - resizing images to 512x512\n",
    "    - normalizing pixel values\n",
    "- CNN Architecture\n",
    "\n",
    "\n",
    "**Todos:**\n",
    "\n",
    "- Learn about Dataset & DataLoader\n",
    "- add augmentations (albumentation)\n",
    "- gem pooling"
   ]
  },
  {
   "cell_type": "code",
   "execution_count": 1,
   "id": "dc98da9c",
   "metadata": {
    "_cell_guid": "03fe1244-eade-484b-bc03-f0bffcc7bc46",
    "_uuid": "6077d1fc-c476-4a0c-8b67-5340d5258e00",
    "collapsed": false,
    "execution": {
     "iopub.execute_input": "2023-11-13T13:59:03.683029Z",
     "iopub.status.busy": "2023-11-13T13:59:03.682583Z",
     "iopub.status.idle": "2023-11-13T13:59:04.735280Z",
     "shell.execute_reply": "2023-11-13T13:59:04.733761Z"
    },
    "jupyter": {
     "outputs_hidden": false
    },
    "papermill": {
     "duration": 1.067875,
     "end_time": "2023-11-13T13:59:04.738730",
     "exception": false,
     "start_time": "2023-11-13T13:59:03.670855",
     "status": "completed"
    },
    "tags": []
   },
   "outputs": [],
   "source": [
    "# This Python 3 environment comes with many helpful analytics libraries installed\n",
    "# It is defined by the kaggle/python Docker image: https://github.com/kaggle/docker-python\n",
    "# For example, here's several helpful packages to load\n",
    "\n",
    "import numpy as np # linear algebra\n",
    "import pandas as pd # data processing, CSV file I/O (e.g. pd.read_csv)\n",
    "\n",
    "# Input data files are available in the read-only \"../input/\" directory\n",
    "# For example, running this (by clicking run or pressing Shift+Enter) will list all files under the input directory\n",
    "\n",
    "import os\n",
    "for dirname, _, filenames in os.walk('/kaggle/input'):\n",
    "    for filename in filenames:\n",
    "        # print(os.path.join(dirname, filename))\n",
    "        continue\n",
    "\n",
    "# You can write up to 20GB to the current directory (/kaggle/working/) that gets preserved as output when you create a version using \"Save & Run All\" \n",
    "# You can also write temporary files to /kaggle/temp/, but they won't be saved outside of the current session"
   ]
  },
  {
   "cell_type": "code",
   "execution_count": 2,
   "id": "55b0d5f4",
   "metadata": {
    "_cell_guid": "222b9d3b-a820-49b1-9ce4-dae8ff77f99e",
    "_uuid": "e4fd4a6a-2799-4b3c-9926-48416a52dcc9",
    "collapsed": false,
    "execution": {
     "iopub.execute_input": "2023-11-13T13:59:04.760752Z",
     "iopub.status.busy": "2023-11-13T13:59:04.759924Z",
     "iopub.status.idle": "2023-11-13T13:59:04.763957Z",
     "shell.execute_reply": "2023-11-13T13:59:04.763135Z"
    },
    "jupyter": {
     "outputs_hidden": false
    },
    "papermill": {
     "duration": 0.018041,
     "end_time": "2023-11-13T13:59:04.766461",
     "exception": false,
     "start_time": "2023-11-13T13:59:04.748420",
     "status": "completed"
    },
    "tags": []
   },
   "outputs": [],
   "source": [
    "#!pip install focal_loss_torch\n",
    "# from focal_loss.focal_loss import FocalLoss"
   ]
  },
  {
   "cell_type": "code",
   "execution_count": 3,
   "id": "f39e423c",
   "metadata": {
    "_cell_guid": "5f3beac8-3d53-45c2-a46b-e2a47d6a00a1",
    "_uuid": "f3b88273-6b8c-4d90-8ef7-934af5929bf6",
    "collapsed": false,
    "execution": {
     "iopub.execute_input": "2023-11-13T13:59:04.788188Z",
     "iopub.status.busy": "2023-11-13T13:59:04.787532Z",
     "iopub.status.idle": "2023-11-13T13:59:26.564045Z",
     "shell.execute_reply": "2023-11-13T13:59:26.562339Z"
    },
    "jupyter": {
     "outputs_hidden": false
    },
    "papermill": {
     "duration": 21.790982,
     "end_time": "2023-11-13T13:59:26.567275",
     "exception": false,
     "start_time": "2023-11-13T13:59:04.776293",
     "status": "completed"
    },
    "tags": []
   },
   "outputs": [],
   "source": [
    "\n",
    "\n",
    "import os\n",
    "import gc\n",
    "import cv2\n",
    "import datetime\n",
    "import math\n",
    "import copy\n",
    "import time\n",
    "import random\n",
    "import glob\n",
    "from matplotlib import pyplot as plt\n",
    "from skimage import io\n",
    "\n",
    "\n",
    "# For data manipulation\n",
    "import numpy as np\n",
    "import pandas as pd\n",
    "\n",
    "# Pytorch Imports\n",
    "import torch\n",
    "import torch.nn as nn\n",
    "import torch.optim as optim\n",
    "import torch.nn.functional as F\n",
    "from torch.optim import lr_scheduler\n",
    "from torch.utils.data import Dataset, DataLoader\n",
    "from torch.utils.tensorboard import SummaryWriter\n",
    "from torch.cuda import amp\n",
    "import torchvision\n",
    "\n",
    "import optuna\n",
    "from optuna.trial import TrialState\n",
    "\n",
    "# Utils\n",
    "import joblib\n",
    "from tqdm import tqdm\n",
    "from collections import defaultdict\n",
    "\n",
    "# Sklearn Imports\n",
    "from sklearn.preprocessing import LabelEncoder\n",
    "from sklearn.model_selection import StratifiedKFold\n",
    "from sklearn.metrics import balanced_accuracy_score, confusion_matrix, f1_score\n",
    "\n",
    "# For Image Models\n",
    "import timm\n",
    "\n",
    "# Albumentations for augmentations\n",
    "import albumentations as A\n",
    "from albumentations.pytorch import ToTensorV2\n",
    "\n",
    "# For colored terminal text\n",
    "from colorama import Fore, Back, Style\n",
    "b_ = Fore.BLUE\n",
    "sr_ = Style.RESET_ALL\n",
    "\n",
    "import warnings\n",
    "# warnings.filterwarnings(\"ignore\")\n",
    "\n",
    "# For descriptive error messages\n",
    "os.environ['CUDA_LAUNCH_BLOCKING'] = \"1\""
   ]
  },
  {
   "cell_type": "code",
   "execution_count": 4,
   "id": "7dae70aa",
   "metadata": {
    "execution": {
     "iopub.execute_input": "2023-11-13T13:59:26.589746Z",
     "iopub.status.busy": "2023-11-13T13:59:26.587678Z",
     "iopub.status.idle": "2023-11-13T13:59:26.610086Z",
     "shell.execute_reply": "2023-11-13T13:59:26.608524Z"
    },
    "papermill": {
     "duration": 0.037315,
     "end_time": "2023-11-13T13:59:26.614154",
     "exception": false,
     "start_time": "2023-11-13T13:59:26.576839",
     "status": "completed"
    },
    "tags": []
   },
   "outputs": [
    {
     "name": "stderr",
     "output_type": "stream",
     "text": [
      "/opt/conda/lib/python3.10/site-packages/albumentations/augmentations/dropout/cutout.py:49: FutureWarning: Cutout has been deprecated. Please use CoarseDropout\n",
      "  warnings.warn(\n"
     ]
    }
   ],
   "source": [
    "from cancer_utils_thumbnails import UBCDataset, data_transforms, GeM, EfficientNetB0,EarlyStopping, predict_val_dataset\n",
    "from cancer_utils_thumbnails import fetch_scheduler, get_optimizer, get_dataloaders, get_class_weights\n"
   ]
  },
  {
   "cell_type": "code",
   "execution_count": 5,
   "id": "1ab91e55",
   "metadata": {
    "_cell_guid": "c1d37e21-58ce-44f9-b35f-b26b7711b564",
    "_uuid": "b10ba715-a939-49ac-b8b6-6a00fec3168d",
    "collapsed": false,
    "execution": {
     "iopub.execute_input": "2023-11-13T13:59:26.637832Z",
     "iopub.status.busy": "2023-11-13T13:59:26.637400Z",
     "iopub.status.idle": "2023-11-13T13:59:26.646735Z",
     "shell.execute_reply": "2023-11-13T13:59:26.645317Z"
    },
    "jupyter": {
     "outputs_hidden": false
    },
    "papermill": {
     "duration": 0.025169,
     "end_time": "2023-11-13T13:59:26.649972",
     "exception": false,
     "start_time": "2023-11-13T13:59:26.624803",
     "status": "completed"
    },
    "tags": []
   },
   "outputs": [],
   "source": [
    "CONFIG = {\n",
    "    \"is_submission\": False,\n",
    "    \"crop_vertical\": True,\n",
    "    \"weighted_loss\": True,\n",
    "    \"datetime_now\": datetime.datetime.now().strftime(\"%Y-%m-%d_%H-%M-%S\"), \n",
    "    \"n_fold\": 5,\n",
    "    \"fold\": 1,\n",
    "    \"seed\": 42,\n",
    "    \"img_size\": 512,\n",
    "    'center_crop_size': 1024,\n",
    "    \"model_name\": \"tf_efficientnet_b0_ns\",\n",
    "    \"num_classes\": 5,\n",
    "    \"train_batch_size\": 16,\n",
    "    \"valid_batch_size\": 16,\n",
    "    \"device\": torch.device(\"cuda:0\" if torch.cuda.is_available() else \"cpu\"),\n",
    "    \"num_epochs\": 30,\n",
    "    \"early_stopping\": True,\n",
    "    \"patience\": 7,\n",
    "    \"optimizer\": 'Adam',\n",
    "    \"learning_rate\": 1e-4,\n",
    "    \"scheduler\": 'CosineAnnealingLR',\n",
    "    \"min_lr\": 1e-6,\n",
    "    \"T_max\": 30,\n",
    "    \"momentum\": 0.9,\n",
    "    \"weight_decay\": 1e-4,\n",
    "}"
   ]
  },
  {
   "cell_type": "markdown",
   "id": "531113b1",
   "metadata": {
    "_cell_guid": "69c64e86-6133-4e50-954a-d67c0782dbad",
    "_uuid": "62bd3a60-c884-4183-9a39-0e3300255357",
    "papermill": {
     "duration": 0.00958,
     "end_time": "2023-11-13T13:59:26.669917",
     "exception": false,
     "start_time": "2023-11-13T13:59:26.660337",
     "status": "completed"
    },
    "tags": []
   },
   "source": [
    "## 1. Data Preparation"
   ]
  },
  {
   "cell_type": "code",
   "execution_count": 6,
   "id": "90f051ef",
   "metadata": {
    "_cell_guid": "7fbc003b-7cbd-4f83-9f80-b8dd7a20bd49",
    "_uuid": "ef7784fd-3c76-47bd-99a4-6c15b2772f13",
    "collapsed": false,
    "execution": {
     "iopub.execute_input": "2023-11-13T13:59:26.692576Z",
     "iopub.status.busy": "2023-11-13T13:59:26.691907Z",
     "iopub.status.idle": "2023-11-13T13:59:26.700160Z",
     "shell.execute_reply": "2023-11-13T13:59:26.698791Z"
    },
    "jupyter": {
     "outputs_hidden": false
    },
    "papermill": {
     "duration": 0.02332,
     "end_time": "2023-11-13T13:59:26.703261",
     "exception": false,
     "start_time": "2023-11-13T13:59:26.679941",
     "status": "completed"
    },
    "tags": []
   },
   "outputs": [],
   "source": [
    "ROOT_DIR = '/kaggle/input/UBC-OCEAN'\n",
    "TRAIN_DIR = '/kaggle/input/UBC-OCEAN/train_thumbnails'\n",
    "TEST_DIR = '/kaggle/input/UBC-OCEAN/test_thumbnails'\n",
    "ALT_TEST_DIR = '/kaggle/input/UBC-OCEAN/test_images'\n",
    "TMA_TRAIN_DIR = '/kaggle/input/UBC-OCEAN/train_images'\n",
    "\n",
    "def get_train_file_path(df_train_row):\n",
    "    if df_train_row.is_tma == False:\n",
    "        return f\"{TRAIN_DIR}/{df_train_row.image_id}_thumbnail.png\"\n",
    "    else:\n",
    "        return f\"{TMA_TRAIN_DIR}/{df_train_row.image_id}.png\"\n",
    "\n",
    "\n",
    "def get_test_file_path(image_id):\n",
    "    if os.path.exists(f\"{TEST_DIR}/{image_id}_thumbnail.png\"):\n",
    "        return f\"{TEST_DIR}/{image_id}_thumbnail.png\"\n",
    "    else:\n",
    "        return f\"{ALT_TEST_DIR}/{image_id}.png\""
   ]
  },
  {
   "cell_type": "code",
   "execution_count": 7,
   "id": "6cc7fd74",
   "metadata": {
    "_cell_guid": "21d5e705-3e37-441c-927b-ad4568799c1a",
    "_uuid": "8068d93a-3cb1-4070-918a-78acf56a5d1d",
    "collapsed": false,
    "execution": {
     "iopub.execute_input": "2023-11-13T13:59:26.726469Z",
     "iopub.status.busy": "2023-11-13T13:59:26.726009Z",
     "iopub.status.idle": "2023-11-13T13:59:26.806286Z",
     "shell.execute_reply": "2023-11-13T13:59:26.804644Z"
    },
    "jupyter": {
     "outputs_hidden": false
    },
    "papermill": {
     "duration": 0.095603,
     "end_time": "2023-11-13T13:59:26.809997",
     "exception": false,
     "start_time": "2023-11-13T13:59:26.714394",
     "status": "completed"
    },
    "tags": []
   },
   "outputs": [
    {
     "name": "stdout",
     "output_type": "stream",
     "text": [
      "(538, 5)\n",
      "(538, 6)\n"
     ]
    },
    {
     "data": {
      "text/html": [
       "<div>\n",
       "<style scoped>\n",
       "    .dataframe tbody tr th:only-of-type {\n",
       "        vertical-align: middle;\n",
       "    }\n",
       "\n",
       "    .dataframe tbody tr th {\n",
       "        vertical-align: top;\n",
       "    }\n",
       "\n",
       "    .dataframe thead th {\n",
       "        text-align: right;\n",
       "    }\n",
       "</style>\n",
       "<table border=\"1\" class=\"dataframe\">\n",
       "  <thead>\n",
       "    <tr style=\"text-align: right;\">\n",
       "      <th></th>\n",
       "      <th>image_id</th>\n",
       "      <th>label</th>\n",
       "      <th>image_width</th>\n",
       "      <th>image_height</th>\n",
       "      <th>is_tma</th>\n",
       "      <th>file_path</th>\n",
       "      <th>target_label</th>\n",
       "      <th>kfold</th>\n",
       "    </tr>\n",
       "  </thead>\n",
       "  <tbody>\n",
       "    <tr>\n",
       "      <th>0</th>\n",
       "      <td>4</td>\n",
       "      <td>HGSC</td>\n",
       "      <td>23785</td>\n",
       "      <td>20008</td>\n",
       "      <td>False</td>\n",
       "      <td>/kaggle/input/UBC-OCEAN/train_thumbnails/4_thu...</td>\n",
       "      <td>2</td>\n",
       "      <td>3.0</td>\n",
       "    </tr>\n",
       "    <tr>\n",
       "      <th>1</th>\n",
       "      <td>66</td>\n",
       "      <td>LGSC</td>\n",
       "      <td>48871</td>\n",
       "      <td>48195</td>\n",
       "      <td>False</td>\n",
       "      <td>/kaggle/input/UBC-OCEAN/train_thumbnails/66_th...</td>\n",
       "      <td>3</td>\n",
       "      <td>2.0</td>\n",
       "    </tr>\n",
       "    <tr>\n",
       "      <th>2</th>\n",
       "      <td>91</td>\n",
       "      <td>HGSC</td>\n",
       "      <td>3388</td>\n",
       "      <td>3388</td>\n",
       "      <td>True</td>\n",
       "      <td>/kaggle/input/UBC-OCEAN/train_images/91.png</td>\n",
       "      <td>2</td>\n",
       "      <td>4.0</td>\n",
       "    </tr>\n",
       "    <tr>\n",
       "      <th>3</th>\n",
       "      <td>281</td>\n",
       "      <td>LGSC</td>\n",
       "      <td>42309</td>\n",
       "      <td>15545</td>\n",
       "      <td>False</td>\n",
       "      <td>/kaggle/input/UBC-OCEAN/train_thumbnails/281_t...</td>\n",
       "      <td>3</td>\n",
       "      <td>2.0</td>\n",
       "    </tr>\n",
       "    <tr>\n",
       "      <th>4</th>\n",
       "      <td>286</td>\n",
       "      <td>EC</td>\n",
       "      <td>37204</td>\n",
       "      <td>30020</td>\n",
       "      <td>False</td>\n",
       "      <td>/kaggle/input/UBC-OCEAN/train_thumbnails/286_t...</td>\n",
       "      <td>1</td>\n",
       "      <td>2.0</td>\n",
       "    </tr>\n",
       "  </tbody>\n",
       "</table>\n",
       "</div>"
      ],
      "text/plain": [
       "   image_id label  image_width  image_height  is_tma  \\\n",
       "0         4  HGSC        23785         20008   False   \n",
       "1        66  LGSC        48871         48195   False   \n",
       "2        91  HGSC         3388          3388    True   \n",
       "3       281  LGSC        42309         15545   False   \n",
       "4       286    EC        37204         30020   False   \n",
       "\n",
       "                                           file_path  target_label  kfold  \n",
       "0  /kaggle/input/UBC-OCEAN/train_thumbnails/4_thu...             2    3.0  \n",
       "1  /kaggle/input/UBC-OCEAN/train_thumbnails/66_th...             3    2.0  \n",
       "2        /kaggle/input/UBC-OCEAN/train_images/91.png             2    4.0  \n",
       "3  /kaggle/input/UBC-OCEAN/train_thumbnails/281_t...             3    2.0  \n",
       "4  /kaggle/input/UBC-OCEAN/train_thumbnails/286_t...             1    2.0  "
      ]
     },
     "execution_count": 7,
     "metadata": {},
     "output_type": "execute_result"
    }
   ],
   "source": [
    "train_images = sorted(glob.glob(f\"{TRAIN_DIR}/*.png\"))\n",
    "df_train = pd.read_csv(\"/kaggle/input/UBC-OCEAN/train.csv\")\n",
    "print(df_train.shape)\n",
    "df_train['file_path'] = df_train.apply(lambda row: get_train_file_path(row), axis=1)\n",
    "# only consider WSI / Thumbnail images\n",
    "#df_train = df_train[ \n",
    "#    df_train[\"file_path\"].isin(train_images) ].reset_index(drop=True)\n",
    "print(df_train.shape)\n",
    "\n",
    "# encode to numericalt target\n",
    "encoder = LabelEncoder()\n",
    "df_train['target_label'] = encoder.fit_transform(df_train['label'])\n",
    "\n",
    "# save encoder\n",
    "with open(\"label_encoder_\"+ CONFIG[\"datetime_now\"] +\".pkl\", \"wb\") as fp:\n",
    "    joblib.dump(encoder, fp)\n",
    "    \n",
    "# use stratified K Fold for crossvalidation \n",
    "skf = StratifiedKFold(n_splits=CONFIG['n_fold'], shuffle=True, random_state=CONFIG[\"seed\"])\n",
    "\n",
    "for fold, ( _, val_) in enumerate(skf.split(X=df_train, y=df_train.target_label)):\n",
    "    df_train.loc[val_ , \"kfold\"] = int(fold)\n",
    "df_train.head()"
   ]
  },
  {
   "cell_type": "code",
   "execution_count": 8,
   "id": "b67120b0",
   "metadata": {
    "_cell_guid": "48e9c991-f49b-4146-ace8-377b12e9897c",
    "_uuid": "9ad78ad0-7f61-4dc2-bccd-513ddf43fbd7",
    "collapsed": false,
    "execution": {
     "iopub.execute_input": "2023-11-13T13:59:26.832639Z",
     "iopub.status.busy": "2023-11-13T13:59:26.832189Z",
     "iopub.status.idle": "2023-11-13T13:59:26.850867Z",
     "shell.execute_reply": "2023-11-13T13:59:26.849612Z"
    },
    "jupyter": {
     "outputs_hidden": false
    },
    "papermill": {
     "duration": 0.033412,
     "end_time": "2023-11-13T13:59:26.853785",
     "exception": false,
     "start_time": "2023-11-13T13:59:26.820373",
     "status": "completed"
    },
    "tags": []
   },
   "outputs": [
    {
     "data": {
      "text/html": [
       "<div>\n",
       "<style scoped>\n",
       "    .dataframe tbody tr th:only-of-type {\n",
       "        vertical-align: middle;\n",
       "    }\n",
       "\n",
       "    .dataframe tbody tr th {\n",
       "        vertical-align: top;\n",
       "    }\n",
       "\n",
       "    .dataframe thead th {\n",
       "        text-align: right;\n",
       "    }\n",
       "</style>\n",
       "<table border=\"1\" class=\"dataframe\">\n",
       "  <thead>\n",
       "    <tr style=\"text-align: right;\">\n",
       "      <th></th>\n",
       "      <th>image_id</th>\n",
       "      <th>image_width</th>\n",
       "      <th>image_height</th>\n",
       "      <th>file_path</th>\n",
       "      <th>target_label</th>\n",
       "    </tr>\n",
       "  </thead>\n",
       "  <tbody>\n",
       "    <tr>\n",
       "      <th>0</th>\n",
       "      <td>41</td>\n",
       "      <td>28469</td>\n",
       "      <td>16987</td>\n",
       "      <td>/kaggle/input/UBC-OCEAN/test_thumbnails/41_thu...</td>\n",
       "      <td>0</td>\n",
       "    </tr>\n",
       "  </tbody>\n",
       "</table>\n",
       "</div>"
      ],
      "text/plain": [
       "   image_id  image_width  image_height  \\\n",
       "0        41        28469         16987   \n",
       "\n",
       "                                           file_path  target_label  \n",
       "0  /kaggle/input/UBC-OCEAN/test_thumbnails/41_thu...             0  "
      ]
     },
     "execution_count": 8,
     "metadata": {},
     "output_type": "execute_result"
    }
   ],
   "source": [
    "df_test = pd.read_csv(\"/kaggle/input/UBC-OCEAN/test.csv\")\n",
    "df_test['file_path'] = df_test['image_id'].apply(get_test_file_path)\n",
    "df_test[\"target_label\"] = 0 \n",
    "df_test"
   ]
  },
  {
   "cell_type": "code",
   "execution_count": null,
   "id": "106d19ca",
   "metadata": {
    "_cell_guid": "5703a737-843c-474d-a400-adef01e70eba",
    "_uuid": "39b56099-c645-4751-9da1-922bcc73ea9f",
    "collapsed": false,
    "jupyter": {
     "outputs_hidden": false
    },
    "papermill": {
     "duration": 0.010075,
     "end_time": "2023-11-13T13:59:26.874304",
     "exception": false,
     "start_time": "2023-11-13T13:59:26.864229",
     "status": "completed"
    },
    "tags": []
   },
   "outputs": [],
   "source": []
  },
  {
   "cell_type": "code",
   "execution_count": 9,
   "id": "ad1cce28",
   "metadata": {
    "_cell_guid": "b745b704-68f2-4533-9c83-8750de5f5f3b",
    "_uuid": "325281c3-86a3-48e8-a16c-2ad67d4fc836",
    "collapsed": false,
    "execution": {
     "iopub.execute_input": "2023-11-13T13:59:26.898089Z",
     "iopub.status.busy": "2023-11-13T13:59:26.897692Z",
     "iopub.status.idle": "2023-11-13T13:59:26.909497Z",
     "shell.execute_reply": "2023-11-13T13:59:26.907977Z"
    },
    "jupyter": {
     "outputs_hidden": false
    },
    "papermill": {
     "duration": 0.027907,
     "end_time": "2023-11-13T13:59:26.912640",
     "exception": false,
     "start_time": "2023-11-13T13:59:26.884733",
     "status": "completed"
    },
    "tags": []
   },
   "outputs": [
    {
     "name": "stderr",
     "output_type": "stream",
     "text": [
      "/opt/conda/lib/python3.10/site-packages/albumentations/augmentations/dropout/cutout.py:49: FutureWarning: Cutout has been deprecated. Please use CoarseDropout\n",
      "  warnings.warn(\n"
     ]
    }
   ],
   "source": [
    "data_transforms = {\n",
    "    \"train\": A.Compose([\n",
    "        A.RandomResizedCrop(CONFIG['img_size'], CONFIG['img_size'], scale=(0.8, 1.0)),\n",
    "        A.HorizontalFlip(p=0.5),\n",
    "        A.RandomBrightnessContrast(p=0.2),\n",
    "        A.ShiftScaleRotate(shift_limit=0.125, scale_limit=0.2, rotate_limit=15, p=0.5),\n",
    "        A.HueSaturationValue(hue_shift_limit=20, sat_shift_limit=30, val_shift_limit=20, p=0.5),\n",
    "        A.CoarseDropout(p=0.2),\n",
    "        A.Cutout(p=0.2),\n",
    "        A.Normalize(\n",
    "            mean=[0.485, 0.456, 0.406], \n",
    "            std=[0.229, 0.224, 0.225], \n",
    "            max_pixel_value=255.0, \n",
    "            p=1.0\n",
    "        ),\n",
    "        ToTensorV2()], p=1.),\n",
    "    \n",
    "    \"valid\": A.Compose([\n",
    "        A.Resize(CONFIG['img_size'], CONFIG['img_size']),\n",
    "        A.Normalize(\n",
    "            mean=[0.485, 0.456, 0.406], \n",
    "            std=[0.229, 0.224, 0.225], \n",
    "            max_pixel_value=255.0, \n",
    "            p=1.0\n",
    "        ),\n",
    "        ToTensorV2()], p=1.)\n",
    "}"
   ]
  },
  {
   "cell_type": "markdown",
   "id": "da78664c",
   "metadata": {
    "_cell_guid": "d5e4be73-c1cf-48a7-9899-b37b837a3dea",
    "_uuid": "4722e90b-7afe-45b3-a7bc-4fafec556e7d",
    "papermill": {
     "duration": 0.011133,
     "end_time": "2023-11-13T13:59:26.934808",
     "exception": false,
     "start_time": "2023-11-13T13:59:26.923675",
     "status": "completed"
    },
    "tags": []
   },
   "source": [
    "## 2. Model Creation"
   ]
  },
  {
   "cell_type": "markdown",
   "id": "4ba79240",
   "metadata": {
    "_cell_guid": "29a9bf84-8ec1-4f0b-a5c5-8690cc7998a4",
    "_uuid": "51f35f79-ff76-4a72-9d3e-028e266c3cae",
    "papermill": {
     "duration": 0.010806,
     "end_time": "2023-11-13T13:59:26.956082",
     "exception": false,
     "start_time": "2023-11-13T13:59:26.945276",
     "status": "completed"
    },
    "tags": []
   },
   "source": [
    "## 3. Training"
   ]
  },
  {
   "cell_type": "code",
   "execution_count": 10,
   "id": "b7d6e2c5",
   "metadata": {
    "_cell_guid": "d03a7e49-b9b4-4e15-ab89-014652ae870a",
    "_uuid": "b163a42e-8167-4be0-8501-8b72fd39dc8d",
    "collapsed": false,
    "execution": {
     "iopub.execute_input": "2023-11-13T13:59:26.980838Z",
     "iopub.status.busy": "2023-11-13T13:59:26.980053Z",
     "iopub.status.idle": "2023-11-13T13:59:27.006531Z",
     "shell.execute_reply": "2023-11-13T13:59:27.005221Z"
    },
    "jupyter": {
     "outputs_hidden": false
    },
    "papermill": {
     "duration": 0.043158,
     "end_time": "2023-11-13T13:59:27.010340",
     "exception": false,
     "start_time": "2023-11-13T13:59:26.967182",
     "status": "completed"
    },
    "tags": []
   },
   "outputs": [],
   "source": [
    "def train_one_epoch(model, train_loader, optimizer, criterion, device, writer, epoch, scheduler=None):\n",
    "    if torch.cuda.is_available():\n",
    "        print(\"[INFO] Using GPU: {}\\n\".format(torch.cuda.get_device_name()))\n",
    "    model.train()\n",
    "    train_loss = 0.0\n",
    "    bar = tqdm(enumerate(train_loader), total=len(train_loader))\n",
    "    for step, data in bar:\n",
    "        images = data['image'].to(device, dtype=torch.float)\n",
    "        labels = data['label'].to(device, dtype=torch.long)\n",
    "\n",
    "        optimizer.zero_grad()\n",
    "        outputs = model(images)\n",
    "        \n",
    "        # crossentropy loss\n",
    "        loss = criterion(outputs, labels)\n",
    "        # Focal Loss\n",
    "        #criterion = FocalLoss(gamma=0.7)\n",
    "        #m = torch.nn.Softmax(dim=-1)\n",
    "        #loss = criterion(m(outputs), labels)\n",
    "        \n",
    "        loss.backward()\n",
    "        optimizer.step()\n",
    "        train_loss += loss.item() * images.size(0)\n",
    "        # Update learning rate using the scheduler\n",
    "        if scheduler:\n",
    "            scheduler.step()\n",
    "        \n",
    "        # Log the training loss to TensorBoard\n",
    "        writer.add_scalar('loss/train_batch', loss.item(), epoch * len(train_loader) + step)\n",
    "    \n",
    "    train_loss /= len(train_loader.dataset)\n",
    "    # Log the average training loss for the epoch to TensorBoard\n",
    "    writer.add_scalar('loss/train_epoch', train_loss, epoch)\n",
    "    # gc.collect()\n",
    "    return train_loss\n",
    "\n",
    "def validate_one_epoch(model, valid_loader, criterion, device, writer, epoch):\n",
    "    model.eval()\n",
    "    valid_loss = 0.0\n",
    "    valid_acc = 0.0\n",
    "    all_preds = []\n",
    "    all_labels = []\n",
    "    \n",
    "    with torch.no_grad():\n",
    "        bar_val = tqdm(enumerate(valid_loader), total=len(valid_loader))\n",
    "        for step, data in bar_val:\n",
    "            images = data['image'].to(device, dtype=torch.float)\n",
    "            labels = data['label'].to(device, dtype=torch.long)\n",
    "            outputs = model(images)\n",
    "            \n",
    "            # crossentropy loss\n",
    "            loss = criterion(outputs, labels)\n",
    "            # Focal Loss\n",
    "            #criterion = FocalLoss(gamma=0.7)\n",
    "            #m = torch.nn.Softmax(dim=-1)\n",
    "            #loss = criterion(m(outputs), labels)\n",
    "        \n",
    "            valid_loss += loss.item() * images.size(0)\n",
    "            _, predicted = torch.max(model.softmax(outputs), 1)\n",
    "            acc = torch.sum( predicted == labels )\n",
    "            valid_acc  += acc.item()\n",
    "            \n",
    "            all_preds.extend(predicted.cpu().numpy())\n",
    "            all_labels.extend(labels.cpu().numpy())\n",
    "        \n",
    "            writer.add_scalar('loss/valid_batch', loss.item(), epoch * len(valid_loader) + step)\n",
    "            writer.add_scalar('acc/valid_batch', acc.item(), epoch * len(valid_loader) + step)\n",
    "    valid_loss /= len(valid_loader.dataset)\n",
    "    valid_acc /= len(valid_loader.dataset)\n",
    "    bal_acc = balanced_accuracy_score(all_labels, all_preds)\n",
    "    # At the end of your validation loop:\n",
    "    macro_f1 = f1_score(all_labels, all_preds, average='macro')\n",
    "    micro_f1 = f1_score(all_labels, all_preds, average='micro')\n",
    "    weighted_f1 = f1_score(all_labels, all_preds, average='weighted')\n",
    "\n",
    "    # Logging to TensorBoard\n",
    "    writer.add_scalar('loss/val_epoch', valid_loss, epoch)\n",
    "    writer.add_scalar('acc/val_epoch', valid_acc, epoch)\n",
    "    writer.add_scalar('balanced_acc/val_epoch', bal_acc, epoch)\n",
    "    writer.add_scalar('F1/macro', macro_f1, epoch)\n",
    "    writer.add_scalar('F1/micro', micro_f1, epoch)\n",
    "    writer.add_scalar('F1/weighted', weighted_f1, epoch)\n",
    "    # in order to put multiple lines within one graph\n",
    "    #writer.add_scalars('run_14h', {'xsinx':i*np.sin(i/r),\n",
    "    #                        'xcosx':i*np.cos(i/r),\n",
    "    #                        'tanx': np.tan(i/r)}, i)\n",
    "    return valid_loss, valid_acc, bal_acc, weighted_f1\n",
    "\n",
    "def train_model(model, train_loader, valid_loader, optimizer, criterion, device, num_epochs, scheduler, fold):\n",
    "    model_name = \"epochs\" + str(CONFIG[\"num_epochs\"]) + \"_bs\"+str(CONFIG[\"train_batch_size\"] )+ \"_opt\" +CONFIG[\"optimizer\"]+ \"_sched\" + CONFIG[\"scheduler\"] + \"_lr\"+str(CONFIG[\"learning_rate\"])+ \"_wd\" + str(CONFIG[\"weight_decay\"]) + \"_fold\" + str(fold)\n",
    "    print(f\"Training model: {model_name}\")\n",
    "    # Initialize TensorBoard writer\n",
    "    writer = SummaryWriter('logs/fit/' + model_name)\n",
    "    early_stopping = EarlyStopping(patience=CONFIG[\"patience\"], verbose=True, path=model_name)\n",
    "    #if scheduler_type:\n",
    "    #    print(f\"Define {scheduler_type} scheduler\")\n",
    "    #    scheduler = get_lr_scheduler(optimizer, scheduler_type, num_epochs=num_epochs)\n",
    "    \n",
    "    for epoch in range(num_epochs):\n",
    "        train_loss = train_one_epoch(model, train_loader, optimizer, criterion, device, writer, epoch, scheduler)\n",
    "        valid_loss, valid_acc, bal_acc, weighted_f1 = validate_one_epoch(model, valid_loader, criterion, device, writer, epoch)\n",
    "        print(f\"Epoch {epoch+1}/{num_epochs} - Train loss: {train_loss:.4f}, Validation loss: {valid_loss:.4f}, Validation acc: {valid_acc:.4f}, Balanced acc: {bal_acc:.4f}, Weighted F1-Score: {weighted_f1:.4f}\")\n",
    "        \n",
    "        # Call early stopping\n",
    "        if CONFIG[\"early_stopping\"]:\n",
    "            early_stopping(valid_loss, model)\n",
    "            if early_stopping.early_stop:\n",
    "                print(\"Early stopping\")\n",
    "                break\n",
    "            \n",
    "    writer.close()\n",
    "    return train_loss, valid_loss, valid_acc, model_name\n",
    "    # Load the last checkpoint with the best model\n",
    "    #model.load_state_dict(torch.load('best_model_checkpoint.pth'))"
   ]
  },
  {
   "cell_type": "code",
   "execution_count": null,
   "id": "8452e035",
   "metadata": {
    "_cell_guid": "2448a689-10f6-4f9c-8ccc-be6dfadaf82e",
    "_uuid": "2a9756aa-0da0-41a8-a5a3-b5c024975673",
    "collapsed": false,
    "jupyter": {
     "outputs_hidden": false
    },
    "papermill": {
     "duration": 0.011146,
     "end_time": "2023-11-13T13:59:27.032575",
     "exception": false,
     "start_time": "2023-11-13T13:59:27.021429",
     "status": "completed"
    },
    "tags": []
   },
   "outputs": [],
   "source": []
  },
  {
   "cell_type": "markdown",
   "id": "0166dce7",
   "metadata": {
    "_cell_guid": "521c55de-adb5-4a32-a759-1775746ce136",
    "_uuid": "0e13d2ba-1cfb-4a45-89d3-767db1767fc8",
    "papermill": {
     "duration": 0.009926,
     "end_time": "2023-11-13T13:59:27.053552",
     "exception": false,
     "start_time": "2023-11-13T13:59:27.043626",
     "status": "completed"
    },
    "tags": []
   },
   "source": [
    "### Training N-Fold Models"
   ]
  },
  {
   "cell_type": "code",
   "execution_count": 11,
   "id": "d746a5b5",
   "metadata": {
    "_cell_guid": "58df1fe7-499b-496d-9203-aa7f9d595a6e",
    "_uuid": "363846c7-74aa-4911-ace9-d8da9726023f",
    "collapsed": false,
    "execution": {
     "iopub.execute_input": "2023-11-13T13:59:27.076693Z",
     "iopub.status.busy": "2023-11-13T13:59:27.076270Z",
     "iopub.status.idle": "2023-11-13T13:59:27.205305Z",
     "shell.execute_reply": "2023-11-13T13:59:27.204046Z"
    },
    "jupyter": {
     "outputs_hidden": false
    },
    "papermill": {
     "duration": 0.144462,
     "end_time": "2023-11-13T13:59:27.208301",
     "exception": false,
     "start_time": "2023-11-13T13:59:27.063839",
     "status": "completed"
    },
    "tags": []
   },
   "outputs": [
    {
     "name": "stdout",
     "output_type": "stream",
     "text": [
      "Class weights: tensor([0.1538, 0.1228, 0.0686, 0.3239, 0.3310])\n"
     ]
    }
   ],
   "source": [
    "if CONFIG[\"weighted_loss\"]:\n",
    "    class_weights = get_class_weights(df_train).to(CONFIG['device'], dtype=torch.float)\n",
    "    print(f\"Class weights: {class_weights}\")\n",
    "else:\n",
    "    class_weights=None\n",
    "criterion = nn.CrossEntropyLoss(weight=class_weights)"
   ]
  },
  {
   "cell_type": "code",
   "execution_count": 12,
   "id": "c7c0fb84",
   "metadata": {
    "_cell_guid": "94f2b220-dc0c-4a29-91d7-5ee122f1261e",
    "_uuid": "b97397ca-891a-40b0-8adc-8090aa539e06",
    "collapsed": false,
    "execution": {
     "iopub.execute_input": "2023-11-13T13:59:27.231299Z",
     "iopub.status.busy": "2023-11-13T13:59:27.230879Z",
     "iopub.status.idle": "2023-11-13T14:42:37.841208Z",
     "shell.execute_reply": "2023-11-13T14:42:37.838490Z"
    },
    "jupyter": {
     "outputs_hidden": false
    },
    "papermill": {
     "duration": 2590.629555,
     "end_time": "2023-11-13T14:42:37.848133",
     "exception": false,
     "start_time": "2023-11-13T13:59:27.218578",
     "status": "completed"
    },
    "tags": []
   },
   "outputs": [
    {
     "name": "stdout",
     "output_type": "stream",
     "text": [
      "Fold: 0\n"
     ]
    },
    {
     "name": "stderr",
     "output_type": "stream",
     "text": [
      "/opt/conda/lib/python3.10/site-packages/timm/models/_factory.py:114: UserWarning: Mapping deprecated model name tf_efficientnet_b0_ns to current tf_efficientnet_b0.ns_jft_in1k.\n",
      "  model = create_fn(\n"
     ]
    },
    {
     "name": "stdout",
     "output_type": "stream",
     "text": [
      "Training model: epochs30_bs16_optAdam_schedCosineAnnealingLR_lr0.0001_wd0.0001_fold0\n"
     ]
    },
    {
     "name": "stderr",
     "output_type": "stream",
     "text": [
      "100%|██████████| 27/27 [06:51<00:00, 15.22s/it]\n",
      "100%|██████████| 7/7 [00:43<00:00,  6.24s/it]"
     ]
    },
    {
     "name": "stdout",
     "output_type": "stream",
     "text": [
      "Epoch 1/1 - Train loss: 1.6505, Validation loss: 1.6068, Validation acc: 0.2870, Balanced acc: 0.2987, Weighted F1-Score: 0.3159\n",
      "Validation loss decreased (inf --> 1.606819). Saving model ...\n"
     ]
    },
    {
     "name": "stderr",
     "output_type": "stream",
     "text": [
      "\n",
      "100%|██████████| 7/7 [00:38<00:00,  5.47s/it]\n",
      "/opt/conda/lib/python3.10/site-packages/timm/models/_factory.py:114: UserWarning: Mapping deprecated model name tf_efficientnet_b0_ns to current tf_efficientnet_b0.ns_jft_in1k.\n",
      "  model = create_fn(\n"
     ]
    },
    {
     "name": "stdout",
     "output_type": "stream",
     "text": [
      "Validation Accuracy: 0.28703703703703703\n",
      "Balanced Accuracy: 0.29866666666666664\n",
      "Macro F1-Score: 0.25579710144927537\n",
      "Micro F1-Score: 0.28703703703703703\n",
      "Weighted F1-Score: 0.31592190016103067\n",
      "Confusion Matrix: [[ 4  2  2  4  8]\n",
      " [ 7  4  5  2  7]\n",
      " [11  0 16  6 12]\n",
      " [ 0  1  1  2  5]\n",
      " [ 4  0  0  0  5]]\n",
      "Fold: 1\n",
      "Training model: epochs30_bs16_optAdam_schedCosineAnnealingLR_lr0.0001_wd0.0001_fold1\n"
     ]
    },
    {
     "name": "stderr",
     "output_type": "stream",
     "text": [
      "100%|██████████| 27/27 [06:58<00:00, 15.49s/it]\n",
      "100%|██████████| 7/7 [00:36<00:00,  5.23s/it]"
     ]
    },
    {
     "name": "stdout",
     "output_type": "stream",
     "text": [
      "Epoch 1/1 - Train loss: 1.7187, Validation loss: 1.5000, Validation acc: 0.3704, Balanced acc: 0.3460, Weighted F1-Score: 0.3494\n",
      "Validation loss decreased (inf --> 1.499975). Saving model ...\n"
     ]
    },
    {
     "name": "stderr",
     "output_type": "stream",
     "text": [
      "\n",
      "100%|██████████| 7/7 [00:43<00:00,  6.18s/it]\n",
      "/opt/conda/lib/python3.10/site-packages/timm/models/_factory.py:114: UserWarning: Mapping deprecated model name tf_efficientnet_b0_ns to current tf_efficientnet_b0.ns_jft_in1k.\n",
      "  model = create_fn(\n"
     ]
    },
    {
     "name": "stdout",
     "output_type": "stream",
     "text": [
      "Validation Accuracy: 0.37037037037037035\n",
      "Balanced Accuracy: 0.346\n",
      "Macro F1-Score: 0.31023366749667536\n",
      "Micro F1-Score: 0.37037037037037035\n",
      "Weighted F1-Score: 0.3493638028681982\n",
      "Confusion Matrix: [[13  0  3  2  2]\n",
      " [ 9  2 13  1  0]\n",
      " [10  5 20  8  2]\n",
      " [ 4  0  2  3  0]\n",
      " [ 5  1  1  0  2]]\n",
      "Fold: 2\n",
      "Training model: epochs30_bs16_optAdam_schedCosineAnnealingLR_lr0.0001_wd0.0001_fold2\n"
     ]
    },
    {
     "name": "stderr",
     "output_type": "stream",
     "text": [
      "100%|██████████| 27/27 [06:51<00:00, 15.23s/it]\n",
      "100%|██████████| 7/7 [00:37<00:00,  5.42s/it]"
     ]
    },
    {
     "name": "stdout",
     "output_type": "stream",
     "text": [
      "Epoch 1/1 - Train loss: 1.6607, Validation loss: 1.5732, Validation acc: 0.2315, Balanced acc: 0.2561, Weighted F1-Score: 0.2146\n",
      "Validation loss decreased (inf --> 1.573236). Saving model ...\n"
     ]
    },
    {
     "name": "stderr",
     "output_type": "stream",
     "text": [
      "\n",
      "100%|██████████| 7/7 [00:35<00:00,  5.09s/it]\n",
      "/opt/conda/lib/python3.10/site-packages/timm/models/_factory.py:114: UserWarning: Mapping deprecated model name tf_efficientnet_b0_ns to current tf_efficientnet_b0.ns_jft_in1k.\n",
      "  model = create_fn(\n"
     ]
    },
    {
     "name": "stdout",
     "output_type": "stream",
     "text": [
      "Validation Accuracy: 0.23148148148148148\n",
      "Balanced Accuracy: 0.2561052631578947\n",
      "Macro F1-Score: 0.19483868594342052\n",
      "Micro F1-Score: 0.23148148148148148\n",
      "Weighted F1-Score: 0.21463050163432756\n",
      "Confusion Matrix: [[ 4  4  8  0  3]\n",
      " [ 3  3 11  1  7]\n",
      " [ 6 16 11  0 11]\n",
      " [ 2  3  2  0  3]\n",
      " [ 0  1  2  0  7]]\n",
      "Fold: 3\n",
      "Training model: epochs30_bs16_optAdam_schedCosineAnnealingLR_lr0.0001_wd0.0001_fold3\n"
     ]
    },
    {
     "name": "stderr",
     "output_type": "stream",
     "text": [
      "100%|██████████| 27/27 [07:17<00:00, 16.20s/it]\n",
      "100%|██████████| 7/7 [00:43<00:00,  6.23s/it]"
     ]
    },
    {
     "name": "stdout",
     "output_type": "stream",
     "text": [
      "Epoch 1/1 - Train loss: 1.6781, Validation loss: 1.5936, Validation acc: 0.2897, Balanced acc: 0.2688, Weighted F1-Score: 0.3070\n",
      "Validation loss decreased (inf --> 1.593593). Saving model ...\n"
     ]
    },
    {
     "name": "stderr",
     "output_type": "stream",
     "text": [
      "\n",
      "100%|██████████| 7/7 [00:40<00:00,  5.72s/it]\n",
      "/opt/conda/lib/python3.10/site-packages/timm/models/_factory.py:114: UserWarning: Mapping deprecated model name tf_efficientnet_b0_ns to current tf_efficientnet_b0.ns_jft_in1k.\n",
      "  model = create_fn(\n"
     ]
    },
    {
     "name": "stdout",
     "output_type": "stream",
     "text": [
      "Validation Accuracy: 0.2897196261682243\n",
      "Balanced Accuracy: 0.2688383838383839\n",
      "Macro F1-Score: 0.26290406868234417\n",
      "Micro F1-Score: 0.2897196261682243\n",
      "Weighted F1-Score: 0.3069788210833307\n",
      "Confusion Matrix: [[ 5  5  5  4  1]\n",
      " [ 1  5  8  6  4]\n",
      " [ 4  9 16 13  2]\n",
      " [ 0  1  5  3  1]\n",
      " [ 0  3  2  2  2]]\n",
      "Fold: 4\n",
      "Training model: epochs30_bs16_optAdam_schedCosineAnnealingLR_lr0.0001_wd0.0001_fold4\n"
     ]
    },
    {
     "name": "stderr",
     "output_type": "stream",
     "text": [
      "100%|██████████| 27/27 [08:18<00:00, 18.45s/it]\n",
      "100%|██████████| 7/7 [00:46<00:00,  6.60s/it]"
     ]
    },
    {
     "name": "stdout",
     "output_type": "stream",
     "text": [
      "Epoch 1/1 - Train loss: 1.6434, Validation loss: 1.5115, Validation acc: 0.4766, Balanced acc: 0.3914, Weighted F1-Score: 0.4655\n",
      "Validation loss decreased (inf --> 1.511496). Saving model ...\n"
     ]
    },
    {
     "name": "stderr",
     "output_type": "stream",
     "text": [
      "\n",
      "100%|██████████| 7/7 [00:42<00:00,  6.06s/it]"
     ]
    },
    {
     "name": "stdout",
     "output_type": "stream",
     "text": [
      "Validation Accuracy: 0.4766355140186916\n",
      "Balanced Accuracy: 0.39135353535353534\n",
      "Macro F1-Score: 0.37112750263435196\n",
      "Micro F1-Score: 0.4766355140186916\n",
      "Weighted F1-Score: 0.46551265694472216\n",
      "Confusion Matrix: [[12  4  4  0  0]\n",
      " [ 6 17  2  0  0]\n",
      " [12  8 20  2  2]\n",
      " [ 5  3  1  0  0]\n",
      " [ 3  1  2  1  2]]\n"
     ]
    },
    {
     "name": "stderr",
     "output_type": "stream",
     "text": [
      "\n"
     ]
    }
   ],
   "source": [
    "for fold in range(0,5):\n",
    "    print(f\"Fold: {str(fold)}\")\n",
    "    train_loader, valid_loader, df_train_fold, df_valid_fold = get_dataloaders(df_train.copy(), fold, CONFIG)\n",
    "\n",
    "    checkpoint_path='//kaggle/input/tf-efficientnet-b0-aa-827b6e33-pth/tf_efficientnet_b0_aa-827b6e33.pth'\n",
    "    model = EfficientNetB0(CONFIG['model_name'], CONFIG['num_classes'], pretrained=False , checkpoint_path=checkpoint_path)\n",
    "    model.to(CONFIG['device']);\n",
    "    \n",
    "    optimizer = get_optimizer(CONFIG[\"optimizer\"], model, CONFIG)\n",
    "    scheduler = fetch_scheduler(optimizer, CONFIG)\n",
    "    \n",
    "    _, _, _, model_name = train_model(model, train_loader, valid_loader, optimizer, criterion, CONFIG[\"device\"], 1, scheduler, fold)\n",
    "    model.load_state_dict(torch.load(model_name))\n",
    "    \n",
    "    df_validate = predict_val_dataset(model, CONFIG, df_valid_fold, encoder, TRAIN_DIR, val_size=1)\n",
    "    df_validate"
   ]
  },
  {
   "cell_type": "code",
   "execution_count": 13,
   "id": "d486462e",
   "metadata": {
    "_cell_guid": "9dffddb5-1a3b-4826-98f7-0edf79a952ef",
    "_uuid": "1514814a-000a-483f-9858-076b740fa196",
    "collapsed": false,
    "execution": {
     "iopub.execute_input": "2023-11-13T14:42:37.934555Z",
     "iopub.status.busy": "2023-11-13T14:42:37.933853Z",
     "iopub.status.idle": "2023-11-13T14:42:37.944102Z",
     "shell.execute_reply": "2023-11-13T14:42:37.942524Z"
    },
    "jupyter": {
     "outputs_hidden": false
    },
    "papermill": {
     "duration": 0.057493,
     "end_time": "2023-11-13T14:42:37.947040",
     "exception": false,
     "start_time": "2023-11-13T14:42:37.889547",
     "status": "completed"
    },
    "tags": []
   },
   "outputs": [],
   "source": [
    "# model.load_state_dict(torch.load('/kaggle/working/best_model_checkpoint' + CONFIG[\"datetime_now\"] + '.pth'))\n",
    "#df_validate = predict_val_dataset(model, CONFIG, df_valid_fold, TRAIN_DIR, val_size=1)\n",
    "#df_validate"
   ]
  },
  {
   "cell_type": "markdown",
   "id": "5cb129d8",
   "metadata": {
    "_cell_guid": "9fca65c4-9211-4c46-8103-3095fc765a1b",
    "_uuid": "f44284f4-e59d-4d35-96f0-db2bb1730da4",
    "papermill": {
     "duration": 0.045117,
     "end_time": "2023-11-13T14:42:38.032037",
     "exception": false,
     "start_time": "2023-11-13T14:42:37.986920",
     "status": "completed"
    },
    "tags": []
   },
   "source": [
    "### Optuna study"
   ]
  },
  {
   "cell_type": "code",
   "execution_count": 14,
   "id": "0c872b18",
   "metadata": {
    "_cell_guid": "34e9c148-6c0b-4eec-b8fb-0b9b3244aee7",
    "_uuid": "4fb5e447-e51c-467b-b0a6-3d751b1ed23f",
    "collapsed": false,
    "execution": {
     "iopub.execute_input": "2023-11-13T14:42:38.114933Z",
     "iopub.status.busy": "2023-11-13T14:42:38.114499Z",
     "iopub.status.idle": "2023-11-13T14:42:38.124047Z",
     "shell.execute_reply": "2023-11-13T14:42:38.123124Z"
    },
    "jupyter": {
     "outputs_hidden": false
    },
    "papermill": {
     "duration": 0.055259,
     "end_time": "2023-11-13T14:42:38.126926",
     "exception": false,
     "start_time": "2023-11-13T14:42:38.071667",
     "status": "completed"
    },
    "tags": []
   },
   "outputs": [
    {
     "data": {
      "text/plain": [
       "'\\npruner = optuna.pruners.MedianPruner(\\n    n_startup_trials=3,  # Number of trials to run before starting to prune\\n    n_warmup_steps=100,   # Pruning is disabled for the first 30 steps\\n    interval_steps=5    # Check for pruning every 10 steps\\n)\\noptuna.logging.set_verbosity(optuna.logging.INFO)\\nstudy = optuna.create_study(study_name=\"tutorial\", direction=\"minimize\")\\nstudy.optimize(objective, n_trials=20)\\n\\npruned_trials = study.get_trials(deepcopy=False, states=[TrialState.PRUNED])\\ncomplete_trials = study.get_trials(deepcopy=False, states=[TrialState.COMPLETE])\\n\\nprint(\"Study statistics: \")\\nprint(\"  Number of finished trials: \", len(study.trials))\\nprint(\"  Number of pruned trials: \", len(pruned_trials))\\nprint(\"  Number of complete trials: \", len(complete_trials))\\n\\nprint(\"Best trial:\")\\ntrial = study.best_trial\\n\\nprint(\"  Value: \", trial.value)\\n\\nprint(\"  Params: \")\\nfor key, value in trial.params.items():\\n    print(\"    {}: {}\".format(key, value))\\n\\noptuna.visualization.plot_param_importances(study)\\noptuna.visualization.plot_optimization_history(study)\\n'"
      ]
     },
     "execution_count": 14,
     "metadata": {},
     "output_type": "execute_result"
    }
   ],
   "source": [
    "# Create a study.\n",
    "\"\"\"\n",
    "pruner = optuna.pruners.MedianPruner(\n",
    "    n_startup_trials=3,  # Number of trials to run before starting to prune\n",
    "    n_warmup_steps=100,   # Pruning is disabled for the first 30 steps\n",
    "    interval_steps=5    # Check for pruning every 10 steps\n",
    ")\n",
    "optuna.logging.set_verbosity(optuna.logging.INFO)\n",
    "study = optuna.create_study(study_name=\"tutorial\", direction=\"minimize\")\n",
    "study.optimize(objective, n_trials=20)\n",
    "\n",
    "pruned_trials = study.get_trials(deepcopy=False, states=[TrialState.PRUNED])\n",
    "complete_trials = study.get_trials(deepcopy=False, states=[TrialState.COMPLETE])\n",
    "\n",
    "print(\"Study statistics: \")\n",
    "print(\"  Number of finished trials: \", len(study.trials))\n",
    "print(\"  Number of pruned trials: \", len(pruned_trials))\n",
    "print(\"  Number of complete trials: \", len(complete_trials))\n",
    "\n",
    "print(\"Best trial:\")\n",
    "trial = study.best_trial\n",
    "\n",
    "print(\"  Value: \", trial.value)\n",
    "\n",
    "print(\"  Params: \")\n",
    "for key, value in trial.params.items():\n",
    "    print(\"    {}: {}\".format(key, value))\n",
    "\n",
    "optuna.visualization.plot_param_importances(study)\n",
    "optuna.visualization.plot_optimization_history(study)\n",
    "\"\"\""
   ]
  },
  {
   "cell_type": "code",
   "execution_count": null,
   "id": "14636159",
   "metadata": {
    "_cell_guid": "01194a3f-1f90-459b-a094-aabaeb31ec84",
    "_uuid": "11ed8add-663a-484c-a8af-e803eb87094d",
    "collapsed": false,
    "jupyter": {
     "outputs_hidden": false
    },
    "papermill": {
     "duration": 0.035295,
     "end_time": "2023-11-13T14:42:38.200078",
     "exception": false,
     "start_time": "2023-11-13T14:42:38.164783",
     "status": "completed"
    },
    "tags": []
   },
   "outputs": [],
   "source": []
  },
  {
   "cell_type": "code",
   "execution_count": null,
   "id": "3ec222e9",
   "metadata": {
    "_cell_guid": "3d6bdbcc-65d2-4184-982d-a49477048b37",
    "_uuid": "0fb4536e-6734-4a85-811d-85fe4c7114b9",
    "collapsed": false,
    "jupyter": {
     "outputs_hidden": false
    },
    "papermill": {
     "duration": 0.040809,
     "end_time": "2023-11-13T14:42:38.278755",
     "exception": false,
     "start_time": "2023-11-13T14:42:38.237946",
     "status": "completed"
    },
    "tags": []
   },
   "outputs": [],
   "source": []
  },
  {
   "cell_type": "code",
   "execution_count": null,
   "id": "cedb199e",
   "metadata": {
    "_cell_guid": "54323791-338e-4321-8905-138ccd745731",
    "_uuid": "74df64a5-43f5-44da-8a7c-48d28658b0f0",
    "collapsed": false,
    "jupyter": {
     "outputs_hidden": false
    },
    "papermill": {
     "duration": 0.037817,
     "end_time": "2023-11-13T14:42:38.354447",
     "exception": false,
     "start_time": "2023-11-13T14:42:38.316630",
     "status": "completed"
    },
    "tags": []
   },
   "outputs": [],
   "source": []
  }
 ],
 "metadata": {
  "kernelspec": {
   "display_name": "Python 3",
   "language": "python",
   "name": "python3"
  },
  "language_info": {
   "codemirror_mode": {
    "name": "ipython",
    "version": 3
   },
   "file_extension": ".py",
   "mimetype": "text/x-python",
   "name": "python",
   "nbconvert_exporter": "python",
   "pygments_lexer": "ipython3",
   "version": "3.10.12"
  },
  "papermill": {
   "default_parameters": {},
   "duration": 2623.009016,
   "end_time": "2023-11-13T14:42:42.019224",
   "environment_variables": {},
   "exception": null,
   "input_path": "__notebook__.ipynb",
   "output_path": "__notebook__.ipynb",
   "parameters": {},
   "start_time": "2023-11-13T13:58:59.010208",
   "version": "2.4.0"
  }
 },
 "nbformat": 4,
 "nbformat_minor": 5
}
